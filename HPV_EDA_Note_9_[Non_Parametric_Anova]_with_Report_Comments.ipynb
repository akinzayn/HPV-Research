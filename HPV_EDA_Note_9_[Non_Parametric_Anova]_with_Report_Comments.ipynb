{
  "nbformat": 4,
  "nbformat_minor": 0,
  "metadata": {
    "colab": {
      "name": "HPV EDA Note 9 [Non Parametric Anova] with Report Comments.ipynb",
      "provenance": [],
      "collapsed_sections": [],
      "authorship_tag": "ABX9TyPOwYvwFedw0o4VxVapojiY",
      "include_colab_link": true
    },
    "kernelspec": {
      "display_name": "R",
      "name": "ir"
    },
    "language_info": {
      "name": "R"
    }
  },
  "cells": [
    {
      "cell_type": "markdown",
      "metadata": {
        "id": "view-in-github",
        "colab_type": "text"
      },
      "source": [
        "<a href=\"https://colab.research.google.com/github/akinzayn/HPV-Research/blob/main/HPV_EDA_Note_9_%5BNon_Parametric_Anova%5D_with_Report_Comments.ipynb\" target=\"_parent\"><img src=\"https://colab.research.google.com/assets/colab-badge.svg\" alt=\"Open In Colab\"/></a>"
      ]
    },
    {
      "cell_type": "markdown",
      "metadata": {
        "id": "tjlYzgXLVuCl"
      },
      "source": [
        "# **Data Preparation**"
      ]
    },
    {
      "cell_type": "code",
      "metadata": {
        "id": "xan8H9xUOved"
      },
      "source": [
        "#  https://stackoverflow.com/questions/34818723/export-notebook-to-pdf-without-code\n",
        "\n",
        "\n",
        "\n",
        "# I was seeking the same question in SO and finally turned out to a very straightforward way:\n",
        "\n",
        "# Assuming using Firefox(57) + Win7 or Any browser where you have access to console\n",
        "\n",
        "# Run Jupyter notebook and download the notebook in the browser: File->Download as->HTML and you will get a html page with code and output.\n",
        "# Open the exported HTML with browser and activate the browser console with key F12\n",
        "# Run following command in the console:\n",
        "\n",
        "# document.querySelectorAll(\"div.input\").forEach(function(a){a.remove()})\n",
        "# The code removes all input div DOM. Then right mouse button and chose \"Save Page As\" and Save the \"Complete page\" (not single page).\n",
        "\n",
        "# You will get a page with an associated folder in windows. Use a trick by zip the html page and then extract to unbind the associated. The folder is useless.\n",
        "\n",
        "# Now it is a single html page without code. You can re-distribute it or print it as PDF.\n",
        "\n",
        "# If you are not using Firefox or Windows, please adjust the above 3-6 steps.\n",
        "\n",
        "\n",
        "\n",
        "\n",
        "# I think now is document.querySelectorAll(\"div.jp-InputArea.jp-Cell-inputArea\").forEach(function(a){a.remove()}) \n",
        "# but this for example will keep the errors and markdown with maybe you don't want. \n",
        "# To remove all input cells, not only code cells you could use:\n",
        "#  document.querySelectorAll(\"jp-Cell jp-CodeCell jp-Notebook-cell\").forEach(function(a){a.remove()}) \n",
        "#  but is a method to check which columns you want and remove them checking the name of the div."
      ],
      "execution_count": null,
      "outputs": []
    },
    {
      "cell_type": "code",
      "metadata": {
        "id": "K7PSxfmRLR2M"
      },
      "source": [
        "# clearing workspace\n",
        "rm(list = ls())\n"
      ],
      "execution_count": null,
      "outputs": []
    },
    {
      "cell_type": "code",
      "metadata": {
        "colab": {
          "base_uri": "https://localhost:8080/"
        },
        "id": "6b5f-GYrGu-V",
        "outputId": "be67414a-747e-4b92-e61f-23d8fda9dabc"
      },
      "source": [
        "# loading packages\n",
        "# to install magick\n",
        "\n",
        "install.packages(\"pacman\")\n",
        "library(pacman)\n"
      ],
      "execution_count": null,
      "outputs": [
        {
          "output_type": "stream",
          "name": "stderr",
          "text": [
            "Installing package into ‘/usr/local/lib/R/site-library’\n",
            "(as ‘lib’ is unspecified)\n",
            "\n"
          ]
        }
      ]
    },
    {
      "cell_type": "code",
      "metadata": {
        "id": "5IVLBPmZe46K"
      },
      "source": [
        "\n",
        "p_load('tidyverse', \"magrittr\", \"readxl\", \"rstatix\", \"googledrive\")\n"
      ],
      "execution_count": null,
      "outputs": []
    },
    {
      "cell_type": "code",
      "metadata": {
        "id": "whOlAIc1FxeW",
        "colab": {
          "base_uri": "https://localhost:8080/"
        },
        "outputId": "6792b985-7112-42b0-d656-dbb202f27bd3"
      },
      "source": [
        "# loading work space and displaying variables in the workspace\n",
        "\n",
        "#load(\"HSV_df.RData\")\n",
        "# ls()\n",
        "# creating backup and displaying first 6 rows\n",
        "\n",
        "drive_deauth()\n",
        "drive_user()\n",
        "public_file = drive_get(as_id(\"1y9EBIALTcWzyF64isrSUs4je2W-qbgFjfzF1e6UjYdg\"))\n",
        "downloaded_file = drive_download(public_file, overwrite = TRUE)\n",
        "\n",
        "HSV_df = read_excel(\"data_orHPV.all_rev3.xlsx\")\n",
        "\n",
        "HSV_df_back_up = HSV_df\n",
        "#head(HSV_df)"
      ],
      "execution_count": null,
      "outputs": [
        {
          "output_type": "stream",
          "name": "stderr",
          "text": [
            "\u001b[36mℹ\u001b[39m Not logged in as any specific Google user.\n",
            "\n",
            "File downloaded:\n",
            "\n",
            "• \u001b[36mdata_orHPV.all_rev3\u001b[39m \u001b[90m<id: 1y9EBIALTcWzyF64isrSUs4je2W-qbgFjfzF1e6UjYdg>\u001b[39m\n",
            "\n",
            "Saved locally as:\n",
            "\n",
            "• \u001b[34mdata_orHPV.all_rev3.xlsx\u001b[39m\n",
            "\n"
          ]
        }
      ]
    },
    {
      "cell_type": "code",
      "metadata": {
        "id": "cawl-_QsHNoI"
      },
      "source": [
        "HSV_df <- as.data.frame(sapply(HSV_df, unlist))\n",
        "HSV_df %<>% \n",
        "   mutate(across(where(is.character), ~na_if(., \"NA\")))\n",
        "# head(HSV_df,3)\n",
        "\n"
      ],
      "execution_count": null,
      "outputs": []
    },
    {
      "cell_type": "code",
      "metadata": {
        "id": "q5D_KQcT0-ue"
      },
      "source": [
        "HSV_df$RIDAGEYRCAT = cut(as.numeric(HSV_df$RIDAGEYR), breaks = c(18, 25, 45, 65, Inf), right = FALSE)\n"
      ],
      "execution_count": null,
      "outputs": []
    },
    {
      "cell_type": "code",
      "metadata": {
        "id": "F_pbb4xI8ps8"
      },
      "source": [
        "# Gender\n",
        "HSV_df$RIAGENDR = factor(HSV_df$RIAGENDR)\n",
        "levels(HSV_df$RIAGENDR) = c(\"Male\", \"Female\") \n",
        "\n",
        "# High HPV\n",
        "HSV_df$high.HPV = factor(HSV_df$high.HPV)\n",
        "levels(HSV_df$high.HPV) = c(\"Negative\", \"Positive\") \n",
        "\n",
        "# Low HPV\n",
        "HSV_df$low.HPV = factor(HSV_df$low.HPV)\n",
        "levels(HSV_df$low.HPV) = c(\"Negative\", \"Positive\") \n",
        "\n",
        "# Race\n",
        "HSV_df$RIDRETH1 = factor(HSV_df$RIDRETH1)\n",
        "levels(HSV_df$RIDRETH1) = c(\"Mex-Hisp\", \"Other-Hisp\",\"Non-Hisp-WT\",\"Non-Hisp-BK\", \"Others\") \n",
        "\n",
        "# Education\n",
        "HSV_df$DMDEDUC2 = factor(HSV_df$DMDEDUC2)\n",
        "levels(HSV_df$DMDEDUC2) = c(\"Below 9th Grade\", \"9-11 Grade\",\"HS or GED\",\"Some College or AA\", \"Graduate\") \n",
        "\n",
        "# Marital Status\n",
        "HSV_df$DMDMARTL = factor(HSV_df$DMDMARTL)\n",
        "levels(HSV_df$DMDMARTL) = c(\"Married\", \"Widowed\",\"Divorced\",\"Separated\", \"Never married\", \"Living with partner\") \n",
        "\n",
        "# Smoking\n",
        "HSV_df$LBDCOTLC = factor(HSV_df$LBDCOTLC)\n",
        "levels(HSV_df$LBDCOTLC) = c(\"Above limit\", \"Below Limit\") \n",
        "\n",
        "# Alcohol\n",
        "HSV_df$ALQ101 = factor(HSV_df$ALQ101)\n",
        "levels(HSV_df$ALQ101) = c(\"Yes\", \"No\") \n",
        "\n",
        "# Poverty Income Level\n",
        "HSV_df$PIR = factor(HSV_df$PIR)\n",
        "# levels(HSV_df$PIR) = c(\"Yes\", \"No\") \n",
        "\n",
        "# Body mass index\n",
        "HSV_df$BMI.f = factor(HSV_df$BMI.f)\n",
        "levels(HSV_df$BMI.f) = c(\"Underweight\", \"Normal weight\" , \"Overweight\" , \"Obesity\") \n",
        "\n",
        "\n",
        "# Arsenic Level(1)\n",
        "HSV_df$URDUA3LC.f = factor(HSV_df$URDUA3LC.f)\n",
        "levels(HSV_df$URDUA3LC.f) = c(\"Above limit\", \"Below Limit\") \n",
        "\n",
        "# Arsenic Level (2)\n",
        "HSV_df$URDUA5LC.f = factor(HSV_df$URDUA5LC.f)\n",
        "levels(HSV_df$URDUA5LC.f) = c(\"Above limit\", \"Below Limit\") \n",
        "\n",
        "# Arsenic Level (3)\n",
        "HSV_df$URDUABLC.f = factor(HSV_df$URDUABLC.f)\n",
        "levels(HSV_df$URDUABLC.f) = c(\"Above limit\", \"Below Limit\") \n",
        "\n",
        "\n",
        "# Arsenic Level (4)\n",
        "HSV_df$URDUDALC.f = factor(HSV_df$URDUACLC.f)  \n",
        "levels(HSV_df$URDUDALC.f) = c(\"Above limit\", \"Below Limit\") \n",
        "\n",
        "# Arsenic Level (5)\n",
        "HSV_df$URDUDALC.f = factor(HSV_df$URDUDALC.f)\n",
        "levels(HSV_df$URDUDALC.f) = c(\"Above limit\", \"Below Limit\") \n",
        "\n",
        "# Arsenic Level (6)\n",
        "HSV_df$URDUMMAL.f = factor(HSV_df$URDUMMAL.f)\n",
        "levels(HSV_df$URDUMMAL.f) = c(\"Above limit\", \"Below Limit\") \n",
        "\n",
        "\n",
        "HSV_df_backup_postprep = HSV_df"
      ],
      "execution_count": null,
      "outputs": []
    },
    {
      "cell_type": "code",
      "metadata": {
        "id": "CG50qEhQgI5S"
      },
      "source": [
        "\n",
        "# freq function\n",
        "\n",
        "freq = function(var, name = deparse(substitute(var))){\n",
        "tbl = table( var)\n",
        "freq_tbl = tbl %>% as.data.frame()\n",
        "prop_tbl = as.data.frame(prop.table(tbl) * 100) %>% as.data.frame() %>% select(Freq) %>% rename( \"% Freq\" = Freq)\n",
        "total = data.frame(var = \"Total\", Freq = sum(freq_tbl$Freq), \"% Freq\" = sum(prop_tbl$`% Freq`))\n",
        "df = cbind(freq_tbl, prop_tbl)\n",
        "colnames(total) = colnames(df)\n",
        "df = rbind(df,total)\n",
        "xname = c(name, colnames(df)[2:length(colnames(df))])\n",
        "colnames(df) = xname\n",
        "  return(df)\n",
        "}\n",
        "\n",
        "# ctable function\n",
        "\n",
        "ctable_fn = function( x, y  ){\n",
        "\n",
        "tbl = table( x, y) %>% as.data.frame.matrix()\n",
        "\n",
        "prop_tbl = prop.table(tbl) \n",
        "\n",
        "tbl %<>% cbind(.,Total = rowSums(.)) %>% rbind(.,Total = colSums(.))\n",
        "\n",
        "prop_tbl %<>% cbind(.,Total = rowSums(.)) %>% rbind(.,Total = colSums(.))\n",
        "\n",
        "prop_tbl =  (prop_tbl * 100) %>% round(2)\n",
        "\n",
        "break_point = dim(tbl)[2]\n",
        "for(i in 1: dim(tbl)[2]){\n",
        "  tbl[,i] = paste0(tbl[,i], \" [ \" , prop_tbl[,i],  \"% ]\" )\n",
        "}\n",
        "\n",
        "\n",
        "return(tbl)\n",
        "\n",
        "}"
      ],
      "execution_count": null,
      "outputs": []
    },
    {
      "cell_type": "code",
      "metadata": {
        "id": "jpn4ZDxiJAX5"
      },
      "source": [
        "\n",
        "num_summary = function(value,variable){\n",
        "\n",
        "df = data.frame(value = as.numeric(value),variable = as.factor(variable))\n",
        "  ## provide summary of the numerical variables\n",
        "res = df %>% \n",
        "\n",
        "  group_by(variable) %>%\n",
        "  summarise(Count = n(), Mean = mean(value, na.rm=TRUE), Min = quantile(value, 0, na.rm=TRUE), Q1 = quantile(value, 0.25, na.rm=TRUE), \n",
        "  Q2 = quantile(value, 0.5, na.rm=TRUE),  Q3 = quantile(value, 0.75, na.rm=TRUE), Max = quantile(value, 1, na.rm=TRUE),\n",
        "   Sd = sd(value, na.rm=TRUE), .groups = 'drop') \n",
        "\n",
        "return(res)\n",
        "}\n"
      ],
      "execution_count": null,
      "outputs": []
    },
    {
      "cell_type": "markdown",
      "metadata": {
        "id": "fmzywVOLd3Rd"
      },
      "source": [
        "# **Non Parametric Anova**\n",
        "\n",
        "\n"
      ]
    },
    {
      "cell_type": "markdown",
      "metadata": {
        "id": "N0wEC0_3nrOw"
      },
      "source": [
        "### **Arsenic 1(URXUAS3 - Urinary Arsenous acid (ug/L)) :**\n",
        "\n",
        "At alpha level of 0.05, for Urinary Arsenous acid (ug/L), there is statistical significance for **BMI,  marital status, ethnicity, alcohol and cotinine**.\n",
        "\n",
        "There is no statistical significance for education and poverty index ratio"
      ]
    },
    {
      "cell_type": "markdown",
      "metadata": {
        "id": "dPnn_mGEQFme"
      },
      "source": [
        "**BMI**"
      ]
    },
    {
      "cell_type": "code",
      "metadata": {
        "id": "DZW38q9ld_LX",
        "colab": {
          "base_uri": "https://localhost:8080/",
          "height": 718
        },
        "outputId": "502cbd5d-b5f5-41e1-c112-5c0dc5c5e209"
      },
      "source": [
        "HSV_df_backup_postprep -> HSV_df\n",
        "\n",
        "HSV_df %<>% select(URXUAS3, BMI.f) %>% filter(URXUAS3 != 'NA') %>% filter(BMI.f != 'NA')\n",
        "\n",
        "# kruskal wallis test\n",
        "kruskal.test(URXUAS3~ BMI.f , data = HSV_df) \n",
        "\n",
        "cat(\"\\n\\n\")\n",
        "\n",
        "cat(\"\\n Numerical Summaries \\n\")\n",
        "# numerical summary\n",
        "HSV_df %$% num_summary(URXUAS3, BMI.f) \n",
        "\n",
        "cat(\"\\n\\n\")\n",
        "\n",
        "cat(\"\\n Multiple Comparison \\n\")\n",
        "# multiple comparison\n",
        "dunn_test(URXUAS3~ BMI.f , data = HSV_df, p.adjust.method = \"fdr\") %>%\n",
        "p_format(digits = 2, leading.zero = TRUE) ; HSV_df_backup_postprep -> HSV_df\n"
      ],
      "execution_count": null,
      "outputs": [
        {
          "output_type": "display_data",
          "data": {
            "text/plain": [
              "\n",
              "\tKruskal-Wallis rank sum test\n",
              "\n",
              "data:  URXUAS3 by BMI.f\n",
              "Kruskal-Wallis chi-squared = 39.779, df = 3, p-value = 1.187e-08\n"
            ]
          },
          "metadata": {}
        },
        {
          "output_type": "stream",
          "name": "stdout",
          "text": [
            "\n",
            "\n",
            "\n",
            " Numerical Summaries \n"
          ]
        },
        {
          "output_type": "display_data",
          "data": {
            "text/plain": [
              "  variable      Count Mean      Min  Q1   Q2    Q3     Max  Sd       \n",
              "1 Underweight     80  0.5570000 0.08 0.08 0.375 0.6225 6.71 1.0032131\n",
              "2 Normal weight 1140  0.5407368 0.08 0.08 0.460 0.7825 8.77 0.5467352\n",
              "3 Overweight    1166  0.5165695 0.08 0.08 0.450 0.7600 4.80 0.4877226\n",
              "4 Obesity       1495  0.4273846 0.08 0.08 0.330 0.6500 4.37 0.4118298"
            ],
            "text/latex": "A tibble: 4 × 9\n\\begin{tabular}{lllllllll}\n variable & Count & Mean & Min & Q1 & Q2 & Q3 & Max & Sd\\\\\n <fct> & <int> & <dbl> & <dbl> & <dbl> & <dbl> & <dbl> & <dbl> & <dbl>\\\\\n\\hline\n\t Underweight   &   80 & 0.5570000 & 0.08 & 0.08 & 0.375 & 0.6225 & 6.71 & 1.0032131\\\\\n\t Normal weight & 1140 & 0.5407368 & 0.08 & 0.08 & 0.460 & 0.7825 & 8.77 & 0.5467352\\\\\n\t Overweight    & 1166 & 0.5165695 & 0.08 & 0.08 & 0.450 & 0.7600 & 4.80 & 0.4877226\\\\\n\t Obesity       & 1495 & 0.4273846 & 0.08 & 0.08 & 0.330 & 0.6500 & 4.37 & 0.4118298\\\\\n\\end{tabular}\n",
            "text/markdown": "\nA tibble: 4 × 9\n\n| variable &lt;fct&gt; | Count &lt;int&gt; | Mean &lt;dbl&gt; | Min &lt;dbl&gt; | Q1 &lt;dbl&gt; | Q2 &lt;dbl&gt; | Q3 &lt;dbl&gt; | Max &lt;dbl&gt; | Sd &lt;dbl&gt; |\n|---|---|---|---|---|---|---|---|---|\n| Underweight   |   80 | 0.5570000 | 0.08 | 0.08 | 0.375 | 0.6225 | 6.71 | 1.0032131 |\n| Normal weight | 1140 | 0.5407368 | 0.08 | 0.08 | 0.460 | 0.7825 | 8.77 | 0.5467352 |\n| Overweight    | 1166 | 0.5165695 | 0.08 | 0.08 | 0.450 | 0.7600 | 4.80 | 0.4877226 |\n| Obesity       | 1495 | 0.4273846 | 0.08 | 0.08 | 0.330 | 0.6500 | 4.37 | 0.4118298 |\n\n",
            "text/html": [
              "<table class=\"dataframe\">\n",
              "<caption>A tibble: 4 × 9</caption>\n",
              "<thead>\n",
              "\t<tr><th scope=col>variable</th><th scope=col>Count</th><th scope=col>Mean</th><th scope=col>Min</th><th scope=col>Q1</th><th scope=col>Q2</th><th scope=col>Q3</th><th scope=col>Max</th><th scope=col>Sd</th></tr>\n",
              "\t<tr><th scope=col>&lt;fct&gt;</th><th scope=col>&lt;int&gt;</th><th scope=col>&lt;dbl&gt;</th><th scope=col>&lt;dbl&gt;</th><th scope=col>&lt;dbl&gt;</th><th scope=col>&lt;dbl&gt;</th><th scope=col>&lt;dbl&gt;</th><th scope=col>&lt;dbl&gt;</th><th scope=col>&lt;dbl&gt;</th></tr>\n",
              "</thead>\n",
              "<tbody>\n",
              "\t<tr><td>Underweight  </td><td>  80</td><td>0.5570000</td><td>0.08</td><td>0.08</td><td>0.375</td><td>0.6225</td><td>6.71</td><td>1.0032131</td></tr>\n",
              "\t<tr><td>Normal weight</td><td>1140</td><td>0.5407368</td><td>0.08</td><td>0.08</td><td>0.460</td><td>0.7825</td><td>8.77</td><td>0.5467352</td></tr>\n",
              "\t<tr><td>Overweight   </td><td>1166</td><td>0.5165695</td><td>0.08</td><td>0.08</td><td>0.450</td><td>0.7600</td><td>4.80</td><td>0.4877226</td></tr>\n",
              "\t<tr><td>Obesity      </td><td>1495</td><td>0.4273846</td><td>0.08</td><td>0.08</td><td>0.330</td><td>0.6500</td><td>4.37</td><td>0.4118298</td></tr>\n",
              "</tbody>\n",
              "</table>\n"
            ]
          },
          "metadata": {}
        },
        {
          "output_type": "stream",
          "name": "stdout",
          "text": [
            "\n",
            "\n",
            "\n",
            " Multiple Comparison \n"
          ]
        },
        {
          "output_type": "display_data",
          "data": {
            "text/plain": [
              "  .y.     group1        group2        n1   n2   statistic   p       p.adj  \n",
              "1 URXUAS3 Underweight   Normal weight   80 1140  1.84880158 0.064   0.13   \n",
              "2 URXUAS3 Underweight   Overweight      80 1166  1.53032488 0.126   0.19   \n",
              "3 URXUAS3 Underweight   Obesity         80 1495 -0.08226827 0.934   0.93   \n",
              "4 URXUAS3 Normal weight Overweight    1140 1166 -0.88747428 0.375   0.45   \n",
              "5 URXUAS3 Normal weight Obesity       1140 1495 -5.67830288 <0.0001 <0.0001\n",
              "6 URXUAS3 Overweight    Obesity       1166 1495 -4.76847911 <0.0001 <0.0001\n",
              "  p.adj.signif\n",
              "1 ns          \n",
              "2 ns          \n",
              "3 ns          \n",
              "4 ns          \n",
              "5 ****        \n",
              "6 ****        "
            ],
            "text/latex": "A rstatix\\_test: 6 × 9\n\\begin{tabular}{r|lllllllll}\n  & .y. & group1 & group2 & n1 & n2 & statistic & p & p.adj & p.adj.signif\\\\\n  & <chr> & <chr> & <chr> & <int> & <int> & <dbl> & <chr> & <chr> & <chr>\\\\\n\\hline\n\t1 & URXUAS3 & Underweight   & Normal weight &   80 & 1140 &  1.84880158 & 0.064   & 0.13    & ns  \\\\\n\t2 & URXUAS3 & Underweight   & Overweight    &   80 & 1166 &  1.53032488 & 0.126   & 0.19    & ns  \\\\\n\t3 & URXUAS3 & Underweight   & Obesity       &   80 & 1495 & -0.08226827 & 0.934   & 0.93    & ns  \\\\\n\t4 & URXUAS3 & Normal weight & Overweight    & 1140 & 1166 & -0.88747428 & 0.375   & 0.45    & ns  \\\\\n\t5 & URXUAS3 & Normal weight & Obesity       & 1140 & 1495 & -5.67830288 & <0.0001 & <0.0001 & ****\\\\\n\t6 & URXUAS3 & Overweight    & Obesity       & 1166 & 1495 & -4.76847911 & <0.0001 & <0.0001 & ****\\\\\n\\end{tabular}\n",
            "text/markdown": "\nA rstatix_test: 6 × 9\n\n| <!--/--> | .y. &lt;chr&gt; | group1 &lt;chr&gt; | group2 &lt;chr&gt; | n1 &lt;int&gt; | n2 &lt;int&gt; | statistic &lt;dbl&gt; | p &lt;chr&gt; | p.adj &lt;chr&gt; | p.adj.signif &lt;chr&gt; |\n|---|---|---|---|---|---|---|---|---|---|\n| 1 | URXUAS3 | Underweight   | Normal weight |   80 | 1140 |  1.84880158 | 0.064   | 0.13    | ns   |\n| 2 | URXUAS3 | Underweight   | Overweight    |   80 | 1166 |  1.53032488 | 0.126   | 0.19    | ns   |\n| 3 | URXUAS3 | Underweight   | Obesity       |   80 | 1495 | -0.08226827 | 0.934   | 0.93    | ns   |\n| 4 | URXUAS3 | Normal weight | Overweight    | 1140 | 1166 | -0.88747428 | 0.375   | 0.45    | ns   |\n| 5 | URXUAS3 | Normal weight | Obesity       | 1140 | 1495 | -5.67830288 | &lt;0.0001 | &lt;0.0001 | **** |\n| 6 | URXUAS3 | Overweight    | Obesity       | 1166 | 1495 | -4.76847911 | &lt;0.0001 | &lt;0.0001 | **** |\n\n",
            "text/html": [
              "<table class=\"dataframe\">\n",
              "<caption>A rstatix_test: 6 × 9</caption>\n",
              "<thead>\n",
              "\t<tr><th></th><th scope=col>.y.</th><th scope=col>group1</th><th scope=col>group2</th><th scope=col>n1</th><th scope=col>n2</th><th scope=col>statistic</th><th scope=col>p</th><th scope=col>p.adj</th><th scope=col>p.adj.signif</th></tr>\n",
              "\t<tr><th></th><th scope=col>&lt;chr&gt;</th><th scope=col>&lt;chr&gt;</th><th scope=col>&lt;chr&gt;</th><th scope=col>&lt;int&gt;</th><th scope=col>&lt;int&gt;</th><th scope=col>&lt;dbl&gt;</th><th scope=col>&lt;chr&gt;</th><th scope=col>&lt;chr&gt;</th><th scope=col>&lt;chr&gt;</th></tr>\n",
              "</thead>\n",
              "<tbody>\n",
              "\t<tr><th scope=row>1</th><td>URXUAS3</td><td>Underweight  </td><td>Normal weight</td><td>  80</td><td>1140</td><td> 1.84880158</td><td>0.064  </td><td>0.13   </td><td>ns  </td></tr>\n",
              "\t<tr><th scope=row>2</th><td>URXUAS3</td><td>Underweight  </td><td>Overweight   </td><td>  80</td><td>1166</td><td> 1.53032488</td><td>0.126  </td><td>0.19   </td><td>ns  </td></tr>\n",
              "\t<tr><th scope=row>3</th><td>URXUAS3</td><td>Underweight  </td><td>Obesity      </td><td>  80</td><td>1495</td><td>-0.08226827</td><td>0.934  </td><td>0.93   </td><td>ns  </td></tr>\n",
              "\t<tr><th scope=row>4</th><td>URXUAS3</td><td>Normal weight</td><td>Overweight   </td><td>1140</td><td>1166</td><td>-0.88747428</td><td>0.375  </td><td>0.45   </td><td>ns  </td></tr>\n",
              "\t<tr><th scope=row>5</th><td>URXUAS3</td><td>Normal weight</td><td><span style=white-space:pre-wrap>Obesity      </span></td><td>1140</td><td>1495</td><td>-5.67830288</td><td>&lt;0.0001</td><td>&lt;0.0001</td><td>****</td></tr>\n",
              "\t<tr><th scope=row>6</th><td>URXUAS3</td><td><span style=white-space:pre-wrap>Overweight   </span></td><td><span style=white-space:pre-wrap>Obesity      </span></td><td>1166</td><td>1495</td><td>-4.76847911</td><td>&lt;0.0001</td><td>&lt;0.0001</td><td>****</td></tr>\n",
              "</tbody>\n",
              "</table>\n"
            ]
          },
          "metadata": {}
        }
      ]
    },
    {
      "cell_type": "markdown",
      "metadata": {
        "id": "fL7PJNEVTaDd"
      },
      "source": [
        "**Education**"
      ]
    },
    {
      "cell_type": "code",
      "metadata": {
        "id": "aV95xA3R4qx0",
        "colab": {
          "base_uri": "https://localhost:8080/",
          "height": 104
        },
        "outputId": "44dadb4e-32b3-4aa6-b3ed-f2ececb4fc92"
      },
      "source": [
        "\n",
        "# Education\n",
        "kruskal.test(URXUAS3~ DMDEDUC2 , data = HSV_df) "
      ],
      "execution_count": null,
      "outputs": [
        {
          "output_type": "display_data",
          "data": {
            "text/plain": [
              "\n",
              "\tKruskal-Wallis rank sum test\n",
              "\n",
              "data:  URXUAS3 by DMDEDUC2\n",
              "Kruskal-Wallis chi-squared = 4.7001, df = 4, p-value = 0.3195\n"
            ]
          },
          "metadata": {}
        }
      ]
    },
    {
      "cell_type": "markdown",
      "metadata": {
        "id": "TpWRNZi5Tefo"
      },
      "source": [
        "**Marital Status**"
      ]
    },
    {
      "cell_type": "code",
      "metadata": {
        "id": "GyuHPfd64uwl",
        "colab": {
          "base_uri": "https://localhost:8080/",
          "height": 1000
        },
        "outputId": "59cfc079-c53c-4ab1-fbd3-1d19356990f5"
      },
      "source": [
        "HSV_df_backup_postprep -> HSV_df\n",
        "\n",
        "HSV_df %<>% select(URXUAS3, DMDMARTL) %>% filter(URXUAS3 != 'NA') %>% filter(DMDMARTL != 'NA')\n",
        "\n",
        "# kruskal wallis test\n",
        "kruskal.test(URXUAS3~ DMDMARTL , data = HSV_df) \n",
        "\n",
        "cat(\"\\n\\n\")\n",
        "\n",
        "cat(\"\\n Numerical Summaries \\n\")\n",
        "# numerical summary\n",
        "HSV_df %$% num_summary(URXUAS3, DMDMARTL) \n",
        "\n",
        "cat(\"\\n\\n\")\n",
        "\n",
        "cat(\"\\n Multiple Comparison \\n\")\n",
        "# multiple comparison\n",
        "dunn_test(URXUAS3~ DMDMARTL , data = HSV_df, p.adjust.method = \"fdr\") %>%\n",
        "p_format(digits = 2, leading.zero = TRUE) ; HSV_df_backup_postprep -> HSV_df\n",
        "\n",
        "\n"
      ],
      "execution_count": null,
      "outputs": [
        {
          "output_type": "display_data",
          "data": {
            "text/plain": [
              "\n",
              "\tKruskal-Wallis rank sum test\n",
              "\n",
              "data:  URXUAS3 by DMDMARTL\n",
              "Kruskal-Wallis chi-squared = 22.532, df = 5, p-value = 0.0004147\n"
            ]
          },
          "metadata": {}
        },
        {
          "output_type": "stream",
          "name": "stdout",
          "text": [
            "\n",
            "\n",
            "\n",
            " Numerical Summaries \n"
          ]
        },
        {
          "output_type": "display_data",
          "data": {
            "text/plain": [
              "  variable            Count Mean      Min  Q1   Q2   Q3     Max  Sd       \n",
              "1 Married             1753  0.4965830 0.08 0.08 0.39 0.7400 8.77 0.5370379\n",
              "2 Widowed              109  0.3719266 0.08 0.08 0.22 0.5800 1.78 0.3598983\n",
              "3 Divorced             419  0.4027924 0.08 0.08 0.32 0.6400 1.66 0.3545873\n",
              "4 Separated            142  0.5441549 0.08 0.08 0.46 0.7375 6.71 0.7665139\n",
              "5 Never married        851  0.4895770 0.08 0.08 0.42 0.7300 3.59 0.4365917\n",
              "6 Living with partner  416  0.5162019 0.08 0.08 0.46 0.7400 4.68 0.4623935"
            ],
            "text/latex": "A tibble: 6 × 9\n\\begin{tabular}{lllllllll}\n variable & Count & Mean & Min & Q1 & Q2 & Q3 & Max & Sd\\\\\n <fct> & <int> & <dbl> & <dbl> & <dbl> & <dbl> & <dbl> & <dbl> & <dbl>\\\\\n\\hline\n\t Married             & 1753 & 0.4965830 & 0.08 & 0.08 & 0.39 & 0.7400 & 8.77 & 0.5370379\\\\\n\t Widowed             &  109 & 0.3719266 & 0.08 & 0.08 & 0.22 & 0.5800 & 1.78 & 0.3598983\\\\\n\t Divorced            &  419 & 0.4027924 & 0.08 & 0.08 & 0.32 & 0.6400 & 1.66 & 0.3545873\\\\\n\t Separated           &  142 & 0.5441549 & 0.08 & 0.08 & 0.46 & 0.7375 & 6.71 & 0.7665139\\\\\n\t Never married       &  851 & 0.4895770 & 0.08 & 0.08 & 0.42 & 0.7300 & 3.59 & 0.4365917\\\\\n\t Living with partner &  416 & 0.5162019 & 0.08 & 0.08 & 0.46 & 0.7400 & 4.68 & 0.4623935\\\\\n\\end{tabular}\n",
            "text/markdown": "\nA tibble: 6 × 9\n\n| variable &lt;fct&gt; | Count &lt;int&gt; | Mean &lt;dbl&gt; | Min &lt;dbl&gt; | Q1 &lt;dbl&gt; | Q2 &lt;dbl&gt; | Q3 &lt;dbl&gt; | Max &lt;dbl&gt; | Sd &lt;dbl&gt; |\n|---|---|---|---|---|---|---|---|---|\n| Married             | 1753 | 0.4965830 | 0.08 | 0.08 | 0.39 | 0.7400 | 8.77 | 0.5370379 |\n| Widowed             |  109 | 0.3719266 | 0.08 | 0.08 | 0.22 | 0.5800 | 1.78 | 0.3598983 |\n| Divorced            |  419 | 0.4027924 | 0.08 | 0.08 | 0.32 | 0.6400 | 1.66 | 0.3545873 |\n| Separated           |  142 | 0.5441549 | 0.08 | 0.08 | 0.46 | 0.7375 | 6.71 | 0.7665139 |\n| Never married       |  851 | 0.4895770 | 0.08 | 0.08 | 0.42 | 0.7300 | 3.59 | 0.4365917 |\n| Living with partner |  416 | 0.5162019 | 0.08 | 0.08 | 0.46 | 0.7400 | 4.68 | 0.4623935 |\n\n",
            "text/html": [
              "<table class=\"dataframe\">\n",
              "<caption>A tibble: 6 × 9</caption>\n",
              "<thead>\n",
              "\t<tr><th scope=col>variable</th><th scope=col>Count</th><th scope=col>Mean</th><th scope=col>Min</th><th scope=col>Q1</th><th scope=col>Q2</th><th scope=col>Q3</th><th scope=col>Max</th><th scope=col>Sd</th></tr>\n",
              "\t<tr><th scope=col>&lt;fct&gt;</th><th scope=col>&lt;int&gt;</th><th scope=col>&lt;dbl&gt;</th><th scope=col>&lt;dbl&gt;</th><th scope=col>&lt;dbl&gt;</th><th scope=col>&lt;dbl&gt;</th><th scope=col>&lt;dbl&gt;</th><th scope=col>&lt;dbl&gt;</th><th scope=col>&lt;dbl&gt;</th></tr>\n",
              "</thead>\n",
              "<tbody>\n",
              "\t<tr><td>Married            </td><td>1753</td><td>0.4965830</td><td>0.08</td><td>0.08</td><td>0.39</td><td>0.7400</td><td>8.77</td><td>0.5370379</td></tr>\n",
              "\t<tr><td>Widowed            </td><td> 109</td><td>0.3719266</td><td>0.08</td><td>0.08</td><td>0.22</td><td>0.5800</td><td>1.78</td><td>0.3598983</td></tr>\n",
              "\t<tr><td>Divorced           </td><td> 419</td><td>0.4027924</td><td>0.08</td><td>0.08</td><td>0.32</td><td>0.6400</td><td>1.66</td><td>0.3545873</td></tr>\n",
              "\t<tr><td>Separated          </td><td> 142</td><td>0.5441549</td><td>0.08</td><td>0.08</td><td>0.46</td><td>0.7375</td><td>6.71</td><td>0.7665139</td></tr>\n",
              "\t<tr><td>Never married      </td><td> 851</td><td>0.4895770</td><td>0.08</td><td>0.08</td><td>0.42</td><td>0.7300</td><td>3.59</td><td>0.4365917</td></tr>\n",
              "\t<tr><td>Living with partner</td><td> 416</td><td>0.5162019</td><td>0.08</td><td>0.08</td><td>0.46</td><td>0.7400</td><td>4.68</td><td>0.4623935</td></tr>\n",
              "</tbody>\n",
              "</table>\n"
            ]
          },
          "metadata": {}
        },
        {
          "output_type": "stream",
          "name": "stdout",
          "text": [
            "\n",
            "\n",
            "\n",
            " Multiple Comparison \n"
          ]
        },
        {
          "output_type": "display_data",
          "data": {
            "text/plain": [
              "   .y.     group1        group2              n1   n2  statistic   p      \n",
              "1  URXUAS3 Married       Widowed             1753 109 -2.48533358 0.01294\n",
              "2  URXUAS3 Married       Divorced            1753 419 -2.62905532 0.00856\n",
              "3  URXUAS3 Married       Separated           1753 142  0.04490049 0.96419\n",
              "4  URXUAS3 Married       Never married       1753 851  1.17389121 0.24044\n",
              "5  URXUAS3 Married       Living with partner 1753 416  2.08132070 0.0374 \n",
              "6  URXUAS3 Widowed       Divorced             109 419  0.95213648 0.34103\n",
              "7  URXUAS3 Widowed       Separated            109 142  1.95736088 0.05031\n",
              "8  URXUAS3 Widowed       Never married        109 851  2.89373906 0.00381\n",
              "9  URXUAS3 Widowed       Living with partner  109 416  3.33498292 0.00085\n",
              "10 URXUAS3 Divorced      Separated            419 142  1.51266237 0.13037\n",
              "11 URXUAS3 Divorced      Never married        419 851  3.21732309 0.00129\n",
              "12 URXUAS3 Divorced      Living with partner  419 416  3.70557190 0.00021\n",
              "13 URXUAS3 Separated     Never married        142 851  0.49781993 0.61861\n",
              "14 URXUAS3 Separated     Living with partner  142 416  1.12758966 0.25949\n",
              "15 URXUAS3 Never married Living with partner  851 416  1.07756512 0.28123\n",
              "   p.adj  p.adj.signif\n",
              "1  0.0324 *           \n",
              "2  0.0257 *           \n",
              "3  0.9642 ns          \n",
              "4  0.3515 ns          \n",
              "5  0.0802 ns          \n",
              "6  0.3935 ns          \n",
              "7  0.0943 ns          \n",
              "8  0.0143 *           \n",
              "9  0.0064 **          \n",
              "10 0.2173 ns          \n",
              "11 0.0065 **          \n",
              "12 0.0032 **          \n",
              "13 0.6628 ns          \n",
              "14 0.3515 ns          \n",
              "15 0.3515 ns          "
            ],
            "text/latex": "A rstatix\\_test: 15 × 9\n\\begin{tabular}{r|lllllllll}\n  & .y. & group1 & group2 & n1 & n2 & statistic & p & p.adj & p.adj.signif\\\\\n  & <chr> & <chr> & <chr> & <int> & <int> & <dbl> & <chr> & <chr> & <chr>\\\\\n\\hline\n\t1 & URXUAS3 & Married       & Widowed             & 1753 & 109 & -2.48533358 & 0.01294 & 0.0324 & * \\\\\n\t2 & URXUAS3 & Married       & Divorced            & 1753 & 419 & -2.62905532 & 0.00856 & 0.0257 & * \\\\\n\t3 & URXUAS3 & Married       & Separated           & 1753 & 142 &  0.04490049 & 0.96419 & 0.9642 & ns\\\\\n\t4 & URXUAS3 & Married       & Never married       & 1753 & 851 &  1.17389121 & 0.24044 & 0.3515 & ns\\\\\n\t5 & URXUAS3 & Married       & Living with partner & 1753 & 416 &  2.08132070 & 0.0374  & 0.0802 & ns\\\\\n\t6 & URXUAS3 & Widowed       & Divorced            &  109 & 419 &  0.95213648 & 0.34103 & 0.3935 & ns\\\\\n\t7 & URXUAS3 & Widowed       & Separated           &  109 & 142 &  1.95736088 & 0.05031 & 0.0943 & ns\\\\\n\t8 & URXUAS3 & Widowed       & Never married       &  109 & 851 &  2.89373906 & 0.00381 & 0.0143 & * \\\\\n\t9 & URXUAS3 & Widowed       & Living with partner &  109 & 416 &  3.33498292 & 0.00085 & 0.0064 & **\\\\\n\t10 & URXUAS3 & Divorced      & Separated           &  419 & 142 &  1.51266237 & 0.13037 & 0.2173 & ns\\\\\n\t11 & URXUAS3 & Divorced      & Never married       &  419 & 851 &  3.21732309 & 0.00129 & 0.0065 & **\\\\\n\t12 & URXUAS3 & Divorced      & Living with partner &  419 & 416 &  3.70557190 & 0.00021 & 0.0032 & **\\\\\n\t13 & URXUAS3 & Separated     & Never married       &  142 & 851 &  0.49781993 & 0.61861 & 0.6628 & ns\\\\\n\t14 & URXUAS3 & Separated     & Living with partner &  142 & 416 &  1.12758966 & 0.25949 & 0.3515 & ns\\\\\n\t15 & URXUAS3 & Never married & Living with partner &  851 & 416 &  1.07756512 & 0.28123 & 0.3515 & ns\\\\\n\\end{tabular}\n",
            "text/markdown": "\nA rstatix_test: 15 × 9\n\n| <!--/--> | .y. &lt;chr&gt; | group1 &lt;chr&gt; | group2 &lt;chr&gt; | n1 &lt;int&gt; | n2 &lt;int&gt; | statistic &lt;dbl&gt; | p &lt;chr&gt; | p.adj &lt;chr&gt; | p.adj.signif &lt;chr&gt; |\n|---|---|---|---|---|---|---|---|---|---|\n| 1 | URXUAS3 | Married       | Widowed             | 1753 | 109 | -2.48533358 | 0.01294 | 0.0324 | *  |\n| 2 | URXUAS3 | Married       | Divorced            | 1753 | 419 | -2.62905532 | 0.00856 | 0.0257 | *  |\n| 3 | URXUAS3 | Married       | Separated           | 1753 | 142 |  0.04490049 | 0.96419 | 0.9642 | ns |\n| 4 | URXUAS3 | Married       | Never married       | 1753 | 851 |  1.17389121 | 0.24044 | 0.3515 | ns |\n| 5 | URXUAS3 | Married       | Living with partner | 1753 | 416 |  2.08132070 | 0.0374  | 0.0802 | ns |\n| 6 | URXUAS3 | Widowed       | Divorced            |  109 | 419 |  0.95213648 | 0.34103 | 0.3935 | ns |\n| 7 | URXUAS3 | Widowed       | Separated           |  109 | 142 |  1.95736088 | 0.05031 | 0.0943 | ns |\n| 8 | URXUAS3 | Widowed       | Never married       |  109 | 851 |  2.89373906 | 0.00381 | 0.0143 | *  |\n| 9 | URXUAS3 | Widowed       | Living with partner |  109 | 416 |  3.33498292 | 0.00085 | 0.0064 | ** |\n| 10 | URXUAS3 | Divorced      | Separated           |  419 | 142 |  1.51266237 | 0.13037 | 0.2173 | ns |\n| 11 | URXUAS3 | Divorced      | Never married       |  419 | 851 |  3.21732309 | 0.00129 | 0.0065 | ** |\n| 12 | URXUAS3 | Divorced      | Living with partner |  419 | 416 |  3.70557190 | 0.00021 | 0.0032 | ** |\n| 13 | URXUAS3 | Separated     | Never married       |  142 | 851 |  0.49781993 | 0.61861 | 0.6628 | ns |\n| 14 | URXUAS3 | Separated     | Living with partner |  142 | 416 |  1.12758966 | 0.25949 | 0.3515 | ns |\n| 15 | URXUAS3 | Never married | Living with partner |  851 | 416 |  1.07756512 | 0.28123 | 0.3515 | ns |\n\n",
            "text/html": [
              "<table class=\"dataframe\">\n",
              "<caption>A rstatix_test: 15 × 9</caption>\n",
              "<thead>\n",
              "\t<tr><th></th><th scope=col>.y.</th><th scope=col>group1</th><th scope=col>group2</th><th scope=col>n1</th><th scope=col>n2</th><th scope=col>statistic</th><th scope=col>p</th><th scope=col>p.adj</th><th scope=col>p.adj.signif</th></tr>\n",
              "\t<tr><th></th><th scope=col>&lt;chr&gt;</th><th scope=col>&lt;chr&gt;</th><th scope=col>&lt;chr&gt;</th><th scope=col>&lt;int&gt;</th><th scope=col>&lt;int&gt;</th><th scope=col>&lt;dbl&gt;</th><th scope=col>&lt;chr&gt;</th><th scope=col>&lt;chr&gt;</th><th scope=col>&lt;chr&gt;</th></tr>\n",
              "</thead>\n",
              "<tbody>\n",
              "\t<tr><th scope=row>1</th><td>URXUAS3</td><td>Married      </td><td>Widowed            </td><td>1753</td><td>109</td><td>-2.48533358</td><td>0.01294</td><td>0.0324</td><td>* </td></tr>\n",
              "\t<tr><th scope=row>2</th><td>URXUAS3</td><td>Married      </td><td>Divorced           </td><td>1753</td><td>419</td><td>-2.62905532</td><td>0.00856</td><td>0.0257</td><td>* </td></tr>\n",
              "\t<tr><th scope=row>3</th><td>URXUAS3</td><td>Married      </td><td>Separated          </td><td>1753</td><td>142</td><td> 0.04490049</td><td>0.96419</td><td>0.9642</td><td>ns</td></tr>\n",
              "\t<tr><th scope=row>4</th><td>URXUAS3</td><td>Married      </td><td>Never married      </td><td>1753</td><td>851</td><td> 1.17389121</td><td>0.24044</td><td>0.3515</td><td>ns</td></tr>\n",
              "\t<tr><th scope=row>5</th><td>URXUAS3</td><td>Married      </td><td>Living with partner</td><td>1753</td><td>416</td><td> 2.08132070</td><td>0.0374 </td><td>0.0802</td><td>ns</td></tr>\n",
              "\t<tr><th scope=row>6</th><td>URXUAS3</td><td>Widowed      </td><td>Divorced           </td><td> 109</td><td>419</td><td> 0.95213648</td><td>0.34103</td><td>0.3935</td><td>ns</td></tr>\n",
              "\t<tr><th scope=row>7</th><td>URXUAS3</td><td>Widowed      </td><td>Separated          </td><td> 109</td><td>142</td><td> 1.95736088</td><td>0.05031</td><td>0.0943</td><td>ns</td></tr>\n",
              "\t<tr><th scope=row>8</th><td>URXUAS3</td><td>Widowed      </td><td>Never married      </td><td> 109</td><td>851</td><td> 2.89373906</td><td>0.00381</td><td>0.0143</td><td>* </td></tr>\n",
              "\t<tr><th scope=row>9</th><td>URXUAS3</td><td>Widowed      </td><td>Living with partner</td><td> 109</td><td>416</td><td> 3.33498292</td><td>0.00085</td><td>0.0064</td><td>**</td></tr>\n",
              "\t<tr><th scope=row>10</th><td>URXUAS3</td><td>Divorced     </td><td>Separated          </td><td> 419</td><td>142</td><td> 1.51266237</td><td>0.13037</td><td>0.2173</td><td>ns</td></tr>\n",
              "\t<tr><th scope=row>11</th><td>URXUAS3</td><td>Divorced     </td><td>Never married      </td><td> 419</td><td>851</td><td> 3.21732309</td><td>0.00129</td><td>0.0065</td><td>**</td></tr>\n",
              "\t<tr><th scope=row>12</th><td>URXUAS3</td><td>Divorced     </td><td>Living with partner</td><td> 419</td><td>416</td><td> 3.70557190</td><td>0.00021</td><td>0.0032</td><td>**</td></tr>\n",
              "\t<tr><th scope=row>13</th><td>URXUAS3</td><td>Separated    </td><td>Never married      </td><td> 142</td><td>851</td><td> 0.49781993</td><td>0.61861</td><td>0.6628</td><td>ns</td></tr>\n",
              "\t<tr><th scope=row>14</th><td>URXUAS3</td><td>Separated    </td><td>Living with partner</td><td> 142</td><td>416</td><td> 1.12758966</td><td>0.25949</td><td>0.3515</td><td>ns</td></tr>\n",
              "\t<tr><th scope=row>15</th><td>URXUAS3</td><td>Never married</td><td>Living with partner</td><td> 851</td><td>416</td><td> 1.07756512</td><td>0.28123</td><td>0.3515</td><td>ns</td></tr>\n",
              "</tbody>\n",
              "</table>\n"
            ]
          },
          "metadata": {}
        }
      ]
    },
    {
      "cell_type": "markdown",
      "metadata": {
        "id": "mp0K4NULT_Co"
      },
      "source": [
        "**Race**"
      ]
    },
    {
      "cell_type": "code",
      "metadata": {
        "id": "E604QYx14xx8",
        "colab": {
          "base_uri": "https://localhost:8080/",
          "height": 875
        },
        "outputId": "fdebe31b-261a-4f7e-81a5-ab5a52d111fe"
      },
      "source": [
        "HSV_df_backup_postprep -> HSV_df\n",
        "\n",
        "HSV_df %<>% select(URXUAS3, RIDRETH1) %>% filter(URXUAS3 != 'NA') %>% filter(RIDRETH1 != 'NA')\n",
        "\n",
        "# kruskal wallis test\n",
        "kruskal.test(URXUAS3~ RIDRETH1 , data = HSV_df) \n",
        "\n",
        "cat(\"\\n\\n\")\n",
        "\n",
        "cat(\"\\n Numerical Summaries \\n\")\n",
        "# numerical summary\n",
        "HSV_df %$% num_summary(URXUAS3, RIDRETH1) \n",
        "\n",
        "cat(\"\\n\\n\")\n",
        "\n",
        "cat(\"\\n Multiple Comparison \\n\")\n",
        "# multiple comparison\n",
        "dunn_test(URXUAS3~ RIDRETH1 , data = HSV_df, p.adjust.method = \"fdr\") %>%\n",
        "p_format(digits = 2, leading.zero = TRUE) ; HSV_df_backup_postprep -> HSV_df\n"
      ],
      "execution_count": null,
      "outputs": [
        {
          "output_type": "display_data",
          "data": {
            "text/plain": [
              "\n",
              "\tKruskal-Wallis rank sum test\n",
              "\n",
              "data:  URXUAS3 by RIDRETH1\n",
              "Kruskal-Wallis chi-squared = 56.155, df = 4, p-value = 1.86e-11\n"
            ]
          },
          "metadata": {}
        },
        {
          "output_type": "stream",
          "name": "stdout",
          "text": [
            "\n",
            "\n",
            "\n",
            " Numerical Summaries \n"
          ]
        },
        {
          "output_type": "display_data",
          "data": {
            "text/plain": [
              "  variable    Count Mean      Min  Q1   Q2   Q3     Max  Sd       \n",
              "1 Mex-Hisp     584  0.5145034 0.08 0.08 0.48 0.7600 4.80 0.4741150\n",
              "2 Other-Hisp   418  0.5235646 0.08 0.08 0.45 0.8075 4.12 0.4809298\n",
              "3 Non-Hisp-WT 1440  0.4182639 0.08 0.08 0.33 0.6500 6.71 0.4270191\n",
              "4 Non-Hisp-BK  893  0.5001792 0.08 0.08 0.40 0.7400 4.37 0.4760466\n",
              "5 Others       565  0.6082301 0.08 0.08 0.48 0.8400 8.77 0.6722815"
            ],
            "text/latex": "A tibble: 5 × 9\n\\begin{tabular}{lllllllll}\n variable & Count & Mean & Min & Q1 & Q2 & Q3 & Max & Sd\\\\\n <fct> & <int> & <dbl> & <dbl> & <dbl> & <dbl> & <dbl> & <dbl> & <dbl>\\\\\n\\hline\n\t Mex-Hisp    &  584 & 0.5145034 & 0.08 & 0.08 & 0.48 & 0.7600 & 4.80 & 0.4741150\\\\\n\t Other-Hisp  &  418 & 0.5235646 & 0.08 & 0.08 & 0.45 & 0.8075 & 4.12 & 0.4809298\\\\\n\t Non-Hisp-WT & 1440 & 0.4182639 & 0.08 & 0.08 & 0.33 & 0.6500 & 6.71 & 0.4270191\\\\\n\t Non-Hisp-BK &  893 & 0.5001792 & 0.08 & 0.08 & 0.40 & 0.7400 & 4.37 & 0.4760466\\\\\n\t Others      &  565 & 0.6082301 & 0.08 & 0.08 & 0.48 & 0.8400 & 8.77 & 0.6722815\\\\\n\\end{tabular}\n",
            "text/markdown": "\nA tibble: 5 × 9\n\n| variable &lt;fct&gt; | Count &lt;int&gt; | Mean &lt;dbl&gt; | Min &lt;dbl&gt; | Q1 &lt;dbl&gt; | Q2 &lt;dbl&gt; | Q3 &lt;dbl&gt; | Max &lt;dbl&gt; | Sd &lt;dbl&gt; |\n|---|---|---|---|---|---|---|---|---|\n| Mex-Hisp    |  584 | 0.5145034 | 0.08 | 0.08 | 0.48 | 0.7600 | 4.80 | 0.4741150 |\n| Other-Hisp  |  418 | 0.5235646 | 0.08 | 0.08 | 0.45 | 0.8075 | 4.12 | 0.4809298 |\n| Non-Hisp-WT | 1440 | 0.4182639 | 0.08 | 0.08 | 0.33 | 0.6500 | 6.71 | 0.4270191 |\n| Non-Hisp-BK |  893 | 0.5001792 | 0.08 | 0.08 | 0.40 | 0.7400 | 4.37 | 0.4760466 |\n| Others      |  565 | 0.6082301 | 0.08 | 0.08 | 0.48 | 0.8400 | 8.77 | 0.6722815 |\n\n",
            "text/html": [
              "<table class=\"dataframe\">\n",
              "<caption>A tibble: 5 × 9</caption>\n",
              "<thead>\n",
              "\t<tr><th scope=col>variable</th><th scope=col>Count</th><th scope=col>Mean</th><th scope=col>Min</th><th scope=col>Q1</th><th scope=col>Q2</th><th scope=col>Q3</th><th scope=col>Max</th><th scope=col>Sd</th></tr>\n",
              "\t<tr><th scope=col>&lt;fct&gt;</th><th scope=col>&lt;int&gt;</th><th scope=col>&lt;dbl&gt;</th><th scope=col>&lt;dbl&gt;</th><th scope=col>&lt;dbl&gt;</th><th scope=col>&lt;dbl&gt;</th><th scope=col>&lt;dbl&gt;</th><th scope=col>&lt;dbl&gt;</th><th scope=col>&lt;dbl&gt;</th></tr>\n",
              "</thead>\n",
              "<tbody>\n",
              "\t<tr><td>Mex-Hisp   </td><td> 584</td><td>0.5145034</td><td>0.08</td><td>0.08</td><td>0.48</td><td>0.7600</td><td>4.80</td><td>0.4741150</td></tr>\n",
              "\t<tr><td>Other-Hisp </td><td> 418</td><td>0.5235646</td><td>0.08</td><td>0.08</td><td>0.45</td><td>0.8075</td><td>4.12</td><td>0.4809298</td></tr>\n",
              "\t<tr><td>Non-Hisp-WT</td><td>1440</td><td>0.4182639</td><td>0.08</td><td>0.08</td><td>0.33</td><td>0.6500</td><td>6.71</td><td>0.4270191</td></tr>\n",
              "\t<tr><td>Non-Hisp-BK</td><td> 893</td><td>0.5001792</td><td>0.08</td><td>0.08</td><td>0.40</td><td>0.7400</td><td>4.37</td><td>0.4760466</td></tr>\n",
              "\t<tr><td>Others     </td><td> 565</td><td>0.6082301</td><td>0.08</td><td>0.08</td><td>0.48</td><td>0.8400</td><td>8.77</td><td>0.6722815</td></tr>\n",
              "</tbody>\n",
              "</table>\n"
            ]
          },
          "metadata": {}
        },
        {
          "output_type": "stream",
          "name": "stdout",
          "text": [
            "\n",
            "\n",
            "\n",
            " Multiple Comparison \n"
          ]
        },
        {
          "output_type": "display_data",
          "data": {
            "text/plain": [
              "   .y.     group1      group2      n1   n2   statistic  p       p.adj  \n",
              "1  URXUAS3 Mex-Hisp    Other-Hisp   584  418  0.0712404 0.9432  0.943  \n",
              "2  URXUAS3 Mex-Hisp    Non-Hisp-WT  584 1440 -4.5604051 <0.0001 <0.0001\n",
              "3  URXUAS3 Mex-Hisp    Non-Hisp-BK  584  893 -0.8703275 0.3841  0.434  \n",
              "4  URXUAS3 Mex-Hisp    Others       584  565  1.7259510 0.0844  0.141  \n",
              "5  URXUAS3 Other-Hisp  Non-Hisp-WT  418 1440 -4.1090202 <0.0001 <0.0001\n",
              "6  URXUAS3 Other-Hisp  Non-Hisp-BK  418  893 -0.8585593 0.3906  0.434  \n",
              "7  URXUAS3 Other-Hisp  Others       418  565  1.5079317 0.1316  0.188  \n",
              "8  URXUAS3 Non-Hisp-WT Non-Hisp-BK 1440  893  4.1651524 <0.0001 <0.0001\n",
              "9  URXUAS3 Non-Hisp-WT Others      1440  565  6.5584739 <0.0001 <0.0001\n",
              "10 URXUAS3 Non-Hisp-BK Others       893  565  2.7562626 0.0058  0.012  \n",
              "   p.adj.signif\n",
              "1  ns          \n",
              "2  ****        \n",
              "3  ns          \n",
              "4  ns          \n",
              "5  ****        \n",
              "6  ns          \n",
              "7  ns          \n",
              "8  ****        \n",
              "9  ****        \n",
              "10 *           "
            ],
            "text/latex": "A rstatix\\_test: 10 × 9\n\\begin{tabular}{r|lllllllll}\n  & .y. & group1 & group2 & n1 & n2 & statistic & p & p.adj & p.adj.signif\\\\\n  & <chr> & <chr> & <chr> & <int> & <int> & <dbl> & <chr> & <chr> & <chr>\\\\\n\\hline\n\t1 & URXUAS3 & Mex-Hisp    & Other-Hisp  &  584 &  418 &  0.0712404 & 0.9432  & 0.943   & ns  \\\\\n\t2 & URXUAS3 & Mex-Hisp    & Non-Hisp-WT &  584 & 1440 & -4.5604051 & <0.0001 & <0.0001 & ****\\\\\n\t3 & URXUAS3 & Mex-Hisp    & Non-Hisp-BK &  584 &  893 & -0.8703275 & 0.3841  & 0.434   & ns  \\\\\n\t4 & URXUAS3 & Mex-Hisp    & Others      &  584 &  565 &  1.7259510 & 0.0844  & 0.141   & ns  \\\\\n\t5 & URXUAS3 & Other-Hisp  & Non-Hisp-WT &  418 & 1440 & -4.1090202 & <0.0001 & <0.0001 & ****\\\\\n\t6 & URXUAS3 & Other-Hisp  & Non-Hisp-BK &  418 &  893 & -0.8585593 & 0.3906  & 0.434   & ns  \\\\\n\t7 & URXUAS3 & Other-Hisp  & Others      &  418 &  565 &  1.5079317 & 0.1316  & 0.188   & ns  \\\\\n\t8 & URXUAS3 & Non-Hisp-WT & Non-Hisp-BK & 1440 &  893 &  4.1651524 & <0.0001 & <0.0001 & ****\\\\\n\t9 & URXUAS3 & Non-Hisp-WT & Others      & 1440 &  565 &  6.5584739 & <0.0001 & <0.0001 & ****\\\\\n\t10 & URXUAS3 & Non-Hisp-BK & Others      &  893 &  565 &  2.7562626 & 0.0058  & 0.012   & *   \\\\\n\\end{tabular}\n",
            "text/markdown": "\nA rstatix_test: 10 × 9\n\n| <!--/--> | .y. &lt;chr&gt; | group1 &lt;chr&gt; | group2 &lt;chr&gt; | n1 &lt;int&gt; | n2 &lt;int&gt; | statistic &lt;dbl&gt; | p &lt;chr&gt; | p.adj &lt;chr&gt; | p.adj.signif &lt;chr&gt; |\n|---|---|---|---|---|---|---|---|---|---|\n| 1 | URXUAS3 | Mex-Hisp    | Other-Hisp  |  584 |  418 |  0.0712404 | 0.9432  | 0.943   | ns   |\n| 2 | URXUAS3 | Mex-Hisp    | Non-Hisp-WT |  584 | 1440 | -4.5604051 | &lt;0.0001 | &lt;0.0001 | **** |\n| 3 | URXUAS3 | Mex-Hisp    | Non-Hisp-BK |  584 |  893 | -0.8703275 | 0.3841  | 0.434   | ns   |\n| 4 | URXUAS3 | Mex-Hisp    | Others      |  584 |  565 |  1.7259510 | 0.0844  | 0.141   | ns   |\n| 5 | URXUAS3 | Other-Hisp  | Non-Hisp-WT |  418 | 1440 | -4.1090202 | &lt;0.0001 | &lt;0.0001 | **** |\n| 6 | URXUAS3 | Other-Hisp  | Non-Hisp-BK |  418 |  893 | -0.8585593 | 0.3906  | 0.434   | ns   |\n| 7 | URXUAS3 | Other-Hisp  | Others      |  418 |  565 |  1.5079317 | 0.1316  | 0.188   | ns   |\n| 8 | URXUAS3 | Non-Hisp-WT | Non-Hisp-BK | 1440 |  893 |  4.1651524 | &lt;0.0001 | &lt;0.0001 | **** |\n| 9 | URXUAS3 | Non-Hisp-WT | Others      | 1440 |  565 |  6.5584739 | &lt;0.0001 | &lt;0.0001 | **** |\n| 10 | URXUAS3 | Non-Hisp-BK | Others      |  893 |  565 |  2.7562626 | 0.0058  | 0.012   | *    |\n\n",
            "text/html": [
              "<table class=\"dataframe\">\n",
              "<caption>A rstatix_test: 10 × 9</caption>\n",
              "<thead>\n",
              "\t<tr><th></th><th scope=col>.y.</th><th scope=col>group1</th><th scope=col>group2</th><th scope=col>n1</th><th scope=col>n2</th><th scope=col>statistic</th><th scope=col>p</th><th scope=col>p.adj</th><th scope=col>p.adj.signif</th></tr>\n",
              "\t<tr><th></th><th scope=col>&lt;chr&gt;</th><th scope=col>&lt;chr&gt;</th><th scope=col>&lt;chr&gt;</th><th scope=col>&lt;int&gt;</th><th scope=col>&lt;int&gt;</th><th scope=col>&lt;dbl&gt;</th><th scope=col>&lt;chr&gt;</th><th scope=col>&lt;chr&gt;</th><th scope=col>&lt;chr&gt;</th></tr>\n",
              "</thead>\n",
              "<tbody>\n",
              "\t<tr><th scope=row>1</th><td>URXUAS3</td><td>Mex-Hisp   </td><td>Other-Hisp </td><td> 584</td><td> 418</td><td> 0.0712404</td><td>0.9432 </td><td>0.943  </td><td>ns  </td></tr>\n",
              "\t<tr><th scope=row>2</th><td>URXUAS3</td><td><span style=white-space:pre-wrap>Mex-Hisp   </span></td><td>Non-Hisp-WT</td><td> 584</td><td>1440</td><td>-4.5604051</td><td>&lt;0.0001</td><td>&lt;0.0001</td><td>****</td></tr>\n",
              "\t<tr><th scope=row>3</th><td>URXUAS3</td><td>Mex-Hisp   </td><td>Non-Hisp-BK</td><td> 584</td><td> 893</td><td>-0.8703275</td><td>0.3841 </td><td>0.434  </td><td>ns  </td></tr>\n",
              "\t<tr><th scope=row>4</th><td>URXUAS3</td><td>Mex-Hisp   </td><td>Others     </td><td> 584</td><td> 565</td><td> 1.7259510</td><td>0.0844 </td><td>0.141  </td><td>ns  </td></tr>\n",
              "\t<tr><th scope=row>5</th><td>URXUAS3</td><td>Other-Hisp </td><td>Non-Hisp-WT</td><td> 418</td><td>1440</td><td>-4.1090202</td><td>&lt;0.0001</td><td>&lt;0.0001</td><td>****</td></tr>\n",
              "\t<tr><th scope=row>6</th><td>URXUAS3</td><td>Other-Hisp </td><td>Non-Hisp-BK</td><td> 418</td><td> 893</td><td>-0.8585593</td><td>0.3906 </td><td>0.434  </td><td>ns  </td></tr>\n",
              "\t<tr><th scope=row>7</th><td>URXUAS3</td><td>Other-Hisp </td><td>Others     </td><td> 418</td><td> 565</td><td> 1.5079317</td><td>0.1316 </td><td>0.188  </td><td>ns  </td></tr>\n",
              "\t<tr><th scope=row>8</th><td>URXUAS3</td><td>Non-Hisp-WT</td><td>Non-Hisp-BK</td><td>1440</td><td> 893</td><td> 4.1651524</td><td>&lt;0.0001</td><td>&lt;0.0001</td><td>****</td></tr>\n",
              "\t<tr><th scope=row>9</th><td>URXUAS3</td><td>Non-Hisp-WT</td><td><span style=white-space:pre-wrap>Others     </span></td><td>1440</td><td> 565</td><td> 6.5584739</td><td>&lt;0.0001</td><td>&lt;0.0001</td><td>****</td></tr>\n",
              "\t<tr><th scope=row>10</th><td>URXUAS3</td><td>Non-Hisp-BK</td><td>Others     </td><td> 893</td><td> 565</td><td> 2.7562626</td><td>0.0058 </td><td>0.012  </td><td>*   </td></tr>\n",
              "</tbody>\n",
              "</table>\n"
            ]
          },
          "metadata": {}
        }
      ]
    },
    {
      "cell_type": "markdown",
      "metadata": {
        "id": "b4QRj81RU29b"
      },
      "source": [
        "**Poverty Income Ratio**"
      ]
    },
    {
      "cell_type": "code",
      "metadata": {
        "id": "1Z5iqX914y6J",
        "colab": {
          "base_uri": "https://localhost:8080/",
          "height": 104
        },
        "outputId": "113650d1-66e8-4fad-c731-08617ab72fdf"
      },
      "source": [
        "\n",
        "# Poverty Income Ratio\n",
        "kruskal.test(URXUAS3~ PIR , data = HSV_df)"
      ],
      "execution_count": null,
      "outputs": [
        {
          "output_type": "display_data",
          "data": {
            "text/plain": [
              "\n",
              "\tKruskal-Wallis rank sum test\n",
              "\n",
              "data:  URXUAS3 by PIR\n",
              "Kruskal-Wallis chi-squared = 1.0841, df = 2, p-value = 0.5816\n"
            ]
          },
          "metadata": {}
        }
      ]
    },
    {
      "cell_type": "markdown",
      "metadata": {
        "id": "I08a3LW-UZi4"
      },
      "source": [
        "**Alcohol**"
      ]
    },
    {
      "cell_type": "code",
      "metadata": {
        "id": "A14aj1zg4z0U",
        "colab": {
          "base_uri": "https://localhost:8080/",
          "height": 499
        },
        "outputId": "e7abecf1-d629-46eb-acc9-f0fbc57c49b0"
      },
      "source": [
        "HSV_df_backup_postprep -> HSV_df\n",
        "\n",
        "HSV_df %<>% select(URXUAS3, ALQ101) %>% filter(URXUAS3 != 'NA') %>% filter(ALQ101 != 'NA')\n",
        "\n",
        "# kruskal wallis test\n",
        "kruskal.test(URXUAS3~ ALQ101 , data = HSV_df) \n",
        "\n",
        "cat(\"\\n\\n\")\n",
        "\n",
        "cat(\"\\n Numerical Summaries \\n\")\n",
        "# numerical summary\n",
        "HSV_df %$% num_summary(URXUAS3, ALQ101) \n",
        "\n",
        "cat(\"\\n\\n\")\n",
        "\n",
        "cat(\"\\n Multiple Comparison \\n\")\n",
        "# multiple comparison\n",
        "dunn_test(URXUAS3~ ALQ101 , data = HSV_df, p.adjust.method = \"fdr\") %>%\n",
        "p_format(digits = 2, leading.zero = TRUE) ; HSV_df_backup_postprep -> HSV_df\n"
      ],
      "execution_count": null,
      "outputs": [
        {
          "output_type": "display_data",
          "data": {
            "text/plain": [
              "\n",
              "\tKruskal-Wallis rank sum test\n",
              "\n",
              "data:  URXUAS3 by ALQ101\n",
              "Kruskal-Wallis chi-squared = 6.564, df = 1, p-value = 0.01041\n"
            ]
          },
          "metadata": {}
        },
        {
          "output_type": "stream",
          "name": "stdout",
          "text": [
            "\n",
            "\n",
            "\n",
            " Numerical Summaries \n"
          ]
        },
        {
          "output_type": "display_data",
          "data": {
            "text/plain": [
              "  variable Count Mean      Min  Q1   Q2   Q3   Max  Sd       \n",
              "1 Yes      2726  0.4918745 0.08 0.08 0.42 0.73 8.77 0.4846759\n",
              "2 No        903  0.4648173 0.08 0.08 0.34 0.68 5.97 0.4952980"
            ],
            "text/latex": "A tibble: 2 × 9\n\\begin{tabular}{lllllllll}\n variable & Count & Mean & Min & Q1 & Q2 & Q3 & Max & Sd\\\\\n <fct> & <int> & <dbl> & <dbl> & <dbl> & <dbl> & <dbl> & <dbl> & <dbl>\\\\\n\\hline\n\t Yes & 2726 & 0.4918745 & 0.08 & 0.08 & 0.42 & 0.73 & 8.77 & 0.4846759\\\\\n\t No  &  903 & 0.4648173 & 0.08 & 0.08 & 0.34 & 0.68 & 5.97 & 0.4952980\\\\\n\\end{tabular}\n",
            "text/markdown": "\nA tibble: 2 × 9\n\n| variable &lt;fct&gt; | Count &lt;int&gt; | Mean &lt;dbl&gt; | Min &lt;dbl&gt; | Q1 &lt;dbl&gt; | Q2 &lt;dbl&gt; | Q3 &lt;dbl&gt; | Max &lt;dbl&gt; | Sd &lt;dbl&gt; |\n|---|---|---|---|---|---|---|---|---|\n| Yes | 2726 | 0.4918745 | 0.08 | 0.08 | 0.42 | 0.73 | 8.77 | 0.4846759 |\n| No  |  903 | 0.4648173 | 0.08 | 0.08 | 0.34 | 0.68 | 5.97 | 0.4952980 |\n\n",
            "text/html": [
              "<table class=\"dataframe\">\n",
              "<caption>A tibble: 2 × 9</caption>\n",
              "<thead>\n",
              "\t<tr><th scope=col>variable</th><th scope=col>Count</th><th scope=col>Mean</th><th scope=col>Min</th><th scope=col>Q1</th><th scope=col>Q2</th><th scope=col>Q3</th><th scope=col>Max</th><th scope=col>Sd</th></tr>\n",
              "\t<tr><th scope=col>&lt;fct&gt;</th><th scope=col>&lt;int&gt;</th><th scope=col>&lt;dbl&gt;</th><th scope=col>&lt;dbl&gt;</th><th scope=col>&lt;dbl&gt;</th><th scope=col>&lt;dbl&gt;</th><th scope=col>&lt;dbl&gt;</th><th scope=col>&lt;dbl&gt;</th><th scope=col>&lt;dbl&gt;</th></tr>\n",
              "</thead>\n",
              "<tbody>\n",
              "\t<tr><td>Yes</td><td>2726</td><td>0.4918745</td><td>0.08</td><td>0.08</td><td>0.42</td><td>0.73</td><td>8.77</td><td>0.4846759</td></tr>\n",
              "\t<tr><td>No </td><td> 903</td><td>0.4648173</td><td>0.08</td><td>0.08</td><td>0.34</td><td>0.68</td><td>5.97</td><td>0.4952980</td></tr>\n",
              "</tbody>\n",
              "</table>\n"
            ]
          },
          "metadata": {}
        },
        {
          "output_type": "stream",
          "name": "stdout",
          "text": [
            "\n",
            "\n",
            "\n",
            " Multiple Comparison \n"
          ]
        },
        {
          "output_type": "display_data",
          "data": {
            "text/plain": [
              "  .y.     group1 group2 n1   n2  statistic p    p.adj p.adj.signif\n",
              "1 URXUAS3 Yes    No     2726 903 -2.562025 0.01 0.01  *           "
            ],
            "text/latex": "A rstatix\\_test: 1 × 9\n\\begin{tabular}{r|lllllllll}\n  & .y. & group1 & group2 & n1 & n2 & statistic & p & p.adj & p.adj.signif\\\\\n  & <chr> & <chr> & <chr> & <int> & <int> & <dbl> & <chr> & <chr> & <chr>\\\\\n\\hline\n\t1 & URXUAS3 & Yes & No & 2726 & 903 & -2.562025 & 0.01 & 0.01 & *\\\\\n\\end{tabular}\n",
            "text/markdown": "\nA rstatix_test: 1 × 9\n\n| <!--/--> | .y. &lt;chr&gt; | group1 &lt;chr&gt; | group2 &lt;chr&gt; | n1 &lt;int&gt; | n2 &lt;int&gt; | statistic &lt;dbl&gt; | p &lt;chr&gt; | p.adj &lt;chr&gt; | p.adj.signif &lt;chr&gt; |\n|---|---|---|---|---|---|---|---|---|---|\n| 1 | URXUAS3 | Yes | No | 2726 | 903 | -2.562025 | 0.01 | 0.01 | * |\n\n",
            "text/html": [
              "<table class=\"dataframe\">\n",
              "<caption>A rstatix_test: 1 × 9</caption>\n",
              "<thead>\n",
              "\t<tr><th></th><th scope=col>.y.</th><th scope=col>group1</th><th scope=col>group2</th><th scope=col>n1</th><th scope=col>n2</th><th scope=col>statistic</th><th scope=col>p</th><th scope=col>p.adj</th><th scope=col>p.adj.signif</th></tr>\n",
              "\t<tr><th></th><th scope=col>&lt;chr&gt;</th><th scope=col>&lt;chr&gt;</th><th scope=col>&lt;chr&gt;</th><th scope=col>&lt;int&gt;</th><th scope=col>&lt;int&gt;</th><th scope=col>&lt;dbl&gt;</th><th scope=col>&lt;chr&gt;</th><th scope=col>&lt;chr&gt;</th><th scope=col>&lt;chr&gt;</th></tr>\n",
              "</thead>\n",
              "<tbody>\n",
              "\t<tr><th scope=row>1</th><td>URXUAS3</td><td>Yes</td><td>No</td><td>2726</td><td>903</td><td>-2.562025</td><td>0.01</td><td>0.01</td><td>*</td></tr>\n",
              "</tbody>\n",
              "</table>\n"
            ]
          },
          "metadata": {}
        }
      ]
    },
    {
      "cell_type": "markdown",
      "metadata": {
        "id": "CnHbx3HAUl7A"
      },
      "source": [
        "**Cotinine**"
      ]
    },
    {
      "cell_type": "code",
      "metadata": {
        "id": "fippqzqj40ew",
        "colab": {
          "base_uri": "https://localhost:8080/",
          "height": 499
        },
        "outputId": "0e84c1a5-6ce5-46be-94a4-4e01e02ee04b"
      },
      "source": [
        "HSV_df_backup_postprep -> HSV_df\n",
        "\n",
        "HSV_df %<>% select(URXUAS3, LBDCOTLC) %>% filter(URXUAS3 != 'NA') %>% filter(LBDCOTLC != 'NA')\n",
        "\n",
        "# kruskal wallis test\n",
        "kruskal.test(URXUAS3~ LBDCOTLC , data = HSV_df) \n",
        "\n",
        "cat(\"\\n\\n\")\n",
        "\n",
        "cat(\"\\n Numerical Summaries \\n\")\n",
        "# numerical summary\n",
        "HSV_df %$% num_summary(URXUAS3, LBDCOTLC) \n",
        "\n",
        "cat(\"\\n\\n\")\n",
        "\n",
        "cat(\"\\n Multiple Comparison \\n\")\n",
        "# multiple comparison\n",
        "dunn_test(URXUAS3~ LBDCOTLC , data = HSV_df, p.adjust.method = \"fdr\") %>%\n",
        "p_format(digits = 2, leading.zero = TRUE) ; HSV_df_backup_postprep -> HSV_df\n"
      ],
      "execution_count": null,
      "outputs": [
        {
          "output_type": "display_data",
          "data": {
            "text/plain": [
              "\n",
              "\tKruskal-Wallis rank sum test\n",
              "\n",
              "data:  URXUAS3 by LBDCOTLC\n",
              "Kruskal-Wallis chi-squared = 9.2829, df = 1, p-value = 0.002313\n"
            ]
          },
          "metadata": {}
        },
        {
          "output_type": "stream",
          "name": "stdout",
          "text": [
            "\n",
            "\n",
            "\n",
            " Numerical Summaries \n"
          ]
        },
        {
          "output_type": "display_data",
          "data": {
            "text/plain": [
              "  variable    Count Mean      Min  Q1   Q2    Q3   Max  Sd       \n",
              "1 Above limit 2884  0.4994244 0.08 0.08 0.420 0.73 8.77 0.5086130\n",
              "2 Below Limit  824  0.4391019 0.08 0.08 0.335 0.66 3.40 0.4217097"
            ],
            "text/latex": "A tibble: 2 × 9\n\\begin{tabular}{lllllllll}\n variable & Count & Mean & Min & Q1 & Q2 & Q3 & Max & Sd\\\\\n <fct> & <int> & <dbl> & <dbl> & <dbl> & <dbl> & <dbl> & <dbl> & <dbl>\\\\\n\\hline\n\t Above limit & 2884 & 0.4994244 & 0.08 & 0.08 & 0.420 & 0.73 & 8.77 & 0.5086130\\\\\n\t Below Limit &  824 & 0.4391019 & 0.08 & 0.08 & 0.335 & 0.66 & 3.40 & 0.4217097\\\\\n\\end{tabular}\n",
            "text/markdown": "\nA tibble: 2 × 9\n\n| variable &lt;fct&gt; | Count &lt;int&gt; | Mean &lt;dbl&gt; | Min &lt;dbl&gt; | Q1 &lt;dbl&gt; | Q2 &lt;dbl&gt; | Q3 &lt;dbl&gt; | Max &lt;dbl&gt; | Sd &lt;dbl&gt; |\n|---|---|---|---|---|---|---|---|---|\n| Above limit | 2884 | 0.4994244 | 0.08 | 0.08 | 0.420 | 0.73 | 8.77 | 0.5086130 |\n| Below Limit |  824 | 0.4391019 | 0.08 | 0.08 | 0.335 | 0.66 | 3.40 | 0.4217097 |\n\n",
            "text/html": [
              "<table class=\"dataframe\">\n",
              "<caption>A tibble: 2 × 9</caption>\n",
              "<thead>\n",
              "\t<tr><th scope=col>variable</th><th scope=col>Count</th><th scope=col>Mean</th><th scope=col>Min</th><th scope=col>Q1</th><th scope=col>Q2</th><th scope=col>Q3</th><th scope=col>Max</th><th scope=col>Sd</th></tr>\n",
              "\t<tr><th scope=col>&lt;fct&gt;</th><th scope=col>&lt;int&gt;</th><th scope=col>&lt;dbl&gt;</th><th scope=col>&lt;dbl&gt;</th><th scope=col>&lt;dbl&gt;</th><th scope=col>&lt;dbl&gt;</th><th scope=col>&lt;dbl&gt;</th><th scope=col>&lt;dbl&gt;</th><th scope=col>&lt;dbl&gt;</th></tr>\n",
              "</thead>\n",
              "<tbody>\n",
              "\t<tr><td>Above limit</td><td>2884</td><td>0.4994244</td><td>0.08</td><td>0.08</td><td>0.420</td><td>0.73</td><td>8.77</td><td>0.5086130</td></tr>\n",
              "\t<tr><td>Below Limit</td><td> 824</td><td>0.4391019</td><td>0.08</td><td>0.08</td><td>0.335</td><td>0.66</td><td>3.40</td><td>0.4217097</td></tr>\n",
              "</tbody>\n",
              "</table>\n"
            ]
          },
          "metadata": {}
        },
        {
          "output_type": "stream",
          "name": "stdout",
          "text": [
            "\n",
            "\n",
            "\n",
            " Multiple Comparison \n"
          ]
        },
        {
          "output_type": "display_data",
          "data": {
            "text/plain": [
              "  .y.     group1      group2      n1   n2  statistic p      p.adj  p.adj.signif\n",
              "1 URXUAS3 Above limit Below Limit 2884 824 -3.04679  0.0023 0.0023 **          "
            ],
            "text/latex": "A rstatix\\_test: 1 × 9\n\\begin{tabular}{r|lllllllll}\n  & .y. & group1 & group2 & n1 & n2 & statistic & p & p.adj & p.adj.signif\\\\\n  & <chr> & <chr> & <chr> & <int> & <int> & <dbl> & <chr> & <chr> & <chr>\\\\\n\\hline\n\t1 & URXUAS3 & Above limit & Below Limit & 2884 & 824 & -3.04679 & 0.0023 & 0.0023 & **\\\\\n\\end{tabular}\n",
            "text/markdown": "\nA rstatix_test: 1 × 9\n\n| <!--/--> | .y. &lt;chr&gt; | group1 &lt;chr&gt; | group2 &lt;chr&gt; | n1 &lt;int&gt; | n2 &lt;int&gt; | statistic &lt;dbl&gt; | p &lt;chr&gt; | p.adj &lt;chr&gt; | p.adj.signif &lt;chr&gt; |\n|---|---|---|---|---|---|---|---|---|---|\n| 1 | URXUAS3 | Above limit | Below Limit | 2884 | 824 | -3.04679 | 0.0023 | 0.0023 | ** |\n\n",
            "text/html": [
              "<table class=\"dataframe\">\n",
              "<caption>A rstatix_test: 1 × 9</caption>\n",
              "<thead>\n",
              "\t<tr><th></th><th scope=col>.y.</th><th scope=col>group1</th><th scope=col>group2</th><th scope=col>n1</th><th scope=col>n2</th><th scope=col>statistic</th><th scope=col>p</th><th scope=col>p.adj</th><th scope=col>p.adj.signif</th></tr>\n",
              "\t<tr><th></th><th scope=col>&lt;chr&gt;</th><th scope=col>&lt;chr&gt;</th><th scope=col>&lt;chr&gt;</th><th scope=col>&lt;int&gt;</th><th scope=col>&lt;int&gt;</th><th scope=col>&lt;dbl&gt;</th><th scope=col>&lt;chr&gt;</th><th scope=col>&lt;chr&gt;</th><th scope=col>&lt;chr&gt;</th></tr>\n",
              "</thead>\n",
              "<tbody>\n",
              "\t<tr><th scope=row>1</th><td>URXUAS3</td><td>Above limit</td><td>Below Limit</td><td>2884</td><td>824</td><td>-3.04679</td><td>0.0023</td><td>0.0023</td><td>**</td></tr>\n",
              "</tbody>\n",
              "</table>\n"
            ]
          },
          "metadata": {}
        }
      ]
    },
    {
      "cell_type": "markdown",
      "metadata": {
        "id": "eSBt5qZeoNBZ"
      },
      "source": [
        "### **Arsenic 2(URXUAS5 Urinary Arsenic acid (ug/L))**"
      ]
    },
    {
      "cell_type": "markdown",
      "metadata": {
        "id": "5U6NaYwaZCy_"
      },
      "source": [
        "At alpha level of 0.05, for Urinary Arsenic acid (ug/L), there is statistical significance for **education**.\n",
        "\n",
        "There is no statistical significance for  marital status, ethnicity, alcohol and cotinine and poverty index ratio."
      ]
    },
    {
      "cell_type": "markdown",
      "metadata": {
        "id": "OFZ80PaYVBml"
      },
      "source": [
        "**BMI**"
      ]
    },
    {
      "cell_type": "code",
      "metadata": {
        "id": "iBAC-8aZolXf",
        "colab": {
          "base_uri": "https://localhost:8080/",
          "height": 104
        },
        "outputId": "7529c793-5359-42b2-f62a-f92eb0a7ced8"
      },
      "source": [
        "# BMI Categorical\n",
        "kruskal.test(URXUAS5~ BMI.f , data = HSV_df) "
      ],
      "execution_count": null,
      "outputs": [
        {
          "output_type": "display_data",
          "data": {
            "text/plain": [
              "\n",
              "\tKruskal-Wallis rank sum test\n",
              "\n",
              "data:  URXUAS5 by BMI.f\n",
              "Kruskal-Wallis chi-squared = 2.1048, df = 3, p-value = 0.5509\n"
            ]
          },
          "metadata": {}
        }
      ]
    },
    {
      "cell_type": "markdown",
      "metadata": {
        "id": "x8b-ShBWVD3x"
      },
      "source": [
        "**Education**"
      ]
    },
    {
      "cell_type": "code",
      "metadata": {
        "id": "mxqG2Kw141s7",
        "colab": {
          "base_uri": "https://localhost:8080/",
          "height": 875
        },
        "outputId": "e0357467-e30a-406b-ae2c-57387ca2a59a"
      },
      "source": [
        "HSV_df_backup_postprep -> HSV_df\n",
        "\n",
        "HSV_df %<>% select(URXUAS5, DMDEDUC2) %>% filter(URXUAS5 != 'NA') %>% filter(DMDEDUC2 != 'NA')\n",
        "\n",
        "# kruskal wallis test\n",
        "kruskal.test(URXUAS5~ DMDEDUC2 , data = HSV_df) \n",
        "\n",
        "cat(\"\\n\\n\")\n",
        "\n",
        "cat(\"\\n Numerical Summaries \\n\")\n",
        "# numerical summary\n",
        "HSV_df %$% num_summary(URXUAS5, DMDEDUC2) \n",
        "\n",
        "cat(\"\\n\\n\")\n",
        "\n",
        "cat(\"\\n Multiple Comparison \\n\")\n",
        "# multiple comparison\n",
        "dunn_test(URXUAS5~ DMDEDUC2 , data = HSV_df, p.adjust.method = \"fdr\") %>%\n",
        "p_format(digits = 2, leading.zero = TRUE) ; HSV_df_backup_postprep -> HSV_df"
      ],
      "execution_count": null,
      "outputs": [
        {
          "output_type": "display_data",
          "data": {
            "text/plain": [
              "\n",
              "\tKruskal-Wallis rank sum test\n",
              "\n",
              "data:  URXUAS5 by DMDEDUC2\n",
              "Kruskal-Wallis chi-squared = 17.596, df = 4, p-value = 0.00148\n"
            ]
          },
          "metadata": {}
        },
        {
          "output_type": "stream",
          "name": "stdout",
          "text": [
            "\n",
            "\n",
            "\n",
            " Numerical Summaries \n"
          ]
        },
        {
          "output_type": "display_data",
          "data": {
            "text/plain": [
              "  variable           Count Mean      Min  Q1   Q2   Q3   Max  Sd       \n",
              "1 Below 9th Grade     313  0.5712141 0.56 0.56 0.56 0.56 1.96 0.1007431\n",
              "2 9-11 Grade          527  0.5949336 0.56 0.56 0.56 0.56 7.64 0.3542855\n",
              "3 HS or GED           867  0.5825836 0.56 0.56 0.56 0.56 2.25 0.1276136\n",
              "4 Some College or AA 1165  0.5715536 0.56 0.56 0.56 0.56 3.36 0.1144000\n",
              "5 Graduate            817  0.5844308 0.56 0.56 0.56 0.56 8.02 0.3171970"
            ],
            "text/latex": "A tibble: 5 × 9\n\\begin{tabular}{lllllllll}\n variable & Count & Mean & Min & Q1 & Q2 & Q3 & Max & Sd\\\\\n <fct> & <int> & <dbl> & <dbl> & <dbl> & <dbl> & <dbl> & <dbl> & <dbl>\\\\\n\\hline\n\t Below 9th Grade    &  313 & 0.5712141 & 0.56 & 0.56 & 0.56 & 0.56 & 1.96 & 0.1007431\\\\\n\t 9-11 Grade         &  527 & 0.5949336 & 0.56 & 0.56 & 0.56 & 0.56 & 7.64 & 0.3542855\\\\\n\t HS or GED          &  867 & 0.5825836 & 0.56 & 0.56 & 0.56 & 0.56 & 2.25 & 0.1276136\\\\\n\t Some College or AA & 1165 & 0.5715536 & 0.56 & 0.56 & 0.56 & 0.56 & 3.36 & 0.1144000\\\\\n\t Graduate           &  817 & 0.5844308 & 0.56 & 0.56 & 0.56 & 0.56 & 8.02 & 0.3171970\\\\\n\\end{tabular}\n",
            "text/markdown": "\nA tibble: 5 × 9\n\n| variable &lt;fct&gt; | Count &lt;int&gt; | Mean &lt;dbl&gt; | Min &lt;dbl&gt; | Q1 &lt;dbl&gt; | Q2 &lt;dbl&gt; | Q3 &lt;dbl&gt; | Max &lt;dbl&gt; | Sd &lt;dbl&gt; |\n|---|---|---|---|---|---|---|---|---|\n| Below 9th Grade    |  313 | 0.5712141 | 0.56 | 0.56 | 0.56 | 0.56 | 1.96 | 0.1007431 |\n| 9-11 Grade         |  527 | 0.5949336 | 0.56 | 0.56 | 0.56 | 0.56 | 7.64 | 0.3542855 |\n| HS or GED          |  867 | 0.5825836 | 0.56 | 0.56 | 0.56 | 0.56 | 2.25 | 0.1276136 |\n| Some College or AA | 1165 | 0.5715536 | 0.56 | 0.56 | 0.56 | 0.56 | 3.36 | 0.1144000 |\n| Graduate           |  817 | 0.5844308 | 0.56 | 0.56 | 0.56 | 0.56 | 8.02 | 0.3171970 |\n\n",
            "text/html": [
              "<table class=\"dataframe\">\n",
              "<caption>A tibble: 5 × 9</caption>\n",
              "<thead>\n",
              "\t<tr><th scope=col>variable</th><th scope=col>Count</th><th scope=col>Mean</th><th scope=col>Min</th><th scope=col>Q1</th><th scope=col>Q2</th><th scope=col>Q3</th><th scope=col>Max</th><th scope=col>Sd</th></tr>\n",
              "\t<tr><th scope=col>&lt;fct&gt;</th><th scope=col>&lt;int&gt;</th><th scope=col>&lt;dbl&gt;</th><th scope=col>&lt;dbl&gt;</th><th scope=col>&lt;dbl&gt;</th><th scope=col>&lt;dbl&gt;</th><th scope=col>&lt;dbl&gt;</th><th scope=col>&lt;dbl&gt;</th><th scope=col>&lt;dbl&gt;</th></tr>\n",
              "</thead>\n",
              "<tbody>\n",
              "\t<tr><td>Below 9th Grade   </td><td> 313</td><td>0.5712141</td><td>0.56</td><td>0.56</td><td>0.56</td><td>0.56</td><td>1.96</td><td>0.1007431</td></tr>\n",
              "\t<tr><td>9-11 Grade        </td><td> 527</td><td>0.5949336</td><td>0.56</td><td>0.56</td><td>0.56</td><td>0.56</td><td>7.64</td><td>0.3542855</td></tr>\n",
              "\t<tr><td>HS or GED         </td><td> 867</td><td>0.5825836</td><td>0.56</td><td>0.56</td><td>0.56</td><td>0.56</td><td>2.25</td><td>0.1276136</td></tr>\n",
              "\t<tr><td>Some College or AA</td><td>1165</td><td>0.5715536</td><td>0.56</td><td>0.56</td><td>0.56</td><td>0.56</td><td>3.36</td><td>0.1144000</td></tr>\n",
              "\t<tr><td>Graduate          </td><td> 817</td><td>0.5844308</td><td>0.56</td><td>0.56</td><td>0.56</td><td>0.56</td><td>8.02</td><td>0.3171970</td></tr>\n",
              "</tbody>\n",
              "</table>\n"
            ]
          },
          "metadata": {}
        },
        {
          "output_type": "stream",
          "name": "stdout",
          "text": [
            "\n",
            "\n",
            "\n",
            " Multiple Comparison \n"
          ]
        },
        {
          "output_type": "display_data",
          "data": {
            "text/plain": [
              "   .y.     group1             group2             n1   n2   statistic   p      \n",
              "1  URXUAS5 Below 9th Grade    9-11 Grade          313  527  1.46114633 0.14398\n",
              "2  URXUAS5 Below 9th Grade    HS or GED           313  867  2.48134529 0.01309\n",
              "3  URXUAS5 Below 9th Grade    Some College or AA  313 1165  0.11521665 0.90827\n",
              "4  URXUAS5 Below 9th Grade    Graduate            313  817 -0.00395551 0.99684\n",
              "5  URXUAS5 9-11 Grade         HS or GED           527  867  1.07457857 0.28256\n",
              "6  URXUAS5 9-11 Grade         Some College or AA  527 1165 -1.84647590 0.06482\n",
              "7  URXUAS5 9-11 Grade         Graduate            527  817 -1.87096811 0.06135\n",
              "8  URXUAS5 HS or GED          Some College or AA  867 1165 -3.48447797 0.00049\n",
              "9  URXUAS5 HS or GED          Graduate            867  817 -3.36119236 0.00078\n",
              "10 URXUAS5 Some College or AA Graduate           1165  817 -0.16650785 0.86776\n",
              "   p.adj  p.adj.signif\n",
              "1  0.24   ns          \n",
              "2  0.0436 *           \n",
              "3  0.9968 ns          \n",
              "4  0.9968 ns          \n",
              "5  0.4037 ns          \n",
              "6  0.1296 ns          \n",
              "7  0.1296 ns          \n",
              "8  0.0039 **          \n",
              "9  0.0039 **          \n",
              "10 0.9968 ns          "
            ],
            "text/latex": "A rstatix\\_test: 10 × 9\n\\begin{tabular}{r|lllllllll}\n  & .y. & group1 & group2 & n1 & n2 & statistic & p & p.adj & p.adj.signif\\\\\n  & <chr> & <chr> & <chr> & <int> & <int> & <dbl> & <chr> & <chr> & <chr>\\\\\n\\hline\n\t1 & URXUAS5 & Below 9th Grade    & 9-11 Grade         &  313 &  527 &  1.46114633 & 0.14398 & 0.24   & ns\\\\\n\t2 & URXUAS5 & Below 9th Grade    & HS or GED          &  313 &  867 &  2.48134529 & 0.01309 & 0.0436 & * \\\\\n\t3 & URXUAS5 & Below 9th Grade    & Some College or AA &  313 & 1165 &  0.11521665 & 0.90827 & 0.9968 & ns\\\\\n\t4 & URXUAS5 & Below 9th Grade    & Graduate           &  313 &  817 & -0.00395551 & 0.99684 & 0.9968 & ns\\\\\n\t5 & URXUAS5 & 9-11 Grade         & HS or GED          &  527 &  867 &  1.07457857 & 0.28256 & 0.4037 & ns\\\\\n\t6 & URXUAS5 & 9-11 Grade         & Some College or AA &  527 & 1165 & -1.84647590 & 0.06482 & 0.1296 & ns\\\\\n\t7 & URXUAS5 & 9-11 Grade         & Graduate           &  527 &  817 & -1.87096811 & 0.06135 & 0.1296 & ns\\\\\n\t8 & URXUAS5 & HS or GED          & Some College or AA &  867 & 1165 & -3.48447797 & 0.00049 & 0.0039 & **\\\\\n\t9 & URXUAS5 & HS or GED          & Graduate           &  867 &  817 & -3.36119236 & 0.00078 & 0.0039 & **\\\\\n\t10 & URXUAS5 & Some College or AA & Graduate           & 1165 &  817 & -0.16650785 & 0.86776 & 0.9968 & ns\\\\\n\\end{tabular}\n",
            "text/markdown": "\nA rstatix_test: 10 × 9\n\n| <!--/--> | .y. &lt;chr&gt; | group1 &lt;chr&gt; | group2 &lt;chr&gt; | n1 &lt;int&gt; | n2 &lt;int&gt; | statistic &lt;dbl&gt; | p &lt;chr&gt; | p.adj &lt;chr&gt; | p.adj.signif &lt;chr&gt; |\n|---|---|---|---|---|---|---|---|---|---|\n| 1 | URXUAS5 | Below 9th Grade    | 9-11 Grade         |  313 |  527 |  1.46114633 | 0.14398 | 0.24   | ns |\n| 2 | URXUAS5 | Below 9th Grade    | HS or GED          |  313 |  867 |  2.48134529 | 0.01309 | 0.0436 | *  |\n| 3 | URXUAS5 | Below 9th Grade    | Some College or AA |  313 | 1165 |  0.11521665 | 0.90827 | 0.9968 | ns |\n| 4 | URXUAS5 | Below 9th Grade    | Graduate           |  313 |  817 | -0.00395551 | 0.99684 | 0.9968 | ns |\n| 5 | URXUAS5 | 9-11 Grade         | HS or GED          |  527 |  867 |  1.07457857 | 0.28256 | 0.4037 | ns |\n| 6 | URXUAS5 | 9-11 Grade         | Some College or AA |  527 | 1165 | -1.84647590 | 0.06482 | 0.1296 | ns |\n| 7 | URXUAS5 | 9-11 Grade         | Graduate           |  527 |  817 | -1.87096811 | 0.06135 | 0.1296 | ns |\n| 8 | URXUAS5 | HS or GED          | Some College or AA |  867 | 1165 | -3.48447797 | 0.00049 | 0.0039 | ** |\n| 9 | URXUAS5 | HS or GED          | Graduate           |  867 |  817 | -3.36119236 | 0.00078 | 0.0039 | ** |\n| 10 | URXUAS5 | Some College or AA | Graduate           | 1165 |  817 | -0.16650785 | 0.86776 | 0.9968 | ns |\n\n",
            "text/html": [
              "<table class=\"dataframe\">\n",
              "<caption>A rstatix_test: 10 × 9</caption>\n",
              "<thead>\n",
              "\t<tr><th></th><th scope=col>.y.</th><th scope=col>group1</th><th scope=col>group2</th><th scope=col>n1</th><th scope=col>n2</th><th scope=col>statistic</th><th scope=col>p</th><th scope=col>p.adj</th><th scope=col>p.adj.signif</th></tr>\n",
              "\t<tr><th></th><th scope=col>&lt;chr&gt;</th><th scope=col>&lt;chr&gt;</th><th scope=col>&lt;chr&gt;</th><th scope=col>&lt;int&gt;</th><th scope=col>&lt;int&gt;</th><th scope=col>&lt;dbl&gt;</th><th scope=col>&lt;chr&gt;</th><th scope=col>&lt;chr&gt;</th><th scope=col>&lt;chr&gt;</th></tr>\n",
              "</thead>\n",
              "<tbody>\n",
              "\t<tr><th scope=row>1</th><td>URXUAS5</td><td>Below 9th Grade   </td><td>9-11 Grade        </td><td> 313</td><td> 527</td><td> 1.46114633</td><td>0.14398</td><td>0.24  </td><td>ns</td></tr>\n",
              "\t<tr><th scope=row>2</th><td>URXUAS5</td><td>Below 9th Grade   </td><td>HS or GED         </td><td> 313</td><td> 867</td><td> 2.48134529</td><td>0.01309</td><td>0.0436</td><td>* </td></tr>\n",
              "\t<tr><th scope=row>3</th><td>URXUAS5</td><td>Below 9th Grade   </td><td>Some College or AA</td><td> 313</td><td>1165</td><td> 0.11521665</td><td>0.90827</td><td>0.9968</td><td>ns</td></tr>\n",
              "\t<tr><th scope=row>4</th><td>URXUAS5</td><td>Below 9th Grade   </td><td>Graduate          </td><td> 313</td><td> 817</td><td>-0.00395551</td><td>0.99684</td><td>0.9968</td><td>ns</td></tr>\n",
              "\t<tr><th scope=row>5</th><td>URXUAS5</td><td>9-11 Grade        </td><td>HS or GED         </td><td> 527</td><td> 867</td><td> 1.07457857</td><td>0.28256</td><td>0.4037</td><td>ns</td></tr>\n",
              "\t<tr><th scope=row>6</th><td>URXUAS5</td><td>9-11 Grade        </td><td>Some College or AA</td><td> 527</td><td>1165</td><td>-1.84647590</td><td>0.06482</td><td>0.1296</td><td>ns</td></tr>\n",
              "\t<tr><th scope=row>7</th><td>URXUAS5</td><td>9-11 Grade        </td><td>Graduate          </td><td> 527</td><td> 817</td><td>-1.87096811</td><td>0.06135</td><td>0.1296</td><td>ns</td></tr>\n",
              "\t<tr><th scope=row>8</th><td>URXUAS5</td><td>HS or GED         </td><td>Some College or AA</td><td> 867</td><td>1165</td><td>-3.48447797</td><td>0.00049</td><td>0.0039</td><td>**</td></tr>\n",
              "\t<tr><th scope=row>9</th><td>URXUAS5</td><td>HS or GED         </td><td>Graduate          </td><td> 867</td><td> 817</td><td>-3.36119236</td><td>0.00078</td><td>0.0039</td><td>**</td></tr>\n",
              "\t<tr><th scope=row>10</th><td>URXUAS5</td><td>Some College or AA</td><td>Graduate          </td><td>1165</td><td> 817</td><td>-0.16650785</td><td>0.86776</td><td>0.9968</td><td>ns</td></tr>\n",
              "</tbody>\n",
              "</table>\n"
            ]
          },
          "metadata": {}
        }
      ]
    },
    {
      "cell_type": "markdown",
      "metadata": {
        "id": "rhIcV3eyVGpt"
      },
      "source": [
        "**Marital Status**"
      ]
    },
    {
      "cell_type": "code",
      "metadata": {
        "id": "6EC0-ARh44vg",
        "colab": {
          "base_uri": "https://localhost:8080/",
          "height": 104
        },
        "outputId": "d76053bc-a7a7-4a7e-ccf7-50ed6d276f60"
      },
      "source": [
        "\n",
        "# Marital Status\n",
        "kruskal.test(URXUAS5~ DMDMARTL , data = HSV_df) "
      ],
      "execution_count": null,
      "outputs": [
        {
          "output_type": "display_data",
          "data": {
            "text/plain": [
              "\n",
              "\tKruskal-Wallis rank sum test\n",
              "\n",
              "data:  URXUAS5 by DMDMARTL\n",
              "Kruskal-Wallis chi-squared = 3.5169, df = 5, p-value = 0.6208\n"
            ]
          },
          "metadata": {}
        }
      ]
    },
    {
      "cell_type": "markdown",
      "metadata": {
        "id": "Ph82kPe2VMRa"
      },
      "source": [
        "**Race**"
      ]
    },
    {
      "cell_type": "code",
      "metadata": {
        "id": "irYB0ulC45cQ",
        "colab": {
          "base_uri": "https://localhost:8080/",
          "height": 104
        },
        "outputId": "0cbcb727-4230-4282-fc4b-de8a5f20e8dc"
      },
      "source": [
        "\n",
        "# Race\n",
        "kruskal.test(URXUAS5~ RIDRETH1 , data = HSV_df)"
      ],
      "execution_count": null,
      "outputs": [
        {
          "output_type": "display_data",
          "data": {
            "text/plain": [
              "\n",
              "\tKruskal-Wallis rank sum test\n",
              "\n",
              "data:  URXUAS5 by RIDRETH1\n",
              "Kruskal-Wallis chi-squared = 4.5494, df = 4, p-value = 0.3367\n"
            ]
          },
          "metadata": {}
        }
      ]
    },
    {
      "cell_type": "markdown",
      "metadata": {
        "id": "60eSxa9tVPSg"
      },
      "source": [
        "**Poverty Income Ratio**"
      ]
    },
    {
      "cell_type": "code",
      "metadata": {
        "id": "7l_g5RLI46O5",
        "colab": {
          "base_uri": "https://localhost:8080/",
          "height": 104
        },
        "outputId": "3c026523-2eb4-40d5-8d07-f4aa3c04cd41"
      },
      "source": [
        "\n",
        "# Poverty Income Ratio\n",
        "kruskal.test(URXUAS5~ PIR , data = HSV_df)"
      ],
      "execution_count": null,
      "outputs": [
        {
          "output_type": "display_data",
          "data": {
            "text/plain": [
              "\n",
              "\tKruskal-Wallis rank sum test\n",
              "\n",
              "data:  URXUAS5 by PIR\n",
              "Kruskal-Wallis chi-squared = 1.5274, df = 2, p-value = 0.4659\n"
            ]
          },
          "metadata": {}
        }
      ]
    },
    {
      "cell_type": "markdown",
      "metadata": {
        "id": "qoX_528nVSQO"
      },
      "source": [
        "**Alcohol**"
      ]
    },
    {
      "cell_type": "code",
      "metadata": {
        "id": "3pf5cbnx460D",
        "colab": {
          "base_uri": "https://localhost:8080/",
          "height": 104
        },
        "outputId": "43f20251-7f8a-42e7-9e82-23e3508247d8"
      },
      "source": [
        "\n",
        "# Alcohol\n",
        "kruskal.test(URXUAS5~ ALQ101 , data = HSV_df)"
      ],
      "execution_count": null,
      "outputs": [
        {
          "output_type": "display_data",
          "data": {
            "text/plain": [
              "\n",
              "\tKruskal-Wallis rank sum test\n",
              "\n",
              "data:  URXUAS5 by ALQ101\n",
              "Kruskal-Wallis chi-squared = 0.17486, df = 1, p-value = 0.6758\n"
            ]
          },
          "metadata": {}
        }
      ]
    },
    {
      "cell_type": "markdown",
      "metadata": {
        "id": "A8dePdksVU86"
      },
      "source": [
        "**Cotinine**"
      ]
    },
    {
      "cell_type": "code",
      "metadata": {
        "id": "vRGvtvai47YY",
        "colab": {
          "base_uri": "https://localhost:8080/",
          "height": 104
        },
        "outputId": "a83163d0-9c4a-4940-fbce-b432ccfa344f"
      },
      "source": [
        "\n",
        "# Cotinine\n",
        "kruskal.test(URXUAS5~ LBDCOTLC , data = HSV_df)"
      ],
      "execution_count": null,
      "outputs": [
        {
          "output_type": "display_data",
          "data": {
            "text/plain": [
              "\n",
              "\tKruskal-Wallis rank sum test\n",
              "\n",
              "data:  URXUAS5 by LBDCOTLC\n",
              "Kruskal-Wallis chi-squared = 0.26072, df = 1, p-value = 0.6096\n"
            ]
          },
          "metadata": {}
        }
      ]
    },
    {
      "cell_type": "markdown",
      "metadata": {
        "id": "aBv8xgVjoQXA"
      },
      "source": [
        "###  **Arsenic 3 (URXUAB: Urinary Arsenobetaine (ug/L))**\n",
        "\n",
        "At alpha level of 0.05, for Urinary Arsenobetaine (ug/L), there is statistical significance for **education, marital status, race, poverty index ratio, alcohol.**\n",
        "\n",
        "There is no statistical significance for BMI and cotinine."
      ]
    },
    {
      "cell_type": "markdown",
      "metadata": {
        "id": "Ab0_mFhAVaQp"
      },
      "source": [
        "**BMI**"
      ]
    },
    {
      "cell_type": "code",
      "metadata": {
        "id": "R7w0c4dIomj_",
        "colab": {
          "base_uri": "https://localhost:8080/",
          "height": 104
        },
        "outputId": "d0af88f3-9398-4fd3-d29e-5d60b8897f3a"
      },
      "source": [
        "# BMI Categorical\n",
        "kruskal.test(URXUAB~ BMI.f , data = HSV_df) "
      ],
      "execution_count": null,
      "outputs": [
        {
          "output_type": "display_data",
          "data": {
            "text/plain": [
              "\n",
              "\tKruskal-Wallis rank sum test\n",
              "\n",
              "data:  URXUAB by BMI.f\n",
              "Kruskal-Wallis chi-squared = 1.7815, df = 3, p-value = 0.619\n"
            ]
          },
          "metadata": {}
        }
      ]
    },
    {
      "cell_type": "markdown",
      "metadata": {
        "id": "JPqCqrJnVfX9"
      },
      "source": [
        "**Education**"
      ]
    },
    {
      "cell_type": "code",
      "metadata": {
        "id": "ds7t-g1J49qk",
        "colab": {
          "base_uri": "https://localhost:8080/",
          "height": 875
        },
        "outputId": "0886a983-c9e5-4fa3-8b7a-c57ee6e418b0"
      },
      "source": [
        "HSV_df_backup_postprep -> HSV_df\n",
        "\n",
        "HSV_df %<>% select(URXUAB, DMDEDUC2) %>% filter(URXUAB != 'NA') %>% filter(DMDEDUC2 != 'NA')\n",
        "\n",
        "# kruskal wallis test\n",
        "kruskal.test(URXUAB~ DMDEDUC2 , data = HSV_df) \n",
        "\n",
        "cat(\"\\n\\n\")\n",
        "\n",
        "cat(\"\\n Numerical Summaries \\n\")\n",
        "# numerical summary\n",
        "HSV_df %$% num_summary(URXUAB, DMDEDUC2) \n",
        "\n",
        "cat(\"\\n\\n\")\n",
        "\n",
        "cat(\"\\n Multiple Comparison \\n\")\n",
        "# multiple comparison\n",
        "dunn_test(URXUAB~ DMDEDUC2 , data = HSV_df, p.adjust.method = \"fdr\") %>%\n",
        "p_format(digits = 2, leading.zero = TRUE) ; HSV_df_backup_postprep -> HSV_df\n",
        "\n"
      ],
      "execution_count": null,
      "outputs": [
        {
          "output_type": "display_data",
          "data": {
            "text/plain": [
              "\n",
              "\tKruskal-Wallis rank sum test\n",
              "\n",
              "data:  URXUAB by DMDEDUC2\n",
              "Kruskal-Wallis chi-squared = 17.152, df = 4, p-value = 0.001806\n"
            ]
          },
          "metadata": {}
        },
        {
          "output_type": "stream",
          "name": "stdout",
          "text": [
            "\n",
            "\n",
            "\n",
            " Numerical Summaries \n"
          ]
        },
        {
          "output_type": "display_data",
          "data": {
            "text/plain": [
              "  variable           Count Mean     Min  Q1   Q2   Q3   Max    Sd      \n",
              "1 Below 9th Grade     313  8.764856 0.82 0.82 0.82 3.57 475.00 34.26104\n",
              "2 9-11 Grade          527  5.904516 0.82 0.82 0.82 3.33 212.17 18.73652\n",
              "3 HS or GED           867  9.255975 0.82 0.82 0.82 4.40 662.24 36.35916\n",
              "4 Some College or AA 1165  7.621631 0.82 0.82 0.82 3.91 749.00 30.06186\n",
              "5 Graduate            817  8.649045 0.82 0.82 1.34 5.82 233.40 23.50781"
            ],
            "text/latex": "A tibble: 5 × 9\n\\begin{tabular}{lllllllll}\n variable & Count & Mean & Min & Q1 & Q2 & Q3 & Max & Sd\\\\\n <fct> & <int> & <dbl> & <dbl> & <dbl> & <dbl> & <dbl> & <dbl> & <dbl>\\\\\n\\hline\n\t Below 9th Grade    &  313 & 8.764856 & 0.82 & 0.82 & 0.82 & 3.57 & 475.00 & 34.26104\\\\\n\t 9-11 Grade         &  527 & 5.904516 & 0.82 & 0.82 & 0.82 & 3.33 & 212.17 & 18.73652\\\\\n\t HS or GED          &  867 & 9.255975 & 0.82 & 0.82 & 0.82 & 4.40 & 662.24 & 36.35916\\\\\n\t Some College or AA & 1165 & 7.621631 & 0.82 & 0.82 & 0.82 & 3.91 & 749.00 & 30.06186\\\\\n\t Graduate           &  817 & 8.649045 & 0.82 & 0.82 & 1.34 & 5.82 & 233.40 & 23.50781\\\\\n\\end{tabular}\n",
            "text/markdown": "\nA tibble: 5 × 9\n\n| variable &lt;fct&gt; | Count &lt;int&gt; | Mean &lt;dbl&gt; | Min &lt;dbl&gt; | Q1 &lt;dbl&gt; | Q2 &lt;dbl&gt; | Q3 &lt;dbl&gt; | Max &lt;dbl&gt; | Sd &lt;dbl&gt; |\n|---|---|---|---|---|---|---|---|---|\n| Below 9th Grade    |  313 | 8.764856 | 0.82 | 0.82 | 0.82 | 3.57 | 475.00 | 34.26104 |\n| 9-11 Grade         |  527 | 5.904516 | 0.82 | 0.82 | 0.82 | 3.33 | 212.17 | 18.73652 |\n| HS or GED          |  867 | 9.255975 | 0.82 | 0.82 | 0.82 | 4.40 | 662.24 | 36.35916 |\n| Some College or AA | 1165 | 7.621631 | 0.82 | 0.82 | 0.82 | 3.91 | 749.00 | 30.06186 |\n| Graduate           |  817 | 8.649045 | 0.82 | 0.82 | 1.34 | 5.82 | 233.40 | 23.50781 |\n\n",
            "text/html": [
              "<table class=\"dataframe\">\n",
              "<caption>A tibble: 5 × 9</caption>\n",
              "<thead>\n",
              "\t<tr><th scope=col>variable</th><th scope=col>Count</th><th scope=col>Mean</th><th scope=col>Min</th><th scope=col>Q1</th><th scope=col>Q2</th><th scope=col>Q3</th><th scope=col>Max</th><th scope=col>Sd</th></tr>\n",
              "\t<tr><th scope=col>&lt;fct&gt;</th><th scope=col>&lt;int&gt;</th><th scope=col>&lt;dbl&gt;</th><th scope=col>&lt;dbl&gt;</th><th scope=col>&lt;dbl&gt;</th><th scope=col>&lt;dbl&gt;</th><th scope=col>&lt;dbl&gt;</th><th scope=col>&lt;dbl&gt;</th><th scope=col>&lt;dbl&gt;</th></tr>\n",
              "</thead>\n",
              "<tbody>\n",
              "\t<tr><td>Below 9th Grade   </td><td> 313</td><td>8.764856</td><td>0.82</td><td>0.82</td><td>0.82</td><td>3.57</td><td>475.00</td><td>34.26104</td></tr>\n",
              "\t<tr><td>9-11 Grade        </td><td> 527</td><td>5.904516</td><td>0.82</td><td>0.82</td><td>0.82</td><td>3.33</td><td>212.17</td><td>18.73652</td></tr>\n",
              "\t<tr><td>HS or GED         </td><td> 867</td><td>9.255975</td><td>0.82</td><td>0.82</td><td>0.82</td><td>4.40</td><td>662.24</td><td>36.35916</td></tr>\n",
              "\t<tr><td>Some College or AA</td><td>1165</td><td>7.621631</td><td>0.82</td><td>0.82</td><td>0.82</td><td>3.91</td><td>749.00</td><td>30.06186</td></tr>\n",
              "\t<tr><td>Graduate          </td><td> 817</td><td>8.649045</td><td>0.82</td><td>0.82</td><td>1.34</td><td>5.82</td><td>233.40</td><td>23.50781</td></tr>\n",
              "</tbody>\n",
              "</table>\n"
            ]
          },
          "metadata": {}
        },
        {
          "output_type": "stream",
          "name": "stdout",
          "text": [
            "\n",
            "\n",
            "\n",
            " Multiple Comparison \n"
          ]
        },
        {
          "output_type": "display_data",
          "data": {
            "text/plain": [
              "   .y.    group1             group2             n1   n2   statistic   p      \n",
              "1  URXUAB Below 9th Grade    9-11 Grade          313  527  0.06521529 0.948  \n",
              "2  URXUAB Below 9th Grade    HS or GED           313  867  0.55403893 0.57955\n",
              "3  URXUAB Below 9th Grade    Some College or AA  313 1165  0.50450273 0.61391\n",
              "4  URXUAB Below 9th Grade    Graduate            313  817  2.80237419 0.00507\n",
              "5  URXUAB 9-11 Grade         HS or GED           527  867  0.57717383 0.56382\n",
              "6  URXUAB 9-11 Grade         Some College or AA  527 1165  0.52318392 0.60085\n",
              "7  URXUAB 9-11 Grade         Graduate            527  817  3.25095851 0.00115\n",
              "8  URXUAB HS or GED          Some College or AA  867 1165 -0.09843164 0.92159\n",
              "9  URXUAB HS or GED          Graduate            867  817  3.07131241 0.00213\n",
              "10 URXUAB Some College or AA Graduate           1165  817  3.37843194 0.00073\n",
              "   p.adj  p.adj.signif\n",
              "1  0.948  ns          \n",
              "2  0.7674 ns          \n",
              "3  0.7674 ns          \n",
              "4  0.0127 *           \n",
              "5  0.7674 ns          \n",
              "6  0.7674 ns          \n",
              "7  0.0058 **          \n",
              "8  0.948  ns          \n",
              "9  0.0071 **          \n",
              "10 0.0058 **          "
            ],
            "text/latex": "A rstatix\\_test: 10 × 9\n\\begin{tabular}{r|lllllllll}\n  & .y. & group1 & group2 & n1 & n2 & statistic & p & p.adj & p.adj.signif\\\\\n  & <chr> & <chr> & <chr> & <int> & <int> & <dbl> & <chr> & <chr> & <chr>\\\\\n\\hline\n\t1 & URXUAB & Below 9th Grade    & 9-11 Grade         &  313 &  527 &  0.06521529 & 0.948   & 0.948  & ns\\\\\n\t2 & URXUAB & Below 9th Grade    & HS or GED          &  313 &  867 &  0.55403893 & 0.57955 & 0.7674 & ns\\\\\n\t3 & URXUAB & Below 9th Grade    & Some College or AA &  313 & 1165 &  0.50450273 & 0.61391 & 0.7674 & ns\\\\\n\t4 & URXUAB & Below 9th Grade    & Graduate           &  313 &  817 &  2.80237419 & 0.00507 & 0.0127 & * \\\\\n\t5 & URXUAB & 9-11 Grade         & HS or GED          &  527 &  867 &  0.57717383 & 0.56382 & 0.7674 & ns\\\\\n\t6 & URXUAB & 9-11 Grade         & Some College or AA &  527 & 1165 &  0.52318392 & 0.60085 & 0.7674 & ns\\\\\n\t7 & URXUAB & 9-11 Grade         & Graduate           &  527 &  817 &  3.25095851 & 0.00115 & 0.0058 & **\\\\\n\t8 & URXUAB & HS or GED          & Some College or AA &  867 & 1165 & -0.09843164 & 0.92159 & 0.948  & ns\\\\\n\t9 & URXUAB & HS or GED          & Graduate           &  867 &  817 &  3.07131241 & 0.00213 & 0.0071 & **\\\\\n\t10 & URXUAB & Some College or AA & Graduate           & 1165 &  817 &  3.37843194 & 0.00073 & 0.0058 & **\\\\\n\\end{tabular}\n",
            "text/markdown": "\nA rstatix_test: 10 × 9\n\n| <!--/--> | .y. &lt;chr&gt; | group1 &lt;chr&gt; | group2 &lt;chr&gt; | n1 &lt;int&gt; | n2 &lt;int&gt; | statistic &lt;dbl&gt; | p &lt;chr&gt; | p.adj &lt;chr&gt; | p.adj.signif &lt;chr&gt; |\n|---|---|---|---|---|---|---|---|---|---|\n| 1 | URXUAB | Below 9th Grade    | 9-11 Grade         |  313 |  527 |  0.06521529 | 0.948   | 0.948  | ns |\n| 2 | URXUAB | Below 9th Grade    | HS or GED          |  313 |  867 |  0.55403893 | 0.57955 | 0.7674 | ns |\n| 3 | URXUAB | Below 9th Grade    | Some College or AA |  313 | 1165 |  0.50450273 | 0.61391 | 0.7674 | ns |\n| 4 | URXUAB | Below 9th Grade    | Graduate           |  313 |  817 |  2.80237419 | 0.00507 | 0.0127 | *  |\n| 5 | URXUAB | 9-11 Grade         | HS or GED          |  527 |  867 |  0.57717383 | 0.56382 | 0.7674 | ns |\n| 6 | URXUAB | 9-11 Grade         | Some College or AA |  527 | 1165 |  0.52318392 | 0.60085 | 0.7674 | ns |\n| 7 | URXUAB | 9-11 Grade         | Graduate           |  527 |  817 |  3.25095851 | 0.00115 | 0.0058 | ** |\n| 8 | URXUAB | HS or GED          | Some College or AA |  867 | 1165 | -0.09843164 | 0.92159 | 0.948  | ns |\n| 9 | URXUAB | HS or GED          | Graduate           |  867 |  817 |  3.07131241 | 0.00213 | 0.0071 | ** |\n| 10 | URXUAB | Some College or AA | Graduate           | 1165 |  817 |  3.37843194 | 0.00073 | 0.0058 | ** |\n\n",
            "text/html": [
              "<table class=\"dataframe\">\n",
              "<caption>A rstatix_test: 10 × 9</caption>\n",
              "<thead>\n",
              "\t<tr><th></th><th scope=col>.y.</th><th scope=col>group1</th><th scope=col>group2</th><th scope=col>n1</th><th scope=col>n2</th><th scope=col>statistic</th><th scope=col>p</th><th scope=col>p.adj</th><th scope=col>p.adj.signif</th></tr>\n",
              "\t<tr><th></th><th scope=col>&lt;chr&gt;</th><th scope=col>&lt;chr&gt;</th><th scope=col>&lt;chr&gt;</th><th scope=col>&lt;int&gt;</th><th scope=col>&lt;int&gt;</th><th scope=col>&lt;dbl&gt;</th><th scope=col>&lt;chr&gt;</th><th scope=col>&lt;chr&gt;</th><th scope=col>&lt;chr&gt;</th></tr>\n",
              "</thead>\n",
              "<tbody>\n",
              "\t<tr><th scope=row>1</th><td>URXUAB</td><td>Below 9th Grade   </td><td>9-11 Grade        </td><td> 313</td><td> 527</td><td> 0.06521529</td><td>0.948  </td><td>0.948 </td><td>ns</td></tr>\n",
              "\t<tr><th scope=row>2</th><td>URXUAB</td><td>Below 9th Grade   </td><td>HS or GED         </td><td> 313</td><td> 867</td><td> 0.55403893</td><td>0.57955</td><td>0.7674</td><td>ns</td></tr>\n",
              "\t<tr><th scope=row>3</th><td>URXUAB</td><td>Below 9th Grade   </td><td>Some College or AA</td><td> 313</td><td>1165</td><td> 0.50450273</td><td>0.61391</td><td>0.7674</td><td>ns</td></tr>\n",
              "\t<tr><th scope=row>4</th><td>URXUAB</td><td>Below 9th Grade   </td><td>Graduate          </td><td> 313</td><td> 817</td><td> 2.80237419</td><td>0.00507</td><td>0.0127</td><td>* </td></tr>\n",
              "\t<tr><th scope=row>5</th><td>URXUAB</td><td>9-11 Grade        </td><td>HS or GED         </td><td> 527</td><td> 867</td><td> 0.57717383</td><td>0.56382</td><td>0.7674</td><td>ns</td></tr>\n",
              "\t<tr><th scope=row>6</th><td>URXUAB</td><td>9-11 Grade        </td><td>Some College or AA</td><td> 527</td><td>1165</td><td> 0.52318392</td><td>0.60085</td><td>0.7674</td><td>ns</td></tr>\n",
              "\t<tr><th scope=row>7</th><td>URXUAB</td><td>9-11 Grade        </td><td>Graduate          </td><td> 527</td><td> 817</td><td> 3.25095851</td><td>0.00115</td><td>0.0058</td><td>**</td></tr>\n",
              "\t<tr><th scope=row>8</th><td>URXUAB</td><td>HS or GED         </td><td>Some College or AA</td><td> 867</td><td>1165</td><td>-0.09843164</td><td>0.92159</td><td>0.948 </td><td>ns</td></tr>\n",
              "\t<tr><th scope=row>9</th><td>URXUAB</td><td>HS or GED         </td><td>Graduate          </td><td> 867</td><td> 817</td><td> 3.07131241</td><td>0.00213</td><td>0.0071</td><td>**</td></tr>\n",
              "\t<tr><th scope=row>10</th><td>URXUAB</td><td>Some College or AA</td><td>Graduate          </td><td>1165</td><td> 817</td><td> 3.37843194</td><td>0.00073</td><td>0.0058</td><td>**</td></tr>\n",
              "</tbody>\n",
              "</table>\n"
            ]
          },
          "metadata": {}
        }
      ]
    },
    {
      "cell_type": "markdown",
      "metadata": {
        "id": "1RHeJK4FViUU"
      },
      "source": [
        "**Marital Status**"
      ]
    },
    {
      "cell_type": "code",
      "metadata": {
        "id": "fXt33r2N4-bP",
        "colab": {
          "base_uri": "https://localhost:8080/",
          "height": 1000
        },
        "outputId": "ab645dde-5885-4cf5-9e40-d8d99c0ca0a7"
      },
      "source": [
        "HSV_df_backup_postprep -> HSV_df\n",
        "\n",
        "HSV_df %<>% select(URXUAB, DMDMARTL) %>% filter(URXUAB != 'NA') %>% filter(DMDMARTL != 'NA')\n",
        "\n",
        "# kruskal wallis test\n",
        "kruskal.test(URXUAB~ DMDMARTL , data = HSV_df) \n",
        "\n",
        "cat(\"\\n\\n\")\n",
        "\n",
        "cat(\"\\n Numerical Summaries \\n\")\n",
        "# numerical summary\n",
        "HSV_df %$% num_summary(URXUAB, DMDMARTL) \n",
        "\n",
        "cat(\"\\n\\n\")\n",
        "\n",
        "cat(\"\\n Multiple Comparison \\n\")\n",
        "# multiple comparison\n",
        "dunn_test(URXUAB~ DMDMARTL , data = HSV_df, p.adjust.method = \"fdr\") %>%\n",
        "p_format(digits = 2, leading.zero = TRUE) ; HSV_df_backup_postprep -> HSV_df\n",
        "\n"
      ],
      "execution_count": null,
      "outputs": [
        {
          "output_type": "display_data",
          "data": {
            "text/plain": [
              "\n",
              "\tKruskal-Wallis rank sum test\n",
              "\n",
              "data:  URXUAB by DMDMARTL\n",
              "Kruskal-Wallis chi-squared = 13.639, df = 5, p-value = 0.01807\n"
            ]
          },
          "metadata": {}
        },
        {
          "output_type": "stream",
          "name": "stdout",
          "text": [
            "\n",
            "\n",
            "\n",
            " Numerical Summaries \n"
          ]
        },
        {
          "output_type": "display_data",
          "data": {
            "text/plain": [
              "  variable            Count Mean     Min  Q1   Q2   Q3     Max    Sd      \n",
              "1 Married             1753  9.898374 0.82 0.82 1.17 5.1200 662.24 33.52842\n",
              "2 Widowed              109  6.704862 0.82 0.82 0.82 3.6600 111.90 16.67688\n",
              "3 Divorced             419  7.634821 0.82 0.82 0.82 3.6100 305.09 25.57944\n",
              "4 Separated            142  4.998521 0.82 0.82 0.82 2.3475 168.86 16.16396\n",
              "5 Never married        851  5.848707 0.82 0.82 0.82 3.7900 749.00 28.40979\n",
              "6 Living with partner  416  6.900457 0.82 0.82 0.82 3.6850 267.42 21.66435"
            ],
            "text/latex": "A tibble: 6 × 9\n\\begin{tabular}{lllllllll}\n variable & Count & Mean & Min & Q1 & Q2 & Q3 & Max & Sd\\\\\n <fct> & <int> & <dbl> & <dbl> & <dbl> & <dbl> & <dbl> & <dbl> & <dbl>\\\\\n\\hline\n\t Married             & 1753 & 9.898374 & 0.82 & 0.82 & 1.17 & 5.1200 & 662.24 & 33.52842\\\\\n\t Widowed             &  109 & 6.704862 & 0.82 & 0.82 & 0.82 & 3.6600 & 111.90 & 16.67688\\\\\n\t Divorced            &  419 & 7.634821 & 0.82 & 0.82 & 0.82 & 3.6100 & 305.09 & 25.57944\\\\\n\t Separated           &  142 & 4.998521 & 0.82 & 0.82 & 0.82 & 2.3475 & 168.86 & 16.16396\\\\\n\t Never married       &  851 & 5.848707 & 0.82 & 0.82 & 0.82 & 3.7900 & 749.00 & 28.40979\\\\\n\t Living with partner &  416 & 6.900457 & 0.82 & 0.82 & 0.82 & 3.6850 & 267.42 & 21.66435\\\\\n\\end{tabular}\n",
            "text/markdown": "\nA tibble: 6 × 9\n\n| variable &lt;fct&gt; | Count &lt;int&gt; | Mean &lt;dbl&gt; | Min &lt;dbl&gt; | Q1 &lt;dbl&gt; | Q2 &lt;dbl&gt; | Q3 &lt;dbl&gt; | Max &lt;dbl&gt; | Sd &lt;dbl&gt; |\n|---|---|---|---|---|---|---|---|---|\n| Married             | 1753 | 9.898374 | 0.82 | 0.82 | 1.17 | 5.1200 | 662.24 | 33.52842 |\n| Widowed             |  109 | 6.704862 | 0.82 | 0.82 | 0.82 | 3.6600 | 111.90 | 16.67688 |\n| Divorced            |  419 | 7.634821 | 0.82 | 0.82 | 0.82 | 3.6100 | 305.09 | 25.57944 |\n| Separated           |  142 | 4.998521 | 0.82 | 0.82 | 0.82 | 2.3475 | 168.86 | 16.16396 |\n| Never married       |  851 | 5.848707 | 0.82 | 0.82 | 0.82 | 3.7900 | 749.00 | 28.40979 |\n| Living with partner |  416 | 6.900457 | 0.82 | 0.82 | 0.82 | 3.6850 | 267.42 | 21.66435 |\n\n",
            "text/html": [
              "<table class=\"dataframe\">\n",
              "<caption>A tibble: 6 × 9</caption>\n",
              "<thead>\n",
              "\t<tr><th scope=col>variable</th><th scope=col>Count</th><th scope=col>Mean</th><th scope=col>Min</th><th scope=col>Q1</th><th scope=col>Q2</th><th scope=col>Q3</th><th scope=col>Max</th><th scope=col>Sd</th></tr>\n",
              "\t<tr><th scope=col>&lt;fct&gt;</th><th scope=col>&lt;int&gt;</th><th scope=col>&lt;dbl&gt;</th><th scope=col>&lt;dbl&gt;</th><th scope=col>&lt;dbl&gt;</th><th scope=col>&lt;dbl&gt;</th><th scope=col>&lt;dbl&gt;</th><th scope=col>&lt;dbl&gt;</th><th scope=col>&lt;dbl&gt;</th></tr>\n",
              "</thead>\n",
              "<tbody>\n",
              "\t<tr><td>Married            </td><td>1753</td><td>9.898374</td><td>0.82</td><td>0.82</td><td>1.17</td><td>5.1200</td><td>662.24</td><td>33.52842</td></tr>\n",
              "\t<tr><td>Widowed            </td><td> 109</td><td>6.704862</td><td>0.82</td><td>0.82</td><td>0.82</td><td>3.6600</td><td>111.90</td><td>16.67688</td></tr>\n",
              "\t<tr><td>Divorced           </td><td> 419</td><td>7.634821</td><td>0.82</td><td>0.82</td><td>0.82</td><td>3.6100</td><td>305.09</td><td>25.57944</td></tr>\n",
              "\t<tr><td>Separated          </td><td> 142</td><td>4.998521</td><td>0.82</td><td>0.82</td><td>0.82</td><td>2.3475</td><td>168.86</td><td>16.16396</td></tr>\n",
              "\t<tr><td>Never married      </td><td> 851</td><td>5.848707</td><td>0.82</td><td>0.82</td><td>0.82</td><td>3.7900</td><td>749.00</td><td>28.40979</td></tr>\n",
              "\t<tr><td>Living with partner</td><td> 416</td><td>6.900457</td><td>0.82</td><td>0.82</td><td>0.82</td><td>3.6850</td><td>267.42</td><td>21.66435</td></tr>\n",
              "</tbody>\n",
              "</table>\n"
            ]
          },
          "metadata": {}
        },
        {
          "output_type": "stream",
          "name": "stdout",
          "text": [
            "\n",
            "\n",
            "\n",
            " Multiple Comparison \n"
          ]
        },
        {
          "output_type": "display_data",
          "data": {
            "text/plain": [
              "   .y.    group1        group2              n1   n2  statistic   p      p.adj\n",
              "1  URXUAB Married       Widowed             1753 109 -1.33099771 0.1832 0.55 \n",
              "2  URXUAB Married       Divorced            1753 419 -1.98560828 0.0471 0.18 \n",
              "3  URXUAB Married       Separated           1753 142 -2.20558601 0.0274 0.18 \n",
              "4  URXUAB Married       Never married       1753 851 -2.68885156 0.0072 0.11 \n",
              "5  URXUAB Married       Living with partner 1753 416 -1.99814778 0.0457 0.18 \n",
              "6  URXUAB Widowed       Divorced             109 419  0.21776615 0.8276 0.99 \n",
              "7  URXUAB Widowed       Separated            109 142 -0.47940104 0.6317 0.99 \n",
              "8  URXUAB Widowed       Never married        109 851  0.18726580 0.8515 0.99 \n",
              "9  URXUAB Widowed       Living with partner  109 416  0.20833263 0.835  0.99 \n",
              "10 URXUAB Divorced      Separated            419 142 -0.86983991 0.3844 0.73 \n",
              "11 URXUAB Divorced      Never married        419 851 -0.07311797 0.9417 0.99 \n",
              "12 URXUAB Divorced      Living with partner  419 416 -0.01441401 0.9885 0.99 \n",
              "13 URXUAB Separated     Never married        142 851  0.88362161 0.3769 0.73 \n",
              "14 URXUAB Separated     Living with partner  142 416  0.85878236 0.3905 0.73 \n",
              "15 URXUAB Never married Living with partner  851 416  0.05626573 0.9551 0.99 \n",
              "   p.adj.signif\n",
              "1  ns          \n",
              "2  ns          \n",
              "3  ns          \n",
              "4  ns          \n",
              "5  ns          \n",
              "6  ns          \n",
              "7  ns          \n",
              "8  ns          \n",
              "9  ns          \n",
              "10 ns          \n",
              "11 ns          \n",
              "12 ns          \n",
              "13 ns          \n",
              "14 ns          \n",
              "15 ns          "
            ],
            "text/latex": "A rstatix\\_test: 15 × 9\n\\begin{tabular}{r|lllllllll}\n  & .y. & group1 & group2 & n1 & n2 & statistic & p & p.adj & p.adj.signif\\\\\n  & <chr> & <chr> & <chr> & <int> & <int> & <dbl> & <chr> & <chr> & <chr>\\\\\n\\hline\n\t1 & URXUAB & Married       & Widowed             & 1753 & 109 & -1.33099771 & 0.1832 & 0.55 & ns\\\\\n\t2 & URXUAB & Married       & Divorced            & 1753 & 419 & -1.98560828 & 0.0471 & 0.18 & ns\\\\\n\t3 & URXUAB & Married       & Separated           & 1753 & 142 & -2.20558601 & 0.0274 & 0.18 & ns\\\\\n\t4 & URXUAB & Married       & Never married       & 1753 & 851 & -2.68885156 & 0.0072 & 0.11 & ns\\\\\n\t5 & URXUAB & Married       & Living with partner & 1753 & 416 & -1.99814778 & 0.0457 & 0.18 & ns\\\\\n\t6 & URXUAB & Widowed       & Divorced            &  109 & 419 &  0.21776615 & 0.8276 & 0.99 & ns\\\\\n\t7 & URXUAB & Widowed       & Separated           &  109 & 142 & -0.47940104 & 0.6317 & 0.99 & ns\\\\\n\t8 & URXUAB & Widowed       & Never married       &  109 & 851 &  0.18726580 & 0.8515 & 0.99 & ns\\\\\n\t9 & URXUAB & Widowed       & Living with partner &  109 & 416 &  0.20833263 & 0.835  & 0.99 & ns\\\\\n\t10 & URXUAB & Divorced      & Separated           &  419 & 142 & -0.86983991 & 0.3844 & 0.73 & ns\\\\\n\t11 & URXUAB & Divorced      & Never married       &  419 & 851 & -0.07311797 & 0.9417 & 0.99 & ns\\\\\n\t12 & URXUAB & Divorced      & Living with partner &  419 & 416 & -0.01441401 & 0.9885 & 0.99 & ns\\\\\n\t13 & URXUAB & Separated     & Never married       &  142 & 851 &  0.88362161 & 0.3769 & 0.73 & ns\\\\\n\t14 & URXUAB & Separated     & Living with partner &  142 & 416 &  0.85878236 & 0.3905 & 0.73 & ns\\\\\n\t15 & URXUAB & Never married & Living with partner &  851 & 416 &  0.05626573 & 0.9551 & 0.99 & ns\\\\\n\\end{tabular}\n",
            "text/markdown": "\nA rstatix_test: 15 × 9\n\n| <!--/--> | .y. &lt;chr&gt; | group1 &lt;chr&gt; | group2 &lt;chr&gt; | n1 &lt;int&gt; | n2 &lt;int&gt; | statistic &lt;dbl&gt; | p &lt;chr&gt; | p.adj &lt;chr&gt; | p.adj.signif &lt;chr&gt; |\n|---|---|---|---|---|---|---|---|---|---|\n| 1 | URXUAB | Married       | Widowed             | 1753 | 109 | -1.33099771 | 0.1832 | 0.55 | ns |\n| 2 | URXUAB | Married       | Divorced            | 1753 | 419 | -1.98560828 | 0.0471 | 0.18 | ns |\n| 3 | URXUAB | Married       | Separated           | 1753 | 142 | -2.20558601 | 0.0274 | 0.18 | ns |\n| 4 | URXUAB | Married       | Never married       | 1753 | 851 | -2.68885156 | 0.0072 | 0.11 | ns |\n| 5 | URXUAB | Married       | Living with partner | 1753 | 416 | -1.99814778 | 0.0457 | 0.18 | ns |\n| 6 | URXUAB | Widowed       | Divorced            |  109 | 419 |  0.21776615 | 0.8276 | 0.99 | ns |\n| 7 | URXUAB | Widowed       | Separated           |  109 | 142 | -0.47940104 | 0.6317 | 0.99 | ns |\n| 8 | URXUAB | Widowed       | Never married       |  109 | 851 |  0.18726580 | 0.8515 | 0.99 | ns |\n| 9 | URXUAB | Widowed       | Living with partner |  109 | 416 |  0.20833263 | 0.835  | 0.99 | ns |\n| 10 | URXUAB | Divorced      | Separated           |  419 | 142 | -0.86983991 | 0.3844 | 0.73 | ns |\n| 11 | URXUAB | Divorced      | Never married       |  419 | 851 | -0.07311797 | 0.9417 | 0.99 | ns |\n| 12 | URXUAB | Divorced      | Living with partner |  419 | 416 | -0.01441401 | 0.9885 | 0.99 | ns |\n| 13 | URXUAB | Separated     | Never married       |  142 | 851 |  0.88362161 | 0.3769 | 0.73 | ns |\n| 14 | URXUAB | Separated     | Living with partner |  142 | 416 |  0.85878236 | 0.3905 | 0.73 | ns |\n| 15 | URXUAB | Never married | Living with partner |  851 | 416 |  0.05626573 | 0.9551 | 0.99 | ns |\n\n",
            "text/html": [
              "<table class=\"dataframe\">\n",
              "<caption>A rstatix_test: 15 × 9</caption>\n",
              "<thead>\n",
              "\t<tr><th></th><th scope=col>.y.</th><th scope=col>group1</th><th scope=col>group2</th><th scope=col>n1</th><th scope=col>n2</th><th scope=col>statistic</th><th scope=col>p</th><th scope=col>p.adj</th><th scope=col>p.adj.signif</th></tr>\n",
              "\t<tr><th></th><th scope=col>&lt;chr&gt;</th><th scope=col>&lt;chr&gt;</th><th scope=col>&lt;chr&gt;</th><th scope=col>&lt;int&gt;</th><th scope=col>&lt;int&gt;</th><th scope=col>&lt;dbl&gt;</th><th scope=col>&lt;chr&gt;</th><th scope=col>&lt;chr&gt;</th><th scope=col>&lt;chr&gt;</th></tr>\n",
              "</thead>\n",
              "<tbody>\n",
              "\t<tr><th scope=row>1</th><td>URXUAB</td><td>Married      </td><td>Widowed            </td><td>1753</td><td>109</td><td>-1.33099771</td><td>0.1832</td><td>0.55</td><td>ns</td></tr>\n",
              "\t<tr><th scope=row>2</th><td>URXUAB</td><td>Married      </td><td>Divorced           </td><td>1753</td><td>419</td><td>-1.98560828</td><td>0.0471</td><td>0.18</td><td>ns</td></tr>\n",
              "\t<tr><th scope=row>3</th><td>URXUAB</td><td>Married      </td><td>Separated          </td><td>1753</td><td>142</td><td>-2.20558601</td><td>0.0274</td><td>0.18</td><td>ns</td></tr>\n",
              "\t<tr><th scope=row>4</th><td>URXUAB</td><td>Married      </td><td>Never married      </td><td>1753</td><td>851</td><td>-2.68885156</td><td>0.0072</td><td>0.11</td><td>ns</td></tr>\n",
              "\t<tr><th scope=row>5</th><td>URXUAB</td><td>Married      </td><td>Living with partner</td><td>1753</td><td>416</td><td>-1.99814778</td><td>0.0457</td><td>0.18</td><td>ns</td></tr>\n",
              "\t<tr><th scope=row>6</th><td>URXUAB</td><td>Widowed      </td><td>Divorced           </td><td> 109</td><td>419</td><td> 0.21776615</td><td>0.8276</td><td>0.99</td><td>ns</td></tr>\n",
              "\t<tr><th scope=row>7</th><td>URXUAB</td><td>Widowed      </td><td>Separated          </td><td> 109</td><td>142</td><td>-0.47940104</td><td>0.6317</td><td>0.99</td><td>ns</td></tr>\n",
              "\t<tr><th scope=row>8</th><td>URXUAB</td><td>Widowed      </td><td>Never married      </td><td> 109</td><td>851</td><td> 0.18726580</td><td>0.8515</td><td>0.99</td><td>ns</td></tr>\n",
              "\t<tr><th scope=row>9</th><td>URXUAB</td><td>Widowed      </td><td>Living with partner</td><td> 109</td><td>416</td><td> 0.20833263</td><td>0.835 </td><td>0.99</td><td>ns</td></tr>\n",
              "\t<tr><th scope=row>10</th><td>URXUAB</td><td>Divorced     </td><td>Separated          </td><td> 419</td><td>142</td><td>-0.86983991</td><td>0.3844</td><td>0.73</td><td>ns</td></tr>\n",
              "\t<tr><th scope=row>11</th><td>URXUAB</td><td>Divorced     </td><td>Never married      </td><td> 419</td><td>851</td><td>-0.07311797</td><td>0.9417</td><td>0.99</td><td>ns</td></tr>\n",
              "\t<tr><th scope=row>12</th><td>URXUAB</td><td>Divorced     </td><td>Living with partner</td><td> 419</td><td>416</td><td>-0.01441401</td><td>0.9885</td><td>0.99</td><td>ns</td></tr>\n",
              "\t<tr><th scope=row>13</th><td>URXUAB</td><td>Separated    </td><td>Never married      </td><td> 142</td><td>851</td><td> 0.88362161</td><td>0.3769</td><td>0.73</td><td>ns</td></tr>\n",
              "\t<tr><th scope=row>14</th><td>URXUAB</td><td>Separated    </td><td>Living with partner</td><td> 142</td><td>416</td><td> 0.85878236</td><td>0.3905</td><td>0.73</td><td>ns</td></tr>\n",
              "\t<tr><th scope=row>15</th><td>URXUAB</td><td>Never married</td><td>Living with partner</td><td> 851</td><td>416</td><td> 0.05626573</td><td>0.9551</td><td>0.99</td><td>ns</td></tr>\n",
              "</tbody>\n",
              "</table>\n"
            ]
          },
          "metadata": {}
        }
      ]
    },
    {
      "cell_type": "markdown",
      "metadata": {
        "id": "aiUKXro0Vlax"
      },
      "source": [
        "**Race**"
      ]
    },
    {
      "cell_type": "code",
      "metadata": {
        "id": "VtTVWOIK4-89",
        "colab": {
          "base_uri": "https://localhost:8080/",
          "height": 875
        },
        "outputId": "35d7f16b-352e-4483-f503-aeb971507e5f"
      },
      "source": [
        "HSV_df_backup_postprep -> HSV_df\n",
        "\n",
        "HSV_df %<>% select(URXUAB, RIDRETH1) %>% filter(URXUAB != 'NA') %>% filter(RIDRETH1 != 'NA')\n",
        "\n",
        "# kruskal wallis test\n",
        "kruskal.test(URXUAB~ RIDRETH1 , data = HSV_df) \n",
        "\n",
        "cat(\"\\n\\n\")\n",
        "\n",
        "cat(\"\\n Numerical Summaries \\n\")\n",
        "# numerical summary\n",
        "HSV_df %$% num_summary(URXUAB, RIDRETH1) \n",
        "\n",
        "cat(\"\\n\\n\")\n",
        "\n",
        "cat(\"\\n Multiple Comparison \\n\")\n",
        "# multiple comparison\n",
        "dunn_test(URXUAB~ RIDRETH1 , data = HSV_df, p.adjust.method = \"fdr\") %>%\n",
        "p_format(digits = 2, leading.zero = TRUE) ; HSV_df_backup_postprep -> HSV_df"
      ],
      "execution_count": null,
      "outputs": [
        {
          "output_type": "display_data",
          "data": {
            "text/plain": [
              "\n",
              "\tKruskal-Wallis rank sum test\n",
              "\n",
              "data:  URXUAB by RIDRETH1\n",
              "Kruskal-Wallis chi-squared = 144.45, df = 4, p-value < 2.2e-16\n"
            ]
          },
          "metadata": {}
        },
        {
          "output_type": "stream",
          "name": "stdout",
          "text": [
            "\n",
            "\n",
            "\n",
            " Numerical Summaries \n"
          ]
        },
        {
          "output_type": "display_data",
          "data": {
            "text/plain": [
              "  variable    Count Mean      Min  Q1   Q2    Q3    Max    Sd      \n",
              "1 Mex-Hisp     584   5.014606 0.82 0.82 0.820 2.145 214.00 17.36135\n",
              "2 Other-Hisp   418  10.069928 0.82 0.82 1.265 5.225 662.24 40.61379\n",
              "3 Non-Hisp-WT 1440   5.072632 0.82 0.82 0.820 2.820 233.40 16.50167\n",
              "4 Non-Hisp-BK  893  10.378130 0.82 0.82 1.460 5.800 749.00 38.73257\n",
              "5 Others       565  13.068124 0.82 0.82 2.360 9.890 475.00 33.79618"
            ],
            "text/latex": "A tibble: 5 × 9\n\\begin{tabular}{lllllllll}\n variable & Count & Mean & Min & Q1 & Q2 & Q3 & Max & Sd\\\\\n <fct> & <int> & <dbl> & <dbl> & <dbl> & <dbl> & <dbl> & <dbl> & <dbl>\\\\\n\\hline\n\t Mex-Hisp    &  584 &  5.014606 & 0.82 & 0.82 & 0.820 & 2.145 & 214.00 & 17.36135\\\\\n\t Other-Hisp  &  418 & 10.069928 & 0.82 & 0.82 & 1.265 & 5.225 & 662.24 & 40.61379\\\\\n\t Non-Hisp-WT & 1440 &  5.072632 & 0.82 & 0.82 & 0.820 & 2.820 & 233.40 & 16.50167\\\\\n\t Non-Hisp-BK &  893 & 10.378130 & 0.82 & 0.82 & 1.460 & 5.800 & 749.00 & 38.73257\\\\\n\t Others      &  565 & 13.068124 & 0.82 & 0.82 & 2.360 & 9.890 & 475.00 & 33.79618\\\\\n\\end{tabular}\n",
            "text/markdown": "\nA tibble: 5 × 9\n\n| variable &lt;fct&gt; | Count &lt;int&gt; | Mean &lt;dbl&gt; | Min &lt;dbl&gt; | Q1 &lt;dbl&gt; | Q2 &lt;dbl&gt; | Q3 &lt;dbl&gt; | Max &lt;dbl&gt; | Sd &lt;dbl&gt; |\n|---|---|---|---|---|---|---|---|---|\n| Mex-Hisp    |  584 |  5.014606 | 0.82 | 0.82 | 0.820 | 2.145 | 214.00 | 17.36135 |\n| Other-Hisp  |  418 | 10.069928 | 0.82 | 0.82 | 1.265 | 5.225 | 662.24 | 40.61379 |\n| Non-Hisp-WT | 1440 |  5.072632 | 0.82 | 0.82 | 0.820 | 2.820 | 233.40 | 16.50167 |\n| Non-Hisp-BK |  893 | 10.378130 | 0.82 | 0.82 | 1.460 | 5.800 | 749.00 | 38.73257 |\n| Others      |  565 | 13.068124 | 0.82 | 0.82 | 2.360 | 9.890 | 475.00 | 33.79618 |\n\n",
            "text/html": [
              "<table class=\"dataframe\">\n",
              "<caption>A tibble: 5 × 9</caption>\n",
              "<thead>\n",
              "\t<tr><th scope=col>variable</th><th scope=col>Count</th><th scope=col>Mean</th><th scope=col>Min</th><th scope=col>Q1</th><th scope=col>Q2</th><th scope=col>Q3</th><th scope=col>Max</th><th scope=col>Sd</th></tr>\n",
              "\t<tr><th scope=col>&lt;fct&gt;</th><th scope=col>&lt;int&gt;</th><th scope=col>&lt;dbl&gt;</th><th scope=col>&lt;dbl&gt;</th><th scope=col>&lt;dbl&gt;</th><th scope=col>&lt;dbl&gt;</th><th scope=col>&lt;dbl&gt;</th><th scope=col>&lt;dbl&gt;</th><th scope=col>&lt;dbl&gt;</th></tr>\n",
              "</thead>\n",
              "<tbody>\n",
              "\t<tr><td>Mex-Hisp   </td><td> 584</td><td> 5.014606</td><td>0.82</td><td>0.82</td><td>0.820</td><td>2.145</td><td>214.00</td><td>17.36135</td></tr>\n",
              "\t<tr><td>Other-Hisp </td><td> 418</td><td>10.069928</td><td>0.82</td><td>0.82</td><td>1.265</td><td>5.225</td><td>662.24</td><td>40.61379</td></tr>\n",
              "\t<tr><td>Non-Hisp-WT</td><td>1440</td><td> 5.072632</td><td>0.82</td><td>0.82</td><td>0.820</td><td>2.820</td><td>233.40</td><td>16.50167</td></tr>\n",
              "\t<tr><td>Non-Hisp-BK</td><td> 893</td><td>10.378130</td><td>0.82</td><td>0.82</td><td>1.460</td><td>5.800</td><td>749.00</td><td>38.73257</td></tr>\n",
              "\t<tr><td>Others     </td><td> 565</td><td>13.068124</td><td>0.82</td><td>0.82</td><td>2.360</td><td>9.890</td><td>475.00</td><td>33.79618</td></tr>\n",
              "</tbody>\n",
              "</table>\n"
            ]
          },
          "metadata": {}
        },
        {
          "output_type": "stream",
          "name": "stdout",
          "text": [
            "\n",
            "\n",
            "\n",
            " Multiple Comparison \n"
          ]
        },
        {
          "output_type": "display_data",
          "data": {
            "text/plain": [
              "   .y.    group1      group2      n1   n2   statistic p       p.adj  \n",
              "1  URXUAB Mex-Hisp    Other-Hisp   584  418  4.604881 <0.0001 <0.0001\n",
              "2  URXUAB Mex-Hisp    Non-Hisp-WT  584 1440  1.051697 0.29294 0.29294\n",
              "3  URXUAB Mex-Hisp    Non-Hisp-BK  584  893  6.788407 <0.0001 <0.0001\n",
              "4  URXUAB Mex-Hisp    Others       584  565  9.039848 <0.0001 <0.0001\n",
              "5  URXUAB Other-Hisp  Non-Hisp-WT  418 1440 -4.381463 <0.0001 <0.0001\n",
              "6  URXUAB Other-Hisp  Non-Hisp-BK  418  893  1.117734 0.26368 0.29294\n",
              "7  URXUAB Other-Hisp  Others       418  565  3.695571 0.00022 0.00031\n",
              "8  URXUAB Non-Hisp-WT Non-Hisp-BK 1440  893  7.270240 <0.0001 <0.0001\n",
              "9  URXUAB Non-Hisp-WT Others      1440  565  9.706463 <0.0001 <0.0001\n",
              "10 URXUAB Non-Hisp-BK Others       893  565  3.202995 0.00136 0.0017 \n",
              "   p.adj.signif\n",
              "1  ****        \n",
              "2  ns          \n",
              "3  ****        \n",
              "4  ****        \n",
              "5  ****        \n",
              "6  ns          \n",
              "7  ***         \n",
              "8  ****        \n",
              "9  ****        \n",
              "10 **          "
            ],
            "text/latex": "A rstatix\\_test: 10 × 9\n\\begin{tabular}{r|lllllllll}\n  & .y. & group1 & group2 & n1 & n2 & statistic & p & p.adj & p.adj.signif\\\\\n  & <chr> & <chr> & <chr> & <int> & <int> & <dbl> & <chr> & <chr> & <chr>\\\\\n\\hline\n\t1 & URXUAB & Mex-Hisp    & Other-Hisp  &  584 &  418 &  4.604881 & <0.0001 & <0.0001 & ****\\\\\n\t2 & URXUAB & Mex-Hisp    & Non-Hisp-WT &  584 & 1440 &  1.051697 & 0.29294 & 0.29294 & ns  \\\\\n\t3 & URXUAB & Mex-Hisp    & Non-Hisp-BK &  584 &  893 &  6.788407 & <0.0001 & <0.0001 & ****\\\\\n\t4 & URXUAB & Mex-Hisp    & Others      &  584 &  565 &  9.039848 & <0.0001 & <0.0001 & ****\\\\\n\t5 & URXUAB & Other-Hisp  & Non-Hisp-WT &  418 & 1440 & -4.381463 & <0.0001 & <0.0001 & ****\\\\\n\t6 & URXUAB & Other-Hisp  & Non-Hisp-BK &  418 &  893 &  1.117734 & 0.26368 & 0.29294 & ns  \\\\\n\t7 & URXUAB & Other-Hisp  & Others      &  418 &  565 &  3.695571 & 0.00022 & 0.00031 & *** \\\\\n\t8 & URXUAB & Non-Hisp-WT & Non-Hisp-BK & 1440 &  893 &  7.270240 & <0.0001 & <0.0001 & ****\\\\\n\t9 & URXUAB & Non-Hisp-WT & Others      & 1440 &  565 &  9.706463 & <0.0001 & <0.0001 & ****\\\\\n\t10 & URXUAB & Non-Hisp-BK & Others      &  893 &  565 &  3.202995 & 0.00136 & 0.0017  & **  \\\\\n\\end{tabular}\n",
            "text/markdown": "\nA rstatix_test: 10 × 9\n\n| <!--/--> | .y. &lt;chr&gt; | group1 &lt;chr&gt; | group2 &lt;chr&gt; | n1 &lt;int&gt; | n2 &lt;int&gt; | statistic &lt;dbl&gt; | p &lt;chr&gt; | p.adj &lt;chr&gt; | p.adj.signif &lt;chr&gt; |\n|---|---|---|---|---|---|---|---|---|---|\n| 1 | URXUAB | Mex-Hisp    | Other-Hisp  |  584 |  418 |  4.604881 | &lt;0.0001 | &lt;0.0001 | **** |\n| 2 | URXUAB | Mex-Hisp    | Non-Hisp-WT |  584 | 1440 |  1.051697 | 0.29294 | 0.29294 | ns   |\n| 3 | URXUAB | Mex-Hisp    | Non-Hisp-BK |  584 |  893 |  6.788407 | &lt;0.0001 | &lt;0.0001 | **** |\n| 4 | URXUAB | Mex-Hisp    | Others      |  584 |  565 |  9.039848 | &lt;0.0001 | &lt;0.0001 | **** |\n| 5 | URXUAB | Other-Hisp  | Non-Hisp-WT |  418 | 1440 | -4.381463 | &lt;0.0001 | &lt;0.0001 | **** |\n| 6 | URXUAB | Other-Hisp  | Non-Hisp-BK |  418 |  893 |  1.117734 | 0.26368 | 0.29294 | ns   |\n| 7 | URXUAB | Other-Hisp  | Others      |  418 |  565 |  3.695571 | 0.00022 | 0.00031 | ***  |\n| 8 | URXUAB | Non-Hisp-WT | Non-Hisp-BK | 1440 |  893 |  7.270240 | &lt;0.0001 | &lt;0.0001 | **** |\n| 9 | URXUAB | Non-Hisp-WT | Others      | 1440 |  565 |  9.706463 | &lt;0.0001 | &lt;0.0001 | **** |\n| 10 | URXUAB | Non-Hisp-BK | Others      |  893 |  565 |  3.202995 | 0.00136 | 0.0017  | **   |\n\n",
            "text/html": [
              "<table class=\"dataframe\">\n",
              "<caption>A rstatix_test: 10 × 9</caption>\n",
              "<thead>\n",
              "\t<tr><th></th><th scope=col>.y.</th><th scope=col>group1</th><th scope=col>group2</th><th scope=col>n1</th><th scope=col>n2</th><th scope=col>statistic</th><th scope=col>p</th><th scope=col>p.adj</th><th scope=col>p.adj.signif</th></tr>\n",
              "\t<tr><th></th><th scope=col>&lt;chr&gt;</th><th scope=col>&lt;chr&gt;</th><th scope=col>&lt;chr&gt;</th><th scope=col>&lt;int&gt;</th><th scope=col>&lt;int&gt;</th><th scope=col>&lt;dbl&gt;</th><th scope=col>&lt;chr&gt;</th><th scope=col>&lt;chr&gt;</th><th scope=col>&lt;chr&gt;</th></tr>\n",
              "</thead>\n",
              "<tbody>\n",
              "\t<tr><th scope=row>1</th><td>URXUAB</td><td><span style=white-space:pre-wrap>Mex-Hisp   </span></td><td>Other-Hisp </td><td> 584</td><td> 418</td><td> 4.604881</td><td>&lt;0.0001</td><td>&lt;0.0001</td><td>****</td></tr>\n",
              "\t<tr><th scope=row>2</th><td>URXUAB</td><td>Mex-Hisp   </td><td>Non-Hisp-WT</td><td> 584</td><td>1440</td><td> 1.051697</td><td>0.29294</td><td>0.29294</td><td>ns  </td></tr>\n",
              "\t<tr><th scope=row>3</th><td>URXUAB</td><td><span style=white-space:pre-wrap>Mex-Hisp   </span></td><td>Non-Hisp-BK</td><td> 584</td><td> 893</td><td> 6.788407</td><td>&lt;0.0001</td><td>&lt;0.0001</td><td>****</td></tr>\n",
              "\t<tr><th scope=row>4</th><td>URXUAB</td><td><span style=white-space:pre-wrap>Mex-Hisp   </span></td><td><span style=white-space:pre-wrap>Others     </span></td><td> 584</td><td> 565</td><td> 9.039848</td><td>&lt;0.0001</td><td>&lt;0.0001</td><td>****</td></tr>\n",
              "\t<tr><th scope=row>5</th><td>URXUAB</td><td>Other-Hisp </td><td>Non-Hisp-WT</td><td> 418</td><td>1440</td><td>-4.381463</td><td>&lt;0.0001</td><td>&lt;0.0001</td><td>****</td></tr>\n",
              "\t<tr><th scope=row>6</th><td>URXUAB</td><td>Other-Hisp </td><td>Non-Hisp-BK</td><td> 418</td><td> 893</td><td> 1.117734</td><td>0.26368</td><td>0.29294</td><td>ns  </td></tr>\n",
              "\t<tr><th scope=row>7</th><td>URXUAB</td><td>Other-Hisp </td><td>Others     </td><td> 418</td><td> 565</td><td> 3.695571</td><td>0.00022</td><td>0.00031</td><td>*** </td></tr>\n",
              "\t<tr><th scope=row>8</th><td>URXUAB</td><td>Non-Hisp-WT</td><td>Non-Hisp-BK</td><td>1440</td><td> 893</td><td> 7.270240</td><td>&lt;0.0001</td><td>&lt;0.0001</td><td>****</td></tr>\n",
              "\t<tr><th scope=row>9</th><td>URXUAB</td><td>Non-Hisp-WT</td><td><span style=white-space:pre-wrap>Others     </span></td><td>1440</td><td> 565</td><td> 9.706463</td><td>&lt;0.0001</td><td>&lt;0.0001</td><td>****</td></tr>\n",
              "\t<tr><th scope=row>10</th><td>URXUAB</td><td>Non-Hisp-BK</td><td>Others     </td><td> 893</td><td> 565</td><td> 3.202995</td><td>0.00136</td><td>0.0017 </td><td>**  </td></tr>\n",
              "</tbody>\n",
              "</table>\n"
            ]
          },
          "metadata": {}
        }
      ]
    },
    {
      "cell_type": "markdown",
      "metadata": {
        "id": "mUoNHcO_Voi0"
      },
      "source": [
        "**Poverty Income Ratio**"
      ]
    },
    {
      "cell_type": "code",
      "metadata": {
        "id": "syG8MDKV4_d-",
        "colab": {
          "base_uri": "https://localhost:8080/",
          "height": 593
        },
        "outputId": "0d06b5d9-8ca0-4b0c-c9a5-f54673621d09"
      },
      "source": [
        "HSV_df_backup_postprep -> HSV_df\n",
        "\n",
        "HSV_df %<>% select(URXUAB, PIR) %>% filter(URXUAB != 'NA') %>% filter(PIR != 'NA')\n",
        "\n",
        "# kruskal wallis test\n",
        "kruskal.test(URXUAB~ PIR , data = HSV_df) \n",
        "\n",
        "cat(\"\\n\\n\")\n",
        "\n",
        "cat(\"\\n Numerical Summaries \\n\")\n",
        "# numerical summary\n",
        "HSV_df %$% num_summary(URXUAB, PIR) \n",
        "\n",
        "cat(\"\\n\\n\")\n",
        "\n",
        "cat(\"\\n Multiple Comparison \\n\")\n",
        "# multiple comparison\n",
        "dunn_test(URXUAB~ PIR , data = HSV_df, p.adjust.method = \"fdr\") %>%\n",
        "p_format(digits = 2, leading.zero = TRUE) ; HSV_df_backup_postprep -> HSV_df\n",
        "\n"
      ],
      "execution_count": null,
      "outputs": [
        {
          "output_type": "display_data",
          "data": {
            "text/plain": [
              "\n",
              "\tKruskal-Wallis rank sum test\n",
              "\n",
              "data:  URXUAB by PIR\n",
              "Kruskal-Wallis chi-squared = 33.112, df = 2, p-value = 6.453e-08\n"
            ]
          },
          "metadata": {}
        },
        {
          "output_type": "stream",
          "name": "stdout",
          "text": [
            "\n",
            "\n",
            "\n",
            " Numerical Summaries \n"
          ]
        },
        {
          "output_type": "display_data",
          "data": {
            "text/plain": [
              "  variable Count Mean     Min  Q1   Q2   Q3     Max    Sd      \n",
              "1 1.0      1329  5.843198 0.82 0.82 0.82 2.9500 662.24 23.75531\n",
              "2 2.0      1296  9.318094 0.82 0.82 0.82 4.5475 749.00 35.17894\n",
              "3 3.0       958  7.780282 0.82 0.82 1.26 5.6225 233.40 20.19402"
            ],
            "text/latex": "A tibble: 3 × 9\n\\begin{tabular}{lllllllll}\n variable & Count & Mean & Min & Q1 & Q2 & Q3 & Max & Sd\\\\\n <fct> & <int> & <dbl> & <dbl> & <dbl> & <dbl> & <dbl> & <dbl> & <dbl>\\\\\n\\hline\n\t 1.0 & 1329 & 5.843198 & 0.82 & 0.82 & 0.82 & 2.9500 & 662.24 & 23.75531\\\\\n\t 2.0 & 1296 & 9.318094 & 0.82 & 0.82 & 0.82 & 4.5475 & 749.00 & 35.17894\\\\\n\t 3.0 &  958 & 7.780282 & 0.82 & 0.82 & 1.26 & 5.6225 & 233.40 & 20.19402\\\\\n\\end{tabular}\n",
            "text/markdown": "\nA tibble: 3 × 9\n\n| variable &lt;fct&gt; | Count &lt;int&gt; | Mean &lt;dbl&gt; | Min &lt;dbl&gt; | Q1 &lt;dbl&gt; | Q2 &lt;dbl&gt; | Q3 &lt;dbl&gt; | Max &lt;dbl&gt; | Sd &lt;dbl&gt; |\n|---|---|---|---|---|---|---|---|---|\n| 1.0 | 1329 | 5.843198 | 0.82 | 0.82 | 0.82 | 2.9500 | 662.24 | 23.75531 |\n| 2.0 | 1296 | 9.318094 | 0.82 | 0.82 | 0.82 | 4.5475 | 749.00 | 35.17894 |\n| 3.0 |  958 | 7.780282 | 0.82 | 0.82 | 1.26 | 5.6225 | 233.40 | 20.19402 |\n\n",
            "text/html": [
              "<table class=\"dataframe\">\n",
              "<caption>A tibble: 3 × 9</caption>\n",
              "<thead>\n",
              "\t<tr><th scope=col>variable</th><th scope=col>Count</th><th scope=col>Mean</th><th scope=col>Min</th><th scope=col>Q1</th><th scope=col>Q2</th><th scope=col>Q3</th><th scope=col>Max</th><th scope=col>Sd</th></tr>\n",
              "\t<tr><th scope=col>&lt;fct&gt;</th><th scope=col>&lt;int&gt;</th><th scope=col>&lt;dbl&gt;</th><th scope=col>&lt;dbl&gt;</th><th scope=col>&lt;dbl&gt;</th><th scope=col>&lt;dbl&gt;</th><th scope=col>&lt;dbl&gt;</th><th scope=col>&lt;dbl&gt;</th><th scope=col>&lt;dbl&gt;</th></tr>\n",
              "</thead>\n",
              "<tbody>\n",
              "\t<tr><td>1.0</td><td>1329</td><td>5.843198</td><td>0.82</td><td>0.82</td><td>0.82</td><td>2.9500</td><td>662.24</td><td>23.75531</td></tr>\n",
              "\t<tr><td>2.0</td><td>1296</td><td>9.318094</td><td>0.82</td><td>0.82</td><td>0.82</td><td>4.5475</td><td>749.00</td><td>35.17894</td></tr>\n",
              "\t<tr><td>3.0</td><td> 958</td><td>7.780282</td><td>0.82</td><td>0.82</td><td>1.26</td><td>5.6225</td><td>233.40</td><td>20.19402</td></tr>\n",
              "</tbody>\n",
              "</table>\n"
            ]
          },
          "metadata": {}
        },
        {
          "output_type": "stream",
          "name": "stdout",
          "text": [
            "\n",
            "\n",
            "\n",
            " Multiple Comparison \n"
          ]
        },
        {
          "output_type": "display_data",
          "data": {
            "text/plain": [
              "  .y.    group1 group2 n1   n2   statistic p       p.adj   p.adj.signif\n",
              "1 URXUAB 1.0    2.0    1329 1296 4.173840  <0.0001 <0.0001 ****        \n",
              "2 URXUAB 1.0    3.0    1329  958 5.426023  <0.0001 <0.0001 ****        \n",
              "3 URXUAB 2.0    3.0    1296  958 1.573087  0.12    0.12    ns          "
            ],
            "text/latex": "A rstatix\\_test: 3 × 9\n\\begin{tabular}{r|lllllllll}\n  & .y. & group1 & group2 & n1 & n2 & statistic & p & p.adj & p.adj.signif\\\\\n  & <chr> & <chr> & <chr> & <int> & <int> & <dbl> & <chr> & <chr> & <chr>\\\\\n\\hline\n\t1 & URXUAB & 1.0 & 2.0 & 1329 & 1296 & 4.173840 & <0.0001 & <0.0001 & ****\\\\\n\t2 & URXUAB & 1.0 & 3.0 & 1329 &  958 & 5.426023 & <0.0001 & <0.0001 & ****\\\\\n\t3 & URXUAB & 2.0 & 3.0 & 1296 &  958 & 1.573087 & 0.12    & 0.12    & ns  \\\\\n\\end{tabular}\n",
            "text/markdown": "\nA rstatix_test: 3 × 9\n\n| <!--/--> | .y. &lt;chr&gt; | group1 &lt;chr&gt; | group2 &lt;chr&gt; | n1 &lt;int&gt; | n2 &lt;int&gt; | statistic &lt;dbl&gt; | p &lt;chr&gt; | p.adj &lt;chr&gt; | p.adj.signif &lt;chr&gt; |\n|---|---|---|---|---|---|---|---|---|---|\n| 1 | URXUAB | 1.0 | 2.0 | 1329 | 1296 | 4.173840 | &lt;0.0001 | &lt;0.0001 | **** |\n| 2 | URXUAB | 1.0 | 3.0 | 1329 |  958 | 5.426023 | &lt;0.0001 | &lt;0.0001 | **** |\n| 3 | URXUAB | 2.0 | 3.0 | 1296 |  958 | 1.573087 | 0.12    | 0.12    | ns   |\n\n",
            "text/html": [
              "<table class=\"dataframe\">\n",
              "<caption>A rstatix_test: 3 × 9</caption>\n",
              "<thead>\n",
              "\t<tr><th></th><th scope=col>.y.</th><th scope=col>group1</th><th scope=col>group2</th><th scope=col>n1</th><th scope=col>n2</th><th scope=col>statistic</th><th scope=col>p</th><th scope=col>p.adj</th><th scope=col>p.adj.signif</th></tr>\n",
              "\t<tr><th></th><th scope=col>&lt;chr&gt;</th><th scope=col>&lt;chr&gt;</th><th scope=col>&lt;chr&gt;</th><th scope=col>&lt;int&gt;</th><th scope=col>&lt;int&gt;</th><th scope=col>&lt;dbl&gt;</th><th scope=col>&lt;chr&gt;</th><th scope=col>&lt;chr&gt;</th><th scope=col>&lt;chr&gt;</th></tr>\n",
              "</thead>\n",
              "<tbody>\n",
              "\t<tr><th scope=row>1</th><td>URXUAB</td><td>1.0</td><td>2.0</td><td>1329</td><td>1296</td><td>4.173840</td><td>&lt;0.0001</td><td>&lt;0.0001</td><td>****</td></tr>\n",
              "\t<tr><th scope=row>2</th><td>URXUAB</td><td>1.0</td><td>3.0</td><td>1329</td><td> 958</td><td>5.426023</td><td>&lt;0.0001</td><td>&lt;0.0001</td><td>****</td></tr>\n",
              "\t<tr><th scope=row>3</th><td>URXUAB</td><td>2.0</td><td>3.0</td><td>1296</td><td> 958</td><td>1.573087</td><td>0.12   </td><td>0.12   </td><td>ns  </td></tr>\n",
              "</tbody>\n",
              "</table>\n"
            ]
          },
          "metadata": {}
        }
      ]
    },
    {
      "cell_type": "markdown",
      "metadata": {
        "id": "d_WqkI-5Vt7F"
      },
      "source": [
        "**Alcohol**"
      ]
    },
    {
      "cell_type": "code",
      "metadata": {
        "id": "lYQqwD035w29",
        "colab": {
          "base_uri": "https://localhost:8080/",
          "height": 499
        },
        "outputId": "653d79e4-ba42-408e-c55e-e5936d033be9"
      },
      "source": [
        "HSV_df_backup_postprep -> HSV_df\n",
        "\n",
        "HSV_df %<>% select(URXUAB, ALQ101) %>% filter(URXUAB != 'NA') %>% filter(ALQ101 != 'NA')\n",
        "\n",
        "# kruskal wallis test\n",
        "kruskal.test(URXUAB~ ALQ101 , data = HSV_df) \n",
        "\n",
        "cat(\"\\n\\n\")\n",
        "\n",
        "cat(\"\\n Numerical Summaries \\n\")\n",
        "# numerical summary\n",
        "HSV_df %$% num_summary(URXUAB, ALQ101) \n",
        "\n",
        "cat(\"\\n\\n\")\n",
        "\n",
        "cat(\"\\n Multiple Comparison \\n\")\n",
        "# multiple comparison\n",
        "dunn_test(URXUAB~ ALQ101 , data = HSV_df, p.adjust.method = \"fdr\") %>%\n",
        "p_format(digits = 2, leading.zero = TRUE) ; HSV_df_backup_postprep -> HSV_df"
      ],
      "execution_count": null,
      "outputs": [
        {
          "output_type": "display_data",
          "data": {
            "text/plain": [
              "\n",
              "\tKruskal-Wallis rank sum test\n",
              "\n",
              "data:  URXUAB by ALQ101\n",
              "Kruskal-Wallis chi-squared = 12.488, df = 1, p-value = 0.0004095\n"
            ]
          },
          "metadata": {}
        },
        {
          "output_type": "stream",
          "name": "stdout",
          "text": [
            "\n",
            "\n",
            "\n",
            " Numerical Summaries \n"
          ]
        },
        {
          "output_type": "display_data",
          "data": {
            "text/plain": [
              "  variable Count Mean     Min  Q1   Q2   Q3   Max Sd      \n",
              "1 Yes      2726  7.722304 0.82 0.82 0.82 4.38 749 29.27232\n",
              "2 No        903  7.879911 0.82 0.82 0.82 3.24 475 28.01952"
            ],
            "text/latex": "A tibble: 2 × 9\n\\begin{tabular}{lllllllll}\n variable & Count & Mean & Min & Q1 & Q2 & Q3 & Max & Sd\\\\\n <fct> & <int> & <dbl> & <dbl> & <dbl> & <dbl> & <dbl> & <dbl> & <dbl>\\\\\n\\hline\n\t Yes & 2726 & 7.722304 & 0.82 & 0.82 & 0.82 & 4.38 & 749 & 29.27232\\\\\n\t No  &  903 & 7.879911 & 0.82 & 0.82 & 0.82 & 3.24 & 475 & 28.01952\\\\\n\\end{tabular}\n",
            "text/markdown": "\nA tibble: 2 × 9\n\n| variable &lt;fct&gt; | Count &lt;int&gt; | Mean &lt;dbl&gt; | Min &lt;dbl&gt; | Q1 &lt;dbl&gt; | Q2 &lt;dbl&gt; | Q3 &lt;dbl&gt; | Max &lt;dbl&gt; | Sd &lt;dbl&gt; |\n|---|---|---|---|---|---|---|---|---|\n| Yes | 2726 | 7.722304 | 0.82 | 0.82 | 0.82 | 4.38 | 749 | 29.27232 |\n| No  |  903 | 7.879911 | 0.82 | 0.82 | 0.82 | 3.24 | 475 | 28.01952 |\n\n",
            "text/html": [
              "<table class=\"dataframe\">\n",
              "<caption>A tibble: 2 × 9</caption>\n",
              "<thead>\n",
              "\t<tr><th scope=col>variable</th><th scope=col>Count</th><th scope=col>Mean</th><th scope=col>Min</th><th scope=col>Q1</th><th scope=col>Q2</th><th scope=col>Q3</th><th scope=col>Max</th><th scope=col>Sd</th></tr>\n",
              "\t<tr><th scope=col>&lt;fct&gt;</th><th scope=col>&lt;int&gt;</th><th scope=col>&lt;dbl&gt;</th><th scope=col>&lt;dbl&gt;</th><th scope=col>&lt;dbl&gt;</th><th scope=col>&lt;dbl&gt;</th><th scope=col>&lt;dbl&gt;</th><th scope=col>&lt;dbl&gt;</th><th scope=col>&lt;dbl&gt;</th></tr>\n",
              "</thead>\n",
              "<tbody>\n",
              "\t<tr><td>Yes</td><td>2726</td><td>7.722304</td><td>0.82</td><td>0.82</td><td>0.82</td><td>4.38</td><td>749</td><td>29.27232</td></tr>\n",
              "\t<tr><td>No </td><td> 903</td><td>7.879911</td><td>0.82</td><td>0.82</td><td>0.82</td><td>3.24</td><td>475</td><td>28.01952</td></tr>\n",
              "</tbody>\n",
              "</table>\n"
            ]
          },
          "metadata": {}
        },
        {
          "output_type": "stream",
          "name": "stdout",
          "text": [
            "\n",
            "\n",
            "\n",
            " Multiple Comparison \n"
          ]
        },
        {
          "output_type": "display_data",
          "data": {
            "text/plain": [
              "  .y.    group1 group2 n1   n2  statistic p       p.adj   p.adj.signif\n",
              "1 URXUAB Yes    No     2726 903 -3.533855 0.00041 0.00041 ***         "
            ],
            "text/latex": "A rstatix\\_test: 1 × 9\n\\begin{tabular}{r|lllllllll}\n  & .y. & group1 & group2 & n1 & n2 & statistic & p & p.adj & p.adj.signif\\\\\n  & <chr> & <chr> & <chr> & <int> & <int> & <dbl> & <chr> & <chr> & <chr>\\\\\n\\hline\n\t1 & URXUAB & Yes & No & 2726 & 903 & -3.533855 & 0.00041 & 0.00041 & ***\\\\\n\\end{tabular}\n",
            "text/markdown": "\nA rstatix_test: 1 × 9\n\n| <!--/--> | .y. &lt;chr&gt; | group1 &lt;chr&gt; | group2 &lt;chr&gt; | n1 &lt;int&gt; | n2 &lt;int&gt; | statistic &lt;dbl&gt; | p &lt;chr&gt; | p.adj &lt;chr&gt; | p.adj.signif &lt;chr&gt; |\n|---|---|---|---|---|---|---|---|---|---|\n| 1 | URXUAB | Yes | No | 2726 | 903 | -3.533855 | 0.00041 | 0.00041 | *** |\n\n",
            "text/html": [
              "<table class=\"dataframe\">\n",
              "<caption>A rstatix_test: 1 × 9</caption>\n",
              "<thead>\n",
              "\t<tr><th></th><th scope=col>.y.</th><th scope=col>group1</th><th scope=col>group2</th><th scope=col>n1</th><th scope=col>n2</th><th scope=col>statistic</th><th scope=col>p</th><th scope=col>p.adj</th><th scope=col>p.adj.signif</th></tr>\n",
              "\t<tr><th></th><th scope=col>&lt;chr&gt;</th><th scope=col>&lt;chr&gt;</th><th scope=col>&lt;chr&gt;</th><th scope=col>&lt;int&gt;</th><th scope=col>&lt;int&gt;</th><th scope=col>&lt;dbl&gt;</th><th scope=col>&lt;chr&gt;</th><th scope=col>&lt;chr&gt;</th><th scope=col>&lt;chr&gt;</th></tr>\n",
              "</thead>\n",
              "<tbody>\n",
              "\t<tr><th scope=row>1</th><td>URXUAB</td><td>Yes</td><td>No</td><td>2726</td><td>903</td><td>-3.533855</td><td>0.00041</td><td>0.00041</td><td>***</td></tr>\n",
              "</tbody>\n",
              "</table>\n"
            ]
          },
          "metadata": {}
        }
      ]
    },
    {
      "cell_type": "markdown",
      "metadata": {
        "id": "zLQUcgPbVwv-"
      },
      "source": [
        "**Cotinine**"
      ]
    },
    {
      "cell_type": "code",
      "metadata": {
        "id": "aRsHmUI35xk3",
        "colab": {
          "base_uri": "https://localhost:8080/",
          "height": 104
        },
        "outputId": "a2318e7a-a35b-4ff8-a293-2387ba4bba95"
      },
      "source": [
        "\n",
        "# Cotinine\n",
        "kruskal.test(URXUAB~ LBDCOTLC , data = HSV_df)"
      ],
      "execution_count": null,
      "outputs": [
        {
          "output_type": "display_data",
          "data": {
            "text/plain": [
              "\n",
              "\tKruskal-Wallis rank sum test\n",
              "\n",
              "data:  URXUAB by LBDCOTLC\n",
              "Kruskal-Wallis chi-squared = 0.52851, df = 1, p-value = 0.4672\n"
            ]
          },
          "metadata": {}
        }
      ]
    },
    {
      "cell_type": "markdown",
      "metadata": {
        "id": "13kg0dSLoSQJ"
      },
      "source": [
        "###  **Arsenic 4(URXUAC - Urinary Arsenocholine (ug/L))** \n",
        "\n",
        "At alpha level of 0.05, for Urinary Arsenocholine (ug/L), there is statistical significance for  **race and poverty index ratio**.\n",
        "\n",
        "There is no statistical significance for education, marital status, BMI and cotinine, alcohol."
      ]
    },
    {
      "cell_type": "markdown",
      "metadata": {
        "id": "Aqxqm3aiVz37"
      },
      "source": [
        "**BMI**"
      ]
    },
    {
      "cell_type": "code",
      "metadata": {
        "id": "0xFZyhI1ooSi",
        "colab": {
          "base_uri": "https://localhost:8080/",
          "height": 104
        },
        "outputId": "dde71cdb-0e69-4933-e51a-d10778544a03"
      },
      "source": [
        "# BMI Categorical\n",
        "kruskal.test(URXUAC~ BMI.f , data = HSV_df) "
      ],
      "execution_count": null,
      "outputs": [
        {
          "output_type": "display_data",
          "data": {
            "text/plain": [
              "\n",
              "\tKruskal-Wallis rank sum test\n",
              "\n",
              "data:  URXUAC by BMI.f\n",
              "Kruskal-Wallis chi-squared = 1.0618, df = 3, p-value = 0.7863\n"
            ]
          },
          "metadata": {}
        }
      ]
    },
    {
      "cell_type": "markdown",
      "metadata": {
        "id": "HlMaYk-_V2zG"
      },
      "source": [
        "**Education**"
      ]
    },
    {
      "cell_type": "code",
      "metadata": {
        "id": "8v7D1kRG5_IG",
        "colab": {
          "base_uri": "https://localhost:8080/",
          "height": 104
        },
        "outputId": "f3be20c8-48a5-4cd4-d0e2-1efceb3bc98a"
      },
      "source": [
        "\n",
        "# Education\n",
        "kruskal.test(URXUAC~ DMDEDUC2 , data = HSV_df) "
      ],
      "execution_count": null,
      "outputs": [
        {
          "output_type": "display_data",
          "data": {
            "text/plain": [
              "\n",
              "\tKruskal-Wallis rank sum test\n",
              "\n",
              "data:  URXUAC by DMDEDUC2\n",
              "Kruskal-Wallis chi-squared = 1.988, df = 4, p-value = 0.738\n"
            ]
          },
          "metadata": {}
        }
      ]
    },
    {
      "cell_type": "markdown",
      "metadata": {
        "id": "7RV9Q77xV5-m"
      },
      "source": [
        "**Marital Status**"
      ]
    },
    {
      "cell_type": "code",
      "metadata": {
        "id": "W0JyB6Zh6Aue",
        "colab": {
          "base_uri": "https://localhost:8080/",
          "height": 104
        },
        "outputId": "fbd45fd8-6c3d-43a8-bf0e-a8e3e5ce0bdb"
      },
      "source": [
        "\n",
        "# Marital Status\n",
        "kruskal.test(URXUAC~ DMDMARTL , data = HSV_df) "
      ],
      "execution_count": null,
      "outputs": [
        {
          "output_type": "display_data",
          "data": {
            "text/plain": [
              "\n",
              "\tKruskal-Wallis rank sum test\n",
              "\n",
              "data:  URXUAC by DMDMARTL\n",
              "Kruskal-Wallis chi-squared = 8.6991, df = 5, p-value = 0.1217\n"
            ]
          },
          "metadata": {}
        }
      ]
    },
    {
      "cell_type": "markdown",
      "metadata": {
        "id": "c2adW-1TWApT"
      },
      "source": [
        "**Race**"
      ]
    },
    {
      "cell_type": "code",
      "metadata": {
        "id": "ntYXLkFZ6BVj",
        "colab": {
          "base_uri": "https://localhost:8080/",
          "height": 875
        },
        "outputId": "08fd4f1a-b7da-4180-d90a-e65731008c20"
      },
      "source": [
        "HSV_df_backup_postprep -> HSV_df\n",
        "\n",
        "HSV_df %<>% select(URXUAC, RIDRETH1) %>% filter(URXUAC != 'NA') %>% filter(RIDRETH1 != 'NA')\n",
        "\n",
        "# kruskal wallis test\n",
        "kruskal.test(URXUAC~ RIDRETH1 , data = HSV_df) \n",
        "\n",
        "cat(\"\\n\\n\")\n",
        "\n",
        "cat(\"\\n Numerical Summaries \\n\")\n",
        "# numerical summary\n",
        "HSV_df %$% num_summary(URXUAC, RIDRETH1) \n",
        "\n",
        "cat(\"\\n\\n\")\n",
        "\n",
        "cat(\"\\n Multiple Comparison \\n\")\n",
        "# multiple comparison\n",
        "dunn_test(URXUAC~ RIDRETH1 , data = HSV_df, p.adjust.method = \"fdr\") %>%\n",
        "p_format(digits = 2, leading.zero = TRUE) ; HSV_df_backup_postprep -> HSV_df"
      ],
      "execution_count": null,
      "outputs": [
        {
          "output_type": "display_data",
          "data": {
            "text/plain": [
              "\n",
              "\tKruskal-Wallis rank sum test\n",
              "\n",
              "data:  URXUAC by RIDRETH1\n",
              "Kruskal-Wallis chi-squared = 59.302, df = 4, p-value = 4.066e-12\n"
            ]
          },
          "metadata": {}
        },
        {
          "output_type": "stream",
          "name": "stdout",
          "text": [
            "\n",
            "\n",
            "\n",
            " Numerical Summaries \n"
          ]
        },
        {
          "output_type": "display_data",
          "data": {
            "text/plain": [
              "  variable    Count Mean      Min  Q1   Q2   Q3   Max   Sd       \n",
              "1 Mex-Hisp     584  0.1574144 0.08 0.08 0.08 0.08 10.98 0.4856733\n",
              "2 Other-Hisp   418  0.1327033 0.08 0.08 0.08 0.08  1.50 0.1618111\n",
              "3 Non-Hisp-WT 1440  0.1091875 0.08 0.08 0.08 0.08  2.81 0.1377233\n",
              "4 Non-Hisp-BK  893  0.1617917 0.08 0.08 0.08 0.08  8.88 0.3698872\n",
              "5 Others       565  0.2039646 0.08 0.08 0.08 0.08 14.20 0.7378918"
            ],
            "text/latex": "A tibble: 5 × 9\n\\begin{tabular}{lllllllll}\n variable & Count & Mean & Min & Q1 & Q2 & Q3 & Max & Sd\\\\\n <fct> & <int> & <dbl> & <dbl> & <dbl> & <dbl> & <dbl> & <dbl> & <dbl>\\\\\n\\hline\n\t Mex-Hisp    &  584 & 0.1574144 & 0.08 & 0.08 & 0.08 & 0.08 & 10.98 & 0.4856733\\\\\n\t Other-Hisp  &  418 & 0.1327033 & 0.08 & 0.08 & 0.08 & 0.08 &  1.50 & 0.1618111\\\\\n\t Non-Hisp-WT & 1440 & 0.1091875 & 0.08 & 0.08 & 0.08 & 0.08 &  2.81 & 0.1377233\\\\\n\t Non-Hisp-BK &  893 & 0.1617917 & 0.08 & 0.08 & 0.08 & 0.08 &  8.88 & 0.3698872\\\\\n\t Others      &  565 & 0.2039646 & 0.08 & 0.08 & 0.08 & 0.08 & 14.20 & 0.7378918\\\\\n\\end{tabular}\n",
            "text/markdown": "\nA tibble: 5 × 9\n\n| variable &lt;fct&gt; | Count &lt;int&gt; | Mean &lt;dbl&gt; | Min &lt;dbl&gt; | Q1 &lt;dbl&gt; | Q2 &lt;dbl&gt; | Q3 &lt;dbl&gt; | Max &lt;dbl&gt; | Sd &lt;dbl&gt; |\n|---|---|---|---|---|---|---|---|---|\n| Mex-Hisp    |  584 | 0.1574144 | 0.08 | 0.08 | 0.08 | 0.08 | 10.98 | 0.4856733 |\n| Other-Hisp  |  418 | 0.1327033 | 0.08 | 0.08 | 0.08 | 0.08 |  1.50 | 0.1618111 |\n| Non-Hisp-WT | 1440 | 0.1091875 | 0.08 | 0.08 | 0.08 | 0.08 |  2.81 | 0.1377233 |\n| Non-Hisp-BK |  893 | 0.1617917 | 0.08 | 0.08 | 0.08 | 0.08 |  8.88 | 0.3698872 |\n| Others      |  565 | 0.2039646 | 0.08 | 0.08 | 0.08 | 0.08 | 14.20 | 0.7378918 |\n\n",
            "text/html": [
              "<table class=\"dataframe\">\n",
              "<caption>A tibble: 5 × 9</caption>\n",
              "<thead>\n",
              "\t<tr><th scope=col>variable</th><th scope=col>Count</th><th scope=col>Mean</th><th scope=col>Min</th><th scope=col>Q1</th><th scope=col>Q2</th><th scope=col>Q3</th><th scope=col>Max</th><th scope=col>Sd</th></tr>\n",
              "\t<tr><th scope=col>&lt;fct&gt;</th><th scope=col>&lt;int&gt;</th><th scope=col>&lt;dbl&gt;</th><th scope=col>&lt;dbl&gt;</th><th scope=col>&lt;dbl&gt;</th><th scope=col>&lt;dbl&gt;</th><th scope=col>&lt;dbl&gt;</th><th scope=col>&lt;dbl&gt;</th><th scope=col>&lt;dbl&gt;</th></tr>\n",
              "</thead>\n",
              "<tbody>\n",
              "\t<tr><td>Mex-Hisp   </td><td> 584</td><td>0.1574144</td><td>0.08</td><td>0.08</td><td>0.08</td><td>0.08</td><td>10.98</td><td>0.4856733</td></tr>\n",
              "\t<tr><td>Other-Hisp </td><td> 418</td><td>0.1327033</td><td>0.08</td><td>0.08</td><td>0.08</td><td>0.08</td><td> 1.50</td><td>0.1618111</td></tr>\n",
              "\t<tr><td>Non-Hisp-WT</td><td>1440</td><td>0.1091875</td><td>0.08</td><td>0.08</td><td>0.08</td><td>0.08</td><td> 2.81</td><td>0.1377233</td></tr>\n",
              "\t<tr><td>Non-Hisp-BK</td><td> 893</td><td>0.1617917</td><td>0.08</td><td>0.08</td><td>0.08</td><td>0.08</td><td> 8.88</td><td>0.3698872</td></tr>\n",
              "\t<tr><td>Others     </td><td> 565</td><td>0.2039646</td><td>0.08</td><td>0.08</td><td>0.08</td><td>0.08</td><td>14.20</td><td>0.7378918</td></tr>\n",
              "</tbody>\n",
              "</table>\n"
            ]
          },
          "metadata": {}
        },
        {
          "output_type": "stream",
          "name": "stdout",
          "text": [
            "\n",
            "\n",
            "\n",
            " Multiple Comparison \n"
          ]
        },
        {
          "output_type": "display_data",
          "data": {
            "text/plain": [
              "   .y.    group1      group2      n1   n2   statistic  p       p.adj  \n",
              "1  URXUAC Mex-Hisp    Other-Hisp   584  418 -0.4884104 0.62526 0.6947 \n",
              "2  URXUAC Mex-Hisp    Non-Hisp-WT  584 1440 -4.3659711 <0.0001 <0.0001\n",
              "3  URXUAC Mex-Hisp    Non-Hisp-BK  584  893  1.0909804 0.27528 0.3441 \n",
              "4  URXUAC Mex-Hisp    Others       584  565  1.2583065 0.20828 0.2975 \n",
              "5  URXUAC Other-Hisp  Non-Hisp-WT  418 1440 -3.2919723 0.00099 0.0025 \n",
              "6  URXUAC Other-Hisp  Non-Hisp-BK  418  893  1.5076909 0.13163 0.2194 \n",
              "7  URXUAC Other-Hisp  Others       418  565  1.6359568 0.10185 0.2037 \n",
              "8  URXUAC Non-Hisp-WT Non-Hisp-BK 1440  893  6.3917014 <0.0001 <0.0001\n",
              "9  URXUAC Non-Hisp-WT Others      1440  565  5.8104288 <0.0001 <0.0001\n",
              "10 URXUAC Non-Hisp-BK Others       893  565  0.3012408 0.76323 0.7632 \n",
              "   p.adj.signif\n",
              "1  ns          \n",
              "2  ****        \n",
              "3  ns          \n",
              "4  ns          \n",
              "5  **          \n",
              "6  ns          \n",
              "7  ns          \n",
              "8  ****        \n",
              "9  ****        \n",
              "10 ns          "
            ],
            "text/latex": "A rstatix\\_test: 10 × 9\n\\begin{tabular}{r|lllllllll}\n  & .y. & group1 & group2 & n1 & n2 & statistic & p & p.adj & p.adj.signif\\\\\n  & <chr> & <chr> & <chr> & <int> & <int> & <dbl> & <chr> & <chr> & <chr>\\\\\n\\hline\n\t1 & URXUAC & Mex-Hisp    & Other-Hisp  &  584 &  418 & -0.4884104 & 0.62526 & 0.6947  & ns  \\\\\n\t2 & URXUAC & Mex-Hisp    & Non-Hisp-WT &  584 & 1440 & -4.3659711 & <0.0001 & <0.0001 & ****\\\\\n\t3 & URXUAC & Mex-Hisp    & Non-Hisp-BK &  584 &  893 &  1.0909804 & 0.27528 & 0.3441  & ns  \\\\\n\t4 & URXUAC & Mex-Hisp    & Others      &  584 &  565 &  1.2583065 & 0.20828 & 0.2975  & ns  \\\\\n\t5 & URXUAC & Other-Hisp  & Non-Hisp-WT &  418 & 1440 & -3.2919723 & 0.00099 & 0.0025  & **  \\\\\n\t6 & URXUAC & Other-Hisp  & Non-Hisp-BK &  418 &  893 &  1.5076909 & 0.13163 & 0.2194  & ns  \\\\\n\t7 & URXUAC & Other-Hisp  & Others      &  418 &  565 &  1.6359568 & 0.10185 & 0.2037  & ns  \\\\\n\t8 & URXUAC & Non-Hisp-WT & Non-Hisp-BK & 1440 &  893 &  6.3917014 & <0.0001 & <0.0001 & ****\\\\\n\t9 & URXUAC & Non-Hisp-WT & Others      & 1440 &  565 &  5.8104288 & <0.0001 & <0.0001 & ****\\\\\n\t10 & URXUAC & Non-Hisp-BK & Others      &  893 &  565 &  0.3012408 & 0.76323 & 0.7632  & ns  \\\\\n\\end{tabular}\n",
            "text/markdown": "\nA rstatix_test: 10 × 9\n\n| <!--/--> | .y. &lt;chr&gt; | group1 &lt;chr&gt; | group2 &lt;chr&gt; | n1 &lt;int&gt; | n2 &lt;int&gt; | statistic &lt;dbl&gt; | p &lt;chr&gt; | p.adj &lt;chr&gt; | p.adj.signif &lt;chr&gt; |\n|---|---|---|---|---|---|---|---|---|---|\n| 1 | URXUAC | Mex-Hisp    | Other-Hisp  |  584 |  418 | -0.4884104 | 0.62526 | 0.6947  | ns   |\n| 2 | URXUAC | Mex-Hisp    | Non-Hisp-WT |  584 | 1440 | -4.3659711 | &lt;0.0001 | &lt;0.0001 | **** |\n| 3 | URXUAC | Mex-Hisp    | Non-Hisp-BK |  584 |  893 |  1.0909804 | 0.27528 | 0.3441  | ns   |\n| 4 | URXUAC | Mex-Hisp    | Others      |  584 |  565 |  1.2583065 | 0.20828 | 0.2975  | ns   |\n| 5 | URXUAC | Other-Hisp  | Non-Hisp-WT |  418 | 1440 | -3.2919723 | 0.00099 | 0.0025  | **   |\n| 6 | URXUAC | Other-Hisp  | Non-Hisp-BK |  418 |  893 |  1.5076909 | 0.13163 | 0.2194  | ns   |\n| 7 | URXUAC | Other-Hisp  | Others      |  418 |  565 |  1.6359568 | 0.10185 | 0.2037  | ns   |\n| 8 | URXUAC | Non-Hisp-WT | Non-Hisp-BK | 1440 |  893 |  6.3917014 | &lt;0.0001 | &lt;0.0001 | **** |\n| 9 | URXUAC | Non-Hisp-WT | Others      | 1440 |  565 |  5.8104288 | &lt;0.0001 | &lt;0.0001 | **** |\n| 10 | URXUAC | Non-Hisp-BK | Others      |  893 |  565 |  0.3012408 | 0.76323 | 0.7632  | ns   |\n\n",
            "text/html": [
              "<table class=\"dataframe\">\n",
              "<caption>A rstatix_test: 10 × 9</caption>\n",
              "<thead>\n",
              "\t<tr><th></th><th scope=col>.y.</th><th scope=col>group1</th><th scope=col>group2</th><th scope=col>n1</th><th scope=col>n2</th><th scope=col>statistic</th><th scope=col>p</th><th scope=col>p.adj</th><th scope=col>p.adj.signif</th></tr>\n",
              "\t<tr><th></th><th scope=col>&lt;chr&gt;</th><th scope=col>&lt;chr&gt;</th><th scope=col>&lt;chr&gt;</th><th scope=col>&lt;int&gt;</th><th scope=col>&lt;int&gt;</th><th scope=col>&lt;dbl&gt;</th><th scope=col>&lt;chr&gt;</th><th scope=col>&lt;chr&gt;</th><th scope=col>&lt;chr&gt;</th></tr>\n",
              "</thead>\n",
              "<tbody>\n",
              "\t<tr><th scope=row>1</th><td>URXUAC</td><td>Mex-Hisp   </td><td>Other-Hisp </td><td> 584</td><td> 418</td><td>-0.4884104</td><td>0.62526</td><td>0.6947 </td><td>ns  </td></tr>\n",
              "\t<tr><th scope=row>2</th><td>URXUAC</td><td><span style=white-space:pre-wrap>Mex-Hisp   </span></td><td>Non-Hisp-WT</td><td> 584</td><td>1440</td><td>-4.3659711</td><td>&lt;0.0001</td><td>&lt;0.0001</td><td>****</td></tr>\n",
              "\t<tr><th scope=row>3</th><td>URXUAC</td><td>Mex-Hisp   </td><td>Non-Hisp-BK</td><td> 584</td><td> 893</td><td> 1.0909804</td><td>0.27528</td><td>0.3441 </td><td>ns  </td></tr>\n",
              "\t<tr><th scope=row>4</th><td>URXUAC</td><td>Mex-Hisp   </td><td>Others     </td><td> 584</td><td> 565</td><td> 1.2583065</td><td>0.20828</td><td>0.2975 </td><td>ns  </td></tr>\n",
              "\t<tr><th scope=row>5</th><td>URXUAC</td><td>Other-Hisp </td><td>Non-Hisp-WT</td><td> 418</td><td>1440</td><td>-3.2919723</td><td>0.00099</td><td>0.0025 </td><td>**  </td></tr>\n",
              "\t<tr><th scope=row>6</th><td>URXUAC</td><td>Other-Hisp </td><td>Non-Hisp-BK</td><td> 418</td><td> 893</td><td> 1.5076909</td><td>0.13163</td><td>0.2194 </td><td>ns  </td></tr>\n",
              "\t<tr><th scope=row>7</th><td>URXUAC</td><td>Other-Hisp </td><td>Others     </td><td> 418</td><td> 565</td><td> 1.6359568</td><td>0.10185</td><td>0.2037 </td><td>ns  </td></tr>\n",
              "\t<tr><th scope=row>8</th><td>URXUAC</td><td>Non-Hisp-WT</td><td>Non-Hisp-BK</td><td>1440</td><td> 893</td><td> 6.3917014</td><td>&lt;0.0001</td><td>&lt;0.0001</td><td>****</td></tr>\n",
              "\t<tr><th scope=row>9</th><td>URXUAC</td><td>Non-Hisp-WT</td><td><span style=white-space:pre-wrap>Others     </span></td><td>1440</td><td> 565</td><td> 5.8104288</td><td>&lt;0.0001</td><td>&lt;0.0001</td><td>****</td></tr>\n",
              "\t<tr><th scope=row>10</th><td>URXUAC</td><td>Non-Hisp-BK</td><td>Others     </td><td> 893</td><td> 565</td><td> 0.3012408</td><td>0.76323</td><td>0.7632 </td><td>ns  </td></tr>\n",
              "</tbody>\n",
              "</table>\n"
            ]
          },
          "metadata": {}
        }
      ]
    },
    {
      "cell_type": "markdown",
      "metadata": {
        "id": "1AzzpGXnWGDo"
      },
      "source": [
        "**Poverty Income Ratio**"
      ]
    },
    {
      "cell_type": "code",
      "metadata": {
        "id": "1dSZaSdS6PLO",
        "colab": {
          "base_uri": "https://localhost:8080/",
          "height": 593
        },
        "outputId": "129cce8d-8804-41e7-9974-7949f329814d"
      },
      "source": [
        "HSV_df_backup_postprep -> HSV_df\n",
        "\n",
        "HSV_df %<>% select(URXUAC, PIR) %>% filter(URXUAC != 'NA') %>% filter(PIR != 'NA')\n",
        "\n",
        "# kruskal wallis test\n",
        "kruskal.test(URXUAC~ PIR , data = HSV_df) \n",
        "\n",
        "cat(\"\\n\\n\")\n",
        "\n",
        "cat(\"\\n Numerical Summaries \\n\")\n",
        "# numerical summary\n",
        "HSV_df %$% num_summary(URXUAC, PIR) \n",
        "\n",
        "cat(\"\\n\\n\")\n",
        "\n",
        "cat(\"\\n Multiple Comparison \\n\")\n",
        "# multiple comparison\n",
        "dunn_test(URXUAC~ PIR , data = HSV_df, p.adjust.method = \"fdr\") %>%\n",
        "p_format(digits = 2, leading.zero = TRUE) ; HSV_df_backup_postprep -> HSV_df"
      ],
      "execution_count": null,
      "outputs": [
        {
          "output_type": "display_data",
          "data": {
            "text/plain": [
              "\n",
              "\tKruskal-Wallis rank sum test\n",
              "\n",
              "data:  URXUAC by PIR\n",
              "Kruskal-Wallis chi-squared = 6.6782, df = 2, p-value = 0.03547\n"
            ]
          },
          "metadata": {}
        },
        {
          "output_type": "stream",
          "name": "stdout",
          "text": [
            "\n",
            "\n",
            "\n",
            " Numerical Summaries \n"
          ]
        },
        {
          "output_type": "display_data",
          "data": {
            "text/plain": [
              "  variable Count Mean      Min  Q1   Q2   Q3   Max   Sd       \n",
              "1 1.0      1329  0.1245749 0.08 0.08 0.08 0.08  1.80 0.1518440\n",
              "2 2.0      1296  0.1652083 0.08 0.08 0.08 0.08 14.20 0.5818458\n",
              "3 3.0       958  0.1386534 0.08 0.08 0.08 0.08  4.99 0.2304635"
            ],
            "text/latex": "A tibble: 3 × 9\n\\begin{tabular}{lllllllll}\n variable & Count & Mean & Min & Q1 & Q2 & Q3 & Max & Sd\\\\\n <fct> & <int> & <dbl> & <dbl> & <dbl> & <dbl> & <dbl> & <dbl> & <dbl>\\\\\n\\hline\n\t 1.0 & 1329 & 0.1245749 & 0.08 & 0.08 & 0.08 & 0.08 &  1.80 & 0.1518440\\\\\n\t 2.0 & 1296 & 0.1652083 & 0.08 & 0.08 & 0.08 & 0.08 & 14.20 & 0.5818458\\\\\n\t 3.0 &  958 & 0.1386534 & 0.08 & 0.08 & 0.08 & 0.08 &  4.99 & 0.2304635\\\\\n\\end{tabular}\n",
            "text/markdown": "\nA tibble: 3 × 9\n\n| variable &lt;fct&gt; | Count &lt;int&gt; | Mean &lt;dbl&gt; | Min &lt;dbl&gt; | Q1 &lt;dbl&gt; | Q2 &lt;dbl&gt; | Q3 &lt;dbl&gt; | Max &lt;dbl&gt; | Sd &lt;dbl&gt; |\n|---|---|---|---|---|---|---|---|---|\n| 1.0 | 1329 | 0.1245749 | 0.08 | 0.08 | 0.08 | 0.08 |  1.80 | 0.1518440 |\n| 2.0 | 1296 | 0.1652083 | 0.08 | 0.08 | 0.08 | 0.08 | 14.20 | 0.5818458 |\n| 3.0 |  958 | 0.1386534 | 0.08 | 0.08 | 0.08 | 0.08 |  4.99 | 0.2304635 |\n\n",
            "text/html": [
              "<table class=\"dataframe\">\n",
              "<caption>A tibble: 3 × 9</caption>\n",
              "<thead>\n",
              "\t<tr><th scope=col>variable</th><th scope=col>Count</th><th scope=col>Mean</th><th scope=col>Min</th><th scope=col>Q1</th><th scope=col>Q2</th><th scope=col>Q3</th><th scope=col>Max</th><th scope=col>Sd</th></tr>\n",
              "\t<tr><th scope=col>&lt;fct&gt;</th><th scope=col>&lt;int&gt;</th><th scope=col>&lt;dbl&gt;</th><th scope=col>&lt;dbl&gt;</th><th scope=col>&lt;dbl&gt;</th><th scope=col>&lt;dbl&gt;</th><th scope=col>&lt;dbl&gt;</th><th scope=col>&lt;dbl&gt;</th><th scope=col>&lt;dbl&gt;</th></tr>\n",
              "</thead>\n",
              "<tbody>\n",
              "\t<tr><td>1.0</td><td>1329</td><td>0.1245749</td><td>0.08</td><td>0.08</td><td>0.08</td><td>0.08</td><td> 1.80</td><td>0.1518440</td></tr>\n",
              "\t<tr><td>2.0</td><td>1296</td><td>0.1652083</td><td>0.08</td><td>0.08</td><td>0.08</td><td>0.08</td><td>14.20</td><td>0.5818458</td></tr>\n",
              "\t<tr><td>3.0</td><td> 958</td><td>0.1386534</td><td>0.08</td><td>0.08</td><td>0.08</td><td>0.08</td><td> 4.99</td><td>0.2304635</td></tr>\n",
              "</tbody>\n",
              "</table>\n"
            ]
          },
          "metadata": {}
        },
        {
          "output_type": "stream",
          "name": "stdout",
          "text": [
            "\n",
            "\n",
            "\n",
            " Multiple Comparison \n"
          ]
        },
        {
          "output_type": "display_data",
          "data": {
            "text/plain": [
              "  .y.    group1 group2 n1   n2   statistic p     p.adj p.adj.signif\n",
              "1 URXUAC 1.0    2.0    1329 1296 0.7810957 0.435 0.435 ns          \n",
              "2 URXUAC 1.0    3.0    1329  958 2.5490953 0.011 0.032 *           \n",
              "3 URXUAC 2.0    3.0    1296  958 1.8199396 0.069 0.103 ns          "
            ],
            "text/latex": "A rstatix\\_test: 3 × 9\n\\begin{tabular}{r|lllllllll}\n  & .y. & group1 & group2 & n1 & n2 & statistic & p & p.adj & p.adj.signif\\\\\n  & <chr> & <chr> & <chr> & <int> & <int> & <dbl> & <chr> & <chr> & <chr>\\\\\n\\hline\n\t1 & URXUAC & 1.0 & 2.0 & 1329 & 1296 & 0.7810957 & 0.435 & 0.435 & ns\\\\\n\t2 & URXUAC & 1.0 & 3.0 & 1329 &  958 & 2.5490953 & 0.011 & 0.032 & * \\\\\n\t3 & URXUAC & 2.0 & 3.0 & 1296 &  958 & 1.8199396 & 0.069 & 0.103 & ns\\\\\n\\end{tabular}\n",
            "text/markdown": "\nA rstatix_test: 3 × 9\n\n| <!--/--> | .y. &lt;chr&gt; | group1 &lt;chr&gt; | group2 &lt;chr&gt; | n1 &lt;int&gt; | n2 &lt;int&gt; | statistic &lt;dbl&gt; | p &lt;chr&gt; | p.adj &lt;chr&gt; | p.adj.signif &lt;chr&gt; |\n|---|---|---|---|---|---|---|---|---|---|\n| 1 | URXUAC | 1.0 | 2.0 | 1329 | 1296 | 0.7810957 | 0.435 | 0.435 | ns |\n| 2 | URXUAC | 1.0 | 3.0 | 1329 |  958 | 2.5490953 | 0.011 | 0.032 | *  |\n| 3 | URXUAC | 2.0 | 3.0 | 1296 |  958 | 1.8199396 | 0.069 | 0.103 | ns |\n\n",
            "text/html": [
              "<table class=\"dataframe\">\n",
              "<caption>A rstatix_test: 3 × 9</caption>\n",
              "<thead>\n",
              "\t<tr><th></th><th scope=col>.y.</th><th scope=col>group1</th><th scope=col>group2</th><th scope=col>n1</th><th scope=col>n2</th><th scope=col>statistic</th><th scope=col>p</th><th scope=col>p.adj</th><th scope=col>p.adj.signif</th></tr>\n",
              "\t<tr><th></th><th scope=col>&lt;chr&gt;</th><th scope=col>&lt;chr&gt;</th><th scope=col>&lt;chr&gt;</th><th scope=col>&lt;int&gt;</th><th scope=col>&lt;int&gt;</th><th scope=col>&lt;dbl&gt;</th><th scope=col>&lt;chr&gt;</th><th scope=col>&lt;chr&gt;</th><th scope=col>&lt;chr&gt;</th></tr>\n",
              "</thead>\n",
              "<tbody>\n",
              "\t<tr><th scope=row>1</th><td>URXUAC</td><td>1.0</td><td>2.0</td><td>1329</td><td>1296</td><td>0.7810957</td><td>0.435</td><td>0.435</td><td>ns</td></tr>\n",
              "\t<tr><th scope=row>2</th><td>URXUAC</td><td>1.0</td><td>3.0</td><td>1329</td><td> 958</td><td>2.5490953</td><td>0.011</td><td>0.032</td><td>* </td></tr>\n",
              "\t<tr><th scope=row>3</th><td>URXUAC</td><td>2.0</td><td>3.0</td><td>1296</td><td> 958</td><td>1.8199396</td><td>0.069</td><td>0.103</td><td>ns</td></tr>\n",
              "</tbody>\n",
              "</table>\n"
            ]
          },
          "metadata": {}
        }
      ]
    },
    {
      "cell_type": "markdown",
      "metadata": {
        "id": "WsAovFBNWRs_"
      },
      "source": [
        "**Alcohol**"
      ]
    },
    {
      "cell_type": "code",
      "metadata": {
        "id": "EIBUXqYZ6lIj",
        "colab": {
          "base_uri": "https://localhost:8080/",
          "height": 104
        },
        "outputId": "34c90fb2-d761-44a8-d447-37645e0d3c02"
      },
      "source": [
        "\n",
        "# Alcohol\n",
        "kruskal.test(URXUAC~ ALQ101 , data = HSV_df)"
      ],
      "execution_count": null,
      "outputs": [
        {
          "output_type": "display_data",
          "data": {
            "text/plain": [
              "\n",
              "\tKruskal-Wallis rank sum test\n",
              "\n",
              "data:  URXUAC by ALQ101\n",
              "Kruskal-Wallis chi-squared = 0.83168, df = 1, p-value = 0.3618\n"
            ]
          },
          "metadata": {}
        }
      ]
    },
    {
      "cell_type": "markdown",
      "metadata": {
        "id": "NMF6_sbGWUP4"
      },
      "source": [
        "**Cotinine**"
      ]
    },
    {
      "cell_type": "code",
      "metadata": {
        "id": "SMrSvv6v6mMD",
        "colab": {
          "base_uri": "https://localhost:8080/",
          "height": 104
        },
        "outputId": "baf7e1c7-078f-42cc-fe8a-5b4c1cbf83fb"
      },
      "source": [
        "\n",
        "# Cotinine\n",
        "kruskal.test(URXUAC~ LBDCOTLC , data = HSV_df)"
      ],
      "execution_count": null,
      "outputs": [
        {
          "output_type": "display_data",
          "data": {
            "text/plain": [
              "\n",
              "\tKruskal-Wallis rank sum test\n",
              "\n",
              "data:  URXUAC by LBDCOTLC\n",
              "Kruskal-Wallis chi-squared = 0.076888, df = 1, p-value = 0.7816\n"
            ]
          },
          "metadata": {}
        }
      ]
    },
    {
      "cell_type": "markdown",
      "metadata": {
        "id": "whwrSZtcoTxD"
      },
      "source": [
        "###  **Arsenic 5(URXUDMA : Urinary Dimethylarsinic acid (ug/L))** \n",
        "\n",
        "At alpha level of 0.05, for Urinary Dimethylarsinic acid (ug/L), there is statistical significance for  **BMI and race**\n",
        "\n",
        "There is no statistical significance for education, marital status, cotinine, alcohol, and poverty index ratio."
      ]
    },
    {
      "cell_type": "markdown",
      "metadata": {
        "id": "lsTgdTwxWbRK"
      },
      "source": [
        "**BMI**"
      ]
    },
    {
      "cell_type": "code",
      "metadata": {
        "id": "hSDpdlr0opMV",
        "colab": {
          "base_uri": "https://localhost:8080/",
          "height": 718
        },
        "outputId": "e218bc92-9d05-48c9-bc4f-5f653cbb1df6"
      },
      "source": [
        "HSV_df_backup_postprep -> HSV_df\n",
        "\n",
        "HSV_df %<>% select(URXUDMA, BMI.f ) %>% filter(URXUDMA != 'NA') %>% filter(BMI.f  != 'NA')\n",
        "\n",
        "# kruskal wallis test\n",
        "kruskal.test(URXUDMA~ BMI.f  , data = HSV_df) \n",
        "\n",
        "cat(\"\\n\\n\")\n",
        "\n",
        "cat(\"\\n Numerical Summaries \\n\")\n",
        "# numerical summary\n",
        "HSV_df %$% num_summary(URXUDMA, BMI.f ) \n",
        "\n",
        "cat(\"\\n\\n\")\n",
        "\n",
        "cat(\"\\n Multiple Comparison \\n\")\n",
        "# multiple comparison\n",
        "dunn_test(URXUDMA~ BMI.f  , data = HSV_df, p.adjust.method = \"fdr\") %>%\n",
        "p_format(digits = 2, leading.zero = TRUE) ; HSV_df_backup_postprep -> HSV_df"
      ],
      "execution_count": null,
      "outputs": [
        {
          "output_type": "display_data",
          "data": {
            "text/plain": [
              "\n",
              "\tKruskal-Wallis rank sum test\n",
              "\n",
              "data:  URXUDMA by BMI.f\n",
              "Kruskal-Wallis chi-squared = 21.226, df = 3, p-value = 9.449e-05\n"
            ]
          },
          "metadata": {}
        },
        {
          "output_type": "stream",
          "name": "stdout",
          "text": [
            "\n",
            "\n",
            "\n",
            " Numerical Summaries \n"
          ]
        },
        {
          "output_type": "display_data",
          "data": {
            "text/plain": [
              "  variable      Count Mean     Min  Q1    Q2    Q3    Max   Sd       \n",
              "1 Underweight     80  6.119625 1.35 1.350 2.550 5.545 84.70 11.921654\n",
              "2 Normal weight 1140  5.119211 1.35 1.350 3.185 5.700 68.41  6.061702\n",
              "3 Overweight    1166  5.073208 1.35 1.350 3.300 5.930 51.51  5.745972\n",
              "4 Obesity       1495  4.753385 1.35 2.015 3.470 5.660 80.75  4.984157"
            ],
            "text/latex": "A tibble: 4 × 9\n\\begin{tabular}{lllllllll}\n variable & Count & Mean & Min & Q1 & Q2 & Q3 & Max & Sd\\\\\n <fct> & <int> & <dbl> & <dbl> & <dbl> & <dbl> & <dbl> & <dbl> & <dbl>\\\\\n\\hline\n\t Underweight   &   80 & 6.119625 & 1.35 & 1.350 & 2.550 & 5.545 & 84.70 & 11.921654\\\\\n\t Normal weight & 1140 & 5.119211 & 1.35 & 1.350 & 3.185 & 5.700 & 68.41 &  6.061702\\\\\n\t Overweight    & 1166 & 5.073208 & 1.35 & 1.350 & 3.300 & 5.930 & 51.51 &  5.745972\\\\\n\t Obesity       & 1495 & 4.753385 & 1.35 & 2.015 & 3.470 & 5.660 & 80.75 &  4.984157\\\\\n\\end{tabular}\n",
            "text/markdown": "\nA tibble: 4 × 9\n\n| variable &lt;fct&gt; | Count &lt;int&gt; | Mean &lt;dbl&gt; | Min &lt;dbl&gt; | Q1 &lt;dbl&gt; | Q2 &lt;dbl&gt; | Q3 &lt;dbl&gt; | Max &lt;dbl&gt; | Sd &lt;dbl&gt; |\n|---|---|---|---|---|---|---|---|---|\n| Underweight   |   80 | 6.119625 | 1.35 | 1.350 | 2.550 | 5.545 | 84.70 | 11.921654 |\n| Normal weight | 1140 | 5.119211 | 1.35 | 1.350 | 3.185 | 5.700 | 68.41 |  6.061702 |\n| Overweight    | 1166 | 5.073208 | 1.35 | 1.350 | 3.300 | 5.930 | 51.51 |  5.745972 |\n| Obesity       | 1495 | 4.753385 | 1.35 | 2.015 | 3.470 | 5.660 | 80.75 |  4.984157 |\n\n",
            "text/html": [
              "<table class=\"dataframe\">\n",
              "<caption>A tibble: 4 × 9</caption>\n",
              "<thead>\n",
              "\t<tr><th scope=col>variable</th><th scope=col>Count</th><th scope=col>Mean</th><th scope=col>Min</th><th scope=col>Q1</th><th scope=col>Q2</th><th scope=col>Q3</th><th scope=col>Max</th><th scope=col>Sd</th></tr>\n",
              "\t<tr><th scope=col>&lt;fct&gt;</th><th scope=col>&lt;int&gt;</th><th scope=col>&lt;dbl&gt;</th><th scope=col>&lt;dbl&gt;</th><th scope=col>&lt;dbl&gt;</th><th scope=col>&lt;dbl&gt;</th><th scope=col>&lt;dbl&gt;</th><th scope=col>&lt;dbl&gt;</th><th scope=col>&lt;dbl&gt;</th></tr>\n",
              "</thead>\n",
              "<tbody>\n",
              "\t<tr><td>Underweight  </td><td>  80</td><td>6.119625</td><td>1.35</td><td>1.350</td><td>2.550</td><td>5.545</td><td>84.70</td><td>11.921654</td></tr>\n",
              "\t<tr><td>Normal weight</td><td>1140</td><td>5.119211</td><td>1.35</td><td>1.350</td><td>3.185</td><td>5.700</td><td>68.41</td><td> 6.061702</td></tr>\n",
              "\t<tr><td>Overweight   </td><td>1166</td><td>5.073208</td><td>1.35</td><td>1.350</td><td>3.300</td><td>5.930</td><td>51.51</td><td> 5.745972</td></tr>\n",
              "\t<tr><td>Obesity      </td><td>1495</td><td>4.753385</td><td>1.35</td><td>2.015</td><td>3.470</td><td>5.660</td><td>80.75</td><td> 4.984157</td></tr>\n",
              "</tbody>\n",
              "</table>\n"
            ]
          },
          "metadata": {}
        },
        {
          "output_type": "stream",
          "name": "stdout",
          "text": [
            "\n",
            "\n",
            "\n",
            " Multiple Comparison \n"
          ]
        },
        {
          "output_type": "display_data",
          "data": {
            "text/plain": [
              "  .y.     group1        group2        n1   n2   statistic p       p.adj  \n",
              "1 URXUDMA Underweight   Normal weight   80 1140 0.725040  0.4684  0.46843\n",
              "2 URXUDMA Underweight   Overweight      80 1166 1.255601  0.2093  0.25111\n",
              "3 URXUDMA Underweight   Obesity         80 1495 2.188070  0.0287  0.05733\n",
              "4 URXUDMA Normal weight Overweight    1140 1166 1.470745  0.1414  0.21204\n",
              "5 URXUDMA Normal weight Obesity       1140 1495 4.253161  <0.0001 0.00013\n",
              "6 URXUDMA Overweight    Obesity       1166 1495 2.712443  0.0067  0.02004\n",
              "  p.adj.signif\n",
              "1 ns          \n",
              "2 ns          \n",
              "3 ns          \n",
              "4 ns          \n",
              "5 ***         \n",
              "6 *           "
            ],
            "text/latex": "A rstatix\\_test: 6 × 9\n\\begin{tabular}{r|lllllllll}\n  & .y. & group1 & group2 & n1 & n2 & statistic & p & p.adj & p.adj.signif\\\\\n  & <chr> & <chr> & <chr> & <int> & <int> & <dbl> & <chr> & <chr> & <chr>\\\\\n\\hline\n\t1 & URXUDMA & Underweight   & Normal weight &   80 & 1140 & 0.725040 & 0.4684  & 0.46843 & ns \\\\\n\t2 & URXUDMA & Underweight   & Overweight    &   80 & 1166 & 1.255601 & 0.2093  & 0.25111 & ns \\\\\n\t3 & URXUDMA & Underweight   & Obesity       &   80 & 1495 & 2.188070 & 0.0287  & 0.05733 & ns \\\\\n\t4 & URXUDMA & Normal weight & Overweight    & 1140 & 1166 & 1.470745 & 0.1414  & 0.21204 & ns \\\\\n\t5 & URXUDMA & Normal weight & Obesity       & 1140 & 1495 & 4.253161 & <0.0001 & 0.00013 & ***\\\\\n\t6 & URXUDMA & Overweight    & Obesity       & 1166 & 1495 & 2.712443 & 0.0067  & 0.02004 & *  \\\\\n\\end{tabular}\n",
            "text/markdown": "\nA rstatix_test: 6 × 9\n\n| <!--/--> | .y. &lt;chr&gt; | group1 &lt;chr&gt; | group2 &lt;chr&gt; | n1 &lt;int&gt; | n2 &lt;int&gt; | statistic &lt;dbl&gt; | p &lt;chr&gt; | p.adj &lt;chr&gt; | p.adj.signif &lt;chr&gt; |\n|---|---|---|---|---|---|---|---|---|---|\n| 1 | URXUDMA | Underweight   | Normal weight |   80 | 1140 | 0.725040 | 0.4684  | 0.46843 | ns  |\n| 2 | URXUDMA | Underweight   | Overweight    |   80 | 1166 | 1.255601 | 0.2093  | 0.25111 | ns  |\n| 3 | URXUDMA | Underweight   | Obesity       |   80 | 1495 | 2.188070 | 0.0287  | 0.05733 | ns  |\n| 4 | URXUDMA | Normal weight | Overweight    | 1140 | 1166 | 1.470745 | 0.1414  | 0.21204 | ns  |\n| 5 | URXUDMA | Normal weight | Obesity       | 1140 | 1495 | 4.253161 | &lt;0.0001 | 0.00013 | *** |\n| 6 | URXUDMA | Overweight    | Obesity       | 1166 | 1495 | 2.712443 | 0.0067  | 0.02004 | *   |\n\n",
            "text/html": [
              "<table class=\"dataframe\">\n",
              "<caption>A rstatix_test: 6 × 9</caption>\n",
              "<thead>\n",
              "\t<tr><th></th><th scope=col>.y.</th><th scope=col>group1</th><th scope=col>group2</th><th scope=col>n1</th><th scope=col>n2</th><th scope=col>statistic</th><th scope=col>p</th><th scope=col>p.adj</th><th scope=col>p.adj.signif</th></tr>\n",
              "\t<tr><th></th><th scope=col>&lt;chr&gt;</th><th scope=col>&lt;chr&gt;</th><th scope=col>&lt;chr&gt;</th><th scope=col>&lt;int&gt;</th><th scope=col>&lt;int&gt;</th><th scope=col>&lt;dbl&gt;</th><th scope=col>&lt;chr&gt;</th><th scope=col>&lt;chr&gt;</th><th scope=col>&lt;chr&gt;</th></tr>\n",
              "</thead>\n",
              "<tbody>\n",
              "\t<tr><th scope=row>1</th><td>URXUDMA</td><td>Underweight  </td><td>Normal weight</td><td>  80</td><td>1140</td><td>0.725040</td><td>0.4684 </td><td>0.46843</td><td>ns </td></tr>\n",
              "\t<tr><th scope=row>2</th><td>URXUDMA</td><td>Underweight  </td><td>Overweight   </td><td>  80</td><td>1166</td><td>1.255601</td><td>0.2093 </td><td>0.25111</td><td>ns </td></tr>\n",
              "\t<tr><th scope=row>3</th><td>URXUDMA</td><td>Underweight  </td><td>Obesity      </td><td>  80</td><td>1495</td><td>2.188070</td><td>0.0287 </td><td>0.05733</td><td>ns </td></tr>\n",
              "\t<tr><th scope=row>4</th><td>URXUDMA</td><td>Normal weight</td><td>Overweight   </td><td>1140</td><td>1166</td><td>1.470745</td><td>0.1414 </td><td>0.21204</td><td>ns </td></tr>\n",
              "\t<tr><th scope=row>5</th><td>URXUDMA</td><td>Normal weight</td><td><span style=white-space:pre-wrap>Obesity      </span></td><td>1140</td><td>1495</td><td>4.253161</td><td>&lt;0.0001</td><td>0.00013</td><td>***</td></tr>\n",
              "\t<tr><th scope=row>6</th><td>URXUDMA</td><td>Overweight   </td><td>Obesity      </td><td>1166</td><td>1495</td><td>2.712443</td><td>0.0067 </td><td>0.02004</td><td>*  </td></tr>\n",
              "</tbody>\n",
              "</table>\n"
            ]
          },
          "metadata": {}
        }
      ]
    },
    {
      "cell_type": "markdown",
      "metadata": {
        "id": "SJ5T-BsCWdbr"
      },
      "source": [
        "**Education**"
      ]
    },
    {
      "cell_type": "code",
      "metadata": {
        "id": "j1GV6vMo6s-o",
        "colab": {
          "base_uri": "https://localhost:8080/",
          "height": 104
        },
        "outputId": "047030b5-8c2e-4fac-d969-fe1f6b9f8ab0"
      },
      "source": [
        "\n",
        "# Education\n",
        "kruskal.test(URXUDMA~ DMDEDUC2 , data = HSV_df) "
      ],
      "execution_count": null,
      "outputs": [
        {
          "output_type": "display_data",
          "data": {
            "text/plain": [
              "\n",
              "\tKruskal-Wallis rank sum test\n",
              "\n",
              "data:  URXUDMA by DMDEDUC2\n",
              "Kruskal-Wallis chi-squared = 2.1234, df = 4, p-value = 0.7131\n"
            ]
          },
          "metadata": {}
        }
      ]
    },
    {
      "cell_type": "markdown",
      "metadata": {
        "id": "HCS1Cf0RWgMM"
      },
      "source": [
        "**Marital Status**"
      ]
    },
    {
      "cell_type": "code",
      "metadata": {
        "id": "igz0IbyM6twh",
        "colab": {
          "base_uri": "https://localhost:8080/",
          "height": 104
        },
        "outputId": "825824b0-08e9-4fc7-97dd-75ed8c08dd95"
      },
      "source": [
        "\n",
        "# Marital Status\n",
        "kruskal.test(URXUDMA~ DMDMARTL , data = HSV_df) "
      ],
      "execution_count": null,
      "outputs": [
        {
          "output_type": "display_data",
          "data": {
            "text/plain": [
              "\n",
              "\tKruskal-Wallis rank sum test\n",
              "\n",
              "data:  URXUDMA by DMDMARTL\n",
              "Kruskal-Wallis chi-squared = 3.1394, df = 5, p-value = 0.6785\n"
            ]
          },
          "metadata": {}
        }
      ]
    },
    {
      "cell_type": "markdown",
      "metadata": {
        "id": "zJiCGFjpWiod"
      },
      "source": [
        "**Race**"
      ]
    },
    {
      "cell_type": "code",
      "metadata": {
        "id": "GrzBx4ql6zEW",
        "colab": {
          "base_uri": "https://localhost:8080/",
          "height": 875
        },
        "outputId": "0475c5d5-604f-4ed2-c932-270dd03aa3bc"
      },
      "source": [
        "HSV_df_backup_postprep -> HSV_df\n",
        "\n",
        "HSV_df %<>% select(URXUDMA, RIDRETH1  ) %>% filter(URXUDMA != 'NA') %>% filter(RIDRETH1   != 'NA')\n",
        "\n",
        "# kruskal wallis test\n",
        "kruskal.test(URXUDMA~ RIDRETH1   , data = HSV_df) \n",
        "\n",
        "cat(\"\\n\\n\")\n",
        "\n",
        "cat(\"\\n Numerical Summaries \\n\")\n",
        "# numerical summary\n",
        "HSV_df %$% num_summary(URXUDMA, RIDRETH1  ) \n",
        "\n",
        "cat(\"\\n\\n\")\n",
        "\n",
        "cat(\"\\n Multiple Comparison \\n\")\n",
        "# multiple comparison\n",
        "dunn_test(URXUDMA~ RIDRETH1   , data = HSV_df, p.adjust.method = \"fdr\") %>%\n",
        "p_format(digits = 2, leading.zero = TRUE) ; HSV_df_backup_postprep -> HSV_df"
      ],
      "execution_count": null,
      "outputs": [
        {
          "output_type": "display_data",
          "data": {
            "text/plain": [
              "\n",
              "\tKruskal-Wallis rank sum test\n",
              "\n",
              "data:  URXUDMA by RIDRETH1\n",
              "Kruskal-Wallis chi-squared = 78.427, df = 4, p-value = 3.752e-16\n"
            ]
          },
          "metadata": {}
        },
        {
          "output_type": "stream",
          "name": "stdout",
          "text": [
            "\n",
            "\n",
            "\n",
            " Numerical Summaries \n"
          ]
        },
        {
          "output_type": "display_data",
          "data": {
            "text/plain": [
              "  variable    Count Mean     Min  Q1   Q2    Q3    Max   Sd      \n",
              "1 Mex-Hisp     584  4.368990 1.35 2.01 3.365 5.185 49.30 4.225119\n",
              "2 Other-Hisp   418  5.828732 1.35 2.26 4.070 7.365 51.36 6.356071\n",
              "3 Non-Hisp-WT 1440  3.798861 1.35 1.35 2.650 4.590 84.70 4.264914\n",
              "4 Non-Hisp-BK  893  5.186764 1.35 2.08 3.460 5.850 80.75 5.990751\n",
              "5 Others       565  7.713876 1.35 2.72 5.050 9.780 68.41 8.117739"
            ],
            "text/latex": "A tibble: 5 × 9\n\\begin{tabular}{lllllllll}\n variable & Count & Mean & Min & Q1 & Q2 & Q3 & Max & Sd\\\\\n <fct> & <int> & <dbl> & <dbl> & <dbl> & <dbl> & <dbl> & <dbl> & <dbl>\\\\\n\\hline\n\t Mex-Hisp    &  584 & 4.368990 & 1.35 & 2.01 & 3.365 & 5.185 & 49.30 & 4.225119\\\\\n\t Other-Hisp  &  418 & 5.828732 & 1.35 & 2.26 & 4.070 & 7.365 & 51.36 & 6.356071\\\\\n\t Non-Hisp-WT & 1440 & 3.798861 & 1.35 & 1.35 & 2.650 & 4.590 & 84.70 & 4.264914\\\\\n\t Non-Hisp-BK &  893 & 5.186764 & 1.35 & 2.08 & 3.460 & 5.850 & 80.75 & 5.990751\\\\\n\t Others      &  565 & 7.713876 & 1.35 & 2.72 & 5.050 & 9.780 & 68.41 & 8.117739\\\\\n\\end{tabular}\n",
            "text/markdown": "\nA tibble: 5 × 9\n\n| variable &lt;fct&gt; | Count &lt;int&gt; | Mean &lt;dbl&gt; | Min &lt;dbl&gt; | Q1 &lt;dbl&gt; | Q2 &lt;dbl&gt; | Q3 &lt;dbl&gt; | Max &lt;dbl&gt; | Sd &lt;dbl&gt; |\n|---|---|---|---|---|---|---|---|---|\n| Mex-Hisp    |  584 | 4.368990 | 1.35 | 2.01 | 3.365 | 5.185 | 49.30 | 4.225119 |\n| Other-Hisp  |  418 | 5.828732 | 1.35 | 2.26 | 4.070 | 7.365 | 51.36 | 6.356071 |\n| Non-Hisp-WT | 1440 | 3.798861 | 1.35 | 1.35 | 2.650 | 4.590 | 84.70 | 4.264914 |\n| Non-Hisp-BK |  893 | 5.186764 | 1.35 | 2.08 | 3.460 | 5.850 | 80.75 | 5.990751 |\n| Others      |  565 | 7.713876 | 1.35 | 2.72 | 5.050 | 9.780 | 68.41 | 8.117739 |\n\n",
            "text/html": [
              "<table class=\"dataframe\">\n",
              "<caption>A tibble: 5 × 9</caption>\n",
              "<thead>\n",
              "\t<tr><th scope=col>variable</th><th scope=col>Count</th><th scope=col>Mean</th><th scope=col>Min</th><th scope=col>Q1</th><th scope=col>Q2</th><th scope=col>Q3</th><th scope=col>Max</th><th scope=col>Sd</th></tr>\n",
              "\t<tr><th scope=col>&lt;fct&gt;</th><th scope=col>&lt;int&gt;</th><th scope=col>&lt;dbl&gt;</th><th scope=col>&lt;dbl&gt;</th><th scope=col>&lt;dbl&gt;</th><th scope=col>&lt;dbl&gt;</th><th scope=col>&lt;dbl&gt;</th><th scope=col>&lt;dbl&gt;</th><th scope=col>&lt;dbl&gt;</th></tr>\n",
              "</thead>\n",
              "<tbody>\n",
              "\t<tr><td>Mex-Hisp   </td><td> 584</td><td>4.368990</td><td>1.35</td><td>2.01</td><td>3.365</td><td>5.185</td><td>49.30</td><td>4.225119</td></tr>\n",
              "\t<tr><td>Other-Hisp </td><td> 418</td><td>5.828732</td><td>1.35</td><td>2.26</td><td>4.070</td><td>7.365</td><td>51.36</td><td>6.356071</td></tr>\n",
              "\t<tr><td>Non-Hisp-WT</td><td>1440</td><td>3.798861</td><td>1.35</td><td>1.35</td><td>2.650</td><td>4.590</td><td>84.70</td><td>4.264914</td></tr>\n",
              "\t<tr><td>Non-Hisp-BK</td><td> 893</td><td>5.186764</td><td>1.35</td><td>2.08</td><td>3.460</td><td>5.850</td><td>80.75</td><td>5.990751</td></tr>\n",
              "\t<tr><td>Others     </td><td> 565</td><td>7.713876</td><td>1.35</td><td>2.72</td><td>5.050</td><td>9.780</td><td>68.41</td><td>8.117739</td></tr>\n",
              "</tbody>\n",
              "</table>\n"
            ]
          },
          "metadata": {}
        },
        {
          "output_type": "stream",
          "name": "stdout",
          "text": [
            "\n",
            "\n",
            "\n",
            " Multiple Comparison \n"
          ]
        },
        {
          "output_type": "display_data",
          "data": {
            "text/plain": [
              "   .y.     group1      group2      n1   n2   statistic  p       p.adj  \n",
              "1  URXUDMA Mex-Hisp    Other-Hisp   584  418  1.7727829 0.076   0.109  \n",
              "2  URXUDMA Mex-Hisp    Non-Hisp-WT  584 1440 -5.1949378 <0.0001 <0.0001\n",
              "3  URXUDMA Mex-Hisp    Non-Hisp-BK  584  893 -0.6161800 0.538   0.538  \n",
              "4  URXUDMA Mex-Hisp    Others       584  565  1.2158715 0.224   0.28   \n",
              "5  URXUDMA Other-Hisp  Non-Hisp-WT  418 1440 -6.6314508 <0.0001 <0.0001\n",
              "6  URXUDMA Other-Hisp  Non-Hisp-BK  418  893 -2.4698159 0.014   0.027  \n",
              "7  URXUDMA Other-Hisp  Others       418  565 -0.6483548 0.517   0.538  \n",
              "8  URXUDMA Non-Hisp-WT Non-Hisp-BK 1440  893  5.2135269 <0.0001 <0.0001\n",
              "9  URXUDMA Non-Hisp-WT Others      1440  565  6.5792103 <0.0001 <0.0001\n",
              "10 URXUDMA Non-Hisp-BK Others       893  565  1.9447240 0.052   0.086  \n",
              "   p.adj.signif\n",
              "1  ns          \n",
              "2  ****        \n",
              "3  ns          \n",
              "4  ns          \n",
              "5  ****        \n",
              "6  *           \n",
              "7  ns          \n",
              "8  ****        \n",
              "9  ****        \n",
              "10 ns          "
            ],
            "text/latex": "A rstatix\\_test: 10 × 9\n\\begin{tabular}{r|lllllllll}\n  & .y. & group1 & group2 & n1 & n2 & statistic & p & p.adj & p.adj.signif\\\\\n  & <chr> & <chr> & <chr> & <int> & <int> & <dbl> & <chr> & <chr> & <chr>\\\\\n\\hline\n\t1 & URXUDMA & Mex-Hisp    & Other-Hisp  &  584 &  418 &  1.7727829 & 0.076   & 0.109   & ns  \\\\\n\t2 & URXUDMA & Mex-Hisp    & Non-Hisp-WT &  584 & 1440 & -5.1949378 & <0.0001 & <0.0001 & ****\\\\\n\t3 & URXUDMA & Mex-Hisp    & Non-Hisp-BK &  584 &  893 & -0.6161800 & 0.538   & 0.538   & ns  \\\\\n\t4 & URXUDMA & Mex-Hisp    & Others      &  584 &  565 &  1.2158715 & 0.224   & 0.28    & ns  \\\\\n\t5 & URXUDMA & Other-Hisp  & Non-Hisp-WT &  418 & 1440 & -6.6314508 & <0.0001 & <0.0001 & ****\\\\\n\t6 & URXUDMA & Other-Hisp  & Non-Hisp-BK &  418 &  893 & -2.4698159 & 0.014   & 0.027   & *   \\\\\n\t7 & URXUDMA & Other-Hisp  & Others      &  418 &  565 & -0.6483548 & 0.517   & 0.538   & ns  \\\\\n\t8 & URXUDMA & Non-Hisp-WT & Non-Hisp-BK & 1440 &  893 &  5.2135269 & <0.0001 & <0.0001 & ****\\\\\n\t9 & URXUDMA & Non-Hisp-WT & Others      & 1440 &  565 &  6.5792103 & <0.0001 & <0.0001 & ****\\\\\n\t10 & URXUDMA & Non-Hisp-BK & Others      &  893 &  565 &  1.9447240 & 0.052   & 0.086   & ns  \\\\\n\\end{tabular}\n",
            "text/markdown": "\nA rstatix_test: 10 × 9\n\n| <!--/--> | .y. &lt;chr&gt; | group1 &lt;chr&gt; | group2 &lt;chr&gt; | n1 &lt;int&gt; | n2 &lt;int&gt; | statistic &lt;dbl&gt; | p &lt;chr&gt; | p.adj &lt;chr&gt; | p.adj.signif &lt;chr&gt; |\n|---|---|---|---|---|---|---|---|---|---|\n| 1 | URXUDMA | Mex-Hisp    | Other-Hisp  |  584 |  418 |  1.7727829 | 0.076   | 0.109   | ns   |\n| 2 | URXUDMA | Mex-Hisp    | Non-Hisp-WT |  584 | 1440 | -5.1949378 | &lt;0.0001 | &lt;0.0001 | **** |\n| 3 | URXUDMA | Mex-Hisp    | Non-Hisp-BK |  584 |  893 | -0.6161800 | 0.538   | 0.538   | ns   |\n| 4 | URXUDMA | Mex-Hisp    | Others      |  584 |  565 |  1.2158715 | 0.224   | 0.28    | ns   |\n| 5 | URXUDMA | Other-Hisp  | Non-Hisp-WT |  418 | 1440 | -6.6314508 | &lt;0.0001 | &lt;0.0001 | **** |\n| 6 | URXUDMA | Other-Hisp  | Non-Hisp-BK |  418 |  893 | -2.4698159 | 0.014   | 0.027   | *    |\n| 7 | URXUDMA | Other-Hisp  | Others      |  418 |  565 | -0.6483548 | 0.517   | 0.538   | ns   |\n| 8 | URXUDMA | Non-Hisp-WT | Non-Hisp-BK | 1440 |  893 |  5.2135269 | &lt;0.0001 | &lt;0.0001 | **** |\n| 9 | URXUDMA | Non-Hisp-WT | Others      | 1440 |  565 |  6.5792103 | &lt;0.0001 | &lt;0.0001 | **** |\n| 10 | URXUDMA | Non-Hisp-BK | Others      |  893 |  565 |  1.9447240 | 0.052   | 0.086   | ns   |\n\n",
            "text/html": [
              "<table class=\"dataframe\">\n",
              "<caption>A rstatix_test: 10 × 9</caption>\n",
              "<thead>\n",
              "\t<tr><th></th><th scope=col>.y.</th><th scope=col>group1</th><th scope=col>group2</th><th scope=col>n1</th><th scope=col>n2</th><th scope=col>statistic</th><th scope=col>p</th><th scope=col>p.adj</th><th scope=col>p.adj.signif</th></tr>\n",
              "\t<tr><th></th><th scope=col>&lt;chr&gt;</th><th scope=col>&lt;chr&gt;</th><th scope=col>&lt;chr&gt;</th><th scope=col>&lt;int&gt;</th><th scope=col>&lt;int&gt;</th><th scope=col>&lt;dbl&gt;</th><th scope=col>&lt;chr&gt;</th><th scope=col>&lt;chr&gt;</th><th scope=col>&lt;chr&gt;</th></tr>\n",
              "</thead>\n",
              "<tbody>\n",
              "\t<tr><th scope=row>1</th><td>URXUDMA</td><td>Mex-Hisp   </td><td>Other-Hisp </td><td> 584</td><td> 418</td><td> 1.7727829</td><td>0.076  </td><td>0.109  </td><td>ns  </td></tr>\n",
              "\t<tr><th scope=row>2</th><td>URXUDMA</td><td><span style=white-space:pre-wrap>Mex-Hisp   </span></td><td>Non-Hisp-WT</td><td> 584</td><td>1440</td><td>-5.1949378</td><td>&lt;0.0001</td><td>&lt;0.0001</td><td>****</td></tr>\n",
              "\t<tr><th scope=row>3</th><td>URXUDMA</td><td>Mex-Hisp   </td><td>Non-Hisp-BK</td><td> 584</td><td> 893</td><td>-0.6161800</td><td>0.538  </td><td>0.538  </td><td>ns  </td></tr>\n",
              "\t<tr><th scope=row>4</th><td>URXUDMA</td><td>Mex-Hisp   </td><td>Others     </td><td> 584</td><td> 565</td><td> 1.2158715</td><td>0.224  </td><td>0.28   </td><td>ns  </td></tr>\n",
              "\t<tr><th scope=row>5</th><td>URXUDMA</td><td>Other-Hisp </td><td>Non-Hisp-WT</td><td> 418</td><td>1440</td><td>-6.6314508</td><td>&lt;0.0001</td><td>&lt;0.0001</td><td>****</td></tr>\n",
              "\t<tr><th scope=row>6</th><td>URXUDMA</td><td>Other-Hisp </td><td>Non-Hisp-BK</td><td> 418</td><td> 893</td><td>-2.4698159</td><td>0.014  </td><td>0.027  </td><td>*   </td></tr>\n",
              "\t<tr><th scope=row>7</th><td>URXUDMA</td><td>Other-Hisp </td><td>Others     </td><td> 418</td><td> 565</td><td>-0.6483548</td><td>0.517  </td><td>0.538  </td><td>ns  </td></tr>\n",
              "\t<tr><th scope=row>8</th><td>URXUDMA</td><td>Non-Hisp-WT</td><td>Non-Hisp-BK</td><td>1440</td><td> 893</td><td> 5.2135269</td><td>&lt;0.0001</td><td>&lt;0.0001</td><td>****</td></tr>\n",
              "\t<tr><th scope=row>9</th><td>URXUDMA</td><td>Non-Hisp-WT</td><td><span style=white-space:pre-wrap>Others     </span></td><td>1440</td><td> 565</td><td> 6.5792103</td><td>&lt;0.0001</td><td>&lt;0.0001</td><td>****</td></tr>\n",
              "\t<tr><th scope=row>10</th><td>URXUDMA</td><td>Non-Hisp-BK</td><td>Others     </td><td> 893</td><td> 565</td><td> 1.9447240</td><td>0.052  </td><td>0.086  </td><td>ns  </td></tr>\n",
              "</tbody>\n",
              "</table>\n"
            ]
          },
          "metadata": {}
        }
      ]
    },
    {
      "cell_type": "markdown",
      "metadata": {
        "id": "vezMvXSMWmDD"
      },
      "source": [
        "**Poverty Income Ratio**"
      ]
    },
    {
      "cell_type": "code",
      "metadata": {
        "id": "I9LCuRHp6zvE",
        "colab": {
          "base_uri": "https://localhost:8080/"
        },
        "outputId": "82a73dd5-be5d-4ea5-987f-422ad2112eac"
      },
      "source": [
        "\n",
        "# Poverty Income Ratio\n",
        "kruskal.test(URXUDMA~ PIR , data = HSV_df)"
      ],
      "execution_count": null,
      "outputs": [
        {
          "output_type": "display_data",
          "data": {
            "text/plain": [
              "\n",
              "\tKruskal-Wallis rank sum test\n",
              "\n",
              "data:  URXUDMA by PIR\n",
              "Kruskal-Wallis chi-squared = 1.206, df = 2, p-value = 0.5472\n"
            ]
          },
          "metadata": {}
        }
      ]
    },
    {
      "cell_type": "markdown",
      "metadata": {
        "id": "1qtOCTN4Wptx"
      },
      "source": [
        "**Alcohol**"
      ]
    },
    {
      "cell_type": "code",
      "metadata": {
        "id": "YrJT5ILn7Fmb",
        "colab": {
          "base_uri": "https://localhost:8080/"
        },
        "outputId": "1ba18209-a8fa-4a83-c358-c845d2db4900"
      },
      "source": [
        "\n",
        "# Alcohol\n",
        "kruskal.test(URXUDMA~ ALQ101 , data = HSV_df)"
      ],
      "execution_count": null,
      "outputs": [
        {
          "output_type": "display_data",
          "data": {
            "text/plain": [
              "\n",
              "\tKruskal-Wallis rank sum test\n",
              "\n",
              "data:  URXUDMA by ALQ101\n",
              "Kruskal-Wallis chi-squared = 1.2406, df = 1, p-value = 0.2654\n"
            ]
          },
          "metadata": {}
        }
      ]
    },
    {
      "cell_type": "markdown",
      "metadata": {
        "id": "J46zlvlDWsPe"
      },
      "source": [
        "**Cotinine**"
      ]
    },
    {
      "cell_type": "code",
      "metadata": {
        "id": "fHfobnyJ7GZP",
        "colab": {
          "base_uri": "https://localhost:8080/"
        },
        "outputId": "ac5de6cc-5167-4459-cf5e-21654d548059"
      },
      "source": [
        "\n",
        "# Cotinine\n",
        "kruskal.test(URXUDMA~ LBDCOTLC , data = HSV_df)"
      ],
      "execution_count": null,
      "outputs": [
        {
          "output_type": "display_data",
          "data": {
            "text/plain": [
              "\n",
              "\tKruskal-Wallis rank sum test\n",
              "\n",
              "data:  URXUDMA by LBDCOTLC\n",
              "Kruskal-Wallis chi-squared = 0.99525, df = 1, p-value = 0.3185\n"
            ]
          },
          "metadata": {}
        }
      ]
    },
    {
      "cell_type": "markdown",
      "metadata": {
        "id": "QnUQrvZsoVOO"
      },
      "source": [
        "###  **Arsenic 6(URXUMMA: Urinary Monomethylacrsonic acid (ug/L))**\n",
        "\n",
        "At alpha level of 0.05, for Urinary Monomethylacrsonic acid (ug/L), there is statistical significance for **BMI, alcohol, cotinine and race.**\n",
        "\n",
        "There is no statistical significance for education, marital status,  and poverty index ratio."
      ]
    },
    {
      "cell_type": "markdown",
      "metadata": {
        "id": "JV5YO3x2Wx7X"
      },
      "source": [
        "**BMI**"
      ]
    },
    {
      "cell_type": "code",
      "metadata": {
        "id": "hc4vdvHYoqhA",
        "colab": {
          "base_uri": "https://localhost:8080/"
        },
        "outputId": "f2b6bd0a-0e80-479a-f11a-3c61c04749ba"
      },
      "source": [
        "HSV_df_backup_postprep -> HSV_df\n",
        "\n",
        "HSV_df %<>% select(URXUMMA, BMI.f  ) %>% filter(URXUMMA != 'NA') %>% filter(BMI.f   != 'NA')\n",
        "\n",
        "# kruskal wallis test\n",
        "kruskal.test(URXUMMA~ BMI.f   , data = HSV_df) \n",
        "\n",
        "cat(\"\\n\\n\")\n",
        "\n",
        "cat(\"\\n Numerical Summaries \\n\")\n",
        "# numerical summary\n",
        "HSV_df %$% num_summary(URXUMMA, BMI.f  ) \n",
        "\n",
        "cat(\"\\n\\n\")\n",
        "\n",
        "cat(\"\\n Multiple Comparison \\n\")\n",
        "# multiple comparison\n",
        "dunn_test(URXUMMA~ BMI.f   , data = HSV_df, p.adjust.method = \"fdr\") %>%\n",
        "p_format(digits = 2, leading.zero = TRUE) ; HSV_df_backup_postprep -> HSV_df\n",
        "\n"
      ],
      "execution_count": null,
      "outputs": [
        {
          "output_type": "display_data",
          "data": {
            "text/plain": [
              "\n",
              "\tKruskal-Wallis rank sum test\n",
              "\n",
              "data:  URXUMMA by BMI.f\n",
              "Kruskal-Wallis chi-squared = 47.602, df = 3, p-value = 2.588e-10\n"
            ]
          },
          "metadata": {}
        },
        {
          "output_type": "stream",
          "name": "stdout",
          "text": [
            "\n",
            "\n",
            "\n",
            " Numerical Summaries \n"
          ]
        },
        {
          "output_type": "display_data",
          "data": {
            "text/plain": [
              "  variable      Count Mean      Min  Q1   Q2    Q3     Max   Sd       \n",
              "1 Underweight     80  0.8540000 0.14 0.14 0.435 0.9325 17.00 1.9495865\n",
              "2 Normal weight 1140  0.6809386 0.14 0.14 0.520 0.9000  6.26 0.6613100\n",
              "3 Overweight    1166  0.6489880 0.14 0.14 0.490 0.8800  6.11 0.6538916\n",
              "4 Obesity       1495  0.5362943 0.14 0.14 0.370 0.7400 13.00 0.6002307"
            ],
            "text/latex": "A tibble: 4 × 9\n\\begin{tabular}{lllllllll}\n variable & Count & Mean & Min & Q1 & Q2 & Q3 & Max & Sd\\\\\n <fct> & <int> & <dbl> & <dbl> & <dbl> & <dbl> & <dbl> & <dbl> & <dbl>\\\\\n\\hline\n\t Underweight   &   80 & 0.8540000 & 0.14 & 0.14 & 0.435 & 0.9325 & 17.00 & 1.9495865\\\\\n\t Normal weight & 1140 & 0.6809386 & 0.14 & 0.14 & 0.520 & 0.9000 &  6.26 & 0.6613100\\\\\n\t Overweight    & 1166 & 0.6489880 & 0.14 & 0.14 & 0.490 & 0.8800 &  6.11 & 0.6538916\\\\\n\t Obesity       & 1495 & 0.5362943 & 0.14 & 0.14 & 0.370 & 0.7400 & 13.00 & 0.6002307\\\\\n\\end{tabular}\n",
            "text/markdown": "\nA tibble: 4 × 9\n\n| variable &lt;fct&gt; | Count &lt;int&gt; | Mean &lt;dbl&gt; | Min &lt;dbl&gt; | Q1 &lt;dbl&gt; | Q2 &lt;dbl&gt; | Q3 &lt;dbl&gt; | Max &lt;dbl&gt; | Sd &lt;dbl&gt; |\n|---|---|---|---|---|---|---|---|---|\n| Underweight   |   80 | 0.8540000 | 0.14 | 0.14 | 0.435 | 0.9325 | 17.00 | 1.9495865 |\n| Normal weight | 1140 | 0.6809386 | 0.14 | 0.14 | 0.520 | 0.9000 |  6.26 | 0.6613100 |\n| Overweight    | 1166 | 0.6489880 | 0.14 | 0.14 | 0.490 | 0.8800 |  6.11 | 0.6538916 |\n| Obesity       | 1495 | 0.5362943 | 0.14 | 0.14 | 0.370 | 0.7400 | 13.00 | 0.6002307 |\n\n",
            "text/html": [
              "<table class=\"dataframe\">\n",
              "<caption>A tibble: 4 × 9</caption>\n",
              "<thead>\n",
              "\t<tr><th scope=col>variable</th><th scope=col>Count</th><th scope=col>Mean</th><th scope=col>Min</th><th scope=col>Q1</th><th scope=col>Q2</th><th scope=col>Q3</th><th scope=col>Max</th><th scope=col>Sd</th></tr>\n",
              "\t<tr><th scope=col>&lt;fct&gt;</th><th scope=col>&lt;int&gt;</th><th scope=col>&lt;dbl&gt;</th><th scope=col>&lt;dbl&gt;</th><th scope=col>&lt;dbl&gt;</th><th scope=col>&lt;dbl&gt;</th><th scope=col>&lt;dbl&gt;</th><th scope=col>&lt;dbl&gt;</th><th scope=col>&lt;dbl&gt;</th></tr>\n",
              "</thead>\n",
              "<tbody>\n",
              "\t<tr><td>Underweight  </td><td>  80</td><td>0.8540000</td><td>0.14</td><td>0.14</td><td>0.435</td><td>0.9325</td><td>17.00</td><td>1.9495865</td></tr>\n",
              "\t<tr><td>Normal weight</td><td>1140</td><td>0.6809386</td><td>0.14</td><td>0.14</td><td>0.520</td><td>0.9000</td><td> 6.26</td><td>0.6613100</td></tr>\n",
              "\t<tr><td>Overweight   </td><td>1166</td><td>0.6489880</td><td>0.14</td><td>0.14</td><td>0.490</td><td>0.8800</td><td> 6.11</td><td>0.6538916</td></tr>\n",
              "\t<tr><td>Obesity      </td><td>1495</td><td>0.5362943</td><td>0.14</td><td>0.14</td><td>0.370</td><td>0.7400</td><td>13.00</td><td>0.6002307</td></tr>\n",
              "</tbody>\n",
              "</table>\n"
            ]
          },
          "metadata": {}
        },
        {
          "output_type": "stream",
          "name": "stdout",
          "text": [
            "\n",
            "\n",
            "\n",
            " Multiple Comparison \n"
          ]
        },
        {
          "output_type": "display_data",
          "data": {
            "text/plain": [
              "  .y.     group1        group2        n1   n2   statistic  p       p.adj  \n",
              "1 URXUMMA Underweight   Normal weight   80 1140  0.7889001 0.43    0.52   \n",
              "2 URXUMMA Underweight   Overweight      80 1166  0.1634513 0.87    0.87   \n",
              "3 URXUMMA Underweight   Obesity         80 1495 -1.4539366 0.146   0.22   \n",
              "4 URXUMMA Normal weight Overweight    1140 1166 -1.7371180 0.082   0.16   \n",
              "5 URXUMMA Normal weight Obesity       1140 1495 -6.5638217 <0.0001 <0.0001\n",
              "6 URXUMMA Overweight    Obesity       1166 1495 -4.7538950 <0.0001 <0.0001\n",
              "  p.adj.signif\n",
              "1 ns          \n",
              "2 ns          \n",
              "3 ns          \n",
              "4 ns          \n",
              "5 ****        \n",
              "6 ****        "
            ],
            "text/latex": "A rstatix\\_test: 6 × 9\n\\begin{tabular}{r|lllllllll}\n  & .y. & group1 & group2 & n1 & n2 & statistic & p & p.adj & p.adj.signif\\\\\n  & <chr> & <chr> & <chr> & <int> & <int> & <dbl> & <chr> & <chr> & <chr>\\\\\n\\hline\n\t1 & URXUMMA & Underweight   & Normal weight &   80 & 1140 &  0.7889001 & 0.43    & 0.52    & ns  \\\\\n\t2 & URXUMMA & Underweight   & Overweight    &   80 & 1166 &  0.1634513 & 0.87    & 0.87    & ns  \\\\\n\t3 & URXUMMA & Underweight   & Obesity       &   80 & 1495 & -1.4539366 & 0.146   & 0.22    & ns  \\\\\n\t4 & URXUMMA & Normal weight & Overweight    & 1140 & 1166 & -1.7371180 & 0.082   & 0.16    & ns  \\\\\n\t5 & URXUMMA & Normal weight & Obesity       & 1140 & 1495 & -6.5638217 & <0.0001 & <0.0001 & ****\\\\\n\t6 & URXUMMA & Overweight    & Obesity       & 1166 & 1495 & -4.7538950 & <0.0001 & <0.0001 & ****\\\\\n\\end{tabular}\n",
            "text/markdown": "\nA rstatix_test: 6 × 9\n\n| <!--/--> | .y. &lt;chr&gt; | group1 &lt;chr&gt; | group2 &lt;chr&gt; | n1 &lt;int&gt; | n2 &lt;int&gt; | statistic &lt;dbl&gt; | p &lt;chr&gt; | p.adj &lt;chr&gt; | p.adj.signif &lt;chr&gt; |\n|---|---|---|---|---|---|---|---|---|---|\n| 1 | URXUMMA | Underweight   | Normal weight |   80 | 1140 |  0.7889001 | 0.43    | 0.52    | ns   |\n| 2 | URXUMMA | Underweight   | Overweight    |   80 | 1166 |  0.1634513 | 0.87    | 0.87    | ns   |\n| 3 | URXUMMA | Underweight   | Obesity       |   80 | 1495 | -1.4539366 | 0.146   | 0.22    | ns   |\n| 4 | URXUMMA | Normal weight | Overweight    | 1140 | 1166 | -1.7371180 | 0.082   | 0.16    | ns   |\n| 5 | URXUMMA | Normal weight | Obesity       | 1140 | 1495 | -6.5638217 | &lt;0.0001 | &lt;0.0001 | **** |\n| 6 | URXUMMA | Overweight    | Obesity       | 1166 | 1495 | -4.7538950 | &lt;0.0001 | &lt;0.0001 | **** |\n\n",
            "text/html": [
              "<table class=\"dataframe\">\n",
              "<caption>A rstatix_test: 6 × 9</caption>\n",
              "<thead>\n",
              "\t<tr><th></th><th scope=col>.y.</th><th scope=col>group1</th><th scope=col>group2</th><th scope=col>n1</th><th scope=col>n2</th><th scope=col>statistic</th><th scope=col>p</th><th scope=col>p.adj</th><th scope=col>p.adj.signif</th></tr>\n",
              "\t<tr><th></th><th scope=col>&lt;chr&gt;</th><th scope=col>&lt;chr&gt;</th><th scope=col>&lt;chr&gt;</th><th scope=col>&lt;int&gt;</th><th scope=col>&lt;int&gt;</th><th scope=col>&lt;dbl&gt;</th><th scope=col>&lt;chr&gt;</th><th scope=col>&lt;chr&gt;</th><th scope=col>&lt;chr&gt;</th></tr>\n",
              "</thead>\n",
              "<tbody>\n",
              "\t<tr><th scope=row>1</th><td>URXUMMA</td><td>Underweight  </td><td>Normal weight</td><td>  80</td><td>1140</td><td> 0.7889001</td><td>0.43   </td><td>0.52   </td><td>ns  </td></tr>\n",
              "\t<tr><th scope=row>2</th><td>URXUMMA</td><td>Underweight  </td><td>Overweight   </td><td>  80</td><td>1166</td><td> 0.1634513</td><td>0.87   </td><td>0.87   </td><td>ns  </td></tr>\n",
              "\t<tr><th scope=row>3</th><td>URXUMMA</td><td>Underweight  </td><td>Obesity      </td><td>  80</td><td>1495</td><td>-1.4539366</td><td>0.146  </td><td>0.22   </td><td>ns  </td></tr>\n",
              "\t<tr><th scope=row>4</th><td>URXUMMA</td><td>Normal weight</td><td>Overweight   </td><td>1140</td><td>1166</td><td>-1.7371180</td><td>0.082  </td><td>0.16   </td><td>ns  </td></tr>\n",
              "\t<tr><th scope=row>5</th><td>URXUMMA</td><td>Normal weight</td><td><span style=white-space:pre-wrap>Obesity      </span></td><td>1140</td><td>1495</td><td>-6.5638217</td><td>&lt;0.0001</td><td>&lt;0.0001</td><td>****</td></tr>\n",
              "\t<tr><th scope=row>6</th><td>URXUMMA</td><td><span style=white-space:pre-wrap>Overweight   </span></td><td><span style=white-space:pre-wrap>Obesity      </span></td><td>1166</td><td>1495</td><td>-4.7538950</td><td>&lt;0.0001</td><td>&lt;0.0001</td><td>****</td></tr>\n",
              "</tbody>\n",
              "</table>\n"
            ]
          },
          "metadata": {}
        }
      ]
    },
    {
      "cell_type": "markdown",
      "metadata": {
        "id": "FUvQExntW4QZ"
      },
      "source": [
        "**Education**"
      ]
    },
    {
      "cell_type": "code",
      "metadata": {
        "id": "qqvR3QUx7Hv4",
        "colab": {
          "base_uri": "https://localhost:8080/"
        },
        "outputId": "2e212f98-8f97-4461-864f-326095a85166"
      },
      "source": [
        "\n",
        "# Education\n",
        "kruskal.test(URXUMMA~ DMDEDUC2 , data = HSV_df) "
      ],
      "execution_count": null,
      "outputs": [
        {
          "output_type": "display_data",
          "data": {
            "text/plain": [
              "\n",
              "\tKruskal-Wallis rank sum test\n",
              "\n",
              "data:  URXUMMA by DMDEDUC2\n",
              "Kruskal-Wallis chi-squared = 3.2495, df = 4, p-value = 0.517\n"
            ]
          },
          "metadata": {}
        }
      ]
    },
    {
      "cell_type": "markdown",
      "metadata": {
        "id": "5mVtzIXPW61J"
      },
      "source": [
        "**Marital Status**"
      ]
    },
    {
      "cell_type": "code",
      "metadata": {
        "id": "yaPeGoDJ7IfO",
        "colab": {
          "base_uri": "https://localhost:8080/"
        },
        "outputId": "58b8ae9c-edb0-4a82-eca8-126b4a49f2a5"
      },
      "source": [
        "\n",
        "# Marital Status\n",
        "kruskal.test(URXUMMA~ DMDMARTL , data = HSV_df) "
      ],
      "execution_count": null,
      "outputs": [
        {
          "output_type": "display_data",
          "data": {
            "text/plain": [
              "\n",
              "\tKruskal-Wallis rank sum test\n",
              "\n",
              "data:  URXUMMA by DMDMARTL\n",
              "Kruskal-Wallis chi-squared = 4.441, df = 5, p-value = 0.4878\n"
            ]
          },
          "metadata": {}
        }
      ]
    },
    {
      "cell_type": "markdown",
      "metadata": {
        "id": "iVNGtDHjW-7s"
      },
      "source": [
        "**Race**"
      ]
    },
    {
      "cell_type": "code",
      "metadata": {
        "id": "-eR3Cc9H7JOd",
        "colab": {
          "base_uri": "https://localhost:8080/"
        },
        "outputId": "bc11810e-e202-42c9-f97d-f35fd8b32420"
      },
      "source": [
        "HSV_df_backup_postprep -> HSV_df\n",
        "\n",
        "HSV_df %<>% select(URXUMMA, RIDRETH1  ) %>% filter(URXUMMA != 'NA') %>% filter(RIDRETH1   != 'NA')\n",
        "\n",
        "# kruskal wallis test\n",
        "kruskal.test(URXUMMA~ RIDRETH1   , data = HSV_df) \n",
        "\n",
        "cat(\"\\n\\n\")\n",
        "\n",
        "cat(\"\\n Numerical Summaries \\n\")\n",
        "# numerical summary\n",
        "HSV_df %$% num_summary(URXUMMA, RIDRETH1  ) \n",
        "\n",
        "cat(\"\\n\\n\")\n",
        "\n",
        "cat(\"\\n Multiple Comparison \\n\")\n",
        "# multiple comparison\n",
        "dunn_test(URXUMMA~ RIDRETH1   , data = HSV_df, p.adjust.method = \"fdr\") %>%\n",
        "p_format(digits = 2, leading.zero = TRUE) ; HSV_df_backup_postprep -> HSV_df\n",
        "\n"
      ],
      "execution_count": null,
      "outputs": [
        {
          "output_type": "display_data",
          "data": {
            "text/plain": [
              "\n",
              "\tKruskal-Wallis rank sum test\n",
              "\n",
              "data:  URXUMMA by RIDRETH1\n",
              "Kruskal-Wallis chi-squared = 57.093, df = 4, p-value = 1.183e-11\n"
            ]
          },
          "metadata": {}
        },
        {
          "output_type": "stream",
          "name": "stdout",
          "text": [
            "\n",
            "\n",
            "\n",
            " Numerical Summaries \n"
          ]
        },
        {
          "output_type": "display_data",
          "data": {
            "text/plain": [
              "  variable    Count Mean      Min  Q1   Q2    Q3     Max   Sd       \n",
              "1 Mex-Hisp     584  0.5511473 0.14 0.14 0.390 0.7700  6.11 0.5762321\n",
              "2 Other-Hisp   418  0.7377751 0.14 0.14 0.535 1.0075 13.00 0.8823071\n",
              "3 Non-Hisp-WT 1440  0.5724444 0.14 0.14 0.420 0.7625 17.00 0.6968043\n",
              "4 Non-Hisp-BK  893  0.5836394 0.14 0.14 0.440 0.8100  6.26 0.5567546\n",
              "5 Others       565  0.7805664 0.14 0.14 0.570 1.0300  5.74 0.7827806"
            ],
            "text/latex": "A tibble: 5 × 9\n\\begin{tabular}{lllllllll}\n variable & Count & Mean & Min & Q1 & Q2 & Q3 & Max & Sd\\\\\n <fct> & <int> & <dbl> & <dbl> & <dbl> & <dbl> & <dbl> & <dbl> & <dbl>\\\\\n\\hline\n\t Mex-Hisp    &  584 & 0.5511473 & 0.14 & 0.14 & 0.390 & 0.7700 &  6.11 & 0.5762321\\\\\n\t Other-Hisp  &  418 & 0.7377751 & 0.14 & 0.14 & 0.535 & 1.0075 & 13.00 & 0.8823071\\\\\n\t Non-Hisp-WT & 1440 & 0.5724444 & 0.14 & 0.14 & 0.420 & 0.7625 & 17.00 & 0.6968043\\\\\n\t Non-Hisp-BK &  893 & 0.5836394 & 0.14 & 0.14 & 0.440 & 0.8100 &  6.26 & 0.5567546\\\\\n\t Others      &  565 & 0.7805664 & 0.14 & 0.14 & 0.570 & 1.0300 &  5.74 & 0.7827806\\\\\n\\end{tabular}\n",
            "text/markdown": "\nA tibble: 5 × 9\n\n| variable &lt;fct&gt; | Count &lt;int&gt; | Mean &lt;dbl&gt; | Min &lt;dbl&gt; | Q1 &lt;dbl&gt; | Q2 &lt;dbl&gt; | Q3 &lt;dbl&gt; | Max &lt;dbl&gt; | Sd &lt;dbl&gt; |\n|---|---|---|---|---|---|---|---|---|\n| Mex-Hisp    |  584 | 0.5511473 | 0.14 | 0.14 | 0.390 | 0.7700 |  6.11 | 0.5762321 |\n| Other-Hisp  |  418 | 0.7377751 | 0.14 | 0.14 | 0.535 | 1.0075 | 13.00 | 0.8823071 |\n| Non-Hisp-WT | 1440 | 0.5724444 | 0.14 | 0.14 | 0.420 | 0.7625 | 17.00 | 0.6968043 |\n| Non-Hisp-BK |  893 | 0.5836394 | 0.14 | 0.14 | 0.440 | 0.8100 |  6.26 | 0.5567546 |\n| Others      |  565 | 0.7805664 | 0.14 | 0.14 | 0.570 | 1.0300 |  5.74 | 0.7827806 |\n\n",
            "text/html": [
              "<table class=\"dataframe\">\n",
              "<caption>A tibble: 5 × 9</caption>\n",
              "<thead>\n",
              "\t<tr><th scope=col>variable</th><th scope=col>Count</th><th scope=col>Mean</th><th scope=col>Min</th><th scope=col>Q1</th><th scope=col>Q2</th><th scope=col>Q3</th><th scope=col>Max</th><th scope=col>Sd</th></tr>\n",
              "\t<tr><th scope=col>&lt;fct&gt;</th><th scope=col>&lt;int&gt;</th><th scope=col>&lt;dbl&gt;</th><th scope=col>&lt;dbl&gt;</th><th scope=col>&lt;dbl&gt;</th><th scope=col>&lt;dbl&gt;</th><th scope=col>&lt;dbl&gt;</th><th scope=col>&lt;dbl&gt;</th><th scope=col>&lt;dbl&gt;</th></tr>\n",
              "</thead>\n",
              "<tbody>\n",
              "\t<tr><td>Mex-Hisp   </td><td> 584</td><td>0.5511473</td><td>0.14</td><td>0.14</td><td>0.390</td><td>0.7700</td><td> 6.11</td><td>0.5762321</td></tr>\n",
              "\t<tr><td>Other-Hisp </td><td> 418</td><td>0.7377751</td><td>0.14</td><td>0.14</td><td>0.535</td><td>1.0075</td><td>13.00</td><td>0.8823071</td></tr>\n",
              "\t<tr><td>Non-Hisp-WT</td><td>1440</td><td>0.5724444</td><td>0.14</td><td>0.14</td><td>0.420</td><td>0.7625</td><td>17.00</td><td>0.6968043</td></tr>\n",
              "\t<tr><td>Non-Hisp-BK</td><td> 893</td><td>0.5836394</td><td>0.14</td><td>0.14</td><td>0.440</td><td>0.8100</td><td> 6.26</td><td>0.5567546</td></tr>\n",
              "\t<tr><td>Others     </td><td> 565</td><td>0.7805664</td><td>0.14</td><td>0.14</td><td>0.570</td><td>1.0300</td><td> 5.74</td><td>0.7827806</td></tr>\n",
              "</tbody>\n",
              "</table>\n"
            ]
          },
          "metadata": {}
        },
        {
          "output_type": "stream",
          "name": "stdout",
          "text": [
            "\n",
            "\n",
            "\n",
            " Multiple Comparison \n"
          ]
        },
        {
          "output_type": "display_data",
          "data": {
            "text/plain": [
              "   .y.     group1      group2      n1   n2   statistic  p       p.adj  \n",
              "1  URXUMMA Mex-Hisp    Other-Hisp   584  418  4.5023642 <0.0001 <0.0001\n",
              "2  URXUMMA Mex-Hisp    Non-Hisp-WT  584 1440  0.7188886 0.4722  0.4775 \n",
              "3  URXUMMA Mex-Hisp    Non-Hisp-BK  584  893  1.7246216 0.0846  0.1209 \n",
              "4  URXUMMA Mex-Hisp    Others       584  565  5.6647990 <0.0001 <0.0001\n",
              "5  URXUMMA Other-Hisp  Non-Hisp-WT  418 1440 -4.5571180 <0.0001 <0.0001\n",
              "6  URXUMMA Other-Hisp  Non-Hisp-BK  418  893 -3.3186587 0.0009  0.0015 \n",
              "7  URXUMMA Other-Hisp  Others       418  565  0.7103163 0.4775  0.4775 \n",
              "8  URXUMMA Non-Hisp-WT Non-Hisp-BK 1440  893  1.3267759 0.1846  0.2307 \n",
              "9  URXUMMA Non-Hisp-WT Others      1440  565  6.0233900 <0.0001 <0.0001\n",
              "10 URXUMMA Non-Hisp-BK Others       893  565  4.5111396 <0.0001 <0.0001\n",
              "   p.adj.signif\n",
              "1  ****        \n",
              "2  ns          \n",
              "3  ns          \n",
              "4  ****        \n",
              "5  ****        \n",
              "6  **          \n",
              "7  ns          \n",
              "8  ns          \n",
              "9  ****        \n",
              "10 ****        "
            ],
            "text/latex": "A rstatix\\_test: 10 × 9\n\\begin{tabular}{r|lllllllll}\n  & .y. & group1 & group2 & n1 & n2 & statistic & p & p.adj & p.adj.signif\\\\\n  & <chr> & <chr> & <chr> & <int> & <int> & <dbl> & <chr> & <chr> & <chr>\\\\\n\\hline\n\t1 & URXUMMA & Mex-Hisp    & Other-Hisp  &  584 &  418 &  4.5023642 & <0.0001 & <0.0001 & ****\\\\\n\t2 & URXUMMA & Mex-Hisp    & Non-Hisp-WT &  584 & 1440 &  0.7188886 & 0.4722  & 0.4775  & ns  \\\\\n\t3 & URXUMMA & Mex-Hisp    & Non-Hisp-BK &  584 &  893 &  1.7246216 & 0.0846  & 0.1209  & ns  \\\\\n\t4 & URXUMMA & Mex-Hisp    & Others      &  584 &  565 &  5.6647990 & <0.0001 & <0.0001 & ****\\\\\n\t5 & URXUMMA & Other-Hisp  & Non-Hisp-WT &  418 & 1440 & -4.5571180 & <0.0001 & <0.0001 & ****\\\\\n\t6 & URXUMMA & Other-Hisp  & Non-Hisp-BK &  418 &  893 & -3.3186587 & 0.0009  & 0.0015  & **  \\\\\n\t7 & URXUMMA & Other-Hisp  & Others      &  418 &  565 &  0.7103163 & 0.4775  & 0.4775  & ns  \\\\\n\t8 & URXUMMA & Non-Hisp-WT & Non-Hisp-BK & 1440 &  893 &  1.3267759 & 0.1846  & 0.2307  & ns  \\\\\n\t9 & URXUMMA & Non-Hisp-WT & Others      & 1440 &  565 &  6.0233900 & <0.0001 & <0.0001 & ****\\\\\n\t10 & URXUMMA & Non-Hisp-BK & Others      &  893 &  565 &  4.5111396 & <0.0001 & <0.0001 & ****\\\\\n\\end{tabular}\n",
            "text/markdown": "\nA rstatix_test: 10 × 9\n\n| <!--/--> | .y. &lt;chr&gt; | group1 &lt;chr&gt; | group2 &lt;chr&gt; | n1 &lt;int&gt; | n2 &lt;int&gt; | statistic &lt;dbl&gt; | p &lt;chr&gt; | p.adj &lt;chr&gt; | p.adj.signif &lt;chr&gt; |\n|---|---|---|---|---|---|---|---|---|---|\n| 1 | URXUMMA | Mex-Hisp    | Other-Hisp  |  584 |  418 |  4.5023642 | &lt;0.0001 | &lt;0.0001 | **** |\n| 2 | URXUMMA | Mex-Hisp    | Non-Hisp-WT |  584 | 1440 |  0.7188886 | 0.4722  | 0.4775  | ns   |\n| 3 | URXUMMA | Mex-Hisp    | Non-Hisp-BK |  584 |  893 |  1.7246216 | 0.0846  | 0.1209  | ns   |\n| 4 | URXUMMA | Mex-Hisp    | Others      |  584 |  565 |  5.6647990 | &lt;0.0001 | &lt;0.0001 | **** |\n| 5 | URXUMMA | Other-Hisp  | Non-Hisp-WT |  418 | 1440 | -4.5571180 | &lt;0.0001 | &lt;0.0001 | **** |\n| 6 | URXUMMA | Other-Hisp  | Non-Hisp-BK |  418 |  893 | -3.3186587 | 0.0009  | 0.0015  | **   |\n| 7 | URXUMMA | Other-Hisp  | Others      |  418 |  565 |  0.7103163 | 0.4775  | 0.4775  | ns   |\n| 8 | URXUMMA | Non-Hisp-WT | Non-Hisp-BK | 1440 |  893 |  1.3267759 | 0.1846  | 0.2307  | ns   |\n| 9 | URXUMMA | Non-Hisp-WT | Others      | 1440 |  565 |  6.0233900 | &lt;0.0001 | &lt;0.0001 | **** |\n| 10 | URXUMMA | Non-Hisp-BK | Others      |  893 |  565 |  4.5111396 | &lt;0.0001 | &lt;0.0001 | **** |\n\n",
            "text/html": [
              "<table class=\"dataframe\">\n",
              "<caption>A rstatix_test: 10 × 9</caption>\n",
              "<thead>\n",
              "\t<tr><th></th><th scope=col>.y.</th><th scope=col>group1</th><th scope=col>group2</th><th scope=col>n1</th><th scope=col>n2</th><th scope=col>statistic</th><th scope=col>p</th><th scope=col>p.adj</th><th scope=col>p.adj.signif</th></tr>\n",
              "\t<tr><th></th><th scope=col>&lt;chr&gt;</th><th scope=col>&lt;chr&gt;</th><th scope=col>&lt;chr&gt;</th><th scope=col>&lt;int&gt;</th><th scope=col>&lt;int&gt;</th><th scope=col>&lt;dbl&gt;</th><th scope=col>&lt;chr&gt;</th><th scope=col>&lt;chr&gt;</th><th scope=col>&lt;chr&gt;</th></tr>\n",
              "</thead>\n",
              "<tbody>\n",
              "\t<tr><th scope=row>1</th><td>URXUMMA</td><td><span style=white-space:pre-wrap>Mex-Hisp   </span></td><td>Other-Hisp </td><td> 584</td><td> 418</td><td> 4.5023642</td><td>&lt;0.0001</td><td>&lt;0.0001</td><td>****</td></tr>\n",
              "\t<tr><th scope=row>2</th><td>URXUMMA</td><td>Mex-Hisp   </td><td>Non-Hisp-WT</td><td> 584</td><td>1440</td><td> 0.7188886</td><td>0.4722 </td><td>0.4775 </td><td>ns  </td></tr>\n",
              "\t<tr><th scope=row>3</th><td>URXUMMA</td><td>Mex-Hisp   </td><td>Non-Hisp-BK</td><td> 584</td><td> 893</td><td> 1.7246216</td><td>0.0846 </td><td>0.1209 </td><td>ns  </td></tr>\n",
              "\t<tr><th scope=row>4</th><td>URXUMMA</td><td><span style=white-space:pre-wrap>Mex-Hisp   </span></td><td><span style=white-space:pre-wrap>Others     </span></td><td> 584</td><td> 565</td><td> 5.6647990</td><td>&lt;0.0001</td><td>&lt;0.0001</td><td>****</td></tr>\n",
              "\t<tr><th scope=row>5</th><td>URXUMMA</td><td>Other-Hisp </td><td>Non-Hisp-WT</td><td> 418</td><td>1440</td><td>-4.5571180</td><td>&lt;0.0001</td><td>&lt;0.0001</td><td>****</td></tr>\n",
              "\t<tr><th scope=row>6</th><td>URXUMMA</td><td>Other-Hisp </td><td>Non-Hisp-BK</td><td> 418</td><td> 893</td><td>-3.3186587</td><td>0.0009 </td><td>0.0015 </td><td>**  </td></tr>\n",
              "\t<tr><th scope=row>7</th><td>URXUMMA</td><td>Other-Hisp </td><td>Others     </td><td> 418</td><td> 565</td><td> 0.7103163</td><td>0.4775 </td><td>0.4775 </td><td>ns  </td></tr>\n",
              "\t<tr><th scope=row>8</th><td>URXUMMA</td><td>Non-Hisp-WT</td><td>Non-Hisp-BK</td><td>1440</td><td> 893</td><td> 1.3267759</td><td>0.1846 </td><td>0.2307 </td><td>ns  </td></tr>\n",
              "\t<tr><th scope=row>9</th><td>URXUMMA</td><td>Non-Hisp-WT</td><td><span style=white-space:pre-wrap>Others     </span></td><td>1440</td><td> 565</td><td> 6.0233900</td><td>&lt;0.0001</td><td>&lt;0.0001</td><td>****</td></tr>\n",
              "\t<tr><th scope=row>10</th><td>URXUMMA</td><td>Non-Hisp-BK</td><td><span style=white-space:pre-wrap>Others     </span></td><td> 893</td><td> 565</td><td> 4.5111396</td><td>&lt;0.0001</td><td>&lt;0.0001</td><td>****</td></tr>\n",
              "</tbody>\n",
              "</table>\n"
            ]
          },
          "metadata": {}
        }
      ]
    },
    {
      "cell_type": "markdown",
      "metadata": {
        "id": "fIIy8IGkXCGg"
      },
      "source": [
        "**Poverty Income Ratio**"
      ]
    },
    {
      "cell_type": "code",
      "metadata": {
        "id": "r_S9frvJ7J8O",
        "colab": {
          "base_uri": "https://localhost:8080/"
        },
        "outputId": "a2a83aa0-16a4-4117-be6a-b16621453d78"
      },
      "source": [
        "\n",
        "# Poverty Income Ratio\n",
        "kruskal.test(URXUMMA~ PIR , data = HSV_df)"
      ],
      "execution_count": null,
      "outputs": [
        {
          "output_type": "display_data",
          "data": {
            "text/plain": [
              "\n",
              "\tKruskal-Wallis rank sum test\n",
              "\n",
              "data:  URXUMMA by PIR\n",
              "Kruskal-Wallis chi-squared = 1.6346, df = 2, p-value = 0.4416\n"
            ]
          },
          "metadata": {}
        }
      ]
    },
    {
      "cell_type": "markdown",
      "metadata": {
        "id": "PBIdTz59XFMJ"
      },
      "source": [
        "**Alcohol**"
      ]
    },
    {
      "cell_type": "code",
      "metadata": {
        "id": "s5HCr6Wi7Kjm",
        "colab": {
          "base_uri": "https://localhost:8080/"
        },
        "outputId": "01b46ef6-e573-40ba-fea9-17cd79a14148"
      },
      "source": [
        "HSV_df_backup_postprep -> HSV_df\n",
        "\n",
        "HSV_df %<>% select(URXUMMA, ALQ101  ) %>% filter(URXUMMA != 'NA') %>% filter(ALQ101   != 'NA')\n",
        "\n",
        "# kruskal wallis test\n",
        "kruskal.test(URXUMMA~ ALQ101   , data = HSV_df) \n",
        "\n",
        "cat(\"\\n\\n\")\n",
        "\n",
        "cat(\"\\n Numerical Summaries \\n\")\n",
        "# numerical summary\n",
        "HSV_df %$% num_summary(URXUMMA, ALQ101  ) \n",
        "\n",
        "cat(\"\\n\\n\")\n",
        "\n",
        "cat(\"\\n Multiple Comparison \\n\")\n",
        "# multiple comparison\n",
        "dunn_test(URXUMMA~ ALQ101   , data = HSV_df, p.adjust.method = \"fdr\") %>%\n",
        "p_format(digits = 2, leading.zero = TRUE) ; HSV_df_backup_postprep -> HSV_df\n",
        "\n"
      ],
      "execution_count": null,
      "outputs": [
        {
          "output_type": "display_data",
          "data": {
            "text/plain": [
              "\n",
              "\tKruskal-Wallis rank sum test\n",
              "\n",
              "data:  URXUMMA by ALQ101\n",
              "Kruskal-Wallis chi-squared = 5.6462, df = 1, p-value = 0.01749\n"
            ]
          },
          "metadata": {}
        },
        {
          "output_type": "stream",
          "name": "stdout",
          "text": [
            "\n",
            "\n",
            "\n",
            " Numerical Summaries \n"
          ]
        },
        {
          "output_type": "display_data",
          "data": {
            "text/plain": [
              "  variable Count Mean      Min  Q1   Q2   Q3   Max   Sd       \n",
              "1 Yes      2726  0.6127073 0.14 0.14 0.47 0.84 13.00 0.6334725\n",
              "2 No        903  0.5822259 0.14 0.14 0.41 0.76  6.26 0.6118177"
            ],
            "text/latex": "A tibble: 2 × 9\n\\begin{tabular}{lllllllll}\n variable & Count & Mean & Min & Q1 & Q2 & Q3 & Max & Sd\\\\\n <fct> & <int> & <dbl> & <dbl> & <dbl> & <dbl> & <dbl> & <dbl> & <dbl>\\\\\n\\hline\n\t Yes & 2726 & 0.6127073 & 0.14 & 0.14 & 0.47 & 0.84 & 13.00 & 0.6334725\\\\\n\t No  &  903 & 0.5822259 & 0.14 & 0.14 & 0.41 & 0.76 &  6.26 & 0.6118177\\\\\n\\end{tabular}\n",
            "text/markdown": "\nA tibble: 2 × 9\n\n| variable &lt;fct&gt; | Count &lt;int&gt; | Mean &lt;dbl&gt; | Min &lt;dbl&gt; | Q1 &lt;dbl&gt; | Q2 &lt;dbl&gt; | Q3 &lt;dbl&gt; | Max &lt;dbl&gt; | Sd &lt;dbl&gt; |\n|---|---|---|---|---|---|---|---|---|\n| Yes | 2726 | 0.6127073 | 0.14 | 0.14 | 0.47 | 0.84 | 13.00 | 0.6334725 |\n| No  |  903 | 0.5822259 | 0.14 | 0.14 | 0.41 | 0.76 |  6.26 | 0.6118177 |\n\n",
            "text/html": [
              "<table class=\"dataframe\">\n",
              "<caption>A tibble: 2 × 9</caption>\n",
              "<thead>\n",
              "\t<tr><th scope=col>variable</th><th scope=col>Count</th><th scope=col>Mean</th><th scope=col>Min</th><th scope=col>Q1</th><th scope=col>Q2</th><th scope=col>Q3</th><th scope=col>Max</th><th scope=col>Sd</th></tr>\n",
              "\t<tr><th scope=col>&lt;fct&gt;</th><th scope=col>&lt;int&gt;</th><th scope=col>&lt;dbl&gt;</th><th scope=col>&lt;dbl&gt;</th><th scope=col>&lt;dbl&gt;</th><th scope=col>&lt;dbl&gt;</th><th scope=col>&lt;dbl&gt;</th><th scope=col>&lt;dbl&gt;</th><th scope=col>&lt;dbl&gt;</th></tr>\n",
              "</thead>\n",
              "<tbody>\n",
              "\t<tr><td>Yes</td><td>2726</td><td>0.6127073</td><td>0.14</td><td>0.14</td><td>0.47</td><td>0.84</td><td>13.00</td><td>0.6334725</td></tr>\n",
              "\t<tr><td>No </td><td> 903</td><td>0.5822259</td><td>0.14</td><td>0.14</td><td>0.41</td><td>0.76</td><td> 6.26</td><td>0.6118177</td></tr>\n",
              "</tbody>\n",
              "</table>\n"
            ]
          },
          "metadata": {}
        },
        {
          "output_type": "stream",
          "name": "stdout",
          "text": [
            "\n",
            "\n",
            "\n",
            " Multiple Comparison \n"
          ]
        },
        {
          "output_type": "display_data",
          "data": {
            "text/plain": [
              "  .y.     group1 group2 n1   n2  statistic p     p.adj p.adj.signif\n",
              "1 URXUMMA Yes    No     2726 903 -2.376179 0.017 0.017 *           "
            ],
            "text/latex": "A rstatix\\_test: 1 × 9\n\\begin{tabular}{r|lllllllll}\n  & .y. & group1 & group2 & n1 & n2 & statistic & p & p.adj & p.adj.signif\\\\\n  & <chr> & <chr> & <chr> & <int> & <int> & <dbl> & <chr> & <chr> & <chr>\\\\\n\\hline\n\t1 & URXUMMA & Yes & No & 2726 & 903 & -2.376179 & 0.017 & 0.017 & *\\\\\n\\end{tabular}\n",
            "text/markdown": "\nA rstatix_test: 1 × 9\n\n| <!--/--> | .y. &lt;chr&gt; | group1 &lt;chr&gt; | group2 &lt;chr&gt; | n1 &lt;int&gt; | n2 &lt;int&gt; | statistic &lt;dbl&gt; | p &lt;chr&gt; | p.adj &lt;chr&gt; | p.adj.signif &lt;chr&gt; |\n|---|---|---|---|---|---|---|---|---|---|\n| 1 | URXUMMA | Yes | No | 2726 | 903 | -2.376179 | 0.017 | 0.017 | * |\n\n",
            "text/html": [
              "<table class=\"dataframe\">\n",
              "<caption>A rstatix_test: 1 × 9</caption>\n",
              "<thead>\n",
              "\t<tr><th></th><th scope=col>.y.</th><th scope=col>group1</th><th scope=col>group2</th><th scope=col>n1</th><th scope=col>n2</th><th scope=col>statistic</th><th scope=col>p</th><th scope=col>p.adj</th><th scope=col>p.adj.signif</th></tr>\n",
              "\t<tr><th></th><th scope=col>&lt;chr&gt;</th><th scope=col>&lt;chr&gt;</th><th scope=col>&lt;chr&gt;</th><th scope=col>&lt;int&gt;</th><th scope=col>&lt;int&gt;</th><th scope=col>&lt;dbl&gt;</th><th scope=col>&lt;chr&gt;</th><th scope=col>&lt;chr&gt;</th><th scope=col>&lt;chr&gt;</th></tr>\n",
              "</thead>\n",
              "<tbody>\n",
              "\t<tr><th scope=row>1</th><td>URXUMMA</td><td>Yes</td><td>No</td><td>2726</td><td>903</td><td>-2.376179</td><td>0.017</td><td>0.017</td><td>*</td></tr>\n",
              "</tbody>\n",
              "</table>\n"
            ]
          },
          "metadata": {}
        }
      ]
    },
    {
      "cell_type": "markdown",
      "metadata": {
        "id": "PwJb4y-XXJMS"
      },
      "source": [
        "**Cotinine**"
      ]
    },
    {
      "cell_type": "code",
      "metadata": {
        "id": "4g1HTShN7Lg0",
        "colab": {
          "base_uri": "https://localhost:8080/"
        },
        "outputId": "26ece8a5-7ff1-40c1-9663-9193c5e901d3"
      },
      "source": [
        "HSV_df_backup_postprep -> HSV_df\n",
        "\n",
        "HSV_df %<>% select(URXUMMA, LBDCOTLC  ) %>% filter(URXUMMA != 'NA') %>% filter(LBDCOTLC   != 'NA')\n",
        "\n",
        "# kruskal wallis test\n",
        "kruskal.test(URXUMMA~ LBDCOTLC   , data = HSV_df) \n",
        "\n",
        "cat(\"\\n\\n\")\n",
        "\n",
        "cat(\"\\n Numerical Summaries \\n\")\n",
        "# numerical summary\n",
        "HSV_df %$% num_summary(URXUMMA, LBDCOTLC  ) \n",
        "\n",
        "cat(\"\\n\\n\")\n",
        "\n",
        "cat(\"\\n Multiple Comparison \\n\")\n",
        "# multiple comparison\n",
        "dunn_test(URXUMMA~ LBDCOTLC   , data = HSV_df, p.adjust.method = \"fdr\") %>%\n",
        "p_format(digits = 2, leading.zero = TRUE) ; HSV_df_backup_postprep -> HSV_df\n",
        "\n"
      ],
      "execution_count": null,
      "outputs": [
        {
          "output_type": "display_data",
          "data": {
            "text/plain": [
              "\n",
              "\tKruskal-Wallis rank sum test\n",
              "\n",
              "data:  URXUMMA by LBDCOTLC\n",
              "Kruskal-Wallis chi-squared = 7.2149, df = 1, p-value = 0.00723\n"
            ]
          },
          "metadata": {}
        },
        {
          "output_type": "stream",
          "name": "stdout",
          "text": [
            "\n",
            "\n",
            "\n",
            " Numerical Summaries \n"
          ]
        },
        {
          "output_type": "display_data",
          "data": {
            "text/plain": [
              "  variable    Count Mean      Min  Q1   Q2   Q3     Max Sd       \n",
              "1 Above limit 2884  0.6251595 0.14 0.14 0.47 0.8500 17  0.6761364\n",
              "2 Below Limit  824  0.5699393 0.14 0.14 0.41 0.7525 13  0.6901407"
            ],
            "text/latex": "A tibble: 2 × 9\n\\begin{tabular}{lllllllll}\n variable & Count & Mean & Min & Q1 & Q2 & Q3 & Max & Sd\\\\\n <fct> & <int> & <dbl> & <dbl> & <dbl> & <dbl> & <dbl> & <dbl> & <dbl>\\\\\n\\hline\n\t Above limit & 2884 & 0.6251595 & 0.14 & 0.14 & 0.47 & 0.8500 & 17 & 0.6761364\\\\\n\t Below Limit &  824 & 0.5699393 & 0.14 & 0.14 & 0.41 & 0.7525 & 13 & 0.6901407\\\\\n\\end{tabular}\n",
            "text/markdown": "\nA tibble: 2 × 9\n\n| variable &lt;fct&gt; | Count &lt;int&gt; | Mean &lt;dbl&gt; | Min &lt;dbl&gt; | Q1 &lt;dbl&gt; | Q2 &lt;dbl&gt; | Q3 &lt;dbl&gt; | Max &lt;dbl&gt; | Sd &lt;dbl&gt; |\n|---|---|---|---|---|---|---|---|---|\n| Above limit | 2884 | 0.6251595 | 0.14 | 0.14 | 0.47 | 0.8500 | 17 | 0.6761364 |\n| Below Limit |  824 | 0.5699393 | 0.14 | 0.14 | 0.41 | 0.7525 | 13 | 0.6901407 |\n\n",
            "text/html": [
              "<table class=\"dataframe\">\n",
              "<caption>A tibble: 2 × 9</caption>\n",
              "<thead>\n",
              "\t<tr><th scope=col>variable</th><th scope=col>Count</th><th scope=col>Mean</th><th scope=col>Min</th><th scope=col>Q1</th><th scope=col>Q2</th><th scope=col>Q3</th><th scope=col>Max</th><th scope=col>Sd</th></tr>\n",
              "\t<tr><th scope=col>&lt;fct&gt;</th><th scope=col>&lt;int&gt;</th><th scope=col>&lt;dbl&gt;</th><th scope=col>&lt;dbl&gt;</th><th scope=col>&lt;dbl&gt;</th><th scope=col>&lt;dbl&gt;</th><th scope=col>&lt;dbl&gt;</th><th scope=col>&lt;dbl&gt;</th><th scope=col>&lt;dbl&gt;</th></tr>\n",
              "</thead>\n",
              "<tbody>\n",
              "\t<tr><td>Above limit</td><td>2884</td><td>0.6251595</td><td>0.14</td><td>0.14</td><td>0.47</td><td>0.8500</td><td>17</td><td>0.6761364</td></tr>\n",
              "\t<tr><td>Below Limit</td><td> 824</td><td>0.5699393</td><td>0.14</td><td>0.14</td><td>0.41</td><td>0.7525</td><td>13</td><td>0.6901407</td></tr>\n",
              "</tbody>\n",
              "</table>\n"
            ]
          },
          "metadata": {}
        },
        {
          "output_type": "stream",
          "name": "stdout",
          "text": [
            "\n",
            "\n",
            "\n",
            " Multiple Comparison \n"
          ]
        },
        {
          "output_type": "display_data",
          "data": {
            "text/plain": [
              "  .y.     group1      group2      n1   n2  statistic p      p.adj  p.adj.signif\n",
              "1 URXUMMA Above limit Below Limit 2884 824 -2.686059 0.0072 0.0072 **          "
            ],
            "text/latex": "A rstatix\\_test: 1 × 9\n\\begin{tabular}{r|lllllllll}\n  & .y. & group1 & group2 & n1 & n2 & statistic & p & p.adj & p.adj.signif\\\\\n  & <chr> & <chr> & <chr> & <int> & <int> & <dbl> & <chr> & <chr> & <chr>\\\\\n\\hline\n\t1 & URXUMMA & Above limit & Below Limit & 2884 & 824 & -2.686059 & 0.0072 & 0.0072 & **\\\\\n\\end{tabular}\n",
            "text/markdown": "\nA rstatix_test: 1 × 9\n\n| <!--/--> | .y. &lt;chr&gt; | group1 &lt;chr&gt; | group2 &lt;chr&gt; | n1 &lt;int&gt; | n2 &lt;int&gt; | statistic &lt;dbl&gt; | p &lt;chr&gt; | p.adj &lt;chr&gt; | p.adj.signif &lt;chr&gt; |\n|---|---|---|---|---|---|---|---|---|---|\n| 1 | URXUMMA | Above limit | Below Limit | 2884 | 824 | -2.686059 | 0.0072 | 0.0072 | ** |\n\n",
            "text/html": [
              "<table class=\"dataframe\">\n",
              "<caption>A rstatix_test: 1 × 9</caption>\n",
              "<thead>\n",
              "\t<tr><th></th><th scope=col>.y.</th><th scope=col>group1</th><th scope=col>group2</th><th scope=col>n1</th><th scope=col>n2</th><th scope=col>statistic</th><th scope=col>p</th><th scope=col>p.adj</th><th scope=col>p.adj.signif</th></tr>\n",
              "\t<tr><th></th><th scope=col>&lt;chr&gt;</th><th scope=col>&lt;chr&gt;</th><th scope=col>&lt;chr&gt;</th><th scope=col>&lt;int&gt;</th><th scope=col>&lt;int&gt;</th><th scope=col>&lt;dbl&gt;</th><th scope=col>&lt;chr&gt;</th><th scope=col>&lt;chr&gt;</th><th scope=col>&lt;chr&gt;</th></tr>\n",
              "</thead>\n",
              "<tbody>\n",
              "\t<tr><th scope=row>1</th><td>URXUMMA</td><td>Above limit</td><td>Below Limit</td><td>2884</td><td>824</td><td>-2.686059</td><td>0.0072</td><td>0.0072</td><td>**</td></tr>\n",
              "</tbody>\n",
              "</table>\n"
            ]
          },
          "metadata": {}
        }
      ]
    },
    {
      "cell_type": "markdown",
      "metadata": {
        "id": "Ixb9WG-CZUXH"
      },
      "source": [
        "### **TUA ( Total Urinary Arsenic )** \n",
        "\n",
        "At alpha level of 0.05, for Total urinary arsenic, there is statistical significance for **race and alcohol.**\n",
        "\n",
        "There is no statistical significance for education, marital status,   BMI, alcohol, cotinine and  and poverty index ratio."
      ]
    },
    {
      "cell_type": "code",
      "metadata": {
        "id": "QWs96xEXZa0_",
        "colab": {
          "base_uri": "https://localhost:8080/"
        },
        "outputId": "a84b8e63-dab4-4fb2-ad7b-71ab8b11a51a"
      },
      "source": [
        "# BMI Categorical\n",
        "kruskal.test(TUA~ BMI.f , data = HSV_df) "
      ],
      "execution_count": null,
      "outputs": [
        {
          "output_type": "display_data",
          "data": {
            "text/plain": [
              "\n",
              "\tKruskal-Wallis rank sum test\n",
              "\n",
              "data:  TUA by BMI.f\n",
              "Kruskal-Wallis chi-squared = 4.4095, df = 3, p-value = 0.2205\n"
            ]
          },
          "metadata": {}
        }
      ]
    },
    {
      "cell_type": "code",
      "metadata": {
        "id": "OOxyogWv7Mmz",
        "colab": {
          "base_uri": "https://localhost:8080/"
        },
        "outputId": "0eef616d-119c-440f-f53d-c2c1ac6953ac"
      },
      "source": [
        "\n",
        "# Education\n",
        "kruskal.test(TUA~ DMDEDUC2 , data = HSV_df) "
      ],
      "execution_count": null,
      "outputs": [
        {
          "output_type": "display_data",
          "data": {
            "text/plain": [
              "\n",
              "\tKruskal-Wallis rank sum test\n",
              "\n",
              "data:  TUA by DMDEDUC2\n",
              "Kruskal-Wallis chi-squared = 4.4884, df = 4, p-value = 0.3439\n"
            ]
          },
          "metadata": {}
        }
      ]
    },
    {
      "cell_type": "code",
      "metadata": {
        "id": "zlN_Nr-37NQ0",
        "colab": {
          "base_uri": "https://localhost:8080/"
        },
        "outputId": "00d09dd9-c043-49d0-f3ef-91dabc54ea37"
      },
      "source": [
        "\n",
        "# Marital Status\n",
        "kruskal.test(TUA~ DMDMARTL , data = HSV_df) "
      ],
      "execution_count": null,
      "outputs": [
        {
          "output_type": "display_data",
          "data": {
            "text/plain": [
              "\n",
              "\tKruskal-Wallis rank sum test\n",
              "\n",
              "data:  TUA by DMDMARTL\n",
              "Kruskal-Wallis chi-squared = 7.7699, df = 5, p-value = 0.1694\n"
            ]
          },
          "metadata": {}
        }
      ]
    },
    {
      "cell_type": "code",
      "metadata": {
        "id": "q2u9rvsr7N1m",
        "colab": {
          "base_uri": "https://localhost:8080/"
        },
        "outputId": "cc45c655-35b4-455e-fc08-09d15e83602b"
      },
      "source": [
        "HSV_df_backup_postprep -> HSV_df\n",
        "\n",
        "HSV_df %<>% select(TUA, RIDRETH1  ) %>% filter(TUA != 'NA') %>% filter(RIDRETH1   != 'NA')\n",
        "\n",
        "# kruskal wallis test\n",
        "kruskal.test(TUA~ RIDRETH1   , data = HSV_df) \n",
        "\n",
        "cat(\"\\n\\n\")\n",
        "\n",
        "cat(\"\\n Numerical Summaries \\n\")\n",
        "# numerical summary\n",
        "HSV_df %$% num_summary(TUA, RIDRETH1  ) \n",
        "\n",
        "cat(\"\\n\\n\")\n",
        "\n",
        "cat(\"\\n Multiple Comparison \\n\")\n",
        "# multiple comparison\n",
        "dunn_test(TUA~ RIDRETH1   , data = HSV_df, p.adjust.method = \"fdr\") %>%\n",
        "p_format(digits = 2, leading.zero = TRUE) ; HSV_df_backup_postprep -> HSV_df\n"
      ],
      "execution_count": null,
      "outputs": [
        {
          "output_type": "display_data",
          "data": {
            "text/plain": [
              "\n",
              "\tKruskal-Wallis rank sum test\n",
              "\n",
              "data:  TUA by RIDRETH1\n",
              "Kruskal-Wallis chi-squared = 23.793, df = 4, p-value = 8.79e-05\n"
            ]
          },
          "metadata": {}
        },
        {
          "output_type": "stream",
          "name": "stdout",
          "text": [
            "\n",
            "\n",
            "\n",
            " Numerical Summaries \n"
          ]
        },
        {
          "output_type": "display_data",
          "data": {
            "text/plain": [
              "  variable    Count Mean     Min  Q1     Q2     Q3      Max    Sd      \n",
              "1 Mex-Hisp     581  10.79318 0.95 3.2100  5.980 10.1900 250.60 22.12063\n",
              "2 Other-Hisp   420  17.37586 0.97 3.9350  7.540 15.0825 677.14 43.82980\n",
              "3 Non-Hisp-WT 1436  10.11479 0.68 2.6500  4.900  9.9050 239.58 20.32993\n",
              "4 Non-Hisp-BK  894  17.61885 0.90 4.0225  7.275 15.1350 849.22 44.17710\n",
              "5 Others       565  23.92568 0.91 4.6800 10.350 24.5100 528.44 42.37945"
            ],
            "text/latex": "A tibble: 5 × 9\n\\begin{tabular}{lllllllll}\n variable & Count & Mean & Min & Q1 & Q2 & Q3 & Max & Sd\\\\\n <fct> & <int> & <dbl> & <dbl> & <dbl> & <dbl> & <dbl> & <dbl> & <dbl>\\\\\n\\hline\n\t Mex-Hisp    &  581 & 10.79318 & 0.95 & 3.2100 &  5.980 & 10.1900 & 250.60 & 22.12063\\\\\n\t Other-Hisp  &  420 & 17.37586 & 0.97 & 3.9350 &  7.540 & 15.0825 & 677.14 & 43.82980\\\\\n\t Non-Hisp-WT & 1436 & 10.11479 & 0.68 & 2.6500 &  4.900 &  9.9050 & 239.58 & 20.32993\\\\\n\t Non-Hisp-BK &  894 & 17.61885 & 0.90 & 4.0225 &  7.275 & 15.1350 & 849.22 & 44.17710\\\\\n\t Others      &  565 & 23.92568 & 0.91 & 4.6800 & 10.350 & 24.5100 & 528.44 & 42.37945\\\\\n\\end{tabular}\n",
            "text/markdown": "\nA tibble: 5 × 9\n\n| variable &lt;fct&gt; | Count &lt;int&gt; | Mean &lt;dbl&gt; | Min &lt;dbl&gt; | Q1 &lt;dbl&gt; | Q2 &lt;dbl&gt; | Q3 &lt;dbl&gt; | Max &lt;dbl&gt; | Sd &lt;dbl&gt; |\n|---|---|---|---|---|---|---|---|---|\n| Mex-Hisp    |  581 | 10.79318 | 0.95 | 3.2100 |  5.980 | 10.1900 | 250.60 | 22.12063 |\n| Other-Hisp  |  420 | 17.37586 | 0.97 | 3.9350 |  7.540 | 15.0825 | 677.14 | 43.82980 |\n| Non-Hisp-WT | 1436 | 10.11479 | 0.68 | 2.6500 |  4.900 |  9.9050 | 239.58 | 20.32993 |\n| Non-Hisp-BK |  894 | 17.61885 | 0.90 | 4.0225 |  7.275 | 15.1350 | 849.22 | 44.17710 |\n| Others      |  565 | 23.92568 | 0.91 | 4.6800 | 10.350 | 24.5100 | 528.44 | 42.37945 |\n\n",
            "text/html": [
              "<table class=\"dataframe\">\n",
              "<caption>A tibble: 5 × 9</caption>\n",
              "<thead>\n",
              "\t<tr><th scope=col>variable</th><th scope=col>Count</th><th scope=col>Mean</th><th scope=col>Min</th><th scope=col>Q1</th><th scope=col>Q2</th><th scope=col>Q3</th><th scope=col>Max</th><th scope=col>Sd</th></tr>\n",
              "\t<tr><th scope=col>&lt;fct&gt;</th><th scope=col>&lt;int&gt;</th><th scope=col>&lt;dbl&gt;</th><th scope=col>&lt;dbl&gt;</th><th scope=col>&lt;dbl&gt;</th><th scope=col>&lt;dbl&gt;</th><th scope=col>&lt;dbl&gt;</th><th scope=col>&lt;dbl&gt;</th><th scope=col>&lt;dbl&gt;</th></tr>\n",
              "</thead>\n",
              "<tbody>\n",
              "\t<tr><td>Mex-Hisp   </td><td> 581</td><td>10.79318</td><td>0.95</td><td>3.2100</td><td> 5.980</td><td>10.1900</td><td>250.60</td><td>22.12063</td></tr>\n",
              "\t<tr><td>Other-Hisp </td><td> 420</td><td>17.37586</td><td>0.97</td><td>3.9350</td><td> 7.540</td><td>15.0825</td><td>677.14</td><td>43.82980</td></tr>\n",
              "\t<tr><td>Non-Hisp-WT</td><td>1436</td><td>10.11479</td><td>0.68</td><td>2.6500</td><td> 4.900</td><td> 9.9050</td><td>239.58</td><td>20.32993</td></tr>\n",
              "\t<tr><td>Non-Hisp-BK</td><td> 894</td><td>17.61885</td><td>0.90</td><td>4.0225</td><td> 7.275</td><td>15.1350</td><td>849.22</td><td>44.17710</td></tr>\n",
              "\t<tr><td>Others     </td><td> 565</td><td>23.92568</td><td>0.91</td><td>4.6800</td><td>10.350</td><td>24.5100</td><td>528.44</td><td>42.37945</td></tr>\n",
              "</tbody>\n",
              "</table>\n"
            ]
          },
          "metadata": {}
        },
        {
          "output_type": "stream",
          "name": "stdout",
          "text": [
            "\n",
            "\n",
            "\n",
            " Multiple Comparison \n"
          ]
        },
        {
          "output_type": "display_data",
          "data": {
            "text/plain": [
              "   .y. group1      group2      n1   n2   statistic   p       p.adj \n",
              "1  TUA Mex-Hisp    Other-Hisp   581  420 -0.16144015 0.87175 0.9576\n",
              "2  TUA Mex-Hisp    Non-Hisp-WT  581 1436 -3.50400220 0.00046 0.0023\n",
              "3  TUA Mex-Hisp    Non-Hisp-BK  581  894 -0.25300913 0.80026 0.9576\n",
              "4  TUA Mex-Hisp    Others       581  565 -0.29228416 0.77007 0.9576\n",
              "5  TUA Other-Hisp  Non-Hisp-WT  420 1436 -2.91934605 0.00351 0.0088\n",
              "6  TUA Other-Hisp  Non-Hisp-BK  420  894 -0.05312605 0.95763 0.9576\n",
              "7  TUA Other-Hisp  Others       420  565 -0.10756064 0.91434 0.9576\n",
              "8  TUA Non-Hisp-WT Non-Hisp-BK 1436  894  3.72760501 0.00019 0.0019\n",
              "9  TUA Non-Hisp-WT Others      1436  565  3.12145791 0.0018  0.006 \n",
              "10 TUA Non-Hisp-BK Others       894  565 -0.07046416 0.94382 0.9576\n",
              "   p.adj.signif\n",
              "1  ns          \n",
              "2  **          \n",
              "3  ns          \n",
              "4  ns          \n",
              "5  **          \n",
              "6  ns          \n",
              "7  ns          \n",
              "8  **          \n",
              "9  **          \n",
              "10 ns          "
            ],
            "text/latex": "A rstatix\\_test: 10 × 9\n\\begin{tabular}{r|lllllllll}\n  & .y. & group1 & group2 & n1 & n2 & statistic & p & p.adj & p.adj.signif\\\\\n  & <chr> & <chr> & <chr> & <int> & <int> & <dbl> & <chr> & <chr> & <chr>\\\\\n\\hline\n\t1 & TUA & Mex-Hisp    & Other-Hisp  &  581 &  420 & -0.16144015 & 0.87175 & 0.9576 & ns\\\\\n\t2 & TUA & Mex-Hisp    & Non-Hisp-WT &  581 & 1436 & -3.50400220 & 0.00046 & 0.0023 & **\\\\\n\t3 & TUA & Mex-Hisp    & Non-Hisp-BK &  581 &  894 & -0.25300913 & 0.80026 & 0.9576 & ns\\\\\n\t4 & TUA & Mex-Hisp    & Others      &  581 &  565 & -0.29228416 & 0.77007 & 0.9576 & ns\\\\\n\t5 & TUA & Other-Hisp  & Non-Hisp-WT &  420 & 1436 & -2.91934605 & 0.00351 & 0.0088 & **\\\\\n\t6 & TUA & Other-Hisp  & Non-Hisp-BK &  420 &  894 & -0.05312605 & 0.95763 & 0.9576 & ns\\\\\n\t7 & TUA & Other-Hisp  & Others      &  420 &  565 & -0.10756064 & 0.91434 & 0.9576 & ns\\\\\n\t8 & TUA & Non-Hisp-WT & Non-Hisp-BK & 1436 &  894 &  3.72760501 & 0.00019 & 0.0019 & **\\\\\n\t9 & TUA & Non-Hisp-WT & Others      & 1436 &  565 &  3.12145791 & 0.0018  & 0.006  & **\\\\\n\t10 & TUA & Non-Hisp-BK & Others      &  894 &  565 & -0.07046416 & 0.94382 & 0.9576 & ns\\\\\n\\end{tabular}\n",
            "text/markdown": "\nA rstatix_test: 10 × 9\n\n| <!--/--> | .y. &lt;chr&gt; | group1 &lt;chr&gt; | group2 &lt;chr&gt; | n1 &lt;int&gt; | n2 &lt;int&gt; | statistic &lt;dbl&gt; | p &lt;chr&gt; | p.adj &lt;chr&gt; | p.adj.signif &lt;chr&gt; |\n|---|---|---|---|---|---|---|---|---|---|\n| 1 | TUA | Mex-Hisp    | Other-Hisp  |  581 |  420 | -0.16144015 | 0.87175 | 0.9576 | ns |\n| 2 | TUA | Mex-Hisp    | Non-Hisp-WT |  581 | 1436 | -3.50400220 | 0.00046 | 0.0023 | ** |\n| 3 | TUA | Mex-Hisp    | Non-Hisp-BK |  581 |  894 | -0.25300913 | 0.80026 | 0.9576 | ns |\n| 4 | TUA | Mex-Hisp    | Others      |  581 |  565 | -0.29228416 | 0.77007 | 0.9576 | ns |\n| 5 | TUA | Other-Hisp  | Non-Hisp-WT |  420 | 1436 | -2.91934605 | 0.00351 | 0.0088 | ** |\n| 6 | TUA | Other-Hisp  | Non-Hisp-BK |  420 |  894 | -0.05312605 | 0.95763 | 0.9576 | ns |\n| 7 | TUA | Other-Hisp  | Others      |  420 |  565 | -0.10756064 | 0.91434 | 0.9576 | ns |\n| 8 | TUA | Non-Hisp-WT | Non-Hisp-BK | 1436 |  894 |  3.72760501 | 0.00019 | 0.0019 | ** |\n| 9 | TUA | Non-Hisp-WT | Others      | 1436 |  565 |  3.12145791 | 0.0018  | 0.006  | ** |\n| 10 | TUA | Non-Hisp-BK | Others      |  894 |  565 | -0.07046416 | 0.94382 | 0.9576 | ns |\n\n",
            "text/html": [
              "<table class=\"dataframe\">\n",
              "<caption>A rstatix_test: 10 × 9</caption>\n",
              "<thead>\n",
              "\t<tr><th></th><th scope=col>.y.</th><th scope=col>group1</th><th scope=col>group2</th><th scope=col>n1</th><th scope=col>n2</th><th scope=col>statistic</th><th scope=col>p</th><th scope=col>p.adj</th><th scope=col>p.adj.signif</th></tr>\n",
              "\t<tr><th></th><th scope=col>&lt;chr&gt;</th><th scope=col>&lt;chr&gt;</th><th scope=col>&lt;chr&gt;</th><th scope=col>&lt;int&gt;</th><th scope=col>&lt;int&gt;</th><th scope=col>&lt;dbl&gt;</th><th scope=col>&lt;chr&gt;</th><th scope=col>&lt;chr&gt;</th><th scope=col>&lt;chr&gt;</th></tr>\n",
              "</thead>\n",
              "<tbody>\n",
              "\t<tr><th scope=row>1</th><td>TUA</td><td>Mex-Hisp   </td><td>Other-Hisp </td><td> 581</td><td> 420</td><td>-0.16144015</td><td>0.87175</td><td>0.9576</td><td>ns</td></tr>\n",
              "\t<tr><th scope=row>2</th><td>TUA</td><td>Mex-Hisp   </td><td>Non-Hisp-WT</td><td> 581</td><td>1436</td><td>-3.50400220</td><td>0.00046</td><td>0.0023</td><td>**</td></tr>\n",
              "\t<tr><th scope=row>3</th><td>TUA</td><td>Mex-Hisp   </td><td>Non-Hisp-BK</td><td> 581</td><td> 894</td><td>-0.25300913</td><td>0.80026</td><td>0.9576</td><td>ns</td></tr>\n",
              "\t<tr><th scope=row>4</th><td>TUA</td><td>Mex-Hisp   </td><td>Others     </td><td> 581</td><td> 565</td><td>-0.29228416</td><td>0.77007</td><td>0.9576</td><td>ns</td></tr>\n",
              "\t<tr><th scope=row>5</th><td>TUA</td><td>Other-Hisp </td><td>Non-Hisp-WT</td><td> 420</td><td>1436</td><td>-2.91934605</td><td>0.00351</td><td>0.0088</td><td>**</td></tr>\n",
              "\t<tr><th scope=row>6</th><td>TUA</td><td>Other-Hisp </td><td>Non-Hisp-BK</td><td> 420</td><td> 894</td><td>-0.05312605</td><td>0.95763</td><td>0.9576</td><td>ns</td></tr>\n",
              "\t<tr><th scope=row>7</th><td>TUA</td><td>Other-Hisp </td><td>Others     </td><td> 420</td><td> 565</td><td>-0.10756064</td><td>0.91434</td><td>0.9576</td><td>ns</td></tr>\n",
              "\t<tr><th scope=row>8</th><td>TUA</td><td>Non-Hisp-WT</td><td>Non-Hisp-BK</td><td>1436</td><td> 894</td><td> 3.72760501</td><td>0.00019</td><td>0.0019</td><td>**</td></tr>\n",
              "\t<tr><th scope=row>9</th><td>TUA</td><td>Non-Hisp-WT</td><td>Others     </td><td>1436</td><td> 565</td><td> 3.12145791</td><td>0.0018 </td><td>0.006 </td><td>**</td></tr>\n",
              "\t<tr><th scope=row>10</th><td>TUA</td><td>Non-Hisp-BK</td><td>Others     </td><td> 894</td><td> 565</td><td>-0.07046416</td><td>0.94382</td><td>0.9576</td><td>ns</td></tr>\n",
              "</tbody>\n",
              "</table>\n"
            ]
          },
          "metadata": {}
        }
      ]
    },
    {
      "cell_type": "code",
      "metadata": {
        "id": "wZW4zelM7Oel",
        "colab": {
          "base_uri": "https://localhost:8080/"
        },
        "outputId": "996840da-5f62-45ff-aa0b-8f589f47dc22"
      },
      "source": [
        "\n",
        "# Poverty Income Ratio\n",
        "kruskal.test(TUA~ PIR , data = HSV_df)"
      ],
      "execution_count": null,
      "outputs": [
        {
          "output_type": "display_data",
          "data": {
            "text/plain": [
              "\n",
              "\tKruskal-Wallis rank sum test\n",
              "\n",
              "data:  TUA by PIR\n",
              "Kruskal-Wallis chi-squared = 2.1895, df = 2, p-value = 0.3346\n"
            ]
          },
          "metadata": {}
        }
      ]
    },
    {
      "cell_type": "code",
      "metadata": {
        "id": "_jNcKO3T7PCa",
        "colab": {
          "base_uri": "https://localhost:8080/"
        },
        "outputId": "b68849bb-cc6c-4883-8022-fa84b25563f0"
      },
      "source": [
        "HSV_df_backup_postprep -> HSV_df\n",
        "\n",
        "HSV_df %<>% select(TUA, ALQ101  ) %>% filter(TUA != 'NA') %>% filter(ALQ101   != 'NA')\n",
        "\n",
        "# kruskal wallis test\n",
        "kruskal.test(TUA~ ALQ101   , data = HSV_df) \n",
        "\n",
        "cat(\"\\n\\n\")\n",
        "\n",
        "cat(\"\\n Numerical Summaries \\n\")\n",
        "# numerical summary\n",
        "HSV_df %$% num_summary(TUA, ALQ101  ) \n",
        "\n",
        "cat(\"\\n\\n\")\n",
        "\n",
        "cat(\"\\n Multiple Comparison \\n\")\n",
        "# multiple comparison\n",
        "dunn_test(TUA~ ALQ101   , data = HSV_df, p.adjust.method = \"fdr\") %>%\n",
        "p_format(digits = 2, leading.zero = TRUE) ; HSV_df_backup_postprep -> HSV_df\n",
        "\n"
      ],
      "execution_count": null,
      "outputs": [
        {
          "output_type": "display_data",
          "data": {
            "text/plain": [
              "\n",
              "\tKruskal-Wallis rank sum test\n",
              "\n",
              "data:  TUA by ALQ101\n",
              "Kruskal-Wallis chi-squared = 5.946, df = 1, p-value = 0.01475\n"
            ]
          },
          "metadata": {}
        },
        {
          "output_type": "stream",
          "name": "stdout",
          "text": [
            "\n",
            "\n",
            "\n",
            " Numerical Summaries \n"
          ]
        },
        {
          "output_type": "display_data",
          "data": {
            "text/plain": [
              "  variable Count Mean     Min  Q1    Q2   Q3     Max    Sd      \n",
              "1 Yes      2726  14.27223 0.68 3.370 6.39 12.635 849.22 34.28276\n",
              "2 No        903  14.62050 0.91 2.935 5.88 12.400 528.44 33.25597"
            ],
            "text/latex": "A tibble: 2 × 9\n\\begin{tabular}{lllllllll}\n variable & Count & Mean & Min & Q1 & Q2 & Q3 & Max & Sd\\\\\n <fct> & <int> & <dbl> & <dbl> & <dbl> & <dbl> & <dbl> & <dbl> & <dbl>\\\\\n\\hline\n\t Yes & 2726 & 14.27223 & 0.68 & 3.370 & 6.39 & 12.635 & 849.22 & 34.28276\\\\\n\t No  &  903 & 14.62050 & 0.91 & 2.935 & 5.88 & 12.400 & 528.44 & 33.25597\\\\\n\\end{tabular}\n",
            "text/markdown": "\nA tibble: 2 × 9\n\n| variable &lt;fct&gt; | Count &lt;int&gt; | Mean &lt;dbl&gt; | Min &lt;dbl&gt; | Q1 &lt;dbl&gt; | Q2 &lt;dbl&gt; | Q3 &lt;dbl&gt; | Max &lt;dbl&gt; | Sd &lt;dbl&gt; |\n|---|---|---|---|---|---|---|---|---|\n| Yes | 2726 | 14.27223 | 0.68 | 3.370 | 6.39 | 12.635 | 849.22 | 34.28276 |\n| No  |  903 | 14.62050 | 0.91 | 2.935 | 5.88 | 12.400 | 528.44 | 33.25597 |\n\n",
            "text/html": [
              "<table class=\"dataframe\">\n",
              "<caption>A tibble: 2 × 9</caption>\n",
              "<thead>\n",
              "\t<tr><th scope=col>variable</th><th scope=col>Count</th><th scope=col>Mean</th><th scope=col>Min</th><th scope=col>Q1</th><th scope=col>Q2</th><th scope=col>Q3</th><th scope=col>Max</th><th scope=col>Sd</th></tr>\n",
              "\t<tr><th scope=col>&lt;fct&gt;</th><th scope=col>&lt;int&gt;</th><th scope=col>&lt;dbl&gt;</th><th scope=col>&lt;dbl&gt;</th><th scope=col>&lt;dbl&gt;</th><th scope=col>&lt;dbl&gt;</th><th scope=col>&lt;dbl&gt;</th><th scope=col>&lt;dbl&gt;</th><th scope=col>&lt;dbl&gt;</th></tr>\n",
              "</thead>\n",
              "<tbody>\n",
              "\t<tr><td>Yes</td><td>2726</td><td>14.27223</td><td>0.68</td><td>3.370</td><td>6.39</td><td>12.635</td><td>849.22</td><td>34.28276</td></tr>\n",
              "\t<tr><td>No </td><td> 903</td><td>14.62050</td><td>0.91</td><td>2.935</td><td>5.88</td><td>12.400</td><td>528.44</td><td>33.25597</td></tr>\n",
              "</tbody>\n",
              "</table>\n"
            ]
          },
          "metadata": {}
        },
        {
          "output_type": "stream",
          "name": "stdout",
          "text": [
            "\n",
            "\n",
            "\n",
            " Multiple Comparison \n"
          ]
        },
        {
          "output_type": "display_data",
          "data": {
            "text/plain": [
              "  .y. group1 group2 n1   n2  statistic p     p.adj p.adj.signif\n",
              "1 TUA Yes    No     2726 903 -2.438448 0.015 0.015 *           "
            ],
            "text/latex": "A rstatix\\_test: 1 × 9\n\\begin{tabular}{r|lllllllll}\n  & .y. & group1 & group2 & n1 & n2 & statistic & p & p.adj & p.adj.signif\\\\\n  & <chr> & <chr> & <chr> & <int> & <int> & <dbl> & <chr> & <chr> & <chr>\\\\\n\\hline\n\t1 & TUA & Yes & No & 2726 & 903 & -2.438448 & 0.015 & 0.015 & *\\\\\n\\end{tabular}\n",
            "text/markdown": "\nA rstatix_test: 1 × 9\n\n| <!--/--> | .y. &lt;chr&gt; | group1 &lt;chr&gt; | group2 &lt;chr&gt; | n1 &lt;int&gt; | n2 &lt;int&gt; | statistic &lt;dbl&gt; | p &lt;chr&gt; | p.adj &lt;chr&gt; | p.adj.signif &lt;chr&gt; |\n|---|---|---|---|---|---|---|---|---|---|\n| 1 | TUA | Yes | No | 2726 | 903 | -2.438448 | 0.015 | 0.015 | * |\n\n",
            "text/html": [
              "<table class=\"dataframe\">\n",
              "<caption>A rstatix_test: 1 × 9</caption>\n",
              "<thead>\n",
              "\t<tr><th></th><th scope=col>.y.</th><th scope=col>group1</th><th scope=col>group2</th><th scope=col>n1</th><th scope=col>n2</th><th scope=col>statistic</th><th scope=col>p</th><th scope=col>p.adj</th><th scope=col>p.adj.signif</th></tr>\n",
              "\t<tr><th></th><th scope=col>&lt;chr&gt;</th><th scope=col>&lt;chr&gt;</th><th scope=col>&lt;chr&gt;</th><th scope=col>&lt;int&gt;</th><th scope=col>&lt;int&gt;</th><th scope=col>&lt;dbl&gt;</th><th scope=col>&lt;chr&gt;</th><th scope=col>&lt;chr&gt;</th><th scope=col>&lt;chr&gt;</th></tr>\n",
              "</thead>\n",
              "<tbody>\n",
              "\t<tr><th scope=row>1</th><td>TUA</td><td>Yes</td><td>No</td><td>2726</td><td>903</td><td>-2.438448</td><td>0.015</td><td>0.015</td><td>*</td></tr>\n",
              "</tbody>\n",
              "</table>\n"
            ]
          },
          "metadata": {}
        }
      ]
    },
    {
      "cell_type": "code",
      "metadata": {
        "id": "enXJSDBw7P0N",
        "colab": {
          "base_uri": "https://localhost:8080/"
        },
        "outputId": "d763d90e-0ec6-41d2-cea1-d983bb5c7311"
      },
      "source": [
        "\n",
        "# Cotinine\n",
        "kruskal.test(TUA~ LBDCOTLC , data = HSV_df)\n",
        "\n"
      ],
      "execution_count": null,
      "outputs": [
        {
          "output_type": "display_data",
          "data": {
            "text/plain": [
              "\n",
              "\tKruskal-Wallis rank sum test\n",
              "\n",
              "data:  TUA by LBDCOTLC\n",
              "Kruskal-Wallis chi-squared = 0.99988, df = 1, p-value = 0.3173\n"
            ]
          },
          "metadata": {}
        }
      ]
    },
    {
      "cell_type": "markdown",
      "metadata": {
        "id": "gEat4OhyZzvJ"
      },
      "source": [
        "### **TUA1**\n",
        "\n",
        "At alpha level of 0.05, for combination of arsenous acid , arsenicacid , monomethylarsonic acid and dimethylarsenic acid, there is statistical significance for **BMI, race and alcohol.**\n",
        "\n",
        "There is no statistical significance for education, marital status, cotinine and poverty index ratio."
      ]
    },
    {
      "cell_type": "markdown",
      "metadata": {
        "id": "R2Mpqg9DYFyZ"
      },
      "source": [
        "**BMI**"
      ]
    },
    {
      "cell_type": "code",
      "metadata": {
        "id": "RSmU92yPZ4wJ",
        "colab": {
          "base_uri": "https://localhost:8080/"
        },
        "outputId": "58fd1399-ceae-4a47-e459-99e1404b5b79"
      },
      "source": [
        "HSV_df_backup_postprep -> HSV_df\n",
        "\n",
        "HSV_df %<>% select(TUA1, BMI.f  ) %>% filter(TUA1 != 'NA') %>% filter(BMI.f   != 'NA')\n",
        "\n",
        "# kruskal wallis test\n",
        "kruskal.test(TUA1~ BMI.f   , data = HSV_df) \n",
        "\n",
        "cat(\"\\n\\n\")\n",
        "\n",
        "cat(\"\\n Numerical Summaries \\n\")\n",
        "# numerical summary\n",
        "HSV_df %$% num_summary(TUA1, BMI.f  ) \n",
        "\n",
        "cat(\"\\n\\n\")\n",
        "\n",
        "cat(\"\\n Multiple Comparison \\n\")\n",
        "# multiple comparison\n",
        "dunn_test(TUA1~ BMI.f   , data = HSV_df, p.adjust.method = \"fdr\") %>%\n",
        "p_format(digits = 2, leading.zero = TRUE) ; HSV_df_backup_postprep -> HSV_df\n"
      ],
      "execution_count": null,
      "outputs": [
        {
          "output_type": "display_data",
          "data": {
            "text/plain": [
              "\n",
              "\tKruskal-Wallis rank sum test\n",
              "\n",
              "data:  TUA1 by BMI.f\n",
              "Kruskal-Wallis chi-squared = 10.78, df = 3, p-value = 0.01298\n"
            ]
          },
          "metadata": {}
        },
        {
          "output_type": "stream",
          "name": "stdout",
          "text": [
            "\n",
            "\n",
            "\n",
            " Numerical Summaries \n"
          ]
        },
        {
          "output_type": "display_data",
          "data": {
            "text/plain": [
              "  variable      Count Mean     Min  Q1     Q2    Q3     Max    Sd       \n",
              "1 Underweight     80  8.179125 2.13 2.5825 3.885 7.9125 116.05 15.247710\n",
              "2 Normal weight 1140  6.929140 2.13 2.8975 4.835 8.0300  87.04  6.895633\n",
              "3 Overweight    1166  6.818877 2.13 2.8950 4.840 7.9550  59.11  6.509300\n",
              "4 Obesity       1495  6.287492 2.13 2.9650 4.910 7.5000  82.34  5.500950"
            ],
            "text/latex": "A tibble: 4 × 9\n\\begin{tabular}{lllllllll}\n variable & Count & Mean & Min & Q1 & Q2 & Q3 & Max & Sd\\\\\n <fct> & <int> & <dbl> & <dbl> & <dbl> & <dbl> & <dbl> & <dbl> & <dbl>\\\\\n\\hline\n\t Underweight   &   80 & 8.179125 & 2.13 & 2.5825 & 3.885 & 7.9125 & 116.05 & 15.247710\\\\\n\t Normal weight & 1140 & 6.929140 & 2.13 & 2.8975 & 4.835 & 8.0300 &  87.04 &  6.895633\\\\\n\t Overweight    & 1166 & 6.818877 & 2.13 & 2.8950 & 4.840 & 7.9550 &  59.11 &  6.509300\\\\\n\t Obesity       & 1495 & 6.287492 & 2.13 & 2.9650 & 4.910 & 7.5000 &  82.34 &  5.500950\\\\\n\\end{tabular}\n",
            "text/markdown": "\nA tibble: 4 × 9\n\n| variable &lt;fct&gt; | Count &lt;int&gt; | Mean &lt;dbl&gt; | Min &lt;dbl&gt; | Q1 &lt;dbl&gt; | Q2 &lt;dbl&gt; | Q3 &lt;dbl&gt; | Max &lt;dbl&gt; | Sd &lt;dbl&gt; |\n|---|---|---|---|---|---|---|---|---|\n| Underweight   |   80 | 8.179125 | 2.13 | 2.5825 | 3.885 | 7.9125 | 116.05 | 15.247710 |\n| Normal weight | 1140 | 6.929140 | 2.13 | 2.8975 | 4.835 | 8.0300 |  87.04 |  6.895633 |\n| Overweight    | 1166 | 6.818877 | 2.13 | 2.8950 | 4.840 | 7.9550 |  59.11 |  6.509300 |\n| Obesity       | 1495 | 6.287492 | 2.13 | 2.9650 | 4.910 | 7.5000 |  82.34 |  5.500950 |\n\n",
            "text/html": [
              "<table class=\"dataframe\">\n",
              "<caption>A tibble: 4 × 9</caption>\n",
              "<thead>\n",
              "\t<tr><th scope=col>variable</th><th scope=col>Count</th><th scope=col>Mean</th><th scope=col>Min</th><th scope=col>Q1</th><th scope=col>Q2</th><th scope=col>Q3</th><th scope=col>Max</th><th scope=col>Sd</th></tr>\n",
              "\t<tr><th scope=col>&lt;fct&gt;</th><th scope=col>&lt;int&gt;</th><th scope=col>&lt;dbl&gt;</th><th scope=col>&lt;dbl&gt;</th><th scope=col>&lt;dbl&gt;</th><th scope=col>&lt;dbl&gt;</th><th scope=col>&lt;dbl&gt;</th><th scope=col>&lt;dbl&gt;</th><th scope=col>&lt;dbl&gt;</th></tr>\n",
              "</thead>\n",
              "<tbody>\n",
              "\t<tr><td>Underweight  </td><td>  80</td><td>8.179125</td><td>2.13</td><td>2.5825</td><td>3.885</td><td>7.9125</td><td>116.05</td><td>15.247710</td></tr>\n",
              "\t<tr><td>Normal weight</td><td>1140</td><td>6.929140</td><td>2.13</td><td>2.8975</td><td>4.835</td><td>8.0300</td><td> 87.04</td><td> 6.895633</td></tr>\n",
              "\t<tr><td>Overweight   </td><td>1166</td><td>6.818877</td><td>2.13</td><td>2.8950</td><td>4.840</td><td>7.9550</td><td> 59.11</td><td> 6.509300</td></tr>\n",
              "\t<tr><td>Obesity      </td><td>1495</td><td>6.287492</td><td>2.13</td><td>2.9650</td><td>4.910</td><td>7.5000</td><td> 82.34</td><td> 5.500950</td></tr>\n",
              "</tbody>\n",
              "</table>\n"
            ]
          },
          "metadata": {}
        },
        {
          "output_type": "stream",
          "name": "stdout",
          "text": [
            "\n",
            "\n",
            "\n",
            " Multiple Comparison \n"
          ]
        },
        {
          "output_type": "display_data",
          "data": {
            "text/plain": [
              "  .y.  group1        group2        n1   n2   statistic   p     p.adj\n",
              "1 TUA1 Underweight   Normal weight   80 1140  1.23603978 0.216 0.27 \n",
              "2 TUA1 Underweight   Overweight      80 1166  1.21367545 0.225 0.27 \n",
              "3 TUA1 Underweight   Obesity         80 1495  2.06558409 0.039 0.078\n",
              "4 TUA1 Normal weight Overweight    1140 1166 -0.06456754 0.949 0.949\n",
              "5 TUA1 Normal weight Obesity       1140 1495  2.39259480 0.017 0.05 \n",
              "6 TUA1 Overweight    Obesity       1166 1495  2.47670654 0.013 0.05 \n",
              "  p.adj.signif\n",
              "1 ns          \n",
              "2 ns          \n",
              "3 ns          \n",
              "4 ns          \n",
              "5 ns          \n",
              "6 ns          "
            ],
            "text/latex": "A rstatix\\_test: 6 × 9\n\\begin{tabular}{r|lllllllll}\n  & .y. & group1 & group2 & n1 & n2 & statistic & p & p.adj & p.adj.signif\\\\\n  & <chr> & <chr> & <chr> & <int> & <int> & <dbl> & <chr> & <chr> & <chr>\\\\\n\\hline\n\t1 & TUA1 & Underweight   & Normal weight &   80 & 1140 &  1.23603978 & 0.216 & 0.27  & ns\\\\\n\t2 & TUA1 & Underweight   & Overweight    &   80 & 1166 &  1.21367545 & 0.225 & 0.27  & ns\\\\\n\t3 & TUA1 & Underweight   & Obesity       &   80 & 1495 &  2.06558409 & 0.039 & 0.078 & ns\\\\\n\t4 & TUA1 & Normal weight & Overweight    & 1140 & 1166 & -0.06456754 & 0.949 & 0.949 & ns\\\\\n\t5 & TUA1 & Normal weight & Obesity       & 1140 & 1495 &  2.39259480 & 0.017 & 0.05  & ns\\\\\n\t6 & TUA1 & Overweight    & Obesity       & 1166 & 1495 &  2.47670654 & 0.013 & 0.05  & ns\\\\\n\\end{tabular}\n",
            "text/markdown": "\nA rstatix_test: 6 × 9\n\n| <!--/--> | .y. &lt;chr&gt; | group1 &lt;chr&gt; | group2 &lt;chr&gt; | n1 &lt;int&gt; | n2 &lt;int&gt; | statistic &lt;dbl&gt; | p &lt;chr&gt; | p.adj &lt;chr&gt; | p.adj.signif &lt;chr&gt; |\n|---|---|---|---|---|---|---|---|---|---|\n| 1 | TUA1 | Underweight   | Normal weight |   80 | 1140 |  1.23603978 | 0.216 | 0.27  | ns |\n| 2 | TUA1 | Underweight   | Overweight    |   80 | 1166 |  1.21367545 | 0.225 | 0.27  | ns |\n| 3 | TUA1 | Underweight   | Obesity       |   80 | 1495 |  2.06558409 | 0.039 | 0.078 | ns |\n| 4 | TUA1 | Normal weight | Overweight    | 1140 | 1166 | -0.06456754 | 0.949 | 0.949 | ns |\n| 5 | TUA1 | Normal weight | Obesity       | 1140 | 1495 |  2.39259480 | 0.017 | 0.05  | ns |\n| 6 | TUA1 | Overweight    | Obesity       | 1166 | 1495 |  2.47670654 | 0.013 | 0.05  | ns |\n\n",
            "text/html": [
              "<table class=\"dataframe\">\n",
              "<caption>A rstatix_test: 6 × 9</caption>\n",
              "<thead>\n",
              "\t<tr><th></th><th scope=col>.y.</th><th scope=col>group1</th><th scope=col>group2</th><th scope=col>n1</th><th scope=col>n2</th><th scope=col>statistic</th><th scope=col>p</th><th scope=col>p.adj</th><th scope=col>p.adj.signif</th></tr>\n",
              "\t<tr><th></th><th scope=col>&lt;chr&gt;</th><th scope=col>&lt;chr&gt;</th><th scope=col>&lt;chr&gt;</th><th scope=col>&lt;int&gt;</th><th scope=col>&lt;int&gt;</th><th scope=col>&lt;dbl&gt;</th><th scope=col>&lt;chr&gt;</th><th scope=col>&lt;chr&gt;</th><th scope=col>&lt;chr&gt;</th></tr>\n",
              "</thead>\n",
              "<tbody>\n",
              "\t<tr><th scope=row>1</th><td>TUA1</td><td>Underweight  </td><td>Normal weight</td><td>  80</td><td>1140</td><td> 1.23603978</td><td>0.216</td><td>0.27 </td><td>ns</td></tr>\n",
              "\t<tr><th scope=row>2</th><td>TUA1</td><td>Underweight  </td><td>Overweight   </td><td>  80</td><td>1166</td><td> 1.21367545</td><td>0.225</td><td>0.27 </td><td>ns</td></tr>\n",
              "\t<tr><th scope=row>3</th><td>TUA1</td><td>Underweight  </td><td>Obesity      </td><td>  80</td><td>1495</td><td> 2.06558409</td><td>0.039</td><td>0.078</td><td>ns</td></tr>\n",
              "\t<tr><th scope=row>4</th><td>TUA1</td><td>Normal weight</td><td>Overweight   </td><td>1140</td><td>1166</td><td>-0.06456754</td><td>0.949</td><td>0.949</td><td>ns</td></tr>\n",
              "\t<tr><th scope=row>5</th><td>TUA1</td><td>Normal weight</td><td>Obesity      </td><td>1140</td><td>1495</td><td> 2.39259480</td><td>0.017</td><td>0.05 </td><td>ns</td></tr>\n",
              "\t<tr><th scope=row>6</th><td>TUA1</td><td>Overweight   </td><td>Obesity      </td><td>1166</td><td>1495</td><td> 2.47670654</td><td>0.013</td><td>0.05 </td><td>ns</td></tr>\n",
              "</tbody>\n",
              "</table>\n"
            ]
          },
          "metadata": {}
        }
      ]
    },
    {
      "cell_type": "markdown",
      "metadata": {
        "id": "Bi1Vywo3YC42"
      },
      "source": [
        "**Education**"
      ]
    },
    {
      "cell_type": "code",
      "metadata": {
        "id": "Vnw4gd9I7jr_",
        "colab": {
          "base_uri": "https://localhost:8080/"
        },
        "outputId": "b8186a9a-3d81-40d2-9331-0abf9699cdd1"
      },
      "source": [
        "\n",
        "# Education\n",
        "kruskal.test(TUA1~ DMDEDUC2 , data = HSV_df) "
      ],
      "execution_count": null,
      "outputs": [
        {
          "output_type": "display_data",
          "data": {
            "text/plain": [
              "\n",
              "\tKruskal-Wallis rank sum test\n",
              "\n",
              "data:  TUA1 by DMDEDUC2\n",
              "Kruskal-Wallis chi-squared = 5.4113, df = 4, p-value = 0.2476\n"
            ]
          },
          "metadata": {}
        }
      ]
    },
    {
      "cell_type": "markdown",
      "metadata": {
        "id": "xAYm3MjfX9Zm"
      },
      "source": [
        "**Marital Status**"
      ]
    },
    {
      "cell_type": "code",
      "metadata": {
        "id": "prRtXLbO7kbm",
        "colab": {
          "base_uri": "https://localhost:8080/"
        },
        "outputId": "e8247302-1363-43bb-d633-14c443fc04fe"
      },
      "source": [
        "\n",
        "# Marital Status\n",
        "kruskal.test(TUA1~ DMDMARTL , data = HSV_df) "
      ],
      "execution_count": null,
      "outputs": [
        {
          "output_type": "display_data",
          "data": {
            "text/plain": [
              "\n",
              "\tKruskal-Wallis rank sum test\n",
              "\n",
              "data:  TUA1 by DMDMARTL\n",
              "Kruskal-Wallis chi-squared = 5.6874, df = 5, p-value = 0.3378\n"
            ]
          },
          "metadata": {}
        }
      ]
    },
    {
      "cell_type": "markdown",
      "metadata": {
        "id": "F2P8BldAX2jH"
      },
      "source": [
        "**Race**"
      ]
    },
    {
      "cell_type": "code",
      "metadata": {
        "id": "fLW2Nd0N7oC-",
        "colab": {
          "base_uri": "https://localhost:8080/"
        },
        "outputId": "8c3f745b-d12f-47fe-d892-f844f6b52aab"
      },
      "source": [
        "HSV_df_backup_postprep -> HSV_df\n",
        "\n",
        "HSV_df %<>% select(TUA1, RIDRETH1  ) %>% filter(TUA1 != 'NA') %>% filter(RIDRETH1   != 'NA')\n",
        "\n",
        "# kruskal wallis test\n",
        "kruskal.test(TUA1~ RIDRETH1   , data = HSV_df) \n",
        "\n",
        "cat(\"\\n\\n\")\n",
        "\n",
        "cat(\"\\n Numerical Summaries \\n\")\n",
        "# numerical summary\n",
        "HSV_df %$% num_summary(TUA1, RIDRETH1  ) \n",
        "\n",
        "cat(\"\\n\\n\")\n",
        "\n",
        "cat(\"\\n Multiple Comparison \\n\")\n",
        "# multiple comparison\n",
        "dunn_test(TUA1~ RIDRETH1   , data = HSV_df, p.adjust.method = \"fdr\") %>%\n",
        "p_format(digits = 2, leading.zero = TRUE) ; HSV_df_backup_postprep -> HSV_df\n",
        "\n"
      ],
      "execution_count": null,
      "outputs": [
        {
          "output_type": "display_data",
          "data": {
            "text/plain": [
              "\n",
              "\tKruskal-Wallis rank sum test\n",
              "\n",
              "data:  TUA1 by RIDRETH1\n",
              "Kruskal-Wallis chi-squared = 9.6953, df = 4, p-value = 0.04589\n"
            ]
          },
          "metadata": {}
        },
        {
          "output_type": "stream",
          "name": "stdout",
          "text": [
            "\n",
            "\n",
            "\n",
            " Numerical Summaries \n"
          ]
        },
        {
          "output_type": "display_data",
          "data": {
            "text/plain": [
              "  variable    Count Mean     Min  Q1     Q2    Q3      Max    Sd      \n",
              "1 Mex-Hisp     584  6.013099 2.13 3.0550 4.820  7.0375  59.11 4.940346\n",
              "2 Other-Hisp   418  7.673876 2.13 3.4150 5.835  9.8225  54.36 7.100668\n",
              "3 Non-Hisp-WT 1440  5.363764 2.13 2.4775 4.040  6.5000 116.05 5.205841\n",
              "4 Non-Hisp-BK  893  6.849642 2.13 3.2200 5.000  7.8700  82.34 6.519551\n",
              "5 Others       565  9.698319 2.13 3.9100 6.810 12.2100  87.04 9.206074"
            ],
            "text/latex": "A tibble: 5 × 9\n\\begin{tabular}{lllllllll}\n variable & Count & Mean & Min & Q1 & Q2 & Q3 & Max & Sd\\\\\n <fct> & <int> & <dbl> & <dbl> & <dbl> & <dbl> & <dbl> & <dbl> & <dbl>\\\\\n\\hline\n\t Mex-Hisp    &  584 & 6.013099 & 2.13 & 3.0550 & 4.820 &  7.0375 &  59.11 & 4.940346\\\\\n\t Other-Hisp  &  418 & 7.673876 & 2.13 & 3.4150 & 5.835 &  9.8225 &  54.36 & 7.100668\\\\\n\t Non-Hisp-WT & 1440 & 5.363764 & 2.13 & 2.4775 & 4.040 &  6.5000 & 116.05 & 5.205841\\\\\n\t Non-Hisp-BK &  893 & 6.849642 & 2.13 & 3.2200 & 5.000 &  7.8700 &  82.34 & 6.519551\\\\\n\t Others      &  565 & 9.698319 & 2.13 & 3.9100 & 6.810 & 12.2100 &  87.04 & 9.206074\\\\\n\\end{tabular}\n",
            "text/markdown": "\nA tibble: 5 × 9\n\n| variable &lt;fct&gt; | Count &lt;int&gt; | Mean &lt;dbl&gt; | Min &lt;dbl&gt; | Q1 &lt;dbl&gt; | Q2 &lt;dbl&gt; | Q3 &lt;dbl&gt; | Max &lt;dbl&gt; | Sd &lt;dbl&gt; |\n|---|---|---|---|---|---|---|---|---|\n| Mex-Hisp    |  584 | 6.013099 | 2.13 | 3.0550 | 4.820 |  7.0375 |  59.11 | 4.940346 |\n| Other-Hisp  |  418 | 7.673876 | 2.13 | 3.4150 | 5.835 |  9.8225 |  54.36 | 7.100668 |\n| Non-Hisp-WT | 1440 | 5.363764 | 2.13 | 2.4775 | 4.040 |  6.5000 | 116.05 | 5.205841 |\n| Non-Hisp-BK |  893 | 6.849642 | 2.13 | 3.2200 | 5.000 |  7.8700 |  82.34 | 6.519551 |\n| Others      |  565 | 9.698319 | 2.13 | 3.9100 | 6.810 | 12.2100 |  87.04 | 9.206074 |\n\n",
            "text/html": [
              "<table class=\"dataframe\">\n",
              "<caption>A tibble: 5 × 9</caption>\n",
              "<thead>\n",
              "\t<tr><th scope=col>variable</th><th scope=col>Count</th><th scope=col>Mean</th><th scope=col>Min</th><th scope=col>Q1</th><th scope=col>Q2</th><th scope=col>Q3</th><th scope=col>Max</th><th scope=col>Sd</th></tr>\n",
              "\t<tr><th scope=col>&lt;fct&gt;</th><th scope=col>&lt;int&gt;</th><th scope=col>&lt;dbl&gt;</th><th scope=col>&lt;dbl&gt;</th><th scope=col>&lt;dbl&gt;</th><th scope=col>&lt;dbl&gt;</th><th scope=col>&lt;dbl&gt;</th><th scope=col>&lt;dbl&gt;</th><th scope=col>&lt;dbl&gt;</th></tr>\n",
              "</thead>\n",
              "<tbody>\n",
              "\t<tr><td>Mex-Hisp   </td><td> 584</td><td>6.013099</td><td>2.13</td><td>3.0550</td><td>4.820</td><td> 7.0375</td><td> 59.11</td><td>4.940346</td></tr>\n",
              "\t<tr><td>Other-Hisp </td><td> 418</td><td>7.673876</td><td>2.13</td><td>3.4150</td><td>5.835</td><td> 9.8225</td><td> 54.36</td><td>7.100668</td></tr>\n",
              "\t<tr><td>Non-Hisp-WT</td><td>1440</td><td>5.363764</td><td>2.13</td><td>2.4775</td><td>4.040</td><td> 6.5000</td><td>116.05</td><td>5.205841</td></tr>\n",
              "\t<tr><td>Non-Hisp-BK</td><td> 893</td><td>6.849642</td><td>2.13</td><td>3.2200</td><td>5.000</td><td> 7.8700</td><td> 82.34</td><td>6.519551</td></tr>\n",
              "\t<tr><td>Others     </td><td> 565</td><td>9.698319</td><td>2.13</td><td>3.9100</td><td>6.810</td><td>12.2100</td><td> 87.04</td><td>9.206074</td></tr>\n",
              "</tbody>\n",
              "</table>\n"
            ]
          },
          "metadata": {}
        },
        {
          "output_type": "stream",
          "name": "stdout",
          "text": [
            "\n",
            "\n",
            "\n",
            " Multiple Comparison \n"
          ]
        },
        {
          "output_type": "display_data",
          "data": {
            "text/plain": [
              "   .y.  group1      group2      n1   n2   statistic  p     p.adj p.adj.signif\n",
              "1  TUA1 Mex-Hisp    Other-Hisp   584  418 -2.3337598 0.02  0.11  ns          \n",
              "2  TUA1 Mex-Hisp    Non-Hisp-WT  584 1440 -2.1394292 0.032 0.11  ns          \n",
              "3  TUA1 Mex-Hisp    Non-Hisp-BK  584  893 -0.6544988 0.513 0.64  ns          \n",
              "4  TUA1 Mex-Hisp    Others       584  565 -2.1441895 0.032 0.11  ns          \n",
              "5  TUA1 Other-Hisp  Non-Hisp-WT  418 1440  0.8020445 0.423 0.6   ns          \n",
              "6  TUA1 Other-Hisp  Non-Hisp-BK  418  893  1.9352140 0.053 0.13  ns          \n",
              "7  TUA1 Other-Hisp  Others       418  565  0.3563322 0.722 0.72  ns          \n",
              "8  TUA1 Non-Hisp-WT Non-Hisp-BK 1440  893  1.6463960 0.1   0.17  ns          \n",
              "9  TUA1 Non-Hisp-WT Others      1440  565 -0.4345434 0.664 0.72  ns          \n",
              "10 TUA1 Non-Hisp-BK Others       893  565 -1.7058234 0.088 0.17  ns          "
            ],
            "text/latex": "A rstatix\\_test: 10 × 9\n\\begin{tabular}{r|lllllllll}\n  & .y. & group1 & group2 & n1 & n2 & statistic & p & p.adj & p.adj.signif\\\\\n  & <chr> & <chr> & <chr> & <int> & <int> & <dbl> & <chr> & <chr> & <chr>\\\\\n\\hline\n\t1 & TUA1 & Mex-Hisp    & Other-Hisp  &  584 &  418 & -2.3337598 & 0.02  & 0.11 & ns\\\\\n\t2 & TUA1 & Mex-Hisp    & Non-Hisp-WT &  584 & 1440 & -2.1394292 & 0.032 & 0.11 & ns\\\\\n\t3 & TUA1 & Mex-Hisp    & Non-Hisp-BK &  584 &  893 & -0.6544988 & 0.513 & 0.64 & ns\\\\\n\t4 & TUA1 & Mex-Hisp    & Others      &  584 &  565 & -2.1441895 & 0.032 & 0.11 & ns\\\\\n\t5 & TUA1 & Other-Hisp  & Non-Hisp-WT &  418 & 1440 &  0.8020445 & 0.423 & 0.6  & ns\\\\\n\t6 & TUA1 & Other-Hisp  & Non-Hisp-BK &  418 &  893 &  1.9352140 & 0.053 & 0.13 & ns\\\\\n\t7 & TUA1 & Other-Hisp  & Others      &  418 &  565 &  0.3563322 & 0.722 & 0.72 & ns\\\\\n\t8 & TUA1 & Non-Hisp-WT & Non-Hisp-BK & 1440 &  893 &  1.6463960 & 0.1   & 0.17 & ns\\\\\n\t9 & TUA1 & Non-Hisp-WT & Others      & 1440 &  565 & -0.4345434 & 0.664 & 0.72 & ns\\\\\n\t10 & TUA1 & Non-Hisp-BK & Others      &  893 &  565 & -1.7058234 & 0.088 & 0.17 & ns\\\\\n\\end{tabular}\n",
            "text/markdown": "\nA rstatix_test: 10 × 9\n\n| <!--/--> | .y. &lt;chr&gt; | group1 &lt;chr&gt; | group2 &lt;chr&gt; | n1 &lt;int&gt; | n2 &lt;int&gt; | statistic &lt;dbl&gt; | p &lt;chr&gt; | p.adj &lt;chr&gt; | p.adj.signif &lt;chr&gt; |\n|---|---|---|---|---|---|---|---|---|---|\n| 1 | TUA1 | Mex-Hisp    | Other-Hisp  |  584 |  418 | -2.3337598 | 0.02  | 0.11 | ns |\n| 2 | TUA1 | Mex-Hisp    | Non-Hisp-WT |  584 | 1440 | -2.1394292 | 0.032 | 0.11 | ns |\n| 3 | TUA1 | Mex-Hisp    | Non-Hisp-BK |  584 |  893 | -0.6544988 | 0.513 | 0.64 | ns |\n| 4 | TUA1 | Mex-Hisp    | Others      |  584 |  565 | -2.1441895 | 0.032 | 0.11 | ns |\n| 5 | TUA1 | Other-Hisp  | Non-Hisp-WT |  418 | 1440 |  0.8020445 | 0.423 | 0.6  | ns |\n| 6 | TUA1 | Other-Hisp  | Non-Hisp-BK |  418 |  893 |  1.9352140 | 0.053 | 0.13 | ns |\n| 7 | TUA1 | Other-Hisp  | Others      |  418 |  565 |  0.3563322 | 0.722 | 0.72 | ns |\n| 8 | TUA1 | Non-Hisp-WT | Non-Hisp-BK | 1440 |  893 |  1.6463960 | 0.1   | 0.17 | ns |\n| 9 | TUA1 | Non-Hisp-WT | Others      | 1440 |  565 | -0.4345434 | 0.664 | 0.72 | ns |\n| 10 | TUA1 | Non-Hisp-BK | Others      |  893 |  565 | -1.7058234 | 0.088 | 0.17 | ns |\n\n",
            "text/html": [
              "<table class=\"dataframe\">\n",
              "<caption>A rstatix_test: 10 × 9</caption>\n",
              "<thead>\n",
              "\t<tr><th></th><th scope=col>.y.</th><th scope=col>group1</th><th scope=col>group2</th><th scope=col>n1</th><th scope=col>n2</th><th scope=col>statistic</th><th scope=col>p</th><th scope=col>p.adj</th><th scope=col>p.adj.signif</th></tr>\n",
              "\t<tr><th></th><th scope=col>&lt;chr&gt;</th><th scope=col>&lt;chr&gt;</th><th scope=col>&lt;chr&gt;</th><th scope=col>&lt;int&gt;</th><th scope=col>&lt;int&gt;</th><th scope=col>&lt;dbl&gt;</th><th scope=col>&lt;chr&gt;</th><th scope=col>&lt;chr&gt;</th><th scope=col>&lt;chr&gt;</th></tr>\n",
              "</thead>\n",
              "<tbody>\n",
              "\t<tr><th scope=row>1</th><td>TUA1</td><td>Mex-Hisp   </td><td>Other-Hisp </td><td> 584</td><td> 418</td><td>-2.3337598</td><td>0.02 </td><td>0.11</td><td>ns</td></tr>\n",
              "\t<tr><th scope=row>2</th><td>TUA1</td><td>Mex-Hisp   </td><td>Non-Hisp-WT</td><td> 584</td><td>1440</td><td>-2.1394292</td><td>0.032</td><td>0.11</td><td>ns</td></tr>\n",
              "\t<tr><th scope=row>3</th><td>TUA1</td><td>Mex-Hisp   </td><td>Non-Hisp-BK</td><td> 584</td><td> 893</td><td>-0.6544988</td><td>0.513</td><td>0.64</td><td>ns</td></tr>\n",
              "\t<tr><th scope=row>4</th><td>TUA1</td><td>Mex-Hisp   </td><td>Others     </td><td> 584</td><td> 565</td><td>-2.1441895</td><td>0.032</td><td>0.11</td><td>ns</td></tr>\n",
              "\t<tr><th scope=row>5</th><td>TUA1</td><td>Other-Hisp </td><td>Non-Hisp-WT</td><td> 418</td><td>1440</td><td> 0.8020445</td><td>0.423</td><td>0.6 </td><td>ns</td></tr>\n",
              "\t<tr><th scope=row>6</th><td>TUA1</td><td>Other-Hisp </td><td>Non-Hisp-BK</td><td> 418</td><td> 893</td><td> 1.9352140</td><td>0.053</td><td>0.13</td><td>ns</td></tr>\n",
              "\t<tr><th scope=row>7</th><td>TUA1</td><td>Other-Hisp </td><td>Others     </td><td> 418</td><td> 565</td><td> 0.3563322</td><td>0.722</td><td>0.72</td><td>ns</td></tr>\n",
              "\t<tr><th scope=row>8</th><td>TUA1</td><td>Non-Hisp-WT</td><td>Non-Hisp-BK</td><td>1440</td><td> 893</td><td> 1.6463960</td><td>0.1  </td><td>0.17</td><td>ns</td></tr>\n",
              "\t<tr><th scope=row>9</th><td>TUA1</td><td>Non-Hisp-WT</td><td>Others     </td><td>1440</td><td> 565</td><td>-0.4345434</td><td>0.664</td><td>0.72</td><td>ns</td></tr>\n",
              "\t<tr><th scope=row>10</th><td>TUA1</td><td>Non-Hisp-BK</td><td>Others     </td><td> 893</td><td> 565</td><td>-1.7058234</td><td>0.088</td><td>0.17</td><td>ns</td></tr>\n",
              "</tbody>\n",
              "</table>\n"
            ]
          },
          "metadata": {}
        }
      ]
    },
    {
      "cell_type": "markdown",
      "metadata": {
        "id": "h9qJvTm8X0mL"
      },
      "source": [
        "**Poverty Income Ratio**"
      ]
    },
    {
      "cell_type": "code",
      "metadata": {
        "id": "AGuRLOfY7oq7",
        "colab": {
          "base_uri": "https://localhost:8080/"
        },
        "outputId": "4c05dc16-4c49-4471-cfb4-9d056fae5ca4"
      },
      "source": [
        "\n",
        "# Poverty Income Ratio\n",
        "kruskal.test(TUA1~ PIR , data = HSV_df)"
      ],
      "execution_count": null,
      "outputs": [
        {
          "output_type": "display_data",
          "data": {
            "text/plain": [
              "\n",
              "\tKruskal-Wallis rank sum test\n",
              "\n",
              "data:  TUA1 by PIR\n",
              "Kruskal-Wallis chi-squared = 1.4758, df = 2, p-value = 0.4781\n"
            ]
          },
          "metadata": {}
        }
      ]
    },
    {
      "cell_type": "markdown",
      "metadata": {
        "id": "4SSkaGJwXyTy"
      },
      "source": [
        "**Alcohol**"
      ]
    },
    {
      "cell_type": "code",
      "metadata": {
        "id": "7F7CigzM7pTK",
        "colab": {
          "base_uri": "https://localhost:8080/"
        },
        "outputId": "b041c264-ed86-47b9-ccb7-ec47704c1394"
      },
      "source": [
        "HSV_df_backup_postprep -> HSV_df\n",
        "\n",
        "HSV_df %<>% select(TUA1, ALQ101  ) %>% filter(TUA1 != 'NA') %>% filter(ALQ101   != 'NA')\n",
        "\n",
        "# kruskal wallis test\n",
        "kruskal.test(TUA1~ ALQ101   , data = HSV_df) \n",
        "\n",
        "cat(\"\\n\\n\")\n",
        "\n",
        "cat(\"\\n Numerical Summaries \\n\")\n",
        "# numerical summary\n",
        "HSV_df %$% num_summary(TUA1, ALQ101  ) \n",
        "\n",
        "cat(\"\\n\\n\")\n",
        "\n",
        "cat(\"\\n Multiple Comparison \\n\")\n",
        "# multiple comparison\n",
        "dunn_test(TUA1~ ALQ101   , data = HSV_df, p.adjust.method = \"fdr\") %>%\n",
        "p_format(digits = 2, leading.zero = TRUE) ; HSV_df_backup_postprep -> HSV_df\n",
        "\n"
      ],
      "execution_count": null,
      "outputs": [
        {
          "output_type": "display_data",
          "data": {
            "text/plain": [
              "\n",
              "\tKruskal-Wallis rank sum test\n",
              "\n",
              "data:  TUA1 by ALQ101\n",
              "Kruskal-Wallis chi-squared = 3.5303, df = 1, p-value = 0.06026\n"
            ]
          },
          "metadata": {}
        },
        {
          "output_type": "stream",
          "name": "stdout",
          "text": [
            "\n",
            "\n",
            "\n",
            " Numerical Summaries \n"
          ]
        },
        {
          "output_type": "display_data",
          "data": {
            "text/plain": [
              "  variable Count Mean     Min  Q1     Q2   Q3   Max   Sd      \n",
              "1 Yes      2726  6.468232 2.13 2.9225 4.85 7.55 87.04 6.055535\n",
              "2 No        903  6.654873 2.13 2.7700 4.64 7.85 76.48 6.567355"
            ],
            "text/latex": "A tibble: 2 × 9\n\\begin{tabular}{lllllllll}\n variable & Count & Mean & Min & Q1 & Q2 & Q3 & Max & Sd\\\\\n <fct> & <int> & <dbl> & <dbl> & <dbl> & <dbl> & <dbl> & <dbl> & <dbl>\\\\\n\\hline\n\t Yes & 2726 & 6.468232 & 2.13 & 2.9225 & 4.85 & 7.55 & 87.04 & 6.055535\\\\\n\t No  &  903 & 6.654873 & 2.13 & 2.7700 & 4.64 & 7.85 & 76.48 & 6.567355\\\\\n\\end{tabular}\n",
            "text/markdown": "\nA tibble: 2 × 9\n\n| variable &lt;fct&gt; | Count &lt;int&gt; | Mean &lt;dbl&gt; | Min &lt;dbl&gt; | Q1 &lt;dbl&gt; | Q2 &lt;dbl&gt; | Q3 &lt;dbl&gt; | Max &lt;dbl&gt; | Sd &lt;dbl&gt; |\n|---|---|---|---|---|---|---|---|---|\n| Yes | 2726 | 6.468232 | 2.13 | 2.9225 | 4.85 | 7.55 | 87.04 | 6.055535 |\n| No  |  903 | 6.654873 | 2.13 | 2.7700 | 4.64 | 7.85 | 76.48 | 6.567355 |\n\n",
            "text/html": [
              "<table class=\"dataframe\">\n",
              "<caption>A tibble: 2 × 9</caption>\n",
              "<thead>\n",
              "\t<tr><th scope=col>variable</th><th scope=col>Count</th><th scope=col>Mean</th><th scope=col>Min</th><th scope=col>Q1</th><th scope=col>Q2</th><th scope=col>Q3</th><th scope=col>Max</th><th scope=col>Sd</th></tr>\n",
              "\t<tr><th scope=col>&lt;fct&gt;</th><th scope=col>&lt;int&gt;</th><th scope=col>&lt;dbl&gt;</th><th scope=col>&lt;dbl&gt;</th><th scope=col>&lt;dbl&gt;</th><th scope=col>&lt;dbl&gt;</th><th scope=col>&lt;dbl&gt;</th><th scope=col>&lt;dbl&gt;</th><th scope=col>&lt;dbl&gt;</th></tr>\n",
              "</thead>\n",
              "<tbody>\n",
              "\t<tr><td>Yes</td><td>2726</td><td>6.468232</td><td>2.13</td><td>2.9225</td><td>4.85</td><td>7.55</td><td>87.04</td><td>6.055535</td></tr>\n",
              "\t<tr><td>No </td><td> 903</td><td>6.654873</td><td>2.13</td><td>2.7700</td><td>4.64</td><td>7.85</td><td>76.48</td><td>6.567355</td></tr>\n",
              "</tbody>\n",
              "</table>\n"
            ]
          },
          "metadata": {}
        },
        {
          "output_type": "stream",
          "name": "stdout",
          "text": [
            "\n",
            "\n",
            "\n",
            " Multiple Comparison \n"
          ]
        },
        {
          "output_type": "display_data",
          "data": {
            "text/plain": [
              "  .y.  group1 group2 n1   n2  statistic p    p.adj p.adj.signif\n",
              "1 TUA1 Yes    No     2726 903 -1.878907 0.06 0.06  ns          "
            ],
            "text/latex": "A rstatix\\_test: 1 × 9\n\\begin{tabular}{r|lllllllll}\n  & .y. & group1 & group2 & n1 & n2 & statistic & p & p.adj & p.adj.signif\\\\\n  & <chr> & <chr> & <chr> & <int> & <int> & <dbl> & <chr> & <chr> & <chr>\\\\\n\\hline\n\t1 & TUA1 & Yes & No & 2726 & 903 & -1.878907 & 0.06 & 0.06 & ns\\\\\n\\end{tabular}\n",
            "text/markdown": "\nA rstatix_test: 1 × 9\n\n| <!--/--> | .y. &lt;chr&gt; | group1 &lt;chr&gt; | group2 &lt;chr&gt; | n1 &lt;int&gt; | n2 &lt;int&gt; | statistic &lt;dbl&gt; | p &lt;chr&gt; | p.adj &lt;chr&gt; | p.adj.signif &lt;chr&gt; |\n|---|---|---|---|---|---|---|---|---|---|\n| 1 | TUA1 | Yes | No | 2726 | 903 | -1.878907 | 0.06 | 0.06 | ns |\n\n",
            "text/html": [
              "<table class=\"dataframe\">\n",
              "<caption>A rstatix_test: 1 × 9</caption>\n",
              "<thead>\n",
              "\t<tr><th></th><th scope=col>.y.</th><th scope=col>group1</th><th scope=col>group2</th><th scope=col>n1</th><th scope=col>n2</th><th scope=col>statistic</th><th scope=col>p</th><th scope=col>p.adj</th><th scope=col>p.adj.signif</th></tr>\n",
              "\t<tr><th></th><th scope=col>&lt;chr&gt;</th><th scope=col>&lt;chr&gt;</th><th scope=col>&lt;chr&gt;</th><th scope=col>&lt;int&gt;</th><th scope=col>&lt;int&gt;</th><th scope=col>&lt;dbl&gt;</th><th scope=col>&lt;chr&gt;</th><th scope=col>&lt;chr&gt;</th><th scope=col>&lt;chr&gt;</th></tr>\n",
              "</thead>\n",
              "<tbody>\n",
              "\t<tr><th scope=row>1</th><td>TUA1</td><td>Yes</td><td>No</td><td>2726</td><td>903</td><td>-1.878907</td><td>0.06</td><td>0.06</td><td>ns</td></tr>\n",
              "</tbody>\n",
              "</table>\n"
            ]
          },
          "metadata": {}
        }
      ]
    },
    {
      "cell_type": "markdown",
      "metadata": {
        "id": "xcdUFnsqXuRV"
      },
      "source": [
        "**Cotinine**"
      ]
    },
    {
      "cell_type": "code",
      "metadata": {
        "id": "W2W2P_bU7qck",
        "colab": {
          "base_uri": "https://localhost:8080/"
        },
        "outputId": "57b79818-29ed-4712-badd-630e8d79f44d"
      },
      "source": [
        "\n",
        "# Cotinine\n",
        "kruskal.test(TUA1~ LBDCOTLC , data = HSV_df)\n"
      ],
      "execution_count": null,
      "outputs": [
        {
          "output_type": "display_data",
          "data": {
            "text/plain": [
              "\n",
              "\tKruskal-Wallis rank sum test\n",
              "\n",
              "data:  TUA1 by LBDCOTLC\n",
              "Kruskal-Wallis chi-squared = 0.3518, df = 1, p-value = 0.5531\n"
            ]
          },
          "metadata": {}
        }
      ]
    },
    {
      "cell_type": "markdown",
      "metadata": {
        "id": "wS0w_T3raBHf"
      },
      "source": [
        "### **TUA2**\n",
        "\n",
        "At alpha level of 0.05, for combination of arsenobetaine and arsenocholine, there is statistical significance for **race**.\n",
        "\n",
        "There is no statistical significance for BMI,  education, marital status, cotinine, alcohol and poverty index ratio."
      ]
    },
    {
      "cell_type": "markdown",
      "metadata": {
        "id": "iiABviEdXN5Q"
      },
      "source": [
        "**BMI**"
      ]
    },
    {
      "cell_type": "code",
      "metadata": {
        "id": "Unzora2MaEV2",
        "colab": {
          "base_uri": "https://localhost:8080/"
        },
        "outputId": "ba9281e4-15fa-4aec-f272-7487b759f4dc"
      },
      "source": [
        "# BMI Categorical\n",
        "kruskal.test(TUA2~ BMI.f , data = HSV_df) "
      ],
      "execution_count": null,
      "outputs": [
        {
          "output_type": "display_data",
          "data": {
            "text/plain": [
              "\n",
              "\tKruskal-Wallis rank sum test\n",
              "\n",
              "data:  TUA2 by BMI.f\n",
              "Kruskal-Wallis chi-squared = 7.3405, df = 3, p-value = 0.0618\n"
            ]
          },
          "metadata": {}
        }
      ]
    },
    {
      "cell_type": "markdown",
      "metadata": {
        "id": "Ij_01qdZXV_j"
      },
      "source": [
        "**Education**"
      ]
    },
    {
      "cell_type": "code",
      "metadata": {
        "id": "gj33WHSH8H7_",
        "colab": {
          "base_uri": "https://localhost:8080/"
        },
        "outputId": "ea944e2c-e592-4319-9dae-40b108c4d754"
      },
      "source": [
        "\n",
        "# Education\n",
        "kruskal.test(TUA2~ DMDEDUC2 , data = HSV_df) "
      ],
      "execution_count": null,
      "outputs": [
        {
          "output_type": "display_data",
          "data": {
            "text/plain": [
              "\n",
              "\tKruskal-Wallis rank sum test\n",
              "\n",
              "data:  TUA2 by DMDEDUC2\n",
              "Kruskal-Wallis chi-squared = 4.9064, df = 4, p-value = 0.297\n"
            ]
          },
          "metadata": {}
        }
      ]
    },
    {
      "cell_type": "markdown",
      "metadata": {
        "id": "xfjyHG8_XZyG"
      },
      "source": [
        "**Marital Status**"
      ]
    },
    {
      "cell_type": "code",
      "metadata": {
        "id": "6bXAaOXQ8ViO",
        "colab": {
          "base_uri": "https://localhost:8080/"
        },
        "outputId": "7ae2e8c3-d0fe-4102-d930-4b0d91a04fb1"
      },
      "source": [
        "\n",
        "# Marital Status\n",
        "kruskal.test(TUA2~ DMDMARTL , data = HSV_df) "
      ],
      "execution_count": null,
      "outputs": [
        {
          "output_type": "display_data",
          "data": {
            "text/plain": [
              "\n",
              "\tKruskal-Wallis rank sum test\n",
              "\n",
              "data:  TUA2 by DMDMARTL\n",
              "Kruskal-Wallis chi-squared = 10.629, df = 5, p-value = 0.05926\n"
            ]
          },
          "metadata": {}
        }
      ]
    },
    {
      "cell_type": "markdown",
      "metadata": {
        "id": "3JHzNTAsXcpP"
      },
      "source": [
        "**Race**"
      ]
    },
    {
      "cell_type": "code",
      "metadata": {
        "id": "5kJGsjWK8chs",
        "colab": {
          "base_uri": "https://localhost:8080/"
        },
        "outputId": "a1342173-53b9-4cdf-e4a6-a4084718a4f8"
      },
      "source": [
        "HSV_df_backup_postprep -> HSV_df\n",
        "\n",
        "HSV_df %<>% select(TUA2, RIDRETH1  ) %>% filter(TUA2 != 'NA') %>% filter(RIDRETH1   != 'NA')\n",
        "\n",
        "# kruskal wallis test\n",
        "kruskal.test(TUA2~ RIDRETH1   , data = HSV_df) \n",
        "\n",
        "cat(\"\\n\\n\")\n",
        "\n",
        "cat(\"\\n Numerical Summaries \\n\")\n",
        "# numerical summary\n",
        "HSV_df %$% num_summary(TUA2, RIDRETH1  ) \n",
        "\n",
        "cat(\"\\n\\n\")\n",
        "\n",
        "cat(\"\\n Multiple Comparison \\n\")\n",
        "# multiple comparison\n",
        "dunn_test(TUA2~ RIDRETH1   , data = HSV_df, p.adjust.method = \"fdr\") %>%\n",
        "p_format(digits = 2, leading.zero = TRUE) ; HSV_df_backup_postprep -> HSV_df\n"
      ],
      "execution_count": null,
      "outputs": [
        {
          "output_type": "display_data",
          "data": {
            "text/plain": [
              "\n",
              "\tKruskal-Wallis rank sum test\n",
              "\n",
              "data:  TUA2 by RIDRETH1\n",
              "Kruskal-Wallis chi-squared = 45.787, df = 4, p-value = 2.728e-09\n"
            ]
          },
          "metadata": {}
        },
        {
          "output_type": "stream",
          "name": "stdout",
          "text": [
            "\n",
            "\n",
            "\n",
            " Numerical Summaries \n"
          ]
        },
        {
          "output_type": "display_data",
          "data": {
            "text/plain": [
              "  variable    Count Mean      Min      Q1    Q2   Q3     Max    Sd       \n",
              "1 Mex-Hisp     581   5.607556 4.00e-02 1.910 4.20  6.820  92.07  7.073200\n",
              "2 Other-Hisp   417   7.443525 3.00e-02 2.630 4.95  9.120  99.32  9.697610\n",
              "3 Non-Hisp-WT 1427   4.799650 0.00e+00 1.430 3.21  6.010 125.45  6.373066\n",
              "4 Non-Hisp-BK  887   7.111657 6.94e-17 2.315 4.45  7.875 143.89 10.647981\n",
              "5 Others       563  10.693925 1.00e-02 2.865 6.47 12.140 172.50 15.048249"
            ],
            "text/latex": "A tibble: 5 × 9\n\\begin{tabular}{lllllllll}\n variable & Count & Mean & Min & Q1 & Q2 & Q3 & Max & Sd\\\\\n <fct> & <int> & <dbl> & <dbl> & <dbl> & <dbl> & <dbl> & <dbl> & <dbl>\\\\\n\\hline\n\t Mex-Hisp    &  581 &  5.607556 & 4.00e-02 & 1.910 & 4.20 &  6.820 &  92.07 &  7.073200\\\\\n\t Other-Hisp  &  417 &  7.443525 & 3.00e-02 & 2.630 & 4.95 &  9.120 &  99.32 &  9.697610\\\\\n\t Non-Hisp-WT & 1427 &  4.799650 & 0.00e+00 & 1.430 & 3.21 &  6.010 & 125.45 &  6.373066\\\\\n\t Non-Hisp-BK &  887 &  7.111657 & 6.94e-17 & 2.315 & 4.45 &  7.875 & 143.89 & 10.647981\\\\\n\t Others      &  563 & 10.693925 & 1.00e-02 & 2.865 & 6.47 & 12.140 & 172.50 & 15.048249\\\\\n\\end{tabular}\n",
            "text/markdown": "\nA tibble: 5 × 9\n\n| variable &lt;fct&gt; | Count &lt;int&gt; | Mean &lt;dbl&gt; | Min &lt;dbl&gt; | Q1 &lt;dbl&gt; | Q2 &lt;dbl&gt; | Q3 &lt;dbl&gt; | Max &lt;dbl&gt; | Sd &lt;dbl&gt; |\n|---|---|---|---|---|---|---|---|---|\n| Mex-Hisp    |  581 |  5.607556 | 4.00e-02 | 1.910 | 4.20 |  6.820 |  92.07 |  7.073200 |\n| Other-Hisp  |  417 |  7.443525 | 3.00e-02 | 2.630 | 4.95 |  9.120 |  99.32 |  9.697610 |\n| Non-Hisp-WT | 1427 |  4.799650 | 0.00e+00 | 1.430 | 3.21 |  6.010 | 125.45 |  6.373066 |\n| Non-Hisp-BK |  887 |  7.111657 | 6.94e-17 | 2.315 | 4.45 |  7.875 | 143.89 | 10.647981 |\n| Others      |  563 | 10.693925 | 1.00e-02 | 2.865 | 6.47 | 12.140 | 172.50 | 15.048249 |\n\n",
            "text/html": [
              "<table class=\"dataframe\">\n",
              "<caption>A tibble: 5 × 9</caption>\n",
              "<thead>\n",
              "\t<tr><th scope=col>variable</th><th scope=col>Count</th><th scope=col>Mean</th><th scope=col>Min</th><th scope=col>Q1</th><th scope=col>Q2</th><th scope=col>Q3</th><th scope=col>Max</th><th scope=col>Sd</th></tr>\n",
              "\t<tr><th scope=col>&lt;fct&gt;</th><th scope=col>&lt;int&gt;</th><th scope=col>&lt;dbl&gt;</th><th scope=col>&lt;dbl&gt;</th><th scope=col>&lt;dbl&gt;</th><th scope=col>&lt;dbl&gt;</th><th scope=col>&lt;dbl&gt;</th><th scope=col>&lt;dbl&gt;</th><th scope=col>&lt;dbl&gt;</th></tr>\n",
              "</thead>\n",
              "<tbody>\n",
              "\t<tr><td>Mex-Hisp   </td><td> 581</td><td> 5.607556</td><td>4.00e-02</td><td>1.910</td><td>4.20</td><td> 6.820</td><td> 92.07</td><td> 7.073200</td></tr>\n",
              "\t<tr><td>Other-Hisp </td><td> 417</td><td> 7.443525</td><td>3.00e-02</td><td>2.630</td><td>4.95</td><td> 9.120</td><td> 99.32</td><td> 9.697610</td></tr>\n",
              "\t<tr><td>Non-Hisp-WT</td><td>1427</td><td> 4.799650</td><td>0.00e+00</td><td>1.430</td><td>3.21</td><td> 6.010</td><td>125.45</td><td> 6.373066</td></tr>\n",
              "\t<tr><td>Non-Hisp-BK</td><td> 887</td><td> 7.111657</td><td>6.94e-17</td><td>2.315</td><td>4.45</td><td> 7.875</td><td>143.89</td><td>10.647981</td></tr>\n",
              "\t<tr><td>Others     </td><td> 563</td><td>10.693925</td><td>1.00e-02</td><td>2.865</td><td>6.47</td><td>12.140</td><td>172.50</td><td>15.048249</td></tr>\n",
              "</tbody>\n",
              "</table>\n"
            ]
          },
          "metadata": {}
        },
        {
          "output_type": "stream",
          "name": "stdout",
          "text": [
            "\n",
            "\n",
            "\n",
            " Multiple Comparison \n"
          ]
        },
        {
          "output_type": "display_data",
          "data": {
            "text/plain": [
              "   .y.  group1      group2      n1   n2   statistic  p       p.adj  \n",
              "1  TUA2 Mex-Hisp    Other-Hisp   581  417  0.6175409 0.53688 0.67894\n",
              "2  TUA2 Mex-Hisp    Non-Hisp-WT  581 1427 -3.7899794 0.00015 0.00038\n",
              "3  TUA2 Mex-Hisp    Non-Hisp-BK  581  887  0.4789263 0.63199 0.70221\n",
              "4  TUA2 Mex-Hisp    Others       581  563  1.3344898 0.18204 0.36409\n",
              "5  TUA2 Other-Hisp  Non-Hisp-WT  417 1427 -4.0625571 <0.0001 0.00016\n",
              "6  TUA2 Other-Hisp  Non-Hisp-BK  417  887 -0.2370228 0.81264 0.81264\n",
              "7  TUA2 Other-Hisp  Others       417  563  0.6080479 0.54316 0.67894\n",
              "8  TUA2 Non-Hisp-WT Non-Hisp-BK 1427  887  4.9600771 <0.0001 <0.0001\n",
              "9  TUA2 Non-Hisp-WT Others      1427  563  5.3333607 <0.0001 <0.0001\n",
              "10 TUA2 Non-Hisp-BK Others       887  563  0.9902303 0.32206 0.53677\n",
              "   p.adj.signif\n",
              "1  ns          \n",
              "2  ***         \n",
              "3  ns          \n",
              "4  ns          \n",
              "5  ***         \n",
              "6  ns          \n",
              "7  ns          \n",
              "8  ****        \n",
              "9  ****        \n",
              "10 ns          "
            ],
            "text/latex": "A rstatix\\_test: 10 × 9\n\\begin{tabular}{r|lllllllll}\n  & .y. & group1 & group2 & n1 & n2 & statistic & p & p.adj & p.adj.signif\\\\\n  & <chr> & <chr> & <chr> & <int> & <int> & <dbl> & <chr> & <chr> & <chr>\\\\\n\\hline\n\t1 & TUA2 & Mex-Hisp    & Other-Hisp  &  581 &  417 &  0.6175409 & 0.53688 & 0.67894 & ns  \\\\\n\t2 & TUA2 & Mex-Hisp    & Non-Hisp-WT &  581 & 1427 & -3.7899794 & 0.00015 & 0.00038 & *** \\\\\n\t3 & TUA2 & Mex-Hisp    & Non-Hisp-BK &  581 &  887 &  0.4789263 & 0.63199 & 0.70221 & ns  \\\\\n\t4 & TUA2 & Mex-Hisp    & Others      &  581 &  563 &  1.3344898 & 0.18204 & 0.36409 & ns  \\\\\n\t5 & TUA2 & Other-Hisp  & Non-Hisp-WT &  417 & 1427 & -4.0625571 & <0.0001 & 0.00016 & *** \\\\\n\t6 & TUA2 & Other-Hisp  & Non-Hisp-BK &  417 &  887 & -0.2370228 & 0.81264 & 0.81264 & ns  \\\\\n\t7 & TUA2 & Other-Hisp  & Others      &  417 &  563 &  0.6080479 & 0.54316 & 0.67894 & ns  \\\\\n\t8 & TUA2 & Non-Hisp-WT & Non-Hisp-BK & 1427 &  887 &  4.9600771 & <0.0001 & <0.0001 & ****\\\\\n\t9 & TUA2 & Non-Hisp-WT & Others      & 1427 &  563 &  5.3333607 & <0.0001 & <0.0001 & ****\\\\\n\t10 & TUA2 & Non-Hisp-BK & Others      &  887 &  563 &  0.9902303 & 0.32206 & 0.53677 & ns  \\\\\n\\end{tabular}\n",
            "text/markdown": "\nA rstatix_test: 10 × 9\n\n| <!--/--> | .y. &lt;chr&gt; | group1 &lt;chr&gt; | group2 &lt;chr&gt; | n1 &lt;int&gt; | n2 &lt;int&gt; | statistic &lt;dbl&gt; | p &lt;chr&gt; | p.adj &lt;chr&gt; | p.adj.signif &lt;chr&gt; |\n|---|---|---|---|---|---|---|---|---|---|\n| 1 | TUA2 | Mex-Hisp    | Other-Hisp  |  581 |  417 |  0.6175409 | 0.53688 | 0.67894 | ns   |\n| 2 | TUA2 | Mex-Hisp    | Non-Hisp-WT |  581 | 1427 | -3.7899794 | 0.00015 | 0.00038 | ***  |\n| 3 | TUA2 | Mex-Hisp    | Non-Hisp-BK |  581 |  887 |  0.4789263 | 0.63199 | 0.70221 | ns   |\n| 4 | TUA2 | Mex-Hisp    | Others      |  581 |  563 |  1.3344898 | 0.18204 | 0.36409 | ns   |\n| 5 | TUA2 | Other-Hisp  | Non-Hisp-WT |  417 | 1427 | -4.0625571 | &lt;0.0001 | 0.00016 | ***  |\n| 6 | TUA2 | Other-Hisp  | Non-Hisp-BK |  417 |  887 | -0.2370228 | 0.81264 | 0.81264 | ns   |\n| 7 | TUA2 | Other-Hisp  | Others      |  417 |  563 |  0.6080479 | 0.54316 | 0.67894 | ns   |\n| 8 | TUA2 | Non-Hisp-WT | Non-Hisp-BK | 1427 |  887 |  4.9600771 | &lt;0.0001 | &lt;0.0001 | **** |\n| 9 | TUA2 | Non-Hisp-WT | Others      | 1427 |  563 |  5.3333607 | &lt;0.0001 | &lt;0.0001 | **** |\n| 10 | TUA2 | Non-Hisp-BK | Others      |  887 |  563 |  0.9902303 | 0.32206 | 0.53677 | ns   |\n\n",
            "text/html": [
              "<table class=\"dataframe\">\n",
              "<caption>A rstatix_test: 10 × 9</caption>\n",
              "<thead>\n",
              "\t<tr><th></th><th scope=col>.y.</th><th scope=col>group1</th><th scope=col>group2</th><th scope=col>n1</th><th scope=col>n2</th><th scope=col>statistic</th><th scope=col>p</th><th scope=col>p.adj</th><th scope=col>p.adj.signif</th></tr>\n",
              "\t<tr><th></th><th scope=col>&lt;chr&gt;</th><th scope=col>&lt;chr&gt;</th><th scope=col>&lt;chr&gt;</th><th scope=col>&lt;int&gt;</th><th scope=col>&lt;int&gt;</th><th scope=col>&lt;dbl&gt;</th><th scope=col>&lt;chr&gt;</th><th scope=col>&lt;chr&gt;</th><th scope=col>&lt;chr&gt;</th></tr>\n",
              "</thead>\n",
              "<tbody>\n",
              "\t<tr><th scope=row>1</th><td>TUA2</td><td>Mex-Hisp   </td><td>Other-Hisp </td><td> 581</td><td> 417</td><td> 0.6175409</td><td>0.53688</td><td>0.67894</td><td>ns  </td></tr>\n",
              "\t<tr><th scope=row>2</th><td>TUA2</td><td>Mex-Hisp   </td><td>Non-Hisp-WT</td><td> 581</td><td>1427</td><td>-3.7899794</td><td>0.00015</td><td>0.00038</td><td>*** </td></tr>\n",
              "\t<tr><th scope=row>3</th><td>TUA2</td><td>Mex-Hisp   </td><td>Non-Hisp-BK</td><td> 581</td><td> 887</td><td> 0.4789263</td><td>0.63199</td><td>0.70221</td><td>ns  </td></tr>\n",
              "\t<tr><th scope=row>4</th><td>TUA2</td><td>Mex-Hisp   </td><td>Others     </td><td> 581</td><td> 563</td><td> 1.3344898</td><td>0.18204</td><td>0.36409</td><td>ns  </td></tr>\n",
              "\t<tr><th scope=row>5</th><td>TUA2</td><td>Other-Hisp </td><td>Non-Hisp-WT</td><td> 417</td><td>1427</td><td>-4.0625571</td><td>&lt;0.0001</td><td>0.00016</td><td>*** </td></tr>\n",
              "\t<tr><th scope=row>6</th><td>TUA2</td><td>Other-Hisp </td><td>Non-Hisp-BK</td><td> 417</td><td> 887</td><td>-0.2370228</td><td>0.81264</td><td>0.81264</td><td>ns  </td></tr>\n",
              "\t<tr><th scope=row>7</th><td>TUA2</td><td>Other-Hisp </td><td>Others     </td><td> 417</td><td> 563</td><td> 0.6080479</td><td>0.54316</td><td>0.67894</td><td>ns  </td></tr>\n",
              "\t<tr><th scope=row>8</th><td>TUA2</td><td>Non-Hisp-WT</td><td>Non-Hisp-BK</td><td>1427</td><td> 887</td><td> 4.9600771</td><td>&lt;0.0001</td><td>&lt;0.0001</td><td>****</td></tr>\n",
              "\t<tr><th scope=row>9</th><td>TUA2</td><td>Non-Hisp-WT</td><td><span style=white-space:pre-wrap>Others     </span></td><td>1427</td><td> 563</td><td> 5.3333607</td><td>&lt;0.0001</td><td>&lt;0.0001</td><td>****</td></tr>\n",
              "\t<tr><th scope=row>10</th><td>TUA2</td><td>Non-Hisp-BK</td><td>Others     </td><td> 887</td><td> 563</td><td> 0.9902303</td><td>0.32206</td><td>0.53677</td><td>ns  </td></tr>\n",
              "</tbody>\n",
              "</table>\n"
            ]
          },
          "metadata": {}
        }
      ]
    },
    {
      "cell_type": "markdown",
      "metadata": {
        "id": "YkkGIrFcXgOY"
      },
      "source": [
        "**Poverty Income Ratio**"
      ]
    },
    {
      "cell_type": "code",
      "metadata": {
        "id": "WZk6kTvn8k-q",
        "colab": {
          "base_uri": "https://localhost:8080/"
        },
        "outputId": "1257da8b-c716-462c-9d40-1f160ae22eaf"
      },
      "source": [
        "\n",
        "# Poverty Income Ratio\n",
        "kruskal.test(TUA2~ PIR , data = HSV_df)"
      ],
      "execution_count": null,
      "outputs": [
        {
          "output_type": "display_data",
          "data": {
            "text/plain": [
              "\n",
              "\tKruskal-Wallis rank sum test\n",
              "\n",
              "data:  TUA2 by PIR\n",
              "Kruskal-Wallis chi-squared = 0.83033, df = 2, p-value = 0.6602\n"
            ]
          },
          "metadata": {}
        }
      ]
    },
    {
      "cell_type": "markdown",
      "metadata": {
        "id": "5DWwP28nXjF_"
      },
      "source": [
        "**Alcohol**"
      ]
    },
    {
      "cell_type": "code",
      "metadata": {
        "id": "04ZzBEKQ8lqk",
        "colab": {
          "base_uri": "https://localhost:8080/"
        },
        "outputId": "16e59e91-b8d9-4829-ea7d-db0d388dc80c"
      },
      "source": [
        "\n",
        "# Alcohol\n",
        "kruskal.test(TUA2~ ALQ101 , data = HSV_df)"
      ],
      "execution_count": null,
      "outputs": [
        {
          "output_type": "display_data",
          "data": {
            "text/plain": [
              "\n",
              "\tKruskal-Wallis rank sum test\n",
              "\n",
              "data:  TUA2 by ALQ101\n",
              "Kruskal-Wallis chi-squared = 1.6953, df = 1, p-value = 0.1929\n"
            ]
          },
          "metadata": {}
        }
      ]
    },
    {
      "cell_type": "markdown",
      "metadata": {
        "id": "EBhsAsY1XmQ6"
      },
      "source": [
        "**Cotinine**"
      ]
    },
    {
      "cell_type": "code",
      "metadata": {
        "id": "SR0AsfBR8mUN",
        "colab": {
          "base_uri": "https://localhost:8080/"
        },
        "outputId": "e9922b88-1e8d-47f1-9315-35435243d5d2"
      },
      "source": [
        "\n",
        "# Cotinine\n",
        "kruskal.test(TUA2~ LBDCOTLC , data = HSV_df)\n",
        "\n",
        "\n",
        "\n",
        "\n"
      ],
      "execution_count": null,
      "outputs": [
        {
          "output_type": "display_data",
          "data": {
            "text/plain": [
              "\n",
              "\tKruskal-Wallis rank sum test\n",
              "\n",
              "data:  TUA2 by LBDCOTLC\n",
              "Kruskal-Wallis chi-squared = 0.18416, df = 1, p-value = 0.6678\n"
            ]
          },
          "metadata": {}
        }
      ]
    }
  ]
}