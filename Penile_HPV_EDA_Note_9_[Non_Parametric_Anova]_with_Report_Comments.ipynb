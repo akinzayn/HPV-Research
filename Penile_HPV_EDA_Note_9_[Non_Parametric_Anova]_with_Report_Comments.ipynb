{
  "nbformat": 4,
  "nbformat_minor": 0,
  "metadata": {
    "colab": {
      "name": "Penile HPV EDA Note 9 [Non Parametric Anova] with Report Comments.ipynb",
      "provenance": [],
      "collapsed_sections": [],
      "authorship_tag": "ABX9TyMGBCmxEYu64MsNl0gO/0bo",
      "include_colab_link": true
    },
    "kernelspec": {
      "display_name": "R",
      "name": "ir"
    },
    "language_info": {
      "name": "R"
    }
  },
  "cells": [
    {
      "cell_type": "markdown",
      "metadata": {
        "id": "view-in-github",
        "colab_type": "text"
      },
      "source": [
        "<a href=\"https://colab.research.google.com/github/akinzayn/HPV-Research/blob/main/Penile_HPV_EDA_Note_9_%5BNon_Parametric_Anova%5D_with_Report_Comments.ipynb\" target=\"_parent\"><img src=\"https://colab.research.google.com/assets/colab-badge.svg\" alt=\"Open In Colab\"/></a>"
      ]
    },
    {
      "cell_type": "markdown",
      "metadata": {
        "id": "tjlYzgXLVuCl"
      },
      "source": [
        "# **Data Preparation**"
      ]
    },
    {
      "cell_type": "code",
      "metadata": {
        "id": "xan8H9xUOved"
      },
      "source": [
        "#  https://stackoverflow.com/questions/34818723/export-notebook-to-pdf-without-code\n",
        "\n",
        "\n",
        "\n",
        "# I was seeking the same question in SO and finally turned out to a very straightforward way:\n",
        "\n",
        "# Assuming using Firefox(57) + Win7 or Any browser where you have access to console\n",
        "\n",
        "# Run Jupyter notebook and download the notebook in the browser: File->Download as->HTML and you will get a html page with code and output.\n",
        "# Open the exported HTML with browser and activate the browser console with key F12\n",
        "# Run following command in the console:\n",
        "\n",
        "# document.querySelectorAll(\"div.input\").forEach(function(a){a.remove()})\n",
        "# The code removes all input div DOM. Then right mouse button and chose \"Save Page As\" and Save the \"Complete page\" (not single page).\n",
        "\n",
        "# You will get a page with an associated folder in windows. Use a trick by zip the html page and then extract to unbind the associated. The folder is useless.\n",
        "\n",
        "# Now it is a single html page without code. You can re-distribute it or print it as PDF.\n",
        "\n",
        "# If you are not using Firefox or Windows, please adjust the above 3-6 steps.\n",
        "\n",
        "\n",
        "\n",
        "\n",
        "# I think now is document.querySelectorAll(\"div.jp-InputArea.jp-Cell-inputArea\").forEach(function(a){a.remove()}) \n",
        "# but this for example will keep the errors and markdown with maybe you don't want. \n",
        "# To remove all input cells, not only code cells you could use:\n",
        "#  document.querySelectorAll(\"jp-Cell jp-CodeCell jp-Notebook-cell\").forEach(function(a){a.remove()}) \n",
        "#  but is a method to check which columns you want and remove them checking the name of the div."
      ],
      "execution_count": null,
      "outputs": []
    },
    {
      "cell_type": "code",
      "metadata": {
        "id": "K7PSxfmRLR2M"
      },
      "source": [
        "# clearing workspace\n",
        "rm(list = ls())\n"
      ],
      "execution_count": null,
      "outputs": []
    },
    {
      "cell_type": "code",
      "metadata": {
        "colab": {
          "base_uri": "https://localhost:8080/"
        },
        "id": "6b5f-GYrGu-V",
        "outputId": "a06dc065-e360-46ae-ea1d-6a775d176ae2"
      },
      "source": [
        "# loading packages\n",
        "# to install magick\n",
        "\n",
        "install.packages(\"pacman\")\n",
        "library(pacman)\n"
      ],
      "execution_count": null,
      "outputs": [
        {
          "output_type": "stream",
          "name": "stderr",
          "text": [
            "Installing package into ‘/usr/local/lib/R/site-library’\n",
            "(as ‘lib’ is unspecified)\n",
            "\n"
          ]
        }
      ]
    },
    {
      "cell_type": "code",
      "metadata": {
        "id": "5IVLBPmZe46K"
      },
      "source": [
        "\n",
        "p_load('tidyverse', \"magrittr\", \"readxl\", \"rstatix\", \"googledrive\")\n"
      ],
      "execution_count": null,
      "outputs": []
    },
    {
      "cell_type": "code",
      "metadata": {
        "id": "whOlAIc1FxeW",
        "colab": {
          "base_uri": "https://localhost:8080/"
        },
        "outputId": "2bc000fb-d578-469a-8860-a85a9b6f9751"
      },
      "source": [
        "# loading work space and displaying variables in the workspace\n",
        "\n",
        "#load(\"HSV_df.RData\")\n",
        "# ls()\n",
        "# creating backup and displaying first 6 rows\n",
        "\n",
        "drive_deauth()\n",
        "drive_user()\n",
        "public_file = drive_get(as_id(\"1i5Z2FeC_oPyOmDfA0p6eXR1iHgOdgGYqEhLd7WrQ5SQ\"))\n",
        "downloaded_file = drive_download(public_file, overwrite = TRUE)\n",
        "\n",
        "HSV_df = read_excel(\"data_pHPV.all_rev3.xlsx\")\n",
        "\n",
        "HSV_df_back_up = HSV_df\n",
        "#head(HSV_df)"
      ],
      "execution_count": null,
      "outputs": [
        {
          "output_type": "stream",
          "name": "stderr",
          "text": [
            "\u001b[36mℹ\u001b[39m Not logged in as any specific Google user.\n",
            "\n",
            "File downloaded:\n",
            "\n",
            "• \u001b[36mdata_pHPV.all_rev3\u001b[39m \u001b[90m<id: 1i5Z2FeC_oPyOmDfA0p6eXR1iHgOdgGYqEhLd7WrQ5SQ>\u001b[39m\n",
            "\n",
            "Saved locally as:\n",
            "\n",
            "• \u001b[34mdata_pHPV.all_rev3.xlsx\u001b[39m\n",
            "\n",
            "Warning message in read_fun(path = enc2native(normalizePath(path)), sheet_i = sheet, :\n",
            "“Expecting numeric in BL1763 / R1763C64: got 'NA'”\n",
            "Warning message in read_fun(path = enc2native(normalizePath(path)), sheet_i = sheet, :\n",
            "“Expecting numeric in BL1765 / R1765C64: got 'NA'”\n",
            "Warning message in read_fun(path = enc2native(normalizePath(path)), sheet_i = sheet, :\n",
            "“Expecting numeric in BL1772 / R1772C64: got 'NA'”\n",
            "Warning message in read_fun(path = enc2native(normalizePath(path)), sheet_i = sheet, :\n",
            "“Expecting numeric in BL1773 / R1773C64: got 'NA'”\n",
            "Warning message in read_fun(path = enc2native(normalizePath(path)), sheet_i = sheet, :\n",
            "“Expecting numeric in BL1778 / R1778C64: got 'NA'”\n",
            "Warning message in read_fun(path = enc2native(normalizePath(path)), sheet_i = sheet, :\n",
            "“Expecting numeric in BL1795 / R1795C64: got 'NA'”\n",
            "Warning message in read_fun(path = enc2native(normalizePath(path)), sheet_i = sheet, :\n",
            "“Expecting numeric in BL1800 / R1800C64: got 'NA'”\n",
            "Warning message in read_fun(path = enc2native(normalizePath(path)), sheet_i = sheet, :\n",
            "“Expecting numeric in BL1807 / R1807C64: got 'NA'”\n",
            "Warning message in read_fun(path = enc2native(normalizePath(path)), sheet_i = sheet, :\n",
            "“Expecting numeric in BL1843 / R1843C64: got 'NA'”\n",
            "Warning message in read_fun(path = enc2native(normalizePath(path)), sheet_i = sheet, :\n",
            "“Expecting numeric in BL1863 / R1863C64: got 'NA'”\n",
            "Warning message in read_fun(path = enc2native(normalizePath(path)), sheet_i = sheet, :\n",
            "“Expecting numeric in BL1865 / R1865C64: got 'NA'”\n",
            "Warning message in read_fun(path = enc2native(normalizePath(path)), sheet_i = sheet, :\n",
            "“Expecting numeric in BL1883 / R1883C64: got 'NA'”\n",
            "Warning message in read_fun(path = enc2native(normalizePath(path)), sheet_i = sheet, :\n",
            "“Expecting numeric in BL1891 / R1891C64: got 'NA'”\n",
            "Warning message in read_fun(path = enc2native(normalizePath(path)), sheet_i = sheet, :\n",
            "“Expecting numeric in BL1893 / R1893C64: got 'NA'”\n",
            "Warning message in read_fun(path = enc2native(normalizePath(path)), sheet_i = sheet, :\n",
            "“Expecting numeric in BL1907 / R1907C64: got 'NA'”\n",
            "Warning message in read_fun(path = enc2native(normalizePath(path)), sheet_i = sheet, :\n",
            "“Expecting numeric in BL1937 / R1937C64: got 'NA'”\n",
            "Warning message in read_fun(path = enc2native(normalizePath(path)), sheet_i = sheet, :\n",
            "“Expecting numeric in BL1948 / R1948C64: got 'NA'”\n",
            "Warning message in read_fun(path = enc2native(normalizePath(path)), sheet_i = sheet, :\n",
            "“Expecting numeric in BL1961 / R1961C64: got 'NA'”\n",
            "Warning message in read_fun(path = enc2native(normalizePath(path)), sheet_i = sheet, :\n",
            "“Expecting numeric in BL1966 / R1966C64: got 'NA'”\n",
            "Warning message in read_fun(path = enc2native(normalizePath(path)), sheet_i = sheet, :\n",
            "“Expecting numeric in BL2027 / R2027C64: got 'NA'”\n",
            "Warning message in read_fun(path = enc2native(normalizePath(path)), sheet_i = sheet, :\n",
            "“Expecting numeric in BL2029 / R2029C64: got 'NA'”\n",
            "Warning message in read_fun(path = enc2native(normalizePath(path)), sheet_i = sheet, :\n",
            "“Expecting numeric in BL2043 / R2043C64: got 'NA'”\n",
            "Warning message in read_fun(path = enc2native(normalizePath(path)), sheet_i = sheet, :\n",
            "“Expecting numeric in BL2069 / R2069C64: got 'NA'”\n",
            "Warning message in read_fun(path = enc2native(normalizePath(path)), sheet_i = sheet, :\n",
            "“Expecting numeric in BL2073 / R2073C64: got 'NA'”\n",
            "Warning message in read_fun(path = enc2native(normalizePath(path)), sheet_i = sheet, :\n",
            "“Expecting numeric in BL2076 / R2076C64: got 'NA'”\n",
            "Warning message in read_fun(path = enc2native(normalizePath(path)), sheet_i = sheet, :\n",
            "“Expecting numeric in BL2099 / R2099C64: got 'NA'”\n",
            "Warning message in read_fun(path = enc2native(normalizePath(path)), sheet_i = sheet, :\n",
            "“Expecting numeric in BL2111 / R2111C64: got 'NA'”\n",
            "Warning message in read_fun(path = enc2native(normalizePath(path)), sheet_i = sheet, :\n",
            "“Expecting numeric in BL2134 / R2134C64: got 'NA'”\n",
            "Warning message in read_fun(path = enc2native(normalizePath(path)), sheet_i = sheet, :\n",
            "“Expecting numeric in BL2140 / R2140C64: got 'NA'”\n",
            "Warning message in read_fun(path = enc2native(normalizePath(path)), sheet_i = sheet, :\n",
            "“Expecting numeric in BL2163 / R2163C64: got 'NA'”\n",
            "Warning message in read_fun(path = enc2native(normalizePath(path)), sheet_i = sheet, :\n",
            "“Expecting numeric in BL2189 / R2189C64: got 'NA'”\n",
            "Warning message in read_fun(path = enc2native(normalizePath(path)), sheet_i = sheet, :\n",
            "“Expecting numeric in BL2200 / R2200C64: got 'NA'”\n",
            "Warning message in read_fun(path = enc2native(normalizePath(path)), sheet_i = sheet, :\n",
            "“Expecting numeric in BL2224 / R2224C64: got 'NA'”\n",
            "Warning message in read_fun(path = enc2native(normalizePath(path)), sheet_i = sheet, :\n",
            "“Expecting numeric in BL2227 / R2227C64: got 'NA'”\n",
            "Warning message in read_fun(path = enc2native(normalizePath(path)), sheet_i = sheet, :\n",
            "“Expecting numeric in BL2253 / R2253C64: got 'NA'”\n",
            "Warning message in read_fun(path = enc2native(normalizePath(path)), sheet_i = sheet, :\n",
            "“Expecting numeric in BL2267 / R2267C64: got 'NA'”\n",
            "Warning message in read_fun(path = enc2native(normalizePath(path)), sheet_i = sheet, :\n",
            "“Expecting numeric in BL2281 / R2281C64: got 'NA'”\n",
            "Warning message in read_fun(path = enc2native(normalizePath(path)), sheet_i = sheet, :\n",
            "“Expecting numeric in BL2290 / R2290C64: got 'NA'”\n",
            "Warning message in read_fun(path = enc2native(normalizePath(path)), sheet_i = sheet, :\n",
            "“Expecting numeric in BL2295 / R2295C64: got 'NA'”\n",
            "Warning message in read_fun(path = enc2native(normalizePath(path)), sheet_i = sheet, :\n",
            "“Expecting numeric in BL2297 / R2297C64: got 'NA'”\n",
            "Warning message in read_fun(path = enc2native(normalizePath(path)), sheet_i = sheet, :\n",
            "“Expecting numeric in BL2309 / R2309C64: got 'NA'”\n",
            "Warning message in read_fun(path = enc2native(normalizePath(path)), sheet_i = sheet, :\n",
            "“Expecting numeric in BL2317 / R2317C64: got 'NA'”\n",
            "Warning message in read_fun(path = enc2native(normalizePath(path)), sheet_i = sheet, :\n",
            "“Expecting numeric in BL2320 / R2320C64: got 'NA'”\n",
            "Warning message in read_fun(path = enc2native(normalizePath(path)), sheet_i = sheet, :\n",
            "“Expecting numeric in BL2344 / R2344C64: got 'NA'”\n",
            "Warning message in read_fun(path = enc2native(normalizePath(path)), sheet_i = sheet, :\n",
            "“Expecting numeric in BL2349 / R2349C64: got 'NA'”\n",
            "Warning message in read_fun(path = enc2native(normalizePath(path)), sheet_i = sheet, :\n",
            "“Expecting numeric in BL2402 / R2402C64: got 'NA'”\n",
            "Warning message in read_fun(path = enc2native(normalizePath(path)), sheet_i = sheet, :\n",
            "“Expecting numeric in BL2407 / R2407C64: got 'NA'”\n",
            "Warning message in read_fun(path = enc2native(normalizePath(path)), sheet_i = sheet, :\n",
            "“Expecting numeric in BL2415 / R2415C64: got 'NA'”\n",
            "Warning message in read_fun(path = enc2native(normalizePath(path)), sheet_i = sheet, :\n",
            "“Expecting numeric in BL2425 / R2425C64: got 'NA'”\n",
            "Warning message in read_fun(path = enc2native(normalizePath(path)), sheet_i = sheet, :\n",
            "“Expecting numeric in BL2466 / R2466C64: got 'NA'”\n",
            "Warning message in read_fun(path = enc2native(normalizePath(path)), sheet_i = sheet, :\n",
            "“Expecting numeric in BL2487 / R2487C64: got 'NA'”\n",
            "Warning message in read_fun(path = enc2native(normalizePath(path)), sheet_i = sheet, :\n",
            "“Expecting numeric in BL2521 / R2521C64: got 'NA'”\n",
            "Warning message in read_fun(path = enc2native(normalizePath(path)), sheet_i = sheet, :\n",
            "“Expecting numeric in BL2527 / R2527C64: got 'NA'”\n",
            "Warning message in read_fun(path = enc2native(normalizePath(path)), sheet_i = sheet, :\n",
            "“Expecting numeric in BL2531 / R2531C64: got 'NA'”\n",
            "Warning message in read_fun(path = enc2native(normalizePath(path)), sheet_i = sheet, :\n",
            "“Expecting numeric in BL2585 / R2585C64: got 'NA'”\n",
            "Warning message in read_fun(path = enc2native(normalizePath(path)), sheet_i = sheet, :\n",
            "“Expecting numeric in BL2617 / R2617C64: got 'NA'”\n",
            "Warning message in read_fun(path = enc2native(normalizePath(path)), sheet_i = sheet, :\n",
            "“Expecting numeric in BL2633 / R2633C64: got 'NA'”\n",
            "Warning message in read_fun(path = enc2native(normalizePath(path)), sheet_i = sheet, :\n",
            "“Expecting numeric in BL2638 / R2638C64: got 'NA'”\n",
            "Warning message in read_fun(path = enc2native(normalizePath(path)), sheet_i = sheet, :\n",
            "“Expecting numeric in BL2639 / R2639C64: got 'NA'”\n",
            "Warning message in read_fun(path = enc2native(normalizePath(path)), sheet_i = sheet, :\n",
            "“Expecting numeric in BL2660 / R2660C64: got 'NA'”\n",
            "Warning message in read_fun(path = enc2native(normalizePath(path)), sheet_i = sheet, :\n",
            "“Expecting numeric in BL2664 / R2664C64: got 'NA'”\n",
            "Warning message in read_fun(path = enc2native(normalizePath(path)), sheet_i = sheet, :\n",
            "“Expecting numeric in BL2670 / R2670C64: got 'NA'”\n",
            "Warning message in read_fun(path = enc2native(normalizePath(path)), sheet_i = sheet, :\n",
            "“Expecting numeric in BL2701 / R2701C64: got 'NA'”\n",
            "Warning message in read_fun(path = enc2native(normalizePath(path)), sheet_i = sheet, :\n",
            "“Expecting numeric in BL2705 / R2705C64: got 'NA'”\n",
            "Warning message in read_fun(path = enc2native(normalizePath(path)), sheet_i = sheet, :\n",
            "“Expecting numeric in BL2712 / R2712C64: got 'NA'”\n",
            "Warning message in read_fun(path = enc2native(normalizePath(path)), sheet_i = sheet, :\n",
            "“Expecting numeric in BL2718 / R2718C64: got 'NA'”\n",
            "Warning message in read_fun(path = enc2native(normalizePath(path)), sheet_i = sheet, :\n",
            "“Expecting numeric in BL2724 / R2724C64: got 'NA'”\n",
            "Warning message in read_fun(path = enc2native(normalizePath(path)), sheet_i = sheet, :\n",
            "“Expecting numeric in BL2745 / R2745C64: got 'NA'”\n",
            "Warning message in read_fun(path = enc2native(normalizePath(path)), sheet_i = sheet, :\n",
            "“Expecting numeric in BL2747 / R2747C64: got 'NA'”\n",
            "Warning message in read_fun(path = enc2native(normalizePath(path)), sheet_i = sheet, :\n",
            "“Expecting numeric in BL2759 / R2759C64: got 'NA'”\n",
            "Warning message in read_fun(path = enc2native(normalizePath(path)), sheet_i = sheet, :\n",
            "“Expecting numeric in BL2769 / R2769C64: got 'NA'”\n",
            "Warning message in read_fun(path = enc2native(normalizePath(path)), sheet_i = sheet, :\n",
            "“Expecting numeric in BL2774 / R2774C64: got 'NA'”\n",
            "Warning message in read_fun(path = enc2native(normalizePath(path)), sheet_i = sheet, :\n",
            "“Expecting numeric in BL2780 / R2780C64: got 'NA'”\n",
            "Warning message in read_fun(path = enc2native(normalizePath(path)), sheet_i = sheet, :\n",
            "“Expecting numeric in BL2783 / R2783C64: got 'NA'”\n",
            "Warning message in read_fun(path = enc2native(normalizePath(path)), sheet_i = sheet, :\n",
            "“Expecting numeric in BL2792 / R2792C64: got 'NA'”\n",
            "Warning message in read_fun(path = enc2native(normalizePath(path)), sheet_i = sheet, :\n",
            "“Expecting numeric in BL2821 / R2821C64: got 'NA'”\n",
            "Warning message in read_fun(path = enc2native(normalizePath(path)), sheet_i = sheet, :\n",
            "“Expecting numeric in BL2862 / R2862C64: got 'NA'”\n",
            "Warning message in read_fun(path = enc2native(normalizePath(path)), sheet_i = sheet, :\n",
            "“Expecting numeric in BL2886 / R2886C64: got 'NA'”\n",
            "Warning message in read_fun(path = enc2native(normalizePath(path)), sheet_i = sheet, :\n",
            "“Expecting numeric in BL2901 / R2901C64: got 'NA'”\n",
            "Warning message in read_fun(path = enc2native(normalizePath(path)), sheet_i = sheet, :\n",
            "“Expecting numeric in BL2963 / R2963C64: got 'NA'”\n",
            "Warning message in read_fun(path = enc2native(normalizePath(path)), sheet_i = sheet, :\n",
            "“Expecting numeric in BL2964 / R2964C64: got 'NA'”\n",
            "Warning message in read_fun(path = enc2native(normalizePath(path)), sheet_i = sheet, :\n",
            "“Expecting numeric in BL2976 / R2976C64: got 'NA'”\n",
            "Warning message in read_fun(path = enc2native(normalizePath(path)), sheet_i = sheet, :\n",
            "“Expecting numeric in BL2997 / R2997C64: got 'NA'”\n",
            "Warning message in read_fun(path = enc2native(normalizePath(path)), sheet_i = sheet, :\n",
            "“Expecting numeric in BL3042 / R3042C64: got 'NA'”\n",
            "Warning message in read_fun(path = enc2native(normalizePath(path)), sheet_i = sheet, :\n",
            "“Expecting numeric in BL3081 / R3081C64: got 'NA'”\n",
            "Warning message in read_fun(path = enc2native(normalizePath(path)), sheet_i = sheet, :\n",
            "“Expecting numeric in BL3083 / R3083C64: got 'NA'”\n",
            "Warning message in read_fun(path = enc2native(normalizePath(path)), sheet_i = sheet, :\n",
            "“Expecting numeric in BL3087 / R3087C64: got 'NA'”\n",
            "Warning message in read_fun(path = enc2native(normalizePath(path)), sheet_i = sheet, :\n",
            "“Expecting numeric in BL3098 / R3098C64: got 'NA'”\n",
            "Warning message in read_fun(path = enc2native(normalizePath(path)), sheet_i = sheet, :\n",
            "“Expecting numeric in BL3104 / R3104C64: got 'NA'”\n",
            "Warning message in read_fun(path = enc2native(normalizePath(path)), sheet_i = sheet, :\n",
            "“Expecting numeric in BL3105 / R3105C64: got 'NA'”\n",
            "Warning message in read_fun(path = enc2native(normalizePath(path)), sheet_i = sheet, :\n",
            "“Expecting numeric in BL3138 / R3138C64: got 'NA'”\n",
            "Warning message in read_fun(path = enc2native(normalizePath(path)), sheet_i = sheet, :\n",
            "“Expecting numeric in BL3156 / R3156C64: got 'NA'”\n",
            "Warning message in read_fun(path = enc2native(normalizePath(path)), sheet_i = sheet, :\n",
            "“Expecting numeric in BL3162 / R3162C64: got 'NA'”\n",
            "Warning message in read_fun(path = enc2native(normalizePath(path)), sheet_i = sheet, :\n",
            "“Expecting numeric in BL3176 / R3176C64: got 'NA'”\n",
            "Warning message in read_fun(path = enc2native(normalizePath(path)), sheet_i = sheet, :\n",
            "“Expecting numeric in BL3217 / R3217C64: got 'NA'”\n",
            "Warning message in read_fun(path = enc2native(normalizePath(path)), sheet_i = sheet, :\n",
            "“Expecting numeric in BL3252 / R3252C64: got 'NA'”\n",
            "Warning message in read_fun(path = enc2native(normalizePath(path)), sheet_i = sheet, :\n",
            "“Expecting numeric in BL3291 / R3291C64: got 'NA'”\n",
            "Warning message in read_fun(path = enc2native(normalizePath(path)), sheet_i = sheet, :\n",
            "“Expecting numeric in BL3320 / R3320C64: got 'NA'”\n",
            "Warning message in read_fun(path = enc2native(normalizePath(path)), sheet_i = sheet, :\n",
            "“Expecting numeric in BL3323 / R3323C64: got 'NA'”\n",
            "Warning message in read_fun(path = enc2native(normalizePath(path)), sheet_i = sheet, :\n",
            "“Expecting numeric in BL3340 / R3340C64: got 'NA'”\n",
            "Warning message in read_fun(path = enc2native(normalizePath(path)), sheet_i = sheet, :\n",
            "“Expecting numeric in BL3346 / R3346C64: got 'NA'”\n",
            "Warning message in read_fun(path = enc2native(normalizePath(path)), sheet_i = sheet, :\n",
            "“Expecting numeric in BL3408 / R3408C64: got 'NA'”\n",
            "Warning message in read_fun(path = enc2native(normalizePath(path)), sheet_i = sheet, :\n",
            "“Expecting numeric in BL3410 / R3410C64: got 'NA'”\n",
            "Warning message in read_fun(path = enc2native(normalizePath(path)), sheet_i = sheet, :\n",
            "“Expecting numeric in BL3415 / R3415C64: got 'NA'”\n",
            "Warning message in read_fun(path = enc2native(normalizePath(path)), sheet_i = sheet, :\n",
            "“Expecting numeric in BL3450 / R3450C64: got 'NA'”\n",
            "Warning message in read_fun(path = enc2native(normalizePath(path)), sheet_i = sheet, :\n",
            "“Expecting numeric in BL3472 / R3472C64: got 'NA'”\n",
            "Warning message in read_fun(path = enc2native(normalizePath(path)), sheet_i = sheet, :\n",
            "“Expecting numeric in BL3488 / R3488C64: got 'NA'”\n",
            "Warning message in read_fun(path = enc2native(normalizePath(path)), sheet_i = sheet, :\n",
            "“Expecting numeric in BL3495 / R3495C64: got 'NA'”\n",
            "Warning message in read_fun(path = enc2native(normalizePath(path)), sheet_i = sheet, :\n",
            "“Expecting numeric in BL3532 / R3532C64: got 'NA'”\n",
            "Warning message in read_fun(path = enc2native(normalizePath(path)), sheet_i = sheet, :\n",
            "“Expecting numeric in BL3540 / R3540C64: got 'NA'”\n",
            "Warning message in read_fun(path = enc2native(normalizePath(path)), sheet_i = sheet, :\n",
            "“Expecting numeric in BL3563 / R3563C64: got 'NA'”\n"
          ]
        }
      ]
    },
    {
      "cell_type": "code",
      "metadata": {
        "id": "cawl-_QsHNoI"
      },
      "source": [
        "HSV_df <- as.data.frame(sapply(HSV_df, unlist))\n",
        "HSV_df %<>% \n",
        "   mutate(across(where(is.character), ~na_if(., \"NA\")))\n",
        "# head(HSV_df,3)\n",
        "\n"
      ],
      "execution_count": null,
      "outputs": []
    },
    {
      "cell_type": "code",
      "metadata": {
        "id": "q5D_KQcT0-ue"
      },
      "source": [
        "HSV_df$RIDAGEYRCAT = cut(as.numeric(HSV_df$RIDAGEYR), breaks = c(18, 25, 45, 65, Inf), right = FALSE)\n"
      ],
      "execution_count": null,
      "outputs": []
    },
    {
      "cell_type": "code",
      "metadata": {
        "id": "F_pbb4xI8ps8"
      },
      "source": [
        "# Gender\n",
        "HSV_df$RIAGENDR = factor(HSV_df$RIAGENDR)\n",
        "levels(HSV_df$RIAGENDR) = c(\"Male\", \"Female\") \n",
        "\n",
        "# High HPV\n",
        "HSV_df$high.HPV = factor(HSV_df$high.HPV)\n",
        "levels(HSV_df$high.HPV) = c(\"Negative\", \"Positive\") \n",
        "\n",
        "# Low HPV\n",
        "HSV_df$low.HPV = factor(HSV_df$low.HPV)\n",
        "levels(HSV_df$low.HPV) = c(\"Negative\", \"Positive\") \n",
        "\n",
        "# Race\n",
        "HSV_df$RIDRETH1 = factor(HSV_df$RIDRETH1)\n",
        "levels(HSV_df$RIDRETH1) = c(\"Mex-Hisp\", \"Other-Hisp\",\"Non-Hisp-WT\",\"Non-Hisp-BK\", \"Others\") \n",
        "\n",
        "# Education\n",
        "HSV_df$DMDEDUC2 = factor(HSV_df$DMDEDUC2)\n",
        "levels(HSV_df$DMDEDUC2) = c(\"Below 9th Grade\", \"9-11 Grade\",\"HS or GED\",\"Some College or AA\", \"Graduate\") \n",
        "\n",
        "# Marital Status\n",
        "HSV_df$DMDMARTL = factor(HSV_df$DMDMARTL)\n",
        "levels(HSV_df$DMDMARTL) = c(\"Married\", \"Widowed\",\"Divorced\",\"Separated\", \"Never married\", \"Living with partner\") \n",
        "\n",
        "# Smoking\n",
        "HSV_df$LBDCOTLC = factor(HSV_df$LBDCOTLC)\n",
        "levels(HSV_df$LBDCOTLC) = c(\"Above limit\", \"Below Limit\") \n",
        "\n",
        "# Alcohol\n",
        "HSV_df$ALQ101 = factor(HSV_df$ALQ101)\n",
        "levels(HSV_df$ALQ101) = c(\"Yes\", \"No\") \n",
        "\n",
        "# Poverty Income Level\n",
        "HSV_df$PIR = factor(HSV_df$PIR)\n",
        "# levels(HSV_df$PIR) = c(\"Yes\", \"No\") \n",
        "\n",
        "# Body mass index\n",
        "HSV_df$BMI.f = factor(HSV_df$BMI.f)\n",
        "levels(HSV_df$BMI.f) = c(\"Underweight\", \"Normal weight\" , \"Overweight\" , \"Obesity\") \n",
        "\n",
        "\n",
        "# Arsenic Level(1)\n",
        "HSV_df$URDUA3LC.f = factor(HSV_df$URDUA3LC.f)\n",
        "levels(HSV_df$URDUA3LC.f) = c(\"Above limit\", \"Below Limit\") \n",
        "\n",
        "# Arsenic Level (2)\n",
        "HSV_df$URDUA5LC.f = factor(HSV_df$URDUA5LC.f)\n",
        "levels(HSV_df$URDUA5LC.f) = c(\"Above limit\", \"Below Limit\") \n",
        "\n",
        "# Arsenic Level (3)\n",
        "HSV_df$URDUABLC.f = factor(HSV_df$URDUABLC.f)\n",
        "levels(HSV_df$URDUABLC.f) = c(\"Above limit\", \"Below Limit\") \n",
        "\n",
        "\n",
        "# Arsenic Level (4)\n",
        "HSV_df$URDUDALC.f = factor(HSV_df$URDUACLC.f)  \n",
        "levels(HSV_df$URDUDALC.f) = c(\"Above limit\", \"Below Limit\") \n",
        "\n",
        "# Arsenic Level (5)\n",
        "HSV_df$URDUDALC.f = factor(HSV_df$URDUDALC.f)\n",
        "levels(HSV_df$URDUDALC.f) = c(\"Above limit\", \"Below Limit\") \n",
        "\n",
        "# Arsenic Level (6)\n",
        "HSV_df$URDUMMAL.f = factor(HSV_df$URDUMMAL.f)\n",
        "levels(HSV_df$URDUMMAL.f) = c(\"Above limit\", \"Below Limit\") \n",
        "\n",
        "\n",
        "HSV_df_backup_postprep = HSV_df"
      ],
      "execution_count": null,
      "outputs": []
    },
    {
      "cell_type": "code",
      "metadata": {
        "id": "CG50qEhQgI5S"
      },
      "source": [
        "\n",
        "# freq function\n",
        "\n",
        "freq = function(var, name = deparse(substitute(var))){\n",
        "tbl = table( var)\n",
        "freq_tbl = tbl %>% as.data.frame()\n",
        "prop_tbl = as.data.frame(prop.table(tbl) * 100) %>% as.data.frame() %>% select(Freq) %>% rename( \"% Freq\" = Freq)\n",
        "total = data.frame(var = \"Total\", Freq = sum(freq_tbl$Freq), \"% Freq\" = sum(prop_tbl$`% Freq`))\n",
        "df = cbind(freq_tbl, prop_tbl)\n",
        "colnames(total) = colnames(df)\n",
        "df = rbind(df,total)\n",
        "xname = c(name, colnames(df)[2:length(colnames(df))])\n",
        "colnames(df) = xname\n",
        "  return(df)\n",
        "}\n",
        "\n",
        "# ctable function\n",
        "\n",
        "ctable_fn = function( x, y  ){\n",
        "\n",
        "tbl = table( x, y) %>% as.data.frame.matrix()\n",
        "\n",
        "prop_tbl = prop.table(tbl) \n",
        "\n",
        "tbl %<>% cbind(.,Total = rowSums(.)) %>% rbind(.,Total = colSums(.))\n",
        "\n",
        "prop_tbl %<>% cbind(.,Total = rowSums(.)) %>% rbind(.,Total = colSums(.))\n",
        "\n",
        "prop_tbl =  (prop_tbl * 100) %>% round(2)\n",
        "\n",
        "break_point = dim(tbl)[2]\n",
        "for(i in 1: dim(tbl)[2]){\n",
        "  tbl[,i] = paste0(tbl[,i], \" [ \" , prop_tbl[,i],  \"% ]\" )\n",
        "}\n",
        "\n",
        "\n",
        "return(tbl)\n",
        "\n",
        "}"
      ],
      "execution_count": null,
      "outputs": []
    },
    {
      "cell_type": "code",
      "metadata": {
        "id": "jpn4ZDxiJAX5"
      },
      "source": [
        "\n",
        "num_summary = function(value,variable){\n",
        "\n",
        "df = data.frame(value = as.numeric(value),variable = as.factor(variable))\n",
        "  ## provide summary of the numerical variables\n",
        "res = df %>% \n",
        "\n",
        "  group_by(variable) %>%\n",
        "  summarise(Count = n(), Mean = mean(value, na.rm=TRUE), Min = quantile(value, 0, na.rm=TRUE), Q1 = quantile(value, 0.25, na.rm=TRUE), \n",
        "  Q2 = quantile(value, 0.5, na.rm=TRUE),  Q3 = quantile(value, 0.75, na.rm=TRUE), Max = quantile(value, 1, na.rm=TRUE),\n",
        "   Sd = sd(value, na.rm=TRUE), .groups = 'drop') \n",
        "\n",
        "return(res)\n",
        "}\n"
      ],
      "execution_count": null,
      "outputs": []
    },
    {
      "cell_type": "markdown",
      "metadata": {
        "id": "fmzywVOLd3Rd"
      },
      "source": [
        "# **Non Parametric Anova**\n",
        "\n",
        "\n"
      ]
    },
    {
      "cell_type": "markdown",
      "metadata": {
        "id": "N0wEC0_3nrOw"
      },
      "source": [
        "### **Arsenic 1(URXUAS3 - Urinary Arsenous acid (ug/L)) :**\n",
        "\n",
        "At alpha level of 0.05, for Urinary Arsenous acid (ug/L), there is statistical significance for **BMI,  marital status, ethnicity, alcohol and cotinine**.\n",
        "\n",
        "There is no statistical significance for education and poverty index ratio"
      ]
    },
    {
      "cell_type": "markdown",
      "metadata": {
        "id": "dPnn_mGEQFme"
      },
      "source": [
        "**BMI**"
      ]
    },
    {
      "cell_type": "code",
      "metadata": {
        "id": "DZW38q9ld_LX",
        "colab": {
          "base_uri": "https://localhost:8080/",
          "height": 718
        },
        "outputId": "eb217dec-d8cd-43a4-bdc8-a3c6fc8447a2"
      },
      "source": [
        "HSV_df_backup_postprep -> HSV_df\n",
        "\n",
        "HSV_df %<>% select(URXUAS3, BMI.f) %>% filter(URXUAS3 != 'NA') %>% filter(BMI.f != 'NA')\n",
        "\n",
        "# kruskal wallis test\n",
        "kruskal.test(URXUAS3~ BMI.f , data = HSV_df) \n",
        "\n",
        "cat(\"\\n\\n\")\n",
        "\n",
        "cat(\"\\n Numerical Summaries \\n\")\n",
        "# numerical summary\n",
        "HSV_df %$% num_summary(URXUAS3, BMI.f) \n",
        "\n",
        "cat(\"\\n\\n\")\n",
        "\n",
        "cat(\"\\n Multiple Comparison \\n\")\n",
        "# multiple comparison\n",
        "dunn_test(URXUAS3~ BMI.f , data = HSV_df, p.adjust.method = \"fdr\") %>%\n",
        "p_format(digits = 2, leading.zero = TRUE) ; HSV_df_backup_postprep -> HSV_df\n"
      ],
      "execution_count": null,
      "outputs": [
        {
          "output_type": "display_data",
          "data": {
            "text/plain": [
              "\n",
              "\tKruskal-Wallis rank sum test\n",
              "\n",
              "data:  URXUAS3 by BMI.f\n",
              "Kruskal-Wallis chi-squared = 8.0552, df = 3, p-value = 0.04488\n"
            ]
          },
          "metadata": {}
        },
        {
          "output_type": "stream",
          "name": "stdout",
          "text": [
            "\n",
            "\n",
            "\n",
            " Numerical Summaries \n"
          ]
        },
        {
          "output_type": "display_data",
          "data": {
            "text/plain": [
              "  variable      Count Mean      Min  Q1     Q2   Q3     Max  Sd       \n",
              "1 Underweight    24   0.6741667 0.08 0.0800 0.39 0.6475 5.97 1.1978964\n",
              "2 Normal weight 500   0.6099400 0.08 0.1375 0.54 0.8925 3.59 0.4999826\n",
              "3 Overweight    570   0.6030526 0.08 0.1600 0.54 0.8400 3.35 0.5024931\n",
              "4 Obesity       525   0.5261143 0.08 0.0800 0.46 0.7700 2.33 0.4223437"
            ],
            "text/latex": "A tibble: 4 × 9\n\\begin{tabular}{lllllllll}\n variable & Count & Mean & Min & Q1 & Q2 & Q3 & Max & Sd\\\\\n <fct> & <int> & <dbl> & <dbl> & <dbl> & <dbl> & <dbl> & <dbl> & <dbl>\\\\\n\\hline\n\t Underweight   &  24 & 0.6741667 & 0.08 & 0.0800 & 0.39 & 0.6475 & 5.97 & 1.1978964\\\\\n\t Normal weight & 500 & 0.6099400 & 0.08 & 0.1375 & 0.54 & 0.8925 & 3.59 & 0.4999826\\\\\n\t Overweight    & 570 & 0.6030526 & 0.08 & 0.1600 & 0.54 & 0.8400 & 3.35 & 0.5024931\\\\\n\t Obesity       & 525 & 0.5261143 & 0.08 & 0.0800 & 0.46 & 0.7700 & 2.33 & 0.4223437\\\\\n\\end{tabular}\n",
            "text/markdown": "\nA tibble: 4 × 9\n\n| variable &lt;fct&gt; | Count &lt;int&gt; | Mean &lt;dbl&gt; | Min &lt;dbl&gt; | Q1 &lt;dbl&gt; | Q2 &lt;dbl&gt; | Q3 &lt;dbl&gt; | Max &lt;dbl&gt; | Sd &lt;dbl&gt; |\n|---|---|---|---|---|---|---|---|---|\n| Underweight   |  24 | 0.6741667 | 0.08 | 0.0800 | 0.39 | 0.6475 | 5.97 | 1.1978964 |\n| Normal weight | 500 | 0.6099400 | 0.08 | 0.1375 | 0.54 | 0.8925 | 3.59 | 0.4999826 |\n| Overweight    | 570 | 0.6030526 | 0.08 | 0.1600 | 0.54 | 0.8400 | 3.35 | 0.5024931 |\n| Obesity       | 525 | 0.5261143 | 0.08 | 0.0800 | 0.46 | 0.7700 | 2.33 | 0.4223437 |\n\n",
            "text/html": [
              "<table class=\"dataframe\">\n",
              "<caption>A tibble: 4 × 9</caption>\n",
              "<thead>\n",
              "\t<tr><th scope=col>variable</th><th scope=col>Count</th><th scope=col>Mean</th><th scope=col>Min</th><th scope=col>Q1</th><th scope=col>Q2</th><th scope=col>Q3</th><th scope=col>Max</th><th scope=col>Sd</th></tr>\n",
              "\t<tr><th scope=col>&lt;fct&gt;</th><th scope=col>&lt;int&gt;</th><th scope=col>&lt;dbl&gt;</th><th scope=col>&lt;dbl&gt;</th><th scope=col>&lt;dbl&gt;</th><th scope=col>&lt;dbl&gt;</th><th scope=col>&lt;dbl&gt;</th><th scope=col>&lt;dbl&gt;</th><th scope=col>&lt;dbl&gt;</th></tr>\n",
              "</thead>\n",
              "<tbody>\n",
              "\t<tr><td>Underweight  </td><td> 24</td><td>0.6741667</td><td>0.08</td><td>0.0800</td><td>0.39</td><td>0.6475</td><td>5.97</td><td>1.1978964</td></tr>\n",
              "\t<tr><td>Normal weight</td><td>500</td><td>0.6099400</td><td>0.08</td><td>0.1375</td><td>0.54</td><td>0.8925</td><td>3.59</td><td>0.4999826</td></tr>\n",
              "\t<tr><td>Overweight   </td><td>570</td><td>0.6030526</td><td>0.08</td><td>0.1600</td><td>0.54</td><td>0.8400</td><td>3.35</td><td>0.5024931</td></tr>\n",
              "\t<tr><td>Obesity      </td><td>525</td><td>0.5261143</td><td>0.08</td><td>0.0800</td><td>0.46</td><td>0.7700</td><td>2.33</td><td>0.4223437</td></tr>\n",
              "</tbody>\n",
              "</table>\n"
            ]
          },
          "metadata": {}
        },
        {
          "output_type": "stream",
          "name": "stdout",
          "text": [
            "\n",
            "\n",
            "\n",
            " Multiple Comparison \n"
          ]
        },
        {
          "output_type": "display_data",
          "data": {
            "text/plain": [
              "  .y.     group1        group2        n1  n2  statistic  p     p.adj\n",
              "1 URXUAS3 Underweight   Normal weight  24 500  1.3479656 0.178 0.31 \n",
              "2 URXUAS3 Underweight   Overweight     24 570  1.2633358 0.206 0.31 \n",
              "3 URXUAS3 Underweight   Obesity        24 525  0.6389817 0.523 0.627\n",
              "4 URXUAS3 Normal weight Overweight    500 570 -0.3007558 0.764 0.764\n",
              "5 URXUAS3 Normal weight Obesity       500 525 -2.3732364 0.018 0.095\n",
              "6 URXUAS3 Overweight    Obesity       570 525 -2.1469480 0.032 0.095\n",
              "  p.adj.signif\n",
              "1 ns          \n",
              "2 ns          \n",
              "3 ns          \n",
              "4 ns          \n",
              "5 ns          \n",
              "6 ns          "
            ],
            "text/latex": "A rstatix\\_test: 6 × 9\n\\begin{tabular}{r|lllllllll}\n  & .y. & group1 & group2 & n1 & n2 & statistic & p & p.adj & p.adj.signif\\\\\n  & <chr> & <chr> & <chr> & <int> & <int> & <dbl> & <chr> & <chr> & <chr>\\\\\n\\hline\n\t1 & URXUAS3 & Underweight   & Normal weight &  24 & 500 &  1.3479656 & 0.178 & 0.31  & ns\\\\\n\t2 & URXUAS3 & Underweight   & Overweight    &  24 & 570 &  1.2633358 & 0.206 & 0.31  & ns\\\\\n\t3 & URXUAS3 & Underweight   & Obesity       &  24 & 525 &  0.6389817 & 0.523 & 0.627 & ns\\\\\n\t4 & URXUAS3 & Normal weight & Overweight    & 500 & 570 & -0.3007558 & 0.764 & 0.764 & ns\\\\\n\t5 & URXUAS3 & Normal weight & Obesity       & 500 & 525 & -2.3732364 & 0.018 & 0.095 & ns\\\\\n\t6 & URXUAS3 & Overweight    & Obesity       & 570 & 525 & -2.1469480 & 0.032 & 0.095 & ns\\\\\n\\end{tabular}\n",
            "text/markdown": "\nA rstatix_test: 6 × 9\n\n| <!--/--> | .y. &lt;chr&gt; | group1 &lt;chr&gt; | group2 &lt;chr&gt; | n1 &lt;int&gt; | n2 &lt;int&gt; | statistic &lt;dbl&gt; | p &lt;chr&gt; | p.adj &lt;chr&gt; | p.adj.signif &lt;chr&gt; |\n|---|---|---|---|---|---|---|---|---|---|\n| 1 | URXUAS3 | Underweight   | Normal weight |  24 | 500 |  1.3479656 | 0.178 | 0.31  | ns |\n| 2 | URXUAS3 | Underweight   | Overweight    |  24 | 570 |  1.2633358 | 0.206 | 0.31  | ns |\n| 3 | URXUAS3 | Underweight   | Obesity       |  24 | 525 |  0.6389817 | 0.523 | 0.627 | ns |\n| 4 | URXUAS3 | Normal weight | Overweight    | 500 | 570 | -0.3007558 | 0.764 | 0.764 | ns |\n| 5 | URXUAS3 | Normal weight | Obesity       | 500 | 525 | -2.3732364 | 0.018 | 0.095 | ns |\n| 6 | URXUAS3 | Overweight    | Obesity       | 570 | 525 | -2.1469480 | 0.032 | 0.095 | ns |\n\n",
            "text/html": [
              "<table class=\"dataframe\">\n",
              "<caption>A rstatix_test: 6 × 9</caption>\n",
              "<thead>\n",
              "\t<tr><th></th><th scope=col>.y.</th><th scope=col>group1</th><th scope=col>group2</th><th scope=col>n1</th><th scope=col>n2</th><th scope=col>statistic</th><th scope=col>p</th><th scope=col>p.adj</th><th scope=col>p.adj.signif</th></tr>\n",
              "\t<tr><th></th><th scope=col>&lt;chr&gt;</th><th scope=col>&lt;chr&gt;</th><th scope=col>&lt;chr&gt;</th><th scope=col>&lt;int&gt;</th><th scope=col>&lt;int&gt;</th><th scope=col>&lt;dbl&gt;</th><th scope=col>&lt;chr&gt;</th><th scope=col>&lt;chr&gt;</th><th scope=col>&lt;chr&gt;</th></tr>\n",
              "</thead>\n",
              "<tbody>\n",
              "\t<tr><th scope=row>1</th><td>URXUAS3</td><td>Underweight  </td><td>Normal weight</td><td> 24</td><td>500</td><td> 1.3479656</td><td>0.178</td><td>0.31 </td><td>ns</td></tr>\n",
              "\t<tr><th scope=row>2</th><td>URXUAS3</td><td>Underweight  </td><td>Overweight   </td><td> 24</td><td>570</td><td> 1.2633358</td><td>0.206</td><td>0.31 </td><td>ns</td></tr>\n",
              "\t<tr><th scope=row>3</th><td>URXUAS3</td><td>Underweight  </td><td>Obesity      </td><td> 24</td><td>525</td><td> 0.6389817</td><td>0.523</td><td>0.627</td><td>ns</td></tr>\n",
              "\t<tr><th scope=row>4</th><td>URXUAS3</td><td>Normal weight</td><td>Overweight   </td><td>500</td><td>570</td><td>-0.3007558</td><td>0.764</td><td>0.764</td><td>ns</td></tr>\n",
              "\t<tr><th scope=row>5</th><td>URXUAS3</td><td>Normal weight</td><td>Obesity      </td><td>500</td><td>525</td><td>-2.3732364</td><td>0.018</td><td>0.095</td><td>ns</td></tr>\n",
              "\t<tr><th scope=row>6</th><td>URXUAS3</td><td>Overweight   </td><td>Obesity      </td><td>570</td><td>525</td><td>-2.1469480</td><td>0.032</td><td>0.095</td><td>ns</td></tr>\n",
              "</tbody>\n",
              "</table>\n"
            ]
          },
          "metadata": {}
        }
      ]
    },
    {
      "cell_type": "markdown",
      "metadata": {
        "id": "fL7PJNEVTaDd"
      },
      "source": [
        "**Education**"
      ]
    },
    {
      "cell_type": "code",
      "metadata": {
        "id": "aV95xA3R4qx0",
        "colab": {
          "base_uri": "https://localhost:8080/",
          "height": 104
        },
        "outputId": "2d026c11-cb53-4199-ce48-9934da9d88f4"
      },
      "source": [
        "\n",
        "# Education\n",
        "kruskal.test(URXUAS3~ DMDEDUC2 , data = HSV_df) "
      ],
      "execution_count": null,
      "outputs": [
        {
          "output_type": "display_data",
          "data": {
            "text/plain": [
              "\n",
              "\tKruskal-Wallis rank sum test\n",
              "\n",
              "data:  URXUAS3 by DMDEDUC2\n",
              "Kruskal-Wallis chi-squared = 7.1533, df = 4, p-value = 0.128\n"
            ]
          },
          "metadata": {}
        }
      ]
    },
    {
      "cell_type": "markdown",
      "metadata": {
        "id": "TpWRNZi5Tefo"
      },
      "source": [
        "**Marital Status**"
      ]
    },
    {
      "cell_type": "code",
      "metadata": {
        "id": "GyuHPfd64uwl",
        "colab": {
          "base_uri": "https://localhost:8080/",
          "height": 1000
        },
        "outputId": "81e05df2-f262-4b8e-db60-3bd679e214a9"
      },
      "source": [
        "HSV_df_backup_postprep -> HSV_df\n",
        "\n",
        "HSV_df %<>% select(URXUAS3, DMDMARTL) %>% filter(URXUAS3 != 'NA') %>% filter(DMDMARTL != 'NA')\n",
        "\n",
        "# kruskal wallis test\n",
        "kruskal.test(URXUAS3~ DMDMARTL , data = HSV_df) \n",
        "\n",
        "cat(\"\\n\\n\")\n",
        "\n",
        "cat(\"\\n Numerical Summaries \\n\")\n",
        "# numerical summary\n",
        "HSV_df %$% num_summary(URXUAS3, DMDMARTL) \n",
        "\n",
        "cat(\"\\n\\n\")\n",
        "\n",
        "cat(\"\\n Multiple Comparison \\n\")\n",
        "# multiple comparison\n",
        "dunn_test(URXUAS3~ DMDMARTL , data = HSV_df, p.adjust.method = \"fdr\") %>%\n",
        "p_format(digits = 2, leading.zero = TRUE) ; HSV_df_backup_postprep -> HSV_df\n",
        "\n",
        "\n"
      ],
      "execution_count": null,
      "outputs": [
        {
          "output_type": "display_data",
          "data": {
            "text/plain": [
              "\n",
              "\tKruskal-Wallis rank sum test\n",
              "\n",
              "data:  URXUAS3 by DMDMARTL\n",
              "Kruskal-Wallis chi-squared = 0.55208, df = 5, p-value = 0.9901\n"
            ]
          },
          "metadata": {}
        },
        {
          "output_type": "stream",
          "name": "stdout",
          "text": [
            "\n",
            "\n",
            "\n",
            " Numerical Summaries \n"
          ]
        },
        {
          "output_type": "display_data",
          "data": {
            "text/plain": [
              "  variable            Count Mean      Min  Q1     Q2   Q3     Max  Sd       \n",
              "1 Married             715   0.5915944 0.08 0.0800 0.52 0.8550 5.97 0.5354121\n",
              "2 Widowed              11   0.4718182 0.08 0.0800 0.34 0.7500 1.22 0.3977642\n",
              "3 Divorced            126   0.5424603 0.08 0.1625 0.54 0.7575 1.66 0.3813401\n",
              "4 Separated            51   0.5537255 0.08 0.0800 0.56 0.8200 1.91 0.4022286\n",
              "5 Never married       404   0.5652475 0.08 0.1700 0.49 0.8000 3.59 0.4746337\n",
              "6 Living with partner 221   0.5604072 0.08 0.0800 0.54 0.7800 2.33 0.4421428"
            ],
            "text/latex": "A tibble: 6 × 9\n\\begin{tabular}{lllllllll}\n variable & Count & Mean & Min & Q1 & Q2 & Q3 & Max & Sd\\\\\n <fct> & <int> & <dbl> & <dbl> & <dbl> & <dbl> & <dbl> & <dbl> & <dbl>\\\\\n\\hline\n\t Married             & 715 & 0.5915944 & 0.08 & 0.0800 & 0.52 & 0.8550 & 5.97 & 0.5354121\\\\\n\t Widowed             &  11 & 0.4718182 & 0.08 & 0.0800 & 0.34 & 0.7500 & 1.22 & 0.3977642\\\\\n\t Divorced            & 126 & 0.5424603 & 0.08 & 0.1625 & 0.54 & 0.7575 & 1.66 & 0.3813401\\\\\n\t Separated           &  51 & 0.5537255 & 0.08 & 0.0800 & 0.56 & 0.8200 & 1.91 & 0.4022286\\\\\n\t Never married       & 404 & 0.5652475 & 0.08 & 0.1700 & 0.49 & 0.8000 & 3.59 & 0.4746337\\\\\n\t Living with partner & 221 & 0.5604072 & 0.08 & 0.0800 & 0.54 & 0.7800 & 2.33 & 0.4421428\\\\\n\\end{tabular}\n",
            "text/markdown": "\nA tibble: 6 × 9\n\n| variable &lt;fct&gt; | Count &lt;int&gt; | Mean &lt;dbl&gt; | Min &lt;dbl&gt; | Q1 &lt;dbl&gt; | Q2 &lt;dbl&gt; | Q3 &lt;dbl&gt; | Max &lt;dbl&gt; | Sd &lt;dbl&gt; |\n|---|---|---|---|---|---|---|---|---|\n| Married             | 715 | 0.5915944 | 0.08 | 0.0800 | 0.52 | 0.8550 | 5.97 | 0.5354121 |\n| Widowed             |  11 | 0.4718182 | 0.08 | 0.0800 | 0.34 | 0.7500 | 1.22 | 0.3977642 |\n| Divorced            | 126 | 0.5424603 | 0.08 | 0.1625 | 0.54 | 0.7575 | 1.66 | 0.3813401 |\n| Separated           |  51 | 0.5537255 | 0.08 | 0.0800 | 0.56 | 0.8200 | 1.91 | 0.4022286 |\n| Never married       | 404 | 0.5652475 | 0.08 | 0.1700 | 0.49 | 0.8000 | 3.59 | 0.4746337 |\n| Living with partner | 221 | 0.5604072 | 0.08 | 0.0800 | 0.54 | 0.7800 | 2.33 | 0.4421428 |\n\n",
            "text/html": [
              "<table class=\"dataframe\">\n",
              "<caption>A tibble: 6 × 9</caption>\n",
              "<thead>\n",
              "\t<tr><th scope=col>variable</th><th scope=col>Count</th><th scope=col>Mean</th><th scope=col>Min</th><th scope=col>Q1</th><th scope=col>Q2</th><th scope=col>Q3</th><th scope=col>Max</th><th scope=col>Sd</th></tr>\n",
              "\t<tr><th scope=col>&lt;fct&gt;</th><th scope=col>&lt;int&gt;</th><th scope=col>&lt;dbl&gt;</th><th scope=col>&lt;dbl&gt;</th><th scope=col>&lt;dbl&gt;</th><th scope=col>&lt;dbl&gt;</th><th scope=col>&lt;dbl&gt;</th><th scope=col>&lt;dbl&gt;</th><th scope=col>&lt;dbl&gt;</th></tr>\n",
              "</thead>\n",
              "<tbody>\n",
              "\t<tr><td>Married            </td><td>715</td><td>0.5915944</td><td>0.08</td><td>0.0800</td><td>0.52</td><td>0.8550</td><td>5.97</td><td>0.5354121</td></tr>\n",
              "\t<tr><td>Widowed            </td><td> 11</td><td>0.4718182</td><td>0.08</td><td>0.0800</td><td>0.34</td><td>0.7500</td><td>1.22</td><td>0.3977642</td></tr>\n",
              "\t<tr><td>Divorced           </td><td>126</td><td>0.5424603</td><td>0.08</td><td>0.1625</td><td>0.54</td><td>0.7575</td><td>1.66</td><td>0.3813401</td></tr>\n",
              "\t<tr><td>Separated          </td><td> 51</td><td>0.5537255</td><td>0.08</td><td>0.0800</td><td>0.56</td><td>0.8200</td><td>1.91</td><td>0.4022286</td></tr>\n",
              "\t<tr><td>Never married      </td><td>404</td><td>0.5652475</td><td>0.08</td><td>0.1700</td><td>0.49</td><td>0.8000</td><td>3.59</td><td>0.4746337</td></tr>\n",
              "\t<tr><td>Living with partner</td><td>221</td><td>0.5604072</td><td>0.08</td><td>0.0800</td><td>0.54</td><td>0.7800</td><td>2.33</td><td>0.4421428</td></tr>\n",
              "</tbody>\n",
              "</table>\n"
            ]
          },
          "metadata": {}
        },
        {
          "output_type": "stream",
          "name": "stdout",
          "text": [
            "\n",
            "\n",
            "\n",
            " Multiple Comparison \n"
          ]
        },
        {
          "output_type": "display_data",
          "data": {
            "text/plain": [
              "   .y.     group1        group2              n1  n2  statistic   p    p.adj\n",
              "1  URXUAS3 Married       Widowed             715  11 -0.63319431 0.53 0.99 \n",
              "2  URXUAS3 Married       Divorced            715 126 -0.18183799 0.86 0.99 \n",
              "3  URXUAS3 Married       Separated           715  51 -0.01479610 0.99 0.99 \n",
              "4  URXUAS3 Married       Never married       715 404 -0.39487676 0.69 0.99 \n",
              "5  URXUAS3 Married       Living with partner 715 221 -0.27571730 0.78 0.99 \n",
              "6  URXUAS3 Widowed       Divorced             11 126  0.55601434 0.58 0.99 \n",
              "7  URXUAS3 Widowed       Separated            11  51  0.57223335 0.57 0.99 \n",
              "8  URXUAS3 Widowed       Never married        11 404  0.54910772 0.58 0.99 \n",
              "9  URXUAS3 Widowed       Living with partner  11 221  0.55404544 0.58 0.99 \n",
              "10 URXUAS3 Divorced      Separated           126  51  0.09293774 0.93 0.99 \n",
              "11 URXUAS3 Divorced      Never married       126 404 -0.06868361 0.95 0.99 \n",
              "12 URXUAS3 Divorced      Living with partner 126 221 -0.03271031 0.97 0.99 \n",
              "13 URXUAS3 Separated     Never married        51 404 -0.15095672 0.88 0.99 \n",
              "14 URXUAS3 Separated     Living with partner  51 221 -0.12279516 0.9  0.99 \n",
              "15 URXUAS3 Never married Living with partner 404 221  0.04012185 0.97 0.99 \n",
              "   p.adj.signif\n",
              "1  ns          \n",
              "2  ns          \n",
              "3  ns          \n",
              "4  ns          \n",
              "5  ns          \n",
              "6  ns          \n",
              "7  ns          \n",
              "8  ns          \n",
              "9  ns          \n",
              "10 ns          \n",
              "11 ns          \n",
              "12 ns          \n",
              "13 ns          \n",
              "14 ns          \n",
              "15 ns          "
            ],
            "text/latex": "A rstatix\\_test: 15 × 9\n\\begin{tabular}{r|lllllllll}\n  & .y. & group1 & group2 & n1 & n2 & statistic & p & p.adj & p.adj.signif\\\\\n  & <chr> & <chr> & <chr> & <int> & <int> & <dbl> & <chr> & <chr> & <chr>\\\\\n\\hline\n\t1 & URXUAS3 & Married       & Widowed             & 715 &  11 & -0.63319431 & 0.53 & 0.99 & ns\\\\\n\t2 & URXUAS3 & Married       & Divorced            & 715 & 126 & -0.18183799 & 0.86 & 0.99 & ns\\\\\n\t3 & URXUAS3 & Married       & Separated           & 715 &  51 & -0.01479610 & 0.99 & 0.99 & ns\\\\\n\t4 & URXUAS3 & Married       & Never married       & 715 & 404 & -0.39487676 & 0.69 & 0.99 & ns\\\\\n\t5 & URXUAS3 & Married       & Living with partner & 715 & 221 & -0.27571730 & 0.78 & 0.99 & ns\\\\\n\t6 & URXUAS3 & Widowed       & Divorced            &  11 & 126 &  0.55601434 & 0.58 & 0.99 & ns\\\\\n\t7 & URXUAS3 & Widowed       & Separated           &  11 &  51 &  0.57223335 & 0.57 & 0.99 & ns\\\\\n\t8 & URXUAS3 & Widowed       & Never married       &  11 & 404 &  0.54910772 & 0.58 & 0.99 & ns\\\\\n\t9 & URXUAS3 & Widowed       & Living with partner &  11 & 221 &  0.55404544 & 0.58 & 0.99 & ns\\\\\n\t10 & URXUAS3 & Divorced      & Separated           & 126 &  51 &  0.09293774 & 0.93 & 0.99 & ns\\\\\n\t11 & URXUAS3 & Divorced      & Never married       & 126 & 404 & -0.06868361 & 0.95 & 0.99 & ns\\\\\n\t12 & URXUAS3 & Divorced      & Living with partner & 126 & 221 & -0.03271031 & 0.97 & 0.99 & ns\\\\\n\t13 & URXUAS3 & Separated     & Never married       &  51 & 404 & -0.15095672 & 0.88 & 0.99 & ns\\\\\n\t14 & URXUAS3 & Separated     & Living with partner &  51 & 221 & -0.12279516 & 0.9  & 0.99 & ns\\\\\n\t15 & URXUAS3 & Never married & Living with partner & 404 & 221 &  0.04012185 & 0.97 & 0.99 & ns\\\\\n\\end{tabular}\n",
            "text/markdown": "\nA rstatix_test: 15 × 9\n\n| <!--/--> | .y. &lt;chr&gt; | group1 &lt;chr&gt; | group2 &lt;chr&gt; | n1 &lt;int&gt; | n2 &lt;int&gt; | statistic &lt;dbl&gt; | p &lt;chr&gt; | p.adj &lt;chr&gt; | p.adj.signif &lt;chr&gt; |\n|---|---|---|---|---|---|---|---|---|---|\n| 1 | URXUAS3 | Married       | Widowed             | 715 |  11 | -0.63319431 | 0.53 | 0.99 | ns |\n| 2 | URXUAS3 | Married       | Divorced            | 715 | 126 | -0.18183799 | 0.86 | 0.99 | ns |\n| 3 | URXUAS3 | Married       | Separated           | 715 |  51 | -0.01479610 | 0.99 | 0.99 | ns |\n| 4 | URXUAS3 | Married       | Never married       | 715 | 404 | -0.39487676 | 0.69 | 0.99 | ns |\n| 5 | URXUAS3 | Married       | Living with partner | 715 | 221 | -0.27571730 | 0.78 | 0.99 | ns |\n| 6 | URXUAS3 | Widowed       | Divorced            |  11 | 126 |  0.55601434 | 0.58 | 0.99 | ns |\n| 7 | URXUAS3 | Widowed       | Separated           |  11 |  51 |  0.57223335 | 0.57 | 0.99 | ns |\n| 8 | URXUAS3 | Widowed       | Never married       |  11 | 404 |  0.54910772 | 0.58 | 0.99 | ns |\n| 9 | URXUAS3 | Widowed       | Living with partner |  11 | 221 |  0.55404544 | 0.58 | 0.99 | ns |\n| 10 | URXUAS3 | Divorced      | Separated           | 126 |  51 |  0.09293774 | 0.93 | 0.99 | ns |\n| 11 | URXUAS3 | Divorced      | Never married       | 126 | 404 | -0.06868361 | 0.95 | 0.99 | ns |\n| 12 | URXUAS3 | Divorced      | Living with partner | 126 | 221 | -0.03271031 | 0.97 | 0.99 | ns |\n| 13 | URXUAS3 | Separated     | Never married       |  51 | 404 | -0.15095672 | 0.88 | 0.99 | ns |\n| 14 | URXUAS3 | Separated     | Living with partner |  51 | 221 | -0.12279516 | 0.9  | 0.99 | ns |\n| 15 | URXUAS3 | Never married | Living with partner | 404 | 221 |  0.04012185 | 0.97 | 0.99 | ns |\n\n",
            "text/html": [
              "<table class=\"dataframe\">\n",
              "<caption>A rstatix_test: 15 × 9</caption>\n",
              "<thead>\n",
              "\t<tr><th></th><th scope=col>.y.</th><th scope=col>group1</th><th scope=col>group2</th><th scope=col>n1</th><th scope=col>n2</th><th scope=col>statistic</th><th scope=col>p</th><th scope=col>p.adj</th><th scope=col>p.adj.signif</th></tr>\n",
              "\t<tr><th></th><th scope=col>&lt;chr&gt;</th><th scope=col>&lt;chr&gt;</th><th scope=col>&lt;chr&gt;</th><th scope=col>&lt;int&gt;</th><th scope=col>&lt;int&gt;</th><th scope=col>&lt;dbl&gt;</th><th scope=col>&lt;chr&gt;</th><th scope=col>&lt;chr&gt;</th><th scope=col>&lt;chr&gt;</th></tr>\n",
              "</thead>\n",
              "<tbody>\n",
              "\t<tr><th scope=row>1</th><td>URXUAS3</td><td>Married      </td><td>Widowed            </td><td>715</td><td> 11</td><td>-0.63319431</td><td>0.53</td><td>0.99</td><td>ns</td></tr>\n",
              "\t<tr><th scope=row>2</th><td>URXUAS3</td><td>Married      </td><td>Divorced           </td><td>715</td><td>126</td><td>-0.18183799</td><td>0.86</td><td>0.99</td><td>ns</td></tr>\n",
              "\t<tr><th scope=row>3</th><td>URXUAS3</td><td>Married      </td><td>Separated          </td><td>715</td><td> 51</td><td>-0.01479610</td><td>0.99</td><td>0.99</td><td>ns</td></tr>\n",
              "\t<tr><th scope=row>4</th><td>URXUAS3</td><td>Married      </td><td>Never married      </td><td>715</td><td>404</td><td>-0.39487676</td><td>0.69</td><td>0.99</td><td>ns</td></tr>\n",
              "\t<tr><th scope=row>5</th><td>URXUAS3</td><td>Married      </td><td>Living with partner</td><td>715</td><td>221</td><td>-0.27571730</td><td>0.78</td><td>0.99</td><td>ns</td></tr>\n",
              "\t<tr><th scope=row>6</th><td>URXUAS3</td><td>Widowed      </td><td>Divorced           </td><td> 11</td><td>126</td><td> 0.55601434</td><td>0.58</td><td>0.99</td><td>ns</td></tr>\n",
              "\t<tr><th scope=row>7</th><td>URXUAS3</td><td>Widowed      </td><td>Separated          </td><td> 11</td><td> 51</td><td> 0.57223335</td><td>0.57</td><td>0.99</td><td>ns</td></tr>\n",
              "\t<tr><th scope=row>8</th><td>URXUAS3</td><td>Widowed      </td><td>Never married      </td><td> 11</td><td>404</td><td> 0.54910772</td><td>0.58</td><td>0.99</td><td>ns</td></tr>\n",
              "\t<tr><th scope=row>9</th><td>URXUAS3</td><td>Widowed      </td><td>Living with partner</td><td> 11</td><td>221</td><td> 0.55404544</td><td>0.58</td><td>0.99</td><td>ns</td></tr>\n",
              "\t<tr><th scope=row>10</th><td>URXUAS3</td><td>Divorced     </td><td>Separated          </td><td>126</td><td> 51</td><td> 0.09293774</td><td>0.93</td><td>0.99</td><td>ns</td></tr>\n",
              "\t<tr><th scope=row>11</th><td>URXUAS3</td><td>Divorced     </td><td>Never married      </td><td>126</td><td>404</td><td>-0.06868361</td><td>0.95</td><td>0.99</td><td>ns</td></tr>\n",
              "\t<tr><th scope=row>12</th><td>URXUAS3</td><td>Divorced     </td><td>Living with partner</td><td>126</td><td>221</td><td>-0.03271031</td><td>0.97</td><td>0.99</td><td>ns</td></tr>\n",
              "\t<tr><th scope=row>13</th><td>URXUAS3</td><td>Separated    </td><td>Never married      </td><td> 51</td><td>404</td><td>-0.15095672</td><td>0.88</td><td>0.99</td><td>ns</td></tr>\n",
              "\t<tr><th scope=row>14</th><td>URXUAS3</td><td>Separated    </td><td>Living with partner</td><td> 51</td><td>221</td><td>-0.12279516</td><td>0.9 </td><td>0.99</td><td>ns</td></tr>\n",
              "\t<tr><th scope=row>15</th><td>URXUAS3</td><td>Never married</td><td>Living with partner</td><td>404</td><td>221</td><td> 0.04012185</td><td>0.97</td><td>0.99</td><td>ns</td></tr>\n",
              "</tbody>\n",
              "</table>\n"
            ]
          },
          "metadata": {}
        }
      ]
    },
    {
      "cell_type": "markdown",
      "metadata": {
        "id": "mp0K4NULT_Co"
      },
      "source": [
        "**Race**"
      ]
    },
    {
      "cell_type": "code",
      "metadata": {
        "id": "E604QYx14xx8",
        "colab": {
          "base_uri": "https://localhost:8080/",
          "height": 875
        },
        "outputId": "b40856fb-89a9-461a-8202-98f0c90c4bb0"
      },
      "source": [
        "HSV_df_backup_postprep -> HSV_df\n",
        "\n",
        "HSV_df %<>% select(URXUAS3, RIDRETH1) %>% filter(URXUAS3 != 'NA') %>% filter(RIDRETH1 != 'NA')\n",
        "\n",
        "# kruskal wallis test\n",
        "kruskal.test(URXUAS3~ RIDRETH1 , data = HSV_df) \n",
        "\n",
        "cat(\"\\n\\n\")\n",
        "\n",
        "cat(\"\\n Numerical Summaries \\n\")\n",
        "# numerical summary\n",
        "HSV_df %$% num_summary(URXUAS3, RIDRETH1) \n",
        "\n",
        "cat(\"\\n\\n\")\n",
        "\n",
        "cat(\"\\n Multiple Comparison \\n\")\n",
        "# multiple comparison\n",
        "dunn_test(URXUAS3~ RIDRETH1 , data = HSV_df, p.adjust.method = \"fdr\") %>%\n",
        "p_format(digits = 2, leading.zero = TRUE) ; HSV_df_backup_postprep -> HSV_df\n"
      ],
      "execution_count": null,
      "outputs": [
        {
          "output_type": "display_data",
          "data": {
            "text/plain": [
              "\n",
              "\tKruskal-Wallis rank sum test\n",
              "\n",
              "data:  URXUAS3 by RIDRETH1\n",
              "Kruskal-Wallis chi-squared = 46.204, df = 4, p-value = 2.233e-09\n"
            ]
          },
          "metadata": {}
        },
        {
          "output_type": "stream",
          "name": "stdout",
          "text": [
            "\n",
            "\n",
            "\n",
            " Numerical Summaries \n"
          ]
        },
        {
          "output_type": "display_data",
          "data": {
            "text/plain": [
              "  variable    Count Mean      Min  Q1   Q2    Q3     Max  Sd       \n",
              "1 Mex-Hisp    222   0.6613514 0.08 0.25 0.595 0.9425 3.35 0.5043781\n",
              "2 Other-Hisp  148   0.7008784 0.08 0.33 0.630 1.0000 2.64 0.4985925\n",
              "3 Non-Hisp-WT 625   0.4728160 0.08 0.08 0.430 0.6900 2.81 0.3787666\n",
              "4 Non-Hisp-BK 364   0.5985165 0.08 0.17 0.510 0.8900 3.59 0.4906599\n",
              "5 Others      266   0.6772180 0.08 0.18 0.540 0.9350 5.97 0.6590094"
            ],
            "text/latex": "A tibble: 5 × 9\n\\begin{tabular}{lllllllll}\n variable & Count & Mean & Min & Q1 & Q2 & Q3 & Max & Sd\\\\\n <fct> & <int> & <dbl> & <dbl> & <dbl> & <dbl> & <dbl> & <dbl> & <dbl>\\\\\n\\hline\n\t Mex-Hisp    & 222 & 0.6613514 & 0.08 & 0.25 & 0.595 & 0.9425 & 3.35 & 0.5043781\\\\\n\t Other-Hisp  & 148 & 0.7008784 & 0.08 & 0.33 & 0.630 & 1.0000 & 2.64 & 0.4985925\\\\\n\t Non-Hisp-WT & 625 & 0.4728160 & 0.08 & 0.08 & 0.430 & 0.6900 & 2.81 & 0.3787666\\\\\n\t Non-Hisp-BK & 364 & 0.5985165 & 0.08 & 0.17 & 0.510 & 0.8900 & 3.59 & 0.4906599\\\\\n\t Others      & 266 & 0.6772180 & 0.08 & 0.18 & 0.540 & 0.9350 & 5.97 & 0.6590094\\\\\n\\end{tabular}\n",
            "text/markdown": "\nA tibble: 5 × 9\n\n| variable &lt;fct&gt; | Count &lt;int&gt; | Mean &lt;dbl&gt; | Min &lt;dbl&gt; | Q1 &lt;dbl&gt; | Q2 &lt;dbl&gt; | Q3 &lt;dbl&gt; | Max &lt;dbl&gt; | Sd &lt;dbl&gt; |\n|---|---|---|---|---|---|---|---|---|\n| Mex-Hisp    | 222 | 0.6613514 | 0.08 | 0.25 | 0.595 | 0.9425 | 3.35 | 0.5043781 |\n| Other-Hisp  | 148 | 0.7008784 | 0.08 | 0.33 | 0.630 | 1.0000 | 2.64 | 0.4985925 |\n| Non-Hisp-WT | 625 | 0.4728160 | 0.08 | 0.08 | 0.430 | 0.6900 | 2.81 | 0.3787666 |\n| Non-Hisp-BK | 364 | 0.5985165 | 0.08 | 0.17 | 0.510 | 0.8900 | 3.59 | 0.4906599 |\n| Others      | 266 | 0.6772180 | 0.08 | 0.18 | 0.540 | 0.9350 | 5.97 | 0.6590094 |\n\n",
            "text/html": [
              "<table class=\"dataframe\">\n",
              "<caption>A tibble: 5 × 9</caption>\n",
              "<thead>\n",
              "\t<tr><th scope=col>variable</th><th scope=col>Count</th><th scope=col>Mean</th><th scope=col>Min</th><th scope=col>Q1</th><th scope=col>Q2</th><th scope=col>Q3</th><th scope=col>Max</th><th scope=col>Sd</th></tr>\n",
              "\t<tr><th scope=col>&lt;fct&gt;</th><th scope=col>&lt;int&gt;</th><th scope=col>&lt;dbl&gt;</th><th scope=col>&lt;dbl&gt;</th><th scope=col>&lt;dbl&gt;</th><th scope=col>&lt;dbl&gt;</th><th scope=col>&lt;dbl&gt;</th><th scope=col>&lt;dbl&gt;</th><th scope=col>&lt;dbl&gt;</th></tr>\n",
              "</thead>\n",
              "<tbody>\n",
              "\t<tr><td>Mex-Hisp   </td><td>222</td><td>0.6613514</td><td>0.08</td><td>0.25</td><td>0.595</td><td>0.9425</td><td>3.35</td><td>0.5043781</td></tr>\n",
              "\t<tr><td>Other-Hisp </td><td>148</td><td>0.7008784</td><td>0.08</td><td>0.33</td><td>0.630</td><td>1.0000</td><td>2.64</td><td>0.4985925</td></tr>\n",
              "\t<tr><td>Non-Hisp-WT</td><td>625</td><td>0.4728160</td><td>0.08</td><td>0.08</td><td>0.430</td><td>0.6900</td><td>2.81</td><td>0.3787666</td></tr>\n",
              "\t<tr><td>Non-Hisp-BK</td><td>364</td><td>0.5985165</td><td>0.08</td><td>0.17</td><td>0.510</td><td>0.8900</td><td>3.59</td><td>0.4906599</td></tr>\n",
              "\t<tr><td>Others     </td><td>266</td><td>0.6772180</td><td>0.08</td><td>0.18</td><td>0.540</td><td>0.9350</td><td>5.97</td><td>0.6590094</td></tr>\n",
              "</tbody>\n",
              "</table>\n"
            ]
          },
          "metadata": {}
        },
        {
          "output_type": "stream",
          "name": "stdout",
          "text": [
            "\n",
            "\n",
            "\n",
            " Multiple Comparison \n"
          ]
        },
        {
          "output_type": "display_data",
          "data": {
            "text/plain": [
              "   .y.     group1      group2      n1  n2  statistic  p       p.adj  \n",
              "1  URXUAS3 Mex-Hisp    Other-Hisp  222 148  0.7711669 0.44061 0.46828\n",
              "2  URXUAS3 Mex-Hisp    Non-Hisp-WT 222 625 -4.9488292 <0.0001 <0.0001\n",
              "3  URXUAS3 Mex-Hisp    Non-Hisp-BK 222 364 -1.7732136 0.07619 0.12699\n",
              "4  URXUAS3 Mex-Hisp    Others      222 266 -1.0175157 0.30891 0.38614\n",
              "5  URXUAS3 Other-Hisp  Non-Hisp-WT 148 625 -5.1248986 <0.0001 <0.0001\n",
              "6  URXUAS3 Other-Hisp  Non-Hisp-BK 148 364 -2.3883587 0.01692 0.03385\n",
              "7  URXUAS3 Other-Hisp  Others      148 266 -1.7000166 0.08913 0.12733\n",
              "8  URXUAS3 Non-Hisp-WT Non-Hisp-BK 625 364  3.5741450 0.00035 0.00088\n",
              "9  URXUAS3 Non-Hisp-WT Others      625 266  4.0181490 <0.0001 0.0002 \n",
              "10 URXUAS3 Non-Hisp-BK Others      364 266  0.7252781 0.46828 0.46828\n",
              "   p.adj.signif\n",
              "1  ns          \n",
              "2  ****        \n",
              "3  ns          \n",
              "4  ns          \n",
              "5  ****        \n",
              "6  *           \n",
              "7  ns          \n",
              "8  ***         \n",
              "9  ***         \n",
              "10 ns          "
            ],
            "text/latex": "A rstatix\\_test: 10 × 9\n\\begin{tabular}{r|lllllllll}\n  & .y. & group1 & group2 & n1 & n2 & statistic & p & p.adj & p.adj.signif\\\\\n  & <chr> & <chr> & <chr> & <int> & <int> & <dbl> & <chr> & <chr> & <chr>\\\\\n\\hline\n\t1 & URXUAS3 & Mex-Hisp    & Other-Hisp  & 222 & 148 &  0.7711669 & 0.44061 & 0.46828 & ns  \\\\\n\t2 & URXUAS3 & Mex-Hisp    & Non-Hisp-WT & 222 & 625 & -4.9488292 & <0.0001 & <0.0001 & ****\\\\\n\t3 & URXUAS3 & Mex-Hisp    & Non-Hisp-BK & 222 & 364 & -1.7732136 & 0.07619 & 0.12699 & ns  \\\\\n\t4 & URXUAS3 & Mex-Hisp    & Others      & 222 & 266 & -1.0175157 & 0.30891 & 0.38614 & ns  \\\\\n\t5 & URXUAS3 & Other-Hisp  & Non-Hisp-WT & 148 & 625 & -5.1248986 & <0.0001 & <0.0001 & ****\\\\\n\t6 & URXUAS3 & Other-Hisp  & Non-Hisp-BK & 148 & 364 & -2.3883587 & 0.01692 & 0.03385 & *   \\\\\n\t7 & URXUAS3 & Other-Hisp  & Others      & 148 & 266 & -1.7000166 & 0.08913 & 0.12733 & ns  \\\\\n\t8 & URXUAS3 & Non-Hisp-WT & Non-Hisp-BK & 625 & 364 &  3.5741450 & 0.00035 & 0.00088 & *** \\\\\n\t9 & URXUAS3 & Non-Hisp-WT & Others      & 625 & 266 &  4.0181490 & <0.0001 & 0.0002  & *** \\\\\n\t10 & URXUAS3 & Non-Hisp-BK & Others      & 364 & 266 &  0.7252781 & 0.46828 & 0.46828 & ns  \\\\\n\\end{tabular}\n",
            "text/markdown": "\nA rstatix_test: 10 × 9\n\n| <!--/--> | .y. &lt;chr&gt; | group1 &lt;chr&gt; | group2 &lt;chr&gt; | n1 &lt;int&gt; | n2 &lt;int&gt; | statistic &lt;dbl&gt; | p &lt;chr&gt; | p.adj &lt;chr&gt; | p.adj.signif &lt;chr&gt; |\n|---|---|---|---|---|---|---|---|---|---|\n| 1 | URXUAS3 | Mex-Hisp    | Other-Hisp  | 222 | 148 |  0.7711669 | 0.44061 | 0.46828 | ns   |\n| 2 | URXUAS3 | Mex-Hisp    | Non-Hisp-WT | 222 | 625 | -4.9488292 | &lt;0.0001 | &lt;0.0001 | **** |\n| 3 | URXUAS3 | Mex-Hisp    | Non-Hisp-BK | 222 | 364 | -1.7732136 | 0.07619 | 0.12699 | ns   |\n| 4 | URXUAS3 | Mex-Hisp    | Others      | 222 | 266 | -1.0175157 | 0.30891 | 0.38614 | ns   |\n| 5 | URXUAS3 | Other-Hisp  | Non-Hisp-WT | 148 | 625 | -5.1248986 | &lt;0.0001 | &lt;0.0001 | **** |\n| 6 | URXUAS3 | Other-Hisp  | Non-Hisp-BK | 148 | 364 | -2.3883587 | 0.01692 | 0.03385 | *    |\n| 7 | URXUAS3 | Other-Hisp  | Others      | 148 | 266 | -1.7000166 | 0.08913 | 0.12733 | ns   |\n| 8 | URXUAS3 | Non-Hisp-WT | Non-Hisp-BK | 625 | 364 |  3.5741450 | 0.00035 | 0.00088 | ***  |\n| 9 | URXUAS3 | Non-Hisp-WT | Others      | 625 | 266 |  4.0181490 | &lt;0.0001 | 0.0002  | ***  |\n| 10 | URXUAS3 | Non-Hisp-BK | Others      | 364 | 266 |  0.7252781 | 0.46828 | 0.46828 | ns   |\n\n",
            "text/html": [
              "<table class=\"dataframe\">\n",
              "<caption>A rstatix_test: 10 × 9</caption>\n",
              "<thead>\n",
              "\t<tr><th></th><th scope=col>.y.</th><th scope=col>group1</th><th scope=col>group2</th><th scope=col>n1</th><th scope=col>n2</th><th scope=col>statistic</th><th scope=col>p</th><th scope=col>p.adj</th><th scope=col>p.adj.signif</th></tr>\n",
              "\t<tr><th></th><th scope=col>&lt;chr&gt;</th><th scope=col>&lt;chr&gt;</th><th scope=col>&lt;chr&gt;</th><th scope=col>&lt;int&gt;</th><th scope=col>&lt;int&gt;</th><th scope=col>&lt;dbl&gt;</th><th scope=col>&lt;chr&gt;</th><th scope=col>&lt;chr&gt;</th><th scope=col>&lt;chr&gt;</th></tr>\n",
              "</thead>\n",
              "<tbody>\n",
              "\t<tr><th scope=row>1</th><td>URXUAS3</td><td>Mex-Hisp   </td><td>Other-Hisp </td><td>222</td><td>148</td><td> 0.7711669</td><td>0.44061</td><td>0.46828</td><td>ns  </td></tr>\n",
              "\t<tr><th scope=row>2</th><td>URXUAS3</td><td><span style=white-space:pre-wrap>Mex-Hisp   </span></td><td>Non-Hisp-WT</td><td>222</td><td>625</td><td>-4.9488292</td><td>&lt;0.0001</td><td>&lt;0.0001</td><td>****</td></tr>\n",
              "\t<tr><th scope=row>3</th><td>URXUAS3</td><td>Mex-Hisp   </td><td>Non-Hisp-BK</td><td>222</td><td>364</td><td>-1.7732136</td><td>0.07619</td><td>0.12699</td><td>ns  </td></tr>\n",
              "\t<tr><th scope=row>4</th><td>URXUAS3</td><td>Mex-Hisp   </td><td>Others     </td><td>222</td><td>266</td><td>-1.0175157</td><td>0.30891</td><td>0.38614</td><td>ns  </td></tr>\n",
              "\t<tr><th scope=row>5</th><td>URXUAS3</td><td>Other-Hisp </td><td>Non-Hisp-WT</td><td>148</td><td>625</td><td>-5.1248986</td><td>&lt;0.0001</td><td>&lt;0.0001</td><td>****</td></tr>\n",
              "\t<tr><th scope=row>6</th><td>URXUAS3</td><td>Other-Hisp </td><td>Non-Hisp-BK</td><td>148</td><td>364</td><td>-2.3883587</td><td>0.01692</td><td>0.03385</td><td>*   </td></tr>\n",
              "\t<tr><th scope=row>7</th><td>URXUAS3</td><td>Other-Hisp </td><td>Others     </td><td>148</td><td>266</td><td>-1.7000166</td><td>0.08913</td><td>0.12733</td><td>ns  </td></tr>\n",
              "\t<tr><th scope=row>8</th><td>URXUAS3</td><td>Non-Hisp-WT</td><td>Non-Hisp-BK</td><td>625</td><td>364</td><td> 3.5741450</td><td>0.00035</td><td>0.00088</td><td>*** </td></tr>\n",
              "\t<tr><th scope=row>9</th><td>URXUAS3</td><td>Non-Hisp-WT</td><td><span style=white-space:pre-wrap>Others     </span></td><td>625</td><td>266</td><td> 4.0181490</td><td>&lt;0.0001</td><td>0.0002 </td><td>*** </td></tr>\n",
              "\t<tr><th scope=row>10</th><td>URXUAS3</td><td>Non-Hisp-BK</td><td>Others     </td><td>364</td><td>266</td><td> 0.7252781</td><td>0.46828</td><td>0.46828</td><td>ns  </td></tr>\n",
              "</tbody>\n",
              "</table>\n"
            ]
          },
          "metadata": {}
        }
      ]
    },
    {
      "cell_type": "markdown",
      "metadata": {
        "id": "b4QRj81RU29b"
      },
      "source": [
        "**Poverty Income Ratio**"
      ]
    },
    {
      "cell_type": "code",
      "metadata": {
        "id": "1Z5iqX914y6J",
        "colab": {
          "base_uri": "https://localhost:8080/",
          "height": 104
        },
        "outputId": "afa1c32e-cbba-4611-fb67-218afe02cba0"
      },
      "source": [
        "\n",
        "# Poverty Income Ratio\n",
        "kruskal.test(URXUAS3~ PIR , data = HSV_df)"
      ],
      "execution_count": null,
      "outputs": [
        {
          "output_type": "display_data",
          "data": {
            "text/plain": [
              "\n",
              "\tKruskal-Wallis rank sum test\n",
              "\n",
              "data:  URXUAS3 by PIR\n",
              "Kruskal-Wallis chi-squared = 2.0197, df = 2, p-value = 0.3643\n"
            ]
          },
          "metadata": {}
        }
      ]
    },
    {
      "cell_type": "markdown",
      "metadata": {
        "id": "I08a3LW-UZi4"
      },
      "source": [
        "**Alcohol**"
      ]
    },
    {
      "cell_type": "code",
      "metadata": {
        "id": "A14aj1zg4z0U",
        "colab": {
          "base_uri": "https://localhost:8080/",
          "height": 499
        },
        "outputId": "b2228245-0862-4ef9-d82c-6c96f0afcdcb"
      },
      "source": [
        "HSV_df_backup_postprep -> HSV_df\n",
        "\n",
        "HSV_df %<>% select(URXUAS3, ALQ101) %>% filter(URXUAS3 != 'NA') %>% filter(ALQ101 != 'NA')\n",
        "\n",
        "# kruskal wallis test\n",
        "kruskal.test(URXUAS3~ ALQ101 , data = HSV_df) \n",
        "\n",
        "cat(\"\\n\\n\")\n",
        "\n",
        "cat(\"\\n Numerical Summaries \\n\")\n",
        "# numerical summary\n",
        "HSV_df %$% num_summary(URXUAS3, ALQ101) \n",
        "\n",
        "cat(\"\\n\\n\")\n",
        "\n",
        "cat(\"\\n Multiple Comparison \\n\")\n",
        "# multiple comparison\n",
        "dunn_test(URXUAS3~ ALQ101 , data = HSV_df, p.adjust.method = \"fdr\") %>%\n",
        "p_format(digits = 2, leading.zero = TRUE) ; HSV_df_backup_postprep -> HSV_df\n"
      ],
      "execution_count": null,
      "outputs": [
        {
          "output_type": "display_data",
          "data": {
            "text/plain": [
              "\n",
              "\tKruskal-Wallis rank sum test\n",
              "\n",
              "data:  URXUAS3 by ALQ101\n",
              "Kruskal-Wallis chi-squared = 0.087041, df = 1, p-value = 0.768\n"
            ]
          },
          "metadata": {}
        },
        {
          "output_type": "stream",
          "name": "stdout",
          "text": [
            "\n",
            "\n",
            "\n",
            " Numerical Summaries \n"
          ]
        },
        {
          "output_type": "display_data",
          "data": {
            "text/plain": [
              "  variable Count Mean      Min  Q1   Q2   Q3   Max  Sd       \n",
              "1 Yes      1272  0.5699607 0.08 0.13 0.52 0.82 3.59 0.4642852\n",
              "2 No        232  0.6125000 0.08 0.08 0.47 0.85 5.97 0.6391246"
            ],
            "text/latex": "A tibble: 2 × 9\n\\begin{tabular}{lllllllll}\n variable & Count & Mean & Min & Q1 & Q2 & Q3 & Max & Sd\\\\\n <fct> & <int> & <dbl> & <dbl> & <dbl> & <dbl> & <dbl> & <dbl> & <dbl>\\\\\n\\hline\n\t Yes & 1272 & 0.5699607 & 0.08 & 0.13 & 0.52 & 0.82 & 3.59 & 0.4642852\\\\\n\t No  &  232 & 0.6125000 & 0.08 & 0.08 & 0.47 & 0.85 & 5.97 & 0.6391246\\\\\n\\end{tabular}\n",
            "text/markdown": "\nA tibble: 2 × 9\n\n| variable &lt;fct&gt; | Count &lt;int&gt; | Mean &lt;dbl&gt; | Min &lt;dbl&gt; | Q1 &lt;dbl&gt; | Q2 &lt;dbl&gt; | Q3 &lt;dbl&gt; | Max &lt;dbl&gt; | Sd &lt;dbl&gt; |\n|---|---|---|---|---|---|---|---|---|\n| Yes | 1272 | 0.5699607 | 0.08 | 0.13 | 0.52 | 0.82 | 3.59 | 0.4642852 |\n| No  |  232 | 0.6125000 | 0.08 | 0.08 | 0.47 | 0.85 | 5.97 | 0.6391246 |\n\n",
            "text/html": [
              "<table class=\"dataframe\">\n",
              "<caption>A tibble: 2 × 9</caption>\n",
              "<thead>\n",
              "\t<tr><th scope=col>variable</th><th scope=col>Count</th><th scope=col>Mean</th><th scope=col>Min</th><th scope=col>Q1</th><th scope=col>Q2</th><th scope=col>Q3</th><th scope=col>Max</th><th scope=col>Sd</th></tr>\n",
              "\t<tr><th scope=col>&lt;fct&gt;</th><th scope=col>&lt;int&gt;</th><th scope=col>&lt;dbl&gt;</th><th scope=col>&lt;dbl&gt;</th><th scope=col>&lt;dbl&gt;</th><th scope=col>&lt;dbl&gt;</th><th scope=col>&lt;dbl&gt;</th><th scope=col>&lt;dbl&gt;</th><th scope=col>&lt;dbl&gt;</th></tr>\n",
              "</thead>\n",
              "<tbody>\n",
              "\t<tr><td>Yes</td><td>1272</td><td>0.5699607</td><td>0.08</td><td>0.13</td><td>0.52</td><td>0.82</td><td>3.59</td><td>0.4642852</td></tr>\n",
              "\t<tr><td>No </td><td> 232</td><td>0.6125000</td><td>0.08</td><td>0.08</td><td>0.47</td><td>0.85</td><td>5.97</td><td>0.6391246</td></tr>\n",
              "</tbody>\n",
              "</table>\n"
            ]
          },
          "metadata": {}
        },
        {
          "output_type": "stream",
          "name": "stdout",
          "text": [
            "\n",
            "\n",
            "\n",
            " Multiple Comparison \n"
          ]
        },
        {
          "output_type": "display_data",
          "data": {
            "text/plain": [
              "  .y.     group1 group2 n1   n2  statistic  p    p.adj p.adj.signif\n",
              "1 URXUAS3 Yes    No     1272 232 -0.2950267 0.77 0.77  ns          "
            ],
            "text/latex": "A rstatix\\_test: 1 × 9\n\\begin{tabular}{r|lllllllll}\n  & .y. & group1 & group2 & n1 & n2 & statistic & p & p.adj & p.adj.signif\\\\\n  & <chr> & <chr> & <chr> & <int> & <int> & <dbl> & <chr> & <chr> & <chr>\\\\\n\\hline\n\t1 & URXUAS3 & Yes & No & 1272 & 232 & -0.2950267 & 0.77 & 0.77 & ns\\\\\n\\end{tabular}\n",
            "text/markdown": "\nA rstatix_test: 1 × 9\n\n| <!--/--> | .y. &lt;chr&gt; | group1 &lt;chr&gt; | group2 &lt;chr&gt; | n1 &lt;int&gt; | n2 &lt;int&gt; | statistic &lt;dbl&gt; | p &lt;chr&gt; | p.adj &lt;chr&gt; | p.adj.signif &lt;chr&gt; |\n|---|---|---|---|---|---|---|---|---|---|\n| 1 | URXUAS3 | Yes | No | 1272 | 232 | -0.2950267 | 0.77 | 0.77 | ns |\n\n",
            "text/html": [
              "<table class=\"dataframe\">\n",
              "<caption>A rstatix_test: 1 × 9</caption>\n",
              "<thead>\n",
              "\t<tr><th></th><th scope=col>.y.</th><th scope=col>group1</th><th scope=col>group2</th><th scope=col>n1</th><th scope=col>n2</th><th scope=col>statistic</th><th scope=col>p</th><th scope=col>p.adj</th><th scope=col>p.adj.signif</th></tr>\n",
              "\t<tr><th></th><th scope=col>&lt;chr&gt;</th><th scope=col>&lt;chr&gt;</th><th scope=col>&lt;chr&gt;</th><th scope=col>&lt;int&gt;</th><th scope=col>&lt;int&gt;</th><th scope=col>&lt;dbl&gt;</th><th scope=col>&lt;chr&gt;</th><th scope=col>&lt;chr&gt;</th><th scope=col>&lt;chr&gt;</th></tr>\n",
              "</thead>\n",
              "<tbody>\n",
              "\t<tr><th scope=row>1</th><td>URXUAS3</td><td>Yes</td><td>No</td><td>1272</td><td>232</td><td>-0.2950267</td><td>0.77</td><td>0.77</td><td>ns</td></tr>\n",
              "</tbody>\n",
              "</table>\n"
            ]
          },
          "metadata": {}
        }
      ]
    },
    {
      "cell_type": "markdown",
      "metadata": {
        "id": "CnHbx3HAUl7A"
      },
      "source": [
        "**Cotinine**"
      ]
    },
    {
      "cell_type": "code",
      "metadata": {
        "id": "fippqzqj40ew",
        "colab": {
          "base_uri": "https://localhost:8080/",
          "height": 499
        },
        "outputId": "cc3a4e8a-9c55-4464-f340-550ea6705f5b"
      },
      "source": [
        "HSV_df_backup_postprep -> HSV_df\n",
        "\n",
        "HSV_df %<>% select(URXUAS3, LBDCOTLC) %>% filter(URXUAS3 != 'NA') %>% filter(LBDCOTLC != 'NA')\n",
        "\n",
        "# kruskal wallis test\n",
        "kruskal.test(URXUAS3~ LBDCOTLC , data = HSV_df) \n",
        "\n",
        "cat(\"\\n\\n\")\n",
        "\n",
        "cat(\"\\n Numerical Summaries \\n\")\n",
        "# numerical summary\n",
        "HSV_df %$% num_summary(URXUAS3, LBDCOTLC) \n",
        "\n",
        "cat(\"\\n\\n\")\n",
        "\n",
        "cat(\"\\n Multiple Comparison \\n\")\n",
        "# multiple comparison\n",
        "dunn_test(URXUAS3~ LBDCOTLC , data = HSV_df, p.adjust.method = \"fdr\") %>%\n",
        "p_format(digits = 2, leading.zero = TRUE) ; HSV_df_backup_postprep -> HSV_df\n"
      ],
      "execution_count": null,
      "outputs": [
        {
          "output_type": "display_data",
          "data": {
            "text/plain": [
              "\n",
              "\tKruskal-Wallis rank sum test\n",
              "\n",
              "data:  URXUAS3 by LBDCOTLC\n",
              "Kruskal-Wallis chi-squared = 3.5924, df = 1, p-value = 0.05804\n"
            ]
          },
          "metadata": {}
        },
        {
          "output_type": "stream",
          "name": "stdout",
          "text": [
            "\n",
            "\n",
            "\n",
            " Numerical Summaries \n"
          ]
        },
        {
          "output_type": "display_data",
          "data": {
            "text/plain": [
              "  variable    Count Mean      Min  Q1   Q2   Q3   Max  Sd       \n",
              "1 Above limit 1301  0.5846272 0.08 0.15 0.53 0.84 5.97 0.4907386\n",
              "2 Below Limit  246  0.5354878 0.08 0.08 0.47 0.79 2.99 0.4863370"
            ],
            "text/latex": "A tibble: 2 × 9\n\\begin{tabular}{lllllllll}\n variable & Count & Mean & Min & Q1 & Q2 & Q3 & Max & Sd\\\\\n <fct> & <int> & <dbl> & <dbl> & <dbl> & <dbl> & <dbl> & <dbl> & <dbl>\\\\\n\\hline\n\t Above limit & 1301 & 0.5846272 & 0.08 & 0.15 & 0.53 & 0.84 & 5.97 & 0.4907386\\\\\n\t Below Limit &  246 & 0.5354878 & 0.08 & 0.08 & 0.47 & 0.79 & 2.99 & 0.4863370\\\\\n\\end{tabular}\n",
            "text/markdown": "\nA tibble: 2 × 9\n\n| variable &lt;fct&gt; | Count &lt;int&gt; | Mean &lt;dbl&gt; | Min &lt;dbl&gt; | Q1 &lt;dbl&gt; | Q2 &lt;dbl&gt; | Q3 &lt;dbl&gt; | Max &lt;dbl&gt; | Sd &lt;dbl&gt; |\n|---|---|---|---|---|---|---|---|---|\n| Above limit | 1301 | 0.5846272 | 0.08 | 0.15 | 0.53 | 0.84 | 5.97 | 0.4907386 |\n| Below Limit |  246 | 0.5354878 | 0.08 | 0.08 | 0.47 | 0.79 | 2.99 | 0.4863370 |\n\n",
            "text/html": [
              "<table class=\"dataframe\">\n",
              "<caption>A tibble: 2 × 9</caption>\n",
              "<thead>\n",
              "\t<tr><th scope=col>variable</th><th scope=col>Count</th><th scope=col>Mean</th><th scope=col>Min</th><th scope=col>Q1</th><th scope=col>Q2</th><th scope=col>Q3</th><th scope=col>Max</th><th scope=col>Sd</th></tr>\n",
              "\t<tr><th scope=col>&lt;fct&gt;</th><th scope=col>&lt;int&gt;</th><th scope=col>&lt;dbl&gt;</th><th scope=col>&lt;dbl&gt;</th><th scope=col>&lt;dbl&gt;</th><th scope=col>&lt;dbl&gt;</th><th scope=col>&lt;dbl&gt;</th><th scope=col>&lt;dbl&gt;</th><th scope=col>&lt;dbl&gt;</th></tr>\n",
              "</thead>\n",
              "<tbody>\n",
              "\t<tr><td>Above limit</td><td>1301</td><td>0.5846272</td><td>0.08</td><td>0.15</td><td>0.53</td><td>0.84</td><td>5.97</td><td>0.4907386</td></tr>\n",
              "\t<tr><td>Below Limit</td><td> 246</td><td>0.5354878</td><td>0.08</td><td>0.08</td><td>0.47</td><td>0.79</td><td>2.99</td><td>0.4863370</td></tr>\n",
              "</tbody>\n",
              "</table>\n"
            ]
          },
          "metadata": {}
        },
        {
          "output_type": "stream",
          "name": "stdout",
          "text": [
            "\n",
            "\n",
            "\n",
            " Multiple Comparison \n"
          ]
        },
        {
          "output_type": "display_data",
          "data": {
            "text/plain": [
              "  .y.     group1      group2      n1   n2  statistic p     p.adj p.adj.signif\n",
              "1 URXUAS3 Above limit Below Limit 1301 246 -1.895363 0.058 0.058 ns          "
            ],
            "text/latex": "A rstatix\\_test: 1 × 9\n\\begin{tabular}{r|lllllllll}\n  & .y. & group1 & group2 & n1 & n2 & statistic & p & p.adj & p.adj.signif\\\\\n  & <chr> & <chr> & <chr> & <int> & <int> & <dbl> & <chr> & <chr> & <chr>\\\\\n\\hline\n\t1 & URXUAS3 & Above limit & Below Limit & 1301 & 246 & -1.895363 & 0.058 & 0.058 & ns\\\\\n\\end{tabular}\n",
            "text/markdown": "\nA rstatix_test: 1 × 9\n\n| <!--/--> | .y. &lt;chr&gt; | group1 &lt;chr&gt; | group2 &lt;chr&gt; | n1 &lt;int&gt; | n2 &lt;int&gt; | statistic &lt;dbl&gt; | p &lt;chr&gt; | p.adj &lt;chr&gt; | p.adj.signif &lt;chr&gt; |\n|---|---|---|---|---|---|---|---|---|---|\n| 1 | URXUAS3 | Above limit | Below Limit | 1301 | 246 | -1.895363 | 0.058 | 0.058 | ns |\n\n",
            "text/html": [
              "<table class=\"dataframe\">\n",
              "<caption>A rstatix_test: 1 × 9</caption>\n",
              "<thead>\n",
              "\t<tr><th></th><th scope=col>.y.</th><th scope=col>group1</th><th scope=col>group2</th><th scope=col>n1</th><th scope=col>n2</th><th scope=col>statistic</th><th scope=col>p</th><th scope=col>p.adj</th><th scope=col>p.adj.signif</th></tr>\n",
              "\t<tr><th></th><th scope=col>&lt;chr&gt;</th><th scope=col>&lt;chr&gt;</th><th scope=col>&lt;chr&gt;</th><th scope=col>&lt;int&gt;</th><th scope=col>&lt;int&gt;</th><th scope=col>&lt;dbl&gt;</th><th scope=col>&lt;chr&gt;</th><th scope=col>&lt;chr&gt;</th><th scope=col>&lt;chr&gt;</th></tr>\n",
              "</thead>\n",
              "<tbody>\n",
              "\t<tr><th scope=row>1</th><td>URXUAS3</td><td>Above limit</td><td>Below Limit</td><td>1301</td><td>246</td><td>-1.895363</td><td>0.058</td><td>0.058</td><td>ns</td></tr>\n",
              "</tbody>\n",
              "</table>\n"
            ]
          },
          "metadata": {}
        }
      ]
    },
    {
      "cell_type": "markdown",
      "metadata": {
        "id": "eSBt5qZeoNBZ"
      },
      "source": [
        "### **Arsenic 2(URXUAS5 Urinary Arsenic acid (ug/L))**"
      ]
    },
    {
      "cell_type": "markdown",
      "metadata": {
        "id": "5U6NaYwaZCy_"
      },
      "source": [
        "At alpha level of 0.05, for Urinary Arsenic acid (ug/L), there is statistical significance for **education**.\n",
        "\n",
        "There is no statistical significance for  marital status, ethnicity, alcohol and cotinine and poverty index ratio."
      ]
    },
    {
      "cell_type": "markdown",
      "metadata": {
        "id": "OFZ80PaYVBml"
      },
      "source": [
        "**BMI**"
      ]
    },
    {
      "cell_type": "code",
      "metadata": {
        "id": "iBAC-8aZolXf",
        "colab": {
          "base_uri": "https://localhost:8080/",
          "height": 104
        },
        "outputId": "12988bbb-4775-4357-da43-313d2720398f"
      },
      "source": [
        "# BMI Categorical\n",
        "kruskal.test(URXUAS5~ BMI.f , data = HSV_df) "
      ],
      "execution_count": null,
      "outputs": [
        {
          "output_type": "display_data",
          "data": {
            "text/plain": [
              "\n",
              "\tKruskal-Wallis rank sum test\n",
              "\n",
              "data:  URXUAS5 by BMI.f\n",
              "Kruskal-Wallis chi-squared = 3.4294, df = 3, p-value = 0.33\n"
            ]
          },
          "metadata": {}
        }
      ]
    },
    {
      "cell_type": "markdown",
      "metadata": {
        "id": "x8b-ShBWVD3x"
      },
      "source": [
        "**Education**"
      ]
    },
    {
      "cell_type": "code",
      "metadata": {
        "id": "mxqG2Kw141s7",
        "colab": {
          "base_uri": "https://localhost:8080/",
          "height": 875
        },
        "outputId": "776da1b8-7089-412e-eecc-0ae0e394c2e6"
      },
      "source": [
        "HSV_df_backup_postprep -> HSV_df\n",
        "\n",
        "HSV_df %<>% select(URXUAS5, DMDEDUC2) %>% filter(URXUAS5 != 'NA') %>% filter(DMDEDUC2 != 'NA')\n",
        "\n",
        "# kruskal wallis test\n",
        "kruskal.test(URXUAS5~ DMDEDUC2 , data = HSV_df) \n",
        "\n",
        "cat(\"\\n\\n\")\n",
        "\n",
        "cat(\"\\n Numerical Summaries \\n\")\n",
        "# numerical summary\n",
        "HSV_df %$% num_summary(URXUAS5, DMDEDUC2) \n",
        "\n",
        "cat(\"\\n\\n\")\n",
        "\n",
        "cat(\"\\n Multiple Comparison \\n\")\n",
        "# multiple comparison\n",
        "dunn_test(URXUAS5~ DMDEDUC2 , data = HSV_df, p.adjust.method = \"fdr\") %>%\n",
        "p_format(digits = 2, leading.zero = TRUE) ; HSV_df_backup_postprep -> HSV_df"
      ],
      "execution_count": null,
      "outputs": [
        {
          "output_type": "display_data",
          "data": {
            "text/plain": [
              "\n",
              "\tKruskal-Wallis rank sum test\n",
              "\n",
              "data:  URXUAS5 by DMDEDUC2\n",
              "Kruskal-Wallis chi-squared = 14.328, df = 4, p-value = 0.006318\n"
            ]
          },
          "metadata": {}
        },
        {
          "output_type": "stream",
          "name": "stdout",
          "text": [
            "\n",
            "\n",
            "\n",
            " Numerical Summaries \n"
          ]
        },
        {
          "output_type": "display_data",
          "data": {
            "text/plain": [
              "  variable           Count Mean      Min  Q1   Q2   Q3   Max  Sd        \n",
              "1 Below 9th Grade    115   0.5746087 0.56 0.56 0.56 0.56 1.36 0.09535057\n",
              "2 9-11 Grade         250   0.5790800 0.56 0.56 0.56 0.56 1.90 0.11636200\n",
              "3 HS or GED          397   0.5868262 0.56 0.56 0.56 0.56 1.56 0.12471787\n",
              "4 Some College or AA 448   0.5683705 0.56 0.56 0.56 0.56 1.88 0.08137123\n",
              "5 Graduate           319   0.5956426 0.56 0.56 0.56 0.56 8.02 0.44193771"
            ],
            "text/latex": "A tibble: 5 × 9\n\\begin{tabular}{lllllllll}\n variable & Count & Mean & Min & Q1 & Q2 & Q3 & Max & Sd\\\\\n <fct> & <int> & <dbl> & <dbl> & <dbl> & <dbl> & <dbl> & <dbl> & <dbl>\\\\\n\\hline\n\t Below 9th Grade    & 115 & 0.5746087 & 0.56 & 0.56 & 0.56 & 0.56 & 1.36 & 0.09535057\\\\\n\t 9-11 Grade         & 250 & 0.5790800 & 0.56 & 0.56 & 0.56 & 0.56 & 1.90 & 0.11636200\\\\\n\t HS or GED          & 397 & 0.5868262 & 0.56 & 0.56 & 0.56 & 0.56 & 1.56 & 0.12471787\\\\\n\t Some College or AA & 448 & 0.5683705 & 0.56 & 0.56 & 0.56 & 0.56 & 1.88 & 0.08137123\\\\\n\t Graduate           & 319 & 0.5956426 & 0.56 & 0.56 & 0.56 & 0.56 & 8.02 & 0.44193771\\\\\n\\end{tabular}\n",
            "text/markdown": "\nA tibble: 5 × 9\n\n| variable &lt;fct&gt; | Count &lt;int&gt; | Mean &lt;dbl&gt; | Min &lt;dbl&gt; | Q1 &lt;dbl&gt; | Q2 &lt;dbl&gt; | Q3 &lt;dbl&gt; | Max &lt;dbl&gt; | Sd &lt;dbl&gt; |\n|---|---|---|---|---|---|---|---|---|\n| Below 9th Grade    | 115 | 0.5746087 | 0.56 | 0.56 | 0.56 | 0.56 | 1.36 | 0.09535057 |\n| 9-11 Grade         | 250 | 0.5790800 | 0.56 | 0.56 | 0.56 | 0.56 | 1.90 | 0.11636200 |\n| HS or GED          | 397 | 0.5868262 | 0.56 | 0.56 | 0.56 | 0.56 | 1.56 | 0.12471787 |\n| Some College or AA | 448 | 0.5683705 | 0.56 | 0.56 | 0.56 | 0.56 | 1.88 | 0.08137123 |\n| Graduate           | 319 | 0.5956426 | 0.56 | 0.56 | 0.56 | 0.56 | 8.02 | 0.44193771 |\n\n",
            "text/html": [
              "<table class=\"dataframe\">\n",
              "<caption>A tibble: 5 × 9</caption>\n",
              "<thead>\n",
              "\t<tr><th scope=col>variable</th><th scope=col>Count</th><th scope=col>Mean</th><th scope=col>Min</th><th scope=col>Q1</th><th scope=col>Q2</th><th scope=col>Q3</th><th scope=col>Max</th><th scope=col>Sd</th></tr>\n",
              "\t<tr><th scope=col>&lt;fct&gt;</th><th scope=col>&lt;int&gt;</th><th scope=col>&lt;dbl&gt;</th><th scope=col>&lt;dbl&gt;</th><th scope=col>&lt;dbl&gt;</th><th scope=col>&lt;dbl&gt;</th><th scope=col>&lt;dbl&gt;</th><th scope=col>&lt;dbl&gt;</th><th scope=col>&lt;dbl&gt;</th></tr>\n",
              "</thead>\n",
              "<tbody>\n",
              "\t<tr><td>Below 9th Grade   </td><td>115</td><td>0.5746087</td><td>0.56</td><td>0.56</td><td>0.56</td><td>0.56</td><td>1.36</td><td>0.09535057</td></tr>\n",
              "\t<tr><td>9-11 Grade        </td><td>250</td><td>0.5790800</td><td>0.56</td><td>0.56</td><td>0.56</td><td>0.56</td><td>1.90</td><td>0.11636200</td></tr>\n",
              "\t<tr><td>HS or GED         </td><td>397</td><td>0.5868262</td><td>0.56</td><td>0.56</td><td>0.56</td><td>0.56</td><td>1.56</td><td>0.12471787</td></tr>\n",
              "\t<tr><td>Some College or AA</td><td>448</td><td>0.5683705</td><td>0.56</td><td>0.56</td><td>0.56</td><td>0.56</td><td>1.88</td><td>0.08137123</td></tr>\n",
              "\t<tr><td>Graduate          </td><td>319</td><td>0.5956426</td><td>0.56</td><td>0.56</td><td>0.56</td><td>0.56</td><td>8.02</td><td>0.44193771</td></tr>\n",
              "</tbody>\n",
              "</table>\n"
            ]
          },
          "metadata": {}
        },
        {
          "output_type": "stream",
          "name": "stdout",
          "text": [
            "\n",
            "\n",
            "\n",
            " Multiple Comparison \n"
          ]
        },
        {
          "output_type": "display_data",
          "data": {
            "text/plain": [
              "   .y.     group1             group2             n1  n2  statistic  p      \n",
              "1  URXUAS5 Below 9th Grade    9-11 Grade         115 250  0.5157253 0.60605\n",
              "2  URXUAS5 Below 9th Grade    HS or GED          115 397  1.5028832 0.13287\n",
              "3  URXUAS5 Below 9th Grade    Some College or AA 115 448 -0.7270866 0.46717\n",
              "4  URXUAS5 Below 9th Grade    Graduate           115 319 -0.5675717 0.57033\n",
              "5  URXUAS5 9-11 Grade         HS or GED          250 397  1.2514805 0.21076\n",
              "6  URXUAS5 9-11 Grade         Some College or AA 250 448 -1.6988784 0.08934\n",
              "7  URXUAS5 9-11 Grade         Graduate           250 319 -1.4188011 0.15596\n",
              "8  URXUAS5 HS or GED          Some College or AA 397 448 -3.4116917 0.00065\n",
              "9  URXUAS5 HS or GED          Graduate           397 319 -2.9376783 0.00331\n",
              "10 URXUAS5 Some College or AA Graduate           448 319  0.1948314 0.84552\n",
              "   p.adj  p.adj.signif\n",
              "1  0.6734 ns          \n",
              "2  0.3119 ns          \n",
              "3  0.6674 ns          \n",
              "4  0.6734 ns          \n",
              "5  0.3513 ns          \n",
              "6  0.2978 ns          \n",
              "7  0.3119 ns          \n",
              "8  0.0065 **          \n",
              "9  0.0165 *           \n",
              "10 0.8455 ns          "
            ],
            "text/latex": "A rstatix\\_test: 10 × 9\n\\begin{tabular}{r|lllllllll}\n  & .y. & group1 & group2 & n1 & n2 & statistic & p & p.adj & p.adj.signif\\\\\n  & <chr> & <chr> & <chr> & <int> & <int> & <dbl> & <chr> & <chr> & <chr>\\\\\n\\hline\n\t1 & URXUAS5 & Below 9th Grade    & 9-11 Grade         & 115 & 250 &  0.5157253 & 0.60605 & 0.6734 & ns\\\\\n\t2 & URXUAS5 & Below 9th Grade    & HS or GED          & 115 & 397 &  1.5028832 & 0.13287 & 0.3119 & ns\\\\\n\t3 & URXUAS5 & Below 9th Grade    & Some College or AA & 115 & 448 & -0.7270866 & 0.46717 & 0.6674 & ns\\\\\n\t4 & URXUAS5 & Below 9th Grade    & Graduate           & 115 & 319 & -0.5675717 & 0.57033 & 0.6734 & ns\\\\\n\t5 & URXUAS5 & 9-11 Grade         & HS or GED          & 250 & 397 &  1.2514805 & 0.21076 & 0.3513 & ns\\\\\n\t6 & URXUAS5 & 9-11 Grade         & Some College or AA & 250 & 448 & -1.6988784 & 0.08934 & 0.2978 & ns\\\\\n\t7 & URXUAS5 & 9-11 Grade         & Graduate           & 250 & 319 & -1.4188011 & 0.15596 & 0.3119 & ns\\\\\n\t8 & URXUAS5 & HS or GED          & Some College or AA & 397 & 448 & -3.4116917 & 0.00065 & 0.0065 & **\\\\\n\t9 & URXUAS5 & HS or GED          & Graduate           & 397 & 319 & -2.9376783 & 0.00331 & 0.0165 & * \\\\\n\t10 & URXUAS5 & Some College or AA & Graduate           & 448 & 319 &  0.1948314 & 0.84552 & 0.8455 & ns\\\\\n\\end{tabular}\n",
            "text/markdown": "\nA rstatix_test: 10 × 9\n\n| <!--/--> | .y. &lt;chr&gt; | group1 &lt;chr&gt; | group2 &lt;chr&gt; | n1 &lt;int&gt; | n2 &lt;int&gt; | statistic &lt;dbl&gt; | p &lt;chr&gt; | p.adj &lt;chr&gt; | p.adj.signif &lt;chr&gt; |\n|---|---|---|---|---|---|---|---|---|---|\n| 1 | URXUAS5 | Below 9th Grade    | 9-11 Grade         | 115 | 250 |  0.5157253 | 0.60605 | 0.6734 | ns |\n| 2 | URXUAS5 | Below 9th Grade    | HS or GED          | 115 | 397 |  1.5028832 | 0.13287 | 0.3119 | ns |\n| 3 | URXUAS5 | Below 9th Grade    | Some College or AA | 115 | 448 | -0.7270866 | 0.46717 | 0.6674 | ns |\n| 4 | URXUAS5 | Below 9th Grade    | Graduate           | 115 | 319 | -0.5675717 | 0.57033 | 0.6734 | ns |\n| 5 | URXUAS5 | 9-11 Grade         | HS or GED          | 250 | 397 |  1.2514805 | 0.21076 | 0.3513 | ns |\n| 6 | URXUAS5 | 9-11 Grade         | Some College or AA | 250 | 448 | -1.6988784 | 0.08934 | 0.2978 | ns |\n| 7 | URXUAS5 | 9-11 Grade         | Graduate           | 250 | 319 | -1.4188011 | 0.15596 | 0.3119 | ns |\n| 8 | URXUAS5 | HS or GED          | Some College or AA | 397 | 448 | -3.4116917 | 0.00065 | 0.0065 | ** |\n| 9 | URXUAS5 | HS or GED          | Graduate           | 397 | 319 | -2.9376783 | 0.00331 | 0.0165 | *  |\n| 10 | URXUAS5 | Some College or AA | Graduate           | 448 | 319 |  0.1948314 | 0.84552 | 0.8455 | ns |\n\n",
            "text/html": [
              "<table class=\"dataframe\">\n",
              "<caption>A rstatix_test: 10 × 9</caption>\n",
              "<thead>\n",
              "\t<tr><th></th><th scope=col>.y.</th><th scope=col>group1</th><th scope=col>group2</th><th scope=col>n1</th><th scope=col>n2</th><th scope=col>statistic</th><th scope=col>p</th><th scope=col>p.adj</th><th scope=col>p.adj.signif</th></tr>\n",
              "\t<tr><th></th><th scope=col>&lt;chr&gt;</th><th scope=col>&lt;chr&gt;</th><th scope=col>&lt;chr&gt;</th><th scope=col>&lt;int&gt;</th><th scope=col>&lt;int&gt;</th><th scope=col>&lt;dbl&gt;</th><th scope=col>&lt;chr&gt;</th><th scope=col>&lt;chr&gt;</th><th scope=col>&lt;chr&gt;</th></tr>\n",
              "</thead>\n",
              "<tbody>\n",
              "\t<tr><th scope=row>1</th><td>URXUAS5</td><td>Below 9th Grade   </td><td>9-11 Grade        </td><td>115</td><td>250</td><td> 0.5157253</td><td>0.60605</td><td>0.6734</td><td>ns</td></tr>\n",
              "\t<tr><th scope=row>2</th><td>URXUAS5</td><td>Below 9th Grade   </td><td>HS or GED         </td><td>115</td><td>397</td><td> 1.5028832</td><td>0.13287</td><td>0.3119</td><td>ns</td></tr>\n",
              "\t<tr><th scope=row>3</th><td>URXUAS5</td><td>Below 9th Grade   </td><td>Some College or AA</td><td>115</td><td>448</td><td>-0.7270866</td><td>0.46717</td><td>0.6674</td><td>ns</td></tr>\n",
              "\t<tr><th scope=row>4</th><td>URXUAS5</td><td>Below 9th Grade   </td><td>Graduate          </td><td>115</td><td>319</td><td>-0.5675717</td><td>0.57033</td><td>0.6734</td><td>ns</td></tr>\n",
              "\t<tr><th scope=row>5</th><td>URXUAS5</td><td>9-11 Grade        </td><td>HS or GED         </td><td>250</td><td>397</td><td> 1.2514805</td><td>0.21076</td><td>0.3513</td><td>ns</td></tr>\n",
              "\t<tr><th scope=row>6</th><td>URXUAS5</td><td>9-11 Grade        </td><td>Some College or AA</td><td>250</td><td>448</td><td>-1.6988784</td><td>0.08934</td><td>0.2978</td><td>ns</td></tr>\n",
              "\t<tr><th scope=row>7</th><td>URXUAS5</td><td>9-11 Grade        </td><td>Graduate          </td><td>250</td><td>319</td><td>-1.4188011</td><td>0.15596</td><td>0.3119</td><td>ns</td></tr>\n",
              "\t<tr><th scope=row>8</th><td>URXUAS5</td><td>HS or GED         </td><td>Some College or AA</td><td>397</td><td>448</td><td>-3.4116917</td><td>0.00065</td><td>0.0065</td><td>**</td></tr>\n",
              "\t<tr><th scope=row>9</th><td>URXUAS5</td><td>HS or GED         </td><td>Graduate          </td><td>397</td><td>319</td><td>-2.9376783</td><td>0.00331</td><td>0.0165</td><td>* </td></tr>\n",
              "\t<tr><th scope=row>10</th><td>URXUAS5</td><td>Some College or AA</td><td>Graduate          </td><td>448</td><td>319</td><td> 0.1948314</td><td>0.84552</td><td>0.8455</td><td>ns</td></tr>\n",
              "</tbody>\n",
              "</table>\n"
            ]
          },
          "metadata": {}
        }
      ]
    },
    {
      "cell_type": "markdown",
      "metadata": {
        "id": "rhIcV3eyVGpt"
      },
      "source": [
        "**Marital Status**"
      ]
    },
    {
      "cell_type": "code",
      "metadata": {
        "id": "6EC0-ARh44vg",
        "colab": {
          "base_uri": "https://localhost:8080/",
          "height": 104
        },
        "outputId": "8ff3420c-5b75-4c4d-b715-4196ba51fea2"
      },
      "source": [
        "\n",
        "# Marital Status\n",
        "kruskal.test(URXUAS5~ DMDMARTL , data = HSV_df) "
      ],
      "execution_count": null,
      "outputs": [
        {
          "output_type": "display_data",
          "data": {
            "text/plain": [
              "\n",
              "\tKruskal-Wallis rank sum test\n",
              "\n",
              "data:  URXUAS5 by DMDMARTL\n",
              "Kruskal-Wallis chi-squared = 4.4223, df = 5, p-value = 0.4904\n"
            ]
          },
          "metadata": {}
        }
      ]
    },
    {
      "cell_type": "markdown",
      "metadata": {
        "id": "Ph82kPe2VMRa"
      },
      "source": [
        "**Race**"
      ]
    },
    {
      "cell_type": "code",
      "metadata": {
        "id": "irYB0ulC45cQ",
        "colab": {
          "base_uri": "https://localhost:8080/",
          "height": 104
        },
        "outputId": "c45cbeec-eacb-4713-aa5a-b13453709695"
      },
      "source": [
        "\n",
        "# Race\n",
        "kruskal.test(URXUAS5~ RIDRETH1 , data = HSV_df)"
      ],
      "execution_count": null,
      "outputs": [
        {
          "output_type": "display_data",
          "data": {
            "text/plain": [
              "\n",
              "\tKruskal-Wallis rank sum test\n",
              "\n",
              "data:  URXUAS5 by RIDRETH1\n",
              "Kruskal-Wallis chi-squared = 4.3248, df = 4, p-value = 0.3638\n"
            ]
          },
          "metadata": {}
        }
      ]
    },
    {
      "cell_type": "markdown",
      "metadata": {
        "id": "60eSxa9tVPSg"
      },
      "source": [
        "**Poverty Income Ratio**"
      ]
    },
    {
      "cell_type": "code",
      "metadata": {
        "id": "7l_g5RLI46O5",
        "colab": {
          "base_uri": "https://localhost:8080/",
          "height": 104
        },
        "outputId": "19b4a81d-e1f0-43aa-cbbd-72896fb6e6fb"
      },
      "source": [
        "\n",
        "# Poverty Income Ratio\n",
        "kruskal.test(URXUAS5~ PIR , data = HSV_df)"
      ],
      "execution_count": null,
      "outputs": [
        {
          "output_type": "display_data",
          "data": {
            "text/plain": [
              "\n",
              "\tKruskal-Wallis rank sum test\n",
              "\n",
              "data:  URXUAS5 by PIR\n",
              "Kruskal-Wallis chi-squared = 0.043624, df = 2, p-value = 0.9784\n"
            ]
          },
          "metadata": {}
        }
      ]
    },
    {
      "cell_type": "markdown",
      "metadata": {
        "id": "qoX_528nVSQO"
      },
      "source": [
        "**Alcohol**"
      ]
    },
    {
      "cell_type": "code",
      "metadata": {
        "id": "3pf5cbnx460D",
        "colab": {
          "base_uri": "https://localhost:8080/",
          "height": 104
        },
        "outputId": "fcf2a4c5-d275-4360-f94d-583d8079fee2"
      },
      "source": [
        "\n",
        "# Alcohol\n",
        "kruskal.test(URXUAS5~ ALQ101 , data = HSV_df)"
      ],
      "execution_count": null,
      "outputs": [
        {
          "output_type": "display_data",
          "data": {
            "text/plain": [
              "\n",
              "\tKruskal-Wallis rank sum test\n",
              "\n",
              "data:  URXUAS5 by ALQ101\n",
              "Kruskal-Wallis chi-squared = 3.2222, df = 1, p-value = 0.07265\n"
            ]
          },
          "metadata": {}
        }
      ]
    },
    {
      "cell_type": "markdown",
      "metadata": {
        "id": "A8dePdksVU86"
      },
      "source": [
        "**Cotinine**"
      ]
    },
    {
      "cell_type": "code",
      "metadata": {
        "id": "vRGvtvai47YY",
        "colab": {
          "base_uri": "https://localhost:8080/",
          "height": 104
        },
        "outputId": "7de22ecc-fcc1-4b18-9a45-066937e52099"
      },
      "source": [
        "\n",
        "# Cotinine\n",
        "kruskal.test(URXUAS5~ LBDCOTLC , data = HSV_df)"
      ],
      "execution_count": null,
      "outputs": [
        {
          "output_type": "display_data",
          "data": {
            "text/plain": [
              "\n",
              "\tKruskal-Wallis rank sum test\n",
              "\n",
              "data:  URXUAS5 by LBDCOTLC\n",
              "Kruskal-Wallis chi-squared = 0.23953, df = 1, p-value = 0.6245\n"
            ]
          },
          "metadata": {}
        }
      ]
    },
    {
      "cell_type": "markdown",
      "metadata": {
        "id": "aBv8xgVjoQXA"
      },
      "source": [
        "###  **Arsenic 3 (URXUAB: Urinary Arsenobetaine (ug/L))**\n",
        "\n",
        "At alpha level of 0.05, for Urinary Arsenobetaine (ug/L), there is statistical significance for **education, marital status, race, poverty index ratio, alcohol.**\n",
        "\n",
        "There is no statistical significance for BMI and cotinine."
      ]
    },
    {
      "cell_type": "markdown",
      "metadata": {
        "id": "Ab0_mFhAVaQp"
      },
      "source": [
        "**BMI**"
      ]
    },
    {
      "cell_type": "code",
      "metadata": {
        "id": "R7w0c4dIomj_",
        "colab": {
          "base_uri": "https://localhost:8080/",
          "height": 104
        },
        "outputId": "1bd3ffaf-42b8-4c25-f141-447b242120be"
      },
      "source": [
        "# BMI Categorical\n",
        "kruskal.test(URXUAB~ BMI.f , data = HSV_df) "
      ],
      "execution_count": null,
      "outputs": [
        {
          "output_type": "display_data",
          "data": {
            "text/plain": [
              "\n",
              "\tKruskal-Wallis rank sum test\n",
              "\n",
              "data:  URXUAB by BMI.f\n",
              "Kruskal-Wallis chi-squared = 3.5819, df = 3, p-value = 0.3103\n"
            ]
          },
          "metadata": {}
        }
      ]
    },
    {
      "cell_type": "markdown",
      "metadata": {
        "id": "JPqCqrJnVfX9"
      },
      "source": [
        "**Education**"
      ]
    },
    {
      "cell_type": "code",
      "metadata": {
        "id": "ds7t-g1J49qk",
        "colab": {
          "base_uri": "https://localhost:8080/",
          "height": 875
        },
        "outputId": "a821673f-2194-4a93-c07c-e1bd5d49954b"
      },
      "source": [
        "HSV_df_backup_postprep -> HSV_df\n",
        "\n",
        "HSV_df %<>% select(URXUAB, DMDEDUC2) %>% filter(URXUAB != 'NA') %>% filter(DMDEDUC2 != 'NA')\n",
        "\n",
        "# kruskal wallis test\n",
        "kruskal.test(URXUAB~ DMDEDUC2 , data = HSV_df) \n",
        "\n",
        "cat(\"\\n\\n\")\n",
        "\n",
        "cat(\"\\n Numerical Summaries \\n\")\n",
        "# numerical summary\n",
        "HSV_df %$% num_summary(URXUAB, DMDEDUC2) \n",
        "\n",
        "cat(\"\\n\\n\")\n",
        "\n",
        "cat(\"\\n Multiple Comparison \\n\")\n",
        "# multiple comparison\n",
        "dunn_test(URXUAB~ DMDEDUC2 , data = HSV_df, p.adjust.method = \"fdr\") %>%\n",
        "p_format(digits = 2, leading.zero = TRUE) ; HSV_df_backup_postprep -> HSV_df\n",
        "\n"
      ],
      "execution_count": null,
      "outputs": [
        {
          "output_type": "display_data",
          "data": {
            "text/plain": [
              "\n",
              "\tKruskal-Wallis rank sum test\n",
              "\n",
              "data:  URXUAB by DMDEDUC2\n",
              "Kruskal-Wallis chi-squared = 9.2923, df = 4, p-value = 0.05419\n"
            ]
          },
          "metadata": {}
        },
        {
          "output_type": "stream",
          "name": "stdout",
          "text": [
            "\n",
            "\n",
            "\n",
            " Numerical Summaries \n"
          ]
        },
        {
          "output_type": "display_data",
          "data": {
            "text/plain": [
              "  variable           Count Mean     Min  Q1   Q2   Q3     Max    Sd      \n",
              "1 Below 9th Grade    115   8.336435 0.82 0.82 0.82 4.3100 146.86 23.00711\n",
              "2 9-11 Grade         250   5.760680 0.82 0.82 0.82 3.8725 194.64 18.64989\n",
              "3 HS or GED          397   7.225214 0.82 0.82 0.82 4.2700 294.16 21.16326\n",
              "4 Some College or AA 448   8.644018 0.82 0.82 0.82 3.8625 749.00 39.98897\n",
              "5 Graduate           319   9.048370 0.82 0.82 1.53 6.8750 233.40 25.46837"
            ],
            "text/latex": "A tibble: 5 × 9\n\\begin{tabular}{lllllllll}\n variable & Count & Mean & Min & Q1 & Q2 & Q3 & Max & Sd\\\\\n <fct> & <int> & <dbl> & <dbl> & <dbl> & <dbl> & <dbl> & <dbl> & <dbl>\\\\\n\\hline\n\t Below 9th Grade    & 115 & 8.336435 & 0.82 & 0.82 & 0.82 & 4.3100 & 146.86 & 23.00711\\\\\n\t 9-11 Grade         & 250 & 5.760680 & 0.82 & 0.82 & 0.82 & 3.8725 & 194.64 & 18.64989\\\\\n\t HS or GED          & 397 & 7.225214 & 0.82 & 0.82 & 0.82 & 4.2700 & 294.16 & 21.16326\\\\\n\t Some College or AA & 448 & 8.644018 & 0.82 & 0.82 & 0.82 & 3.8625 & 749.00 & 39.98897\\\\\n\t Graduate           & 319 & 9.048370 & 0.82 & 0.82 & 1.53 & 6.8750 & 233.40 & 25.46837\\\\\n\\end{tabular}\n",
            "text/markdown": "\nA tibble: 5 × 9\n\n| variable &lt;fct&gt; | Count &lt;int&gt; | Mean &lt;dbl&gt; | Min &lt;dbl&gt; | Q1 &lt;dbl&gt; | Q2 &lt;dbl&gt; | Q3 &lt;dbl&gt; | Max &lt;dbl&gt; | Sd &lt;dbl&gt; |\n|---|---|---|---|---|---|---|---|---|\n| Below 9th Grade    | 115 | 8.336435 | 0.82 | 0.82 | 0.82 | 4.3100 | 146.86 | 23.00711 |\n| 9-11 Grade         | 250 | 5.760680 | 0.82 | 0.82 | 0.82 | 3.8725 | 194.64 | 18.64989 |\n| HS or GED          | 397 | 7.225214 | 0.82 | 0.82 | 0.82 | 4.2700 | 294.16 | 21.16326 |\n| Some College or AA | 448 | 8.644018 | 0.82 | 0.82 | 0.82 | 3.8625 | 749.00 | 39.98897 |\n| Graduate           | 319 | 9.048370 | 0.82 | 0.82 | 1.53 | 6.8750 | 233.40 | 25.46837 |\n\n",
            "text/html": [
              "<table class=\"dataframe\">\n",
              "<caption>A tibble: 5 × 9</caption>\n",
              "<thead>\n",
              "\t<tr><th scope=col>variable</th><th scope=col>Count</th><th scope=col>Mean</th><th scope=col>Min</th><th scope=col>Q1</th><th scope=col>Q2</th><th scope=col>Q3</th><th scope=col>Max</th><th scope=col>Sd</th></tr>\n",
              "\t<tr><th scope=col>&lt;fct&gt;</th><th scope=col>&lt;int&gt;</th><th scope=col>&lt;dbl&gt;</th><th scope=col>&lt;dbl&gt;</th><th scope=col>&lt;dbl&gt;</th><th scope=col>&lt;dbl&gt;</th><th scope=col>&lt;dbl&gt;</th><th scope=col>&lt;dbl&gt;</th><th scope=col>&lt;dbl&gt;</th></tr>\n",
              "</thead>\n",
              "<tbody>\n",
              "\t<tr><td>Below 9th Grade   </td><td>115</td><td>8.336435</td><td>0.82</td><td>0.82</td><td>0.82</td><td>4.3100</td><td>146.86</td><td>23.00711</td></tr>\n",
              "\t<tr><td>9-11 Grade        </td><td>250</td><td>5.760680</td><td>0.82</td><td>0.82</td><td>0.82</td><td>3.8725</td><td>194.64</td><td>18.64989</td></tr>\n",
              "\t<tr><td>HS or GED         </td><td>397</td><td>7.225214</td><td>0.82</td><td>0.82</td><td>0.82</td><td>4.2700</td><td>294.16</td><td>21.16326</td></tr>\n",
              "\t<tr><td>Some College or AA</td><td>448</td><td>8.644018</td><td>0.82</td><td>0.82</td><td>0.82</td><td>3.8625</td><td>749.00</td><td>39.98897</td></tr>\n",
              "\t<tr><td>Graduate          </td><td>319</td><td>9.048370</td><td>0.82</td><td>0.82</td><td>1.53</td><td>6.8750</td><td>233.40</td><td>25.46837</td></tr>\n",
              "</tbody>\n",
              "</table>\n"
            ]
          },
          "metadata": {}
        },
        {
          "output_type": "stream",
          "name": "stdout",
          "text": [
            "\n",
            "\n",
            "\n",
            " Multiple Comparison \n"
          ]
        },
        {
          "output_type": "display_data",
          "data": {
            "text/plain": [
              "   .y.    group1             group2             n1  n2  statistic   p     \n",
              "1  URXUAB Below 9th Grade    9-11 Grade         115 250 -0.70185008 0.4828\n",
              "2  URXUAB Below 9th Grade    HS or GED          115 397 -0.19025233 0.8491\n",
              "3  URXUAB Below 9th Grade    Some College or AA 115 448 -0.06941792 0.9447\n",
              "4  URXUAB Below 9th Grade    Graduate           115 319  1.43532037 0.1512\n",
              "5  URXUAB 9-11 Grade         HS or GED          250 397  0.72991971 0.4654\n",
              "6  URXUAB 9-11 Grade         Some College or AA 250 448  0.90981379 0.3629\n",
              "7  URXUAB 9-11 Grade         Graduate           250 319  2.78446808 0.0054\n",
              "8  URXUAB HS or GED          Some College or AA 397 448  0.18701908 0.8516\n",
              "9  URXUAB HS or GED          Graduate           397 319  2.34421928 0.0191\n",
              "10 URXUAB Some College or AA Graduate           448 319  2.23006766 0.0257\n",
              "   p.adj p.adj.signif\n",
              "1  0.69  ns          \n",
              "2  0.945 ns          \n",
              "3  0.945 ns          \n",
              "4  0.378 ns          \n",
              "5  0.69  ns          \n",
              "6  0.69  ns          \n",
              "7  0.054 ns          \n",
              "8  0.945 ns          \n",
              "9  0.086 ns          \n",
              "10 0.086 ns          "
            ],
            "text/latex": "A rstatix\\_test: 10 × 9\n\\begin{tabular}{r|lllllllll}\n  & .y. & group1 & group2 & n1 & n2 & statistic & p & p.adj & p.adj.signif\\\\\n  & <chr> & <chr> & <chr> & <int> & <int> & <dbl> & <chr> & <chr> & <chr>\\\\\n\\hline\n\t1 & URXUAB & Below 9th Grade    & 9-11 Grade         & 115 & 250 & -0.70185008 & 0.4828 & 0.69  & ns\\\\\n\t2 & URXUAB & Below 9th Grade    & HS or GED          & 115 & 397 & -0.19025233 & 0.8491 & 0.945 & ns\\\\\n\t3 & URXUAB & Below 9th Grade    & Some College or AA & 115 & 448 & -0.06941792 & 0.9447 & 0.945 & ns\\\\\n\t4 & URXUAB & Below 9th Grade    & Graduate           & 115 & 319 &  1.43532037 & 0.1512 & 0.378 & ns\\\\\n\t5 & URXUAB & 9-11 Grade         & HS or GED          & 250 & 397 &  0.72991971 & 0.4654 & 0.69  & ns\\\\\n\t6 & URXUAB & 9-11 Grade         & Some College or AA & 250 & 448 &  0.90981379 & 0.3629 & 0.69  & ns\\\\\n\t7 & URXUAB & 9-11 Grade         & Graduate           & 250 & 319 &  2.78446808 & 0.0054 & 0.054 & ns\\\\\n\t8 & URXUAB & HS or GED          & Some College or AA & 397 & 448 &  0.18701908 & 0.8516 & 0.945 & ns\\\\\n\t9 & URXUAB & HS or GED          & Graduate           & 397 & 319 &  2.34421928 & 0.0191 & 0.086 & ns\\\\\n\t10 & URXUAB & Some College or AA & Graduate           & 448 & 319 &  2.23006766 & 0.0257 & 0.086 & ns\\\\\n\\end{tabular}\n",
            "text/markdown": "\nA rstatix_test: 10 × 9\n\n| <!--/--> | .y. &lt;chr&gt; | group1 &lt;chr&gt; | group2 &lt;chr&gt; | n1 &lt;int&gt; | n2 &lt;int&gt; | statistic &lt;dbl&gt; | p &lt;chr&gt; | p.adj &lt;chr&gt; | p.adj.signif &lt;chr&gt; |\n|---|---|---|---|---|---|---|---|---|---|\n| 1 | URXUAB | Below 9th Grade    | 9-11 Grade         | 115 | 250 | -0.70185008 | 0.4828 | 0.69  | ns |\n| 2 | URXUAB | Below 9th Grade    | HS or GED          | 115 | 397 | -0.19025233 | 0.8491 | 0.945 | ns |\n| 3 | URXUAB | Below 9th Grade    | Some College or AA | 115 | 448 | -0.06941792 | 0.9447 | 0.945 | ns |\n| 4 | URXUAB | Below 9th Grade    | Graduate           | 115 | 319 |  1.43532037 | 0.1512 | 0.378 | ns |\n| 5 | URXUAB | 9-11 Grade         | HS or GED          | 250 | 397 |  0.72991971 | 0.4654 | 0.69  | ns |\n| 6 | URXUAB | 9-11 Grade         | Some College or AA | 250 | 448 |  0.90981379 | 0.3629 | 0.69  | ns |\n| 7 | URXUAB | 9-11 Grade         | Graduate           | 250 | 319 |  2.78446808 | 0.0054 | 0.054 | ns |\n| 8 | URXUAB | HS or GED          | Some College or AA | 397 | 448 |  0.18701908 | 0.8516 | 0.945 | ns |\n| 9 | URXUAB | HS or GED          | Graduate           | 397 | 319 |  2.34421928 | 0.0191 | 0.086 | ns |\n| 10 | URXUAB | Some College or AA | Graduate           | 448 | 319 |  2.23006766 | 0.0257 | 0.086 | ns |\n\n",
            "text/html": [
              "<table class=\"dataframe\">\n",
              "<caption>A rstatix_test: 10 × 9</caption>\n",
              "<thead>\n",
              "\t<tr><th></th><th scope=col>.y.</th><th scope=col>group1</th><th scope=col>group2</th><th scope=col>n1</th><th scope=col>n2</th><th scope=col>statistic</th><th scope=col>p</th><th scope=col>p.adj</th><th scope=col>p.adj.signif</th></tr>\n",
              "\t<tr><th></th><th scope=col>&lt;chr&gt;</th><th scope=col>&lt;chr&gt;</th><th scope=col>&lt;chr&gt;</th><th scope=col>&lt;int&gt;</th><th scope=col>&lt;int&gt;</th><th scope=col>&lt;dbl&gt;</th><th scope=col>&lt;chr&gt;</th><th scope=col>&lt;chr&gt;</th><th scope=col>&lt;chr&gt;</th></tr>\n",
              "</thead>\n",
              "<tbody>\n",
              "\t<tr><th scope=row>1</th><td>URXUAB</td><td>Below 9th Grade   </td><td>9-11 Grade        </td><td>115</td><td>250</td><td>-0.70185008</td><td>0.4828</td><td>0.69 </td><td>ns</td></tr>\n",
              "\t<tr><th scope=row>2</th><td>URXUAB</td><td>Below 9th Grade   </td><td>HS or GED         </td><td>115</td><td>397</td><td>-0.19025233</td><td>0.8491</td><td>0.945</td><td>ns</td></tr>\n",
              "\t<tr><th scope=row>3</th><td>URXUAB</td><td>Below 9th Grade   </td><td>Some College or AA</td><td>115</td><td>448</td><td>-0.06941792</td><td>0.9447</td><td>0.945</td><td>ns</td></tr>\n",
              "\t<tr><th scope=row>4</th><td>URXUAB</td><td>Below 9th Grade   </td><td>Graduate          </td><td>115</td><td>319</td><td> 1.43532037</td><td>0.1512</td><td>0.378</td><td>ns</td></tr>\n",
              "\t<tr><th scope=row>5</th><td>URXUAB</td><td>9-11 Grade        </td><td>HS or GED         </td><td>250</td><td>397</td><td> 0.72991971</td><td>0.4654</td><td>0.69 </td><td>ns</td></tr>\n",
              "\t<tr><th scope=row>6</th><td>URXUAB</td><td>9-11 Grade        </td><td>Some College or AA</td><td>250</td><td>448</td><td> 0.90981379</td><td>0.3629</td><td>0.69 </td><td>ns</td></tr>\n",
              "\t<tr><th scope=row>7</th><td>URXUAB</td><td>9-11 Grade        </td><td>Graduate          </td><td>250</td><td>319</td><td> 2.78446808</td><td>0.0054</td><td>0.054</td><td>ns</td></tr>\n",
              "\t<tr><th scope=row>8</th><td>URXUAB</td><td>HS or GED         </td><td>Some College or AA</td><td>397</td><td>448</td><td> 0.18701908</td><td>0.8516</td><td>0.945</td><td>ns</td></tr>\n",
              "\t<tr><th scope=row>9</th><td>URXUAB</td><td>HS or GED         </td><td>Graduate          </td><td>397</td><td>319</td><td> 2.34421928</td><td>0.0191</td><td>0.086</td><td>ns</td></tr>\n",
              "\t<tr><th scope=row>10</th><td>URXUAB</td><td>Some College or AA</td><td>Graduate          </td><td>448</td><td>319</td><td> 2.23006766</td><td>0.0257</td><td>0.086</td><td>ns</td></tr>\n",
              "</tbody>\n",
              "</table>\n"
            ]
          },
          "metadata": {}
        }
      ]
    },
    {
      "cell_type": "markdown",
      "metadata": {
        "id": "1RHeJK4FViUU"
      },
      "source": [
        "**Marital Status**"
      ]
    },
    {
      "cell_type": "code",
      "metadata": {
        "id": "fXt33r2N4-bP",
        "colab": {
          "base_uri": "https://localhost:8080/",
          "height": 1000
        },
        "outputId": "cbbecdab-ceba-4c59-db9b-6d49914611a3"
      },
      "source": [
        "HSV_df_backup_postprep -> HSV_df\n",
        "\n",
        "HSV_df %<>% select(URXUAB, DMDMARTL) %>% filter(URXUAB != 'NA') %>% filter(DMDMARTL != 'NA')\n",
        "\n",
        "# kruskal wallis test\n",
        "kruskal.test(URXUAB~ DMDMARTL , data = HSV_df) \n",
        "\n",
        "cat(\"\\n\\n\")\n",
        "\n",
        "cat(\"\\n Numerical Summaries \\n\")\n",
        "# numerical summary\n",
        "HSV_df %$% num_summary(URXUAB, DMDMARTL) \n",
        "\n",
        "cat(\"\\n\\n\")\n",
        "\n",
        "cat(\"\\n Multiple Comparison \\n\")\n",
        "# multiple comparison\n",
        "dunn_test(URXUAB~ DMDMARTL , data = HSV_df, p.adjust.method = \"fdr\") %>%\n",
        "p_format(digits = 2, leading.zero = TRUE) ; HSV_df_backup_postprep -> HSV_df\n",
        "\n"
      ],
      "execution_count": null,
      "outputs": [
        {
          "output_type": "display_data",
          "data": {
            "text/plain": [
              "\n",
              "\tKruskal-Wallis rank sum test\n",
              "\n",
              "data:  URXUAB by DMDMARTL\n",
              "Kruskal-Wallis chi-squared = 7.6311, df = 5, p-value = 0.1778\n"
            ]
          },
          "metadata": {}
        },
        {
          "output_type": "stream",
          "name": "stdout",
          "text": [
            "\n",
            "\n",
            "\n",
            " Numerical Summaries \n"
          ]
        },
        {
          "output_type": "display_data",
          "data": {
            "text/plain": [
              "  variable            Count Mean     Min  Q1   Q2   Q3     Max    Sd       \n",
              "1 Married             715   9.227077 0.82 0.82 1.27 5.6650 294.16 26.390085\n",
              "2 Widowed              11   5.056364 0.82 0.82 1.36 3.7350  20.48  7.585922\n",
              "3 Divorced            126   6.841825 0.82 0.82 0.82 2.8075 223.42 22.955184\n",
              "4 Separated            51   4.195882 0.82 0.82 1.22 4.6300  20.95  5.483901\n",
              "5 Never married       404   7.268342 0.82 0.82 0.82 3.6650 749.00 39.662034\n",
              "6 Living with partner 221   6.136063 0.82 0.82 0.82 3.9600 126.19 14.333594"
            ],
            "text/latex": "A tibble: 6 × 9\n\\begin{tabular}{lllllllll}\n variable & Count & Mean & Min & Q1 & Q2 & Q3 & Max & Sd\\\\\n <fct> & <int> & <dbl> & <dbl> & <dbl> & <dbl> & <dbl> & <dbl> & <dbl>\\\\\n\\hline\n\t Married             & 715 & 9.227077 & 0.82 & 0.82 & 1.27 & 5.6650 & 294.16 & 26.390085\\\\\n\t Widowed             &  11 & 5.056364 & 0.82 & 0.82 & 1.36 & 3.7350 &  20.48 &  7.585922\\\\\n\t Divorced            & 126 & 6.841825 & 0.82 & 0.82 & 0.82 & 2.8075 & 223.42 & 22.955184\\\\\n\t Separated           &  51 & 4.195882 & 0.82 & 0.82 & 1.22 & 4.6300 &  20.95 &  5.483901\\\\\n\t Never married       & 404 & 7.268342 & 0.82 & 0.82 & 0.82 & 3.6650 & 749.00 & 39.662034\\\\\n\t Living with partner & 221 & 6.136063 & 0.82 & 0.82 & 0.82 & 3.9600 & 126.19 & 14.333594\\\\\n\\end{tabular}\n",
            "text/markdown": "\nA tibble: 6 × 9\n\n| variable &lt;fct&gt; | Count &lt;int&gt; | Mean &lt;dbl&gt; | Min &lt;dbl&gt; | Q1 &lt;dbl&gt; | Q2 &lt;dbl&gt; | Q3 &lt;dbl&gt; | Max &lt;dbl&gt; | Sd &lt;dbl&gt; |\n|---|---|---|---|---|---|---|---|---|\n| Married             | 715 | 9.227077 | 0.82 | 0.82 | 1.27 | 5.6650 | 294.16 | 26.390085 |\n| Widowed             |  11 | 5.056364 | 0.82 | 0.82 | 1.36 | 3.7350 |  20.48 |  7.585922 |\n| Divorced            | 126 | 6.841825 | 0.82 | 0.82 | 0.82 | 2.8075 | 223.42 | 22.955184 |\n| Separated           |  51 | 4.195882 | 0.82 | 0.82 | 1.22 | 4.6300 |  20.95 |  5.483901 |\n| Never married       | 404 | 7.268342 | 0.82 | 0.82 | 0.82 | 3.6650 | 749.00 | 39.662034 |\n| Living with partner | 221 | 6.136063 | 0.82 | 0.82 | 0.82 | 3.9600 | 126.19 | 14.333594 |\n\n",
            "text/html": [
              "<table class=\"dataframe\">\n",
              "<caption>A tibble: 6 × 9</caption>\n",
              "<thead>\n",
              "\t<tr><th scope=col>variable</th><th scope=col>Count</th><th scope=col>Mean</th><th scope=col>Min</th><th scope=col>Q1</th><th scope=col>Q2</th><th scope=col>Q3</th><th scope=col>Max</th><th scope=col>Sd</th></tr>\n",
              "\t<tr><th scope=col>&lt;fct&gt;</th><th scope=col>&lt;int&gt;</th><th scope=col>&lt;dbl&gt;</th><th scope=col>&lt;dbl&gt;</th><th scope=col>&lt;dbl&gt;</th><th scope=col>&lt;dbl&gt;</th><th scope=col>&lt;dbl&gt;</th><th scope=col>&lt;dbl&gt;</th><th scope=col>&lt;dbl&gt;</th></tr>\n",
              "</thead>\n",
              "<tbody>\n",
              "\t<tr><td>Married            </td><td>715</td><td>9.227077</td><td>0.82</td><td>0.82</td><td>1.27</td><td>5.6650</td><td>294.16</td><td>26.390085</td></tr>\n",
              "\t<tr><td>Widowed            </td><td> 11</td><td>5.056364</td><td>0.82</td><td>0.82</td><td>1.36</td><td>3.7350</td><td> 20.48</td><td> 7.585922</td></tr>\n",
              "\t<tr><td>Divorced           </td><td>126</td><td>6.841825</td><td>0.82</td><td>0.82</td><td>0.82</td><td>2.8075</td><td>223.42</td><td>22.955184</td></tr>\n",
              "\t<tr><td>Separated          </td><td> 51</td><td>4.195882</td><td>0.82</td><td>0.82</td><td>1.22</td><td>4.6300</td><td> 20.95</td><td> 5.483901</td></tr>\n",
              "\t<tr><td>Never married      </td><td>404</td><td>7.268342</td><td>0.82</td><td>0.82</td><td>0.82</td><td>3.6650</td><td>749.00</td><td>39.662034</td></tr>\n",
              "\t<tr><td>Living with partner</td><td>221</td><td>6.136063</td><td>0.82</td><td>0.82</td><td>0.82</td><td>3.9600</td><td>126.19</td><td>14.333594</td></tr>\n",
              "</tbody>\n",
              "</table>\n"
            ]
          },
          "metadata": {}
        },
        {
          "output_type": "stream",
          "name": "stdout",
          "text": [
            "\n",
            "\n",
            "\n",
            " Multiple Comparison \n"
          ]
        },
        {
          "output_type": "display_data",
          "data": {
            "text/plain": [
              "   .y.    group1        group2              n1  n2  statistic   p     p.adj\n",
              "1  URXUAB Married       Widowed             715  11 -0.08964943 0.929 0.93 \n",
              "2  URXUAB Married       Divorced            715 126 -2.27106314 0.023 0.35 \n",
              "3  URXUAB Married       Separated           715  51 -0.49153007 0.623 0.93 \n",
              "4  URXUAB Married       Never married       715 404 -1.91746590 0.055 0.41 \n",
              "5  URXUAB Married       Living with partner 715 221 -1.40203670 0.161 0.8  \n",
              "6  URXUAB Widowed       Divorced             11 126 -0.61129350 0.541 0.93 \n",
              "7  URXUAB Widowed       Separated            11  51 -0.13236323 0.895 0.93 \n",
              "8  URXUAB Widowed       Never married        11 404 -0.30140566 0.763 0.93 \n",
              "9  URXUAB Widowed       Living with partner  11 221 -0.26112962 0.794 0.93 \n",
              "10 URXUAB Divorced      Separated           126  51  0.89287559 0.372 0.93 \n",
              "11 URXUAB Divorced      Never married       126 404  0.98083898 0.327 0.93 \n",
              "12 URXUAB Divorced      Living with partner 126 221  0.99900713 0.318 0.93 \n",
              "13 URXUAB Separated     Never married        51 404 -0.32370072 0.746 0.93 \n",
              "14 URXUAB Separated     Living with partner  51 221 -0.23602775 0.813 0.93 \n",
              "15 URXUAB Never married Living with partner 404 221  0.13669609 0.891 0.93 \n",
              "   p.adj.signif\n",
              "1  ns          \n",
              "2  ns          \n",
              "3  ns          \n",
              "4  ns          \n",
              "5  ns          \n",
              "6  ns          \n",
              "7  ns          \n",
              "8  ns          \n",
              "9  ns          \n",
              "10 ns          \n",
              "11 ns          \n",
              "12 ns          \n",
              "13 ns          \n",
              "14 ns          \n",
              "15 ns          "
            ],
            "text/latex": "A rstatix\\_test: 15 × 9\n\\begin{tabular}{r|lllllllll}\n  & .y. & group1 & group2 & n1 & n2 & statistic & p & p.adj & p.adj.signif\\\\\n  & <chr> & <chr> & <chr> & <int> & <int> & <dbl> & <chr> & <chr> & <chr>\\\\\n\\hline\n\t1 & URXUAB & Married       & Widowed             & 715 &  11 & -0.08964943 & 0.929 & 0.93 & ns\\\\\n\t2 & URXUAB & Married       & Divorced            & 715 & 126 & -2.27106314 & 0.023 & 0.35 & ns\\\\\n\t3 & URXUAB & Married       & Separated           & 715 &  51 & -0.49153007 & 0.623 & 0.93 & ns\\\\\n\t4 & URXUAB & Married       & Never married       & 715 & 404 & -1.91746590 & 0.055 & 0.41 & ns\\\\\n\t5 & URXUAB & Married       & Living with partner & 715 & 221 & -1.40203670 & 0.161 & 0.8  & ns\\\\\n\t6 & URXUAB & Widowed       & Divorced            &  11 & 126 & -0.61129350 & 0.541 & 0.93 & ns\\\\\n\t7 & URXUAB & Widowed       & Separated           &  11 &  51 & -0.13236323 & 0.895 & 0.93 & ns\\\\\n\t8 & URXUAB & Widowed       & Never married       &  11 & 404 & -0.30140566 & 0.763 & 0.93 & ns\\\\\n\t9 & URXUAB & Widowed       & Living with partner &  11 & 221 & -0.26112962 & 0.794 & 0.93 & ns\\\\\n\t10 & URXUAB & Divorced      & Separated           & 126 &  51 &  0.89287559 & 0.372 & 0.93 & ns\\\\\n\t11 & URXUAB & Divorced      & Never married       & 126 & 404 &  0.98083898 & 0.327 & 0.93 & ns\\\\\n\t12 & URXUAB & Divorced      & Living with partner & 126 & 221 &  0.99900713 & 0.318 & 0.93 & ns\\\\\n\t13 & URXUAB & Separated     & Never married       &  51 & 404 & -0.32370072 & 0.746 & 0.93 & ns\\\\\n\t14 & URXUAB & Separated     & Living with partner &  51 & 221 & -0.23602775 & 0.813 & 0.93 & ns\\\\\n\t15 & URXUAB & Never married & Living with partner & 404 & 221 &  0.13669609 & 0.891 & 0.93 & ns\\\\\n\\end{tabular}\n",
            "text/markdown": "\nA rstatix_test: 15 × 9\n\n| <!--/--> | .y. &lt;chr&gt; | group1 &lt;chr&gt; | group2 &lt;chr&gt; | n1 &lt;int&gt; | n2 &lt;int&gt; | statistic &lt;dbl&gt; | p &lt;chr&gt; | p.adj &lt;chr&gt; | p.adj.signif &lt;chr&gt; |\n|---|---|---|---|---|---|---|---|---|---|\n| 1 | URXUAB | Married       | Widowed             | 715 |  11 | -0.08964943 | 0.929 | 0.93 | ns |\n| 2 | URXUAB | Married       | Divorced            | 715 | 126 | -2.27106314 | 0.023 | 0.35 | ns |\n| 3 | URXUAB | Married       | Separated           | 715 |  51 | -0.49153007 | 0.623 | 0.93 | ns |\n| 4 | URXUAB | Married       | Never married       | 715 | 404 | -1.91746590 | 0.055 | 0.41 | ns |\n| 5 | URXUAB | Married       | Living with partner | 715 | 221 | -1.40203670 | 0.161 | 0.8  | ns |\n| 6 | URXUAB | Widowed       | Divorced            |  11 | 126 | -0.61129350 | 0.541 | 0.93 | ns |\n| 7 | URXUAB | Widowed       | Separated           |  11 |  51 | -0.13236323 | 0.895 | 0.93 | ns |\n| 8 | URXUAB | Widowed       | Never married       |  11 | 404 | -0.30140566 | 0.763 | 0.93 | ns |\n| 9 | URXUAB | Widowed       | Living with partner |  11 | 221 | -0.26112962 | 0.794 | 0.93 | ns |\n| 10 | URXUAB | Divorced      | Separated           | 126 |  51 |  0.89287559 | 0.372 | 0.93 | ns |\n| 11 | URXUAB | Divorced      | Never married       | 126 | 404 |  0.98083898 | 0.327 | 0.93 | ns |\n| 12 | URXUAB | Divorced      | Living with partner | 126 | 221 |  0.99900713 | 0.318 | 0.93 | ns |\n| 13 | URXUAB | Separated     | Never married       |  51 | 404 | -0.32370072 | 0.746 | 0.93 | ns |\n| 14 | URXUAB | Separated     | Living with partner |  51 | 221 | -0.23602775 | 0.813 | 0.93 | ns |\n| 15 | URXUAB | Never married | Living with partner | 404 | 221 |  0.13669609 | 0.891 | 0.93 | ns |\n\n",
            "text/html": [
              "<table class=\"dataframe\">\n",
              "<caption>A rstatix_test: 15 × 9</caption>\n",
              "<thead>\n",
              "\t<tr><th></th><th scope=col>.y.</th><th scope=col>group1</th><th scope=col>group2</th><th scope=col>n1</th><th scope=col>n2</th><th scope=col>statistic</th><th scope=col>p</th><th scope=col>p.adj</th><th scope=col>p.adj.signif</th></tr>\n",
              "\t<tr><th></th><th scope=col>&lt;chr&gt;</th><th scope=col>&lt;chr&gt;</th><th scope=col>&lt;chr&gt;</th><th scope=col>&lt;int&gt;</th><th scope=col>&lt;int&gt;</th><th scope=col>&lt;dbl&gt;</th><th scope=col>&lt;chr&gt;</th><th scope=col>&lt;chr&gt;</th><th scope=col>&lt;chr&gt;</th></tr>\n",
              "</thead>\n",
              "<tbody>\n",
              "\t<tr><th scope=row>1</th><td>URXUAB</td><td>Married      </td><td>Widowed            </td><td>715</td><td> 11</td><td>-0.08964943</td><td>0.929</td><td>0.93</td><td>ns</td></tr>\n",
              "\t<tr><th scope=row>2</th><td>URXUAB</td><td>Married      </td><td>Divorced           </td><td>715</td><td>126</td><td>-2.27106314</td><td>0.023</td><td>0.35</td><td>ns</td></tr>\n",
              "\t<tr><th scope=row>3</th><td>URXUAB</td><td>Married      </td><td>Separated          </td><td>715</td><td> 51</td><td>-0.49153007</td><td>0.623</td><td>0.93</td><td>ns</td></tr>\n",
              "\t<tr><th scope=row>4</th><td>URXUAB</td><td>Married      </td><td>Never married      </td><td>715</td><td>404</td><td>-1.91746590</td><td>0.055</td><td>0.41</td><td>ns</td></tr>\n",
              "\t<tr><th scope=row>5</th><td>URXUAB</td><td>Married      </td><td>Living with partner</td><td>715</td><td>221</td><td>-1.40203670</td><td>0.161</td><td>0.8 </td><td>ns</td></tr>\n",
              "\t<tr><th scope=row>6</th><td>URXUAB</td><td>Widowed      </td><td>Divorced           </td><td> 11</td><td>126</td><td>-0.61129350</td><td>0.541</td><td>0.93</td><td>ns</td></tr>\n",
              "\t<tr><th scope=row>7</th><td>URXUAB</td><td>Widowed      </td><td>Separated          </td><td> 11</td><td> 51</td><td>-0.13236323</td><td>0.895</td><td>0.93</td><td>ns</td></tr>\n",
              "\t<tr><th scope=row>8</th><td>URXUAB</td><td>Widowed      </td><td>Never married      </td><td> 11</td><td>404</td><td>-0.30140566</td><td>0.763</td><td>0.93</td><td>ns</td></tr>\n",
              "\t<tr><th scope=row>9</th><td>URXUAB</td><td>Widowed      </td><td>Living with partner</td><td> 11</td><td>221</td><td>-0.26112962</td><td>0.794</td><td>0.93</td><td>ns</td></tr>\n",
              "\t<tr><th scope=row>10</th><td>URXUAB</td><td>Divorced     </td><td>Separated          </td><td>126</td><td> 51</td><td> 0.89287559</td><td>0.372</td><td>0.93</td><td>ns</td></tr>\n",
              "\t<tr><th scope=row>11</th><td>URXUAB</td><td>Divorced     </td><td>Never married      </td><td>126</td><td>404</td><td> 0.98083898</td><td>0.327</td><td>0.93</td><td>ns</td></tr>\n",
              "\t<tr><th scope=row>12</th><td>URXUAB</td><td>Divorced     </td><td>Living with partner</td><td>126</td><td>221</td><td> 0.99900713</td><td>0.318</td><td>0.93</td><td>ns</td></tr>\n",
              "\t<tr><th scope=row>13</th><td>URXUAB</td><td>Separated    </td><td>Never married      </td><td> 51</td><td>404</td><td>-0.32370072</td><td>0.746</td><td>0.93</td><td>ns</td></tr>\n",
              "\t<tr><th scope=row>14</th><td>URXUAB</td><td>Separated    </td><td>Living with partner</td><td> 51</td><td>221</td><td>-0.23602775</td><td>0.813</td><td>0.93</td><td>ns</td></tr>\n",
              "\t<tr><th scope=row>15</th><td>URXUAB</td><td>Never married</td><td>Living with partner</td><td>404</td><td>221</td><td> 0.13669609</td><td>0.891</td><td>0.93</td><td>ns</td></tr>\n",
              "</tbody>\n",
              "</table>\n"
            ]
          },
          "metadata": {}
        }
      ]
    },
    {
      "cell_type": "markdown",
      "metadata": {
        "id": "aiUKXro0Vlax"
      },
      "source": [
        "**Race**"
      ]
    },
    {
      "cell_type": "code",
      "metadata": {
        "id": "VtTVWOIK4-89",
        "colab": {
          "base_uri": "https://localhost:8080/",
          "height": 875
        },
        "outputId": "73fc87d9-4f53-4185-b143-27b6d088b0a6"
      },
      "source": [
        "HSV_df_backup_postprep -> HSV_df\n",
        "\n",
        "HSV_df %<>% select(URXUAB, RIDRETH1) %>% filter(URXUAB != 'NA') %>% filter(RIDRETH1 != 'NA')\n",
        "\n",
        "# kruskal wallis test\n",
        "kruskal.test(URXUAB~ RIDRETH1 , data = HSV_df) \n",
        "\n",
        "cat(\"\\n\\n\")\n",
        "\n",
        "cat(\"\\n Numerical Summaries \\n\")\n",
        "# numerical summary\n",
        "HSV_df %$% num_summary(URXUAB, RIDRETH1) \n",
        "\n",
        "cat(\"\\n\\n\")\n",
        "\n",
        "cat(\"\\n Multiple Comparison \\n\")\n",
        "# multiple comparison\n",
        "dunn_test(URXUAB~ RIDRETH1 , data = HSV_df, p.adjust.method = \"fdr\") %>%\n",
        "p_format(digits = 2, leading.zero = TRUE) ; HSV_df_backup_postprep -> HSV_df"
      ],
      "execution_count": null,
      "outputs": [
        {
          "output_type": "display_data",
          "data": {
            "text/plain": [
              "\n",
              "\tKruskal-Wallis rank sum test\n",
              "\n",
              "data:  URXUAB by RIDRETH1\n",
              "Kruskal-Wallis chi-squared = 60.318, df = 4, p-value = 2.487e-12\n"
            ]
          },
          "metadata": {}
        },
        {
          "output_type": "stream",
          "name": "stdout",
          "text": [
            "\n",
            "\n",
            "\n",
            " Numerical Summaries \n"
          ]
        },
        {
          "output_type": "display_data",
          "data": {
            "text/plain": [
              "  variable    Count Mean      Min  Q1   Q2   Q3    Max    Sd      \n",
              "1 Mex-Hisp    222    5.566802 0.82 0.82 0.82 2.210 214.00 20.27429\n",
              "2 Other-Hisp  148   10.261014 0.82 0.82 1.63 5.880 294.16 31.19602\n",
              "3 Non-Hisp-WT 625    5.239296 0.82 0.82 0.82 2.950 233.40 18.09644\n",
              "4 Non-Hisp-BK 364   10.398407 0.82 0.82 1.52 6.260 749.00 44.08863\n",
              "5 Others      266   11.443534 0.82 0.82 2.29 9.665 189.72 24.33829"
            ],
            "text/latex": "A tibble: 5 × 9\n\\begin{tabular}{lllllllll}\n variable & Count & Mean & Min & Q1 & Q2 & Q3 & Max & Sd\\\\\n <fct> & <int> & <dbl> & <dbl> & <dbl> & <dbl> & <dbl> & <dbl> & <dbl>\\\\\n\\hline\n\t Mex-Hisp    & 222 &  5.566802 & 0.82 & 0.82 & 0.82 & 2.210 & 214.00 & 20.27429\\\\\n\t Other-Hisp  & 148 & 10.261014 & 0.82 & 0.82 & 1.63 & 5.880 & 294.16 & 31.19602\\\\\n\t Non-Hisp-WT & 625 &  5.239296 & 0.82 & 0.82 & 0.82 & 2.950 & 233.40 & 18.09644\\\\\n\t Non-Hisp-BK & 364 & 10.398407 & 0.82 & 0.82 & 1.52 & 6.260 & 749.00 & 44.08863\\\\\n\t Others      & 266 & 11.443534 & 0.82 & 0.82 & 2.29 & 9.665 & 189.72 & 24.33829\\\\\n\\end{tabular}\n",
            "text/markdown": "\nA tibble: 5 × 9\n\n| variable &lt;fct&gt; | Count &lt;int&gt; | Mean &lt;dbl&gt; | Min &lt;dbl&gt; | Q1 &lt;dbl&gt; | Q2 &lt;dbl&gt; | Q3 &lt;dbl&gt; | Max &lt;dbl&gt; | Sd &lt;dbl&gt; |\n|---|---|---|---|---|---|---|---|---|\n| Mex-Hisp    | 222 |  5.566802 | 0.82 | 0.82 | 0.82 | 2.210 | 214.00 | 20.27429 |\n| Other-Hisp  | 148 | 10.261014 | 0.82 | 0.82 | 1.63 | 5.880 | 294.16 | 31.19602 |\n| Non-Hisp-WT | 625 |  5.239296 | 0.82 | 0.82 | 0.82 | 2.950 | 233.40 | 18.09644 |\n| Non-Hisp-BK | 364 | 10.398407 | 0.82 | 0.82 | 1.52 | 6.260 | 749.00 | 44.08863 |\n| Others      | 266 | 11.443534 | 0.82 | 0.82 | 2.29 | 9.665 | 189.72 | 24.33829 |\n\n",
            "text/html": [
              "<table class=\"dataframe\">\n",
              "<caption>A tibble: 5 × 9</caption>\n",
              "<thead>\n",
              "\t<tr><th scope=col>variable</th><th scope=col>Count</th><th scope=col>Mean</th><th scope=col>Min</th><th scope=col>Q1</th><th scope=col>Q2</th><th scope=col>Q3</th><th scope=col>Max</th><th scope=col>Sd</th></tr>\n",
              "\t<tr><th scope=col>&lt;fct&gt;</th><th scope=col>&lt;int&gt;</th><th scope=col>&lt;dbl&gt;</th><th scope=col>&lt;dbl&gt;</th><th scope=col>&lt;dbl&gt;</th><th scope=col>&lt;dbl&gt;</th><th scope=col>&lt;dbl&gt;</th><th scope=col>&lt;dbl&gt;</th><th scope=col>&lt;dbl&gt;</th></tr>\n",
              "</thead>\n",
              "<tbody>\n",
              "\t<tr><td>Mex-Hisp   </td><td>222</td><td> 5.566802</td><td>0.82</td><td>0.82</td><td>0.82</td><td>2.210</td><td>214.00</td><td>20.27429</td></tr>\n",
              "\t<tr><td>Other-Hisp </td><td>148</td><td>10.261014</td><td>0.82</td><td>0.82</td><td>1.63</td><td>5.880</td><td>294.16</td><td>31.19602</td></tr>\n",
              "\t<tr><td>Non-Hisp-WT</td><td>625</td><td> 5.239296</td><td>0.82</td><td>0.82</td><td>0.82</td><td>2.950</td><td>233.40</td><td>18.09644</td></tr>\n",
              "\t<tr><td>Non-Hisp-BK</td><td>364</td><td>10.398407</td><td>0.82</td><td>0.82</td><td>1.52</td><td>6.260</td><td>749.00</td><td>44.08863</td></tr>\n",
              "\t<tr><td>Others     </td><td>266</td><td>11.443534</td><td>0.82</td><td>0.82</td><td>2.29</td><td>9.665</td><td>189.72</td><td>24.33829</td></tr>\n",
              "</tbody>\n",
              "</table>\n"
            ]
          },
          "metadata": {}
        },
        {
          "output_type": "stream",
          "name": "stdout",
          "text": [
            "\n",
            "\n",
            "\n",
            " Multiple Comparison \n"
          ]
        },
        {
          "output_type": "display_data",
          "data": {
            "text/plain": [
              "   .y.    group1      group2      n1  n2  statistic  p       p.adj  \n",
              "1  URXUAB Mex-Hisp    Other-Hisp  222 148  3.6547207 0.00026 0.00043\n",
              "2  URXUAB Mex-Hisp    Non-Hisp-WT 222 625  0.5747458 0.56546 0.62829\n",
              "3  URXUAB Mex-Hisp    Non-Hisp-BK 222 364  4.2261898 <0.0001 <0.0001\n",
              "4  URXUAB Mex-Hisp    Others      222 266  5.3750984 <0.0001 <0.0001\n",
              "5  URXUAB Other-Hisp  Non-Hisp-WT 148 625 -3.7513413 0.00018 0.00035\n",
              "6  URXUAB Other-Hisp  Non-Hisp-BK 148 364 -0.2866485 0.77438 0.77438\n",
              "7  URXUAB Other-Hisp  Others      148 266  0.9828843 0.32566 0.40708\n",
              "8  URXUAB Non-Hisp-WT Non-Hisp-BK 625 364  4.7772997 <0.0001 <0.0001\n",
              "9  URXUAB Non-Hisp-WT Others      625 266  6.0611359 <0.0001 <0.0001\n",
              "10 URXUAB Non-Hisp-BK Others      364 266  1.5959828 0.11049 0.15785\n",
              "   p.adj.signif\n",
              "1  ***         \n",
              "2  ns          \n",
              "3  ****        \n",
              "4  ****        \n",
              "5  ***         \n",
              "6  ns          \n",
              "7  ns          \n",
              "8  ****        \n",
              "9  ****        \n",
              "10 ns          "
            ],
            "text/latex": "A rstatix\\_test: 10 × 9\n\\begin{tabular}{r|lllllllll}\n  & .y. & group1 & group2 & n1 & n2 & statistic & p & p.adj & p.adj.signif\\\\\n  & <chr> & <chr> & <chr> & <int> & <int> & <dbl> & <chr> & <chr> & <chr>\\\\\n\\hline\n\t1 & URXUAB & Mex-Hisp    & Other-Hisp  & 222 & 148 &  3.6547207 & 0.00026 & 0.00043 & *** \\\\\n\t2 & URXUAB & Mex-Hisp    & Non-Hisp-WT & 222 & 625 &  0.5747458 & 0.56546 & 0.62829 & ns  \\\\\n\t3 & URXUAB & Mex-Hisp    & Non-Hisp-BK & 222 & 364 &  4.2261898 & <0.0001 & <0.0001 & ****\\\\\n\t4 & URXUAB & Mex-Hisp    & Others      & 222 & 266 &  5.3750984 & <0.0001 & <0.0001 & ****\\\\\n\t5 & URXUAB & Other-Hisp  & Non-Hisp-WT & 148 & 625 & -3.7513413 & 0.00018 & 0.00035 & *** \\\\\n\t6 & URXUAB & Other-Hisp  & Non-Hisp-BK & 148 & 364 & -0.2866485 & 0.77438 & 0.77438 & ns  \\\\\n\t7 & URXUAB & Other-Hisp  & Others      & 148 & 266 &  0.9828843 & 0.32566 & 0.40708 & ns  \\\\\n\t8 & URXUAB & Non-Hisp-WT & Non-Hisp-BK & 625 & 364 &  4.7772997 & <0.0001 & <0.0001 & ****\\\\\n\t9 & URXUAB & Non-Hisp-WT & Others      & 625 & 266 &  6.0611359 & <0.0001 & <0.0001 & ****\\\\\n\t10 & URXUAB & Non-Hisp-BK & Others      & 364 & 266 &  1.5959828 & 0.11049 & 0.15785 & ns  \\\\\n\\end{tabular}\n",
            "text/markdown": "\nA rstatix_test: 10 × 9\n\n| <!--/--> | .y. &lt;chr&gt; | group1 &lt;chr&gt; | group2 &lt;chr&gt; | n1 &lt;int&gt; | n2 &lt;int&gt; | statistic &lt;dbl&gt; | p &lt;chr&gt; | p.adj &lt;chr&gt; | p.adj.signif &lt;chr&gt; |\n|---|---|---|---|---|---|---|---|---|---|\n| 1 | URXUAB | Mex-Hisp    | Other-Hisp  | 222 | 148 |  3.6547207 | 0.00026 | 0.00043 | ***  |\n| 2 | URXUAB | Mex-Hisp    | Non-Hisp-WT | 222 | 625 |  0.5747458 | 0.56546 | 0.62829 | ns   |\n| 3 | URXUAB | Mex-Hisp    | Non-Hisp-BK | 222 | 364 |  4.2261898 | &lt;0.0001 | &lt;0.0001 | **** |\n| 4 | URXUAB | Mex-Hisp    | Others      | 222 | 266 |  5.3750984 | &lt;0.0001 | &lt;0.0001 | **** |\n| 5 | URXUAB | Other-Hisp  | Non-Hisp-WT | 148 | 625 | -3.7513413 | 0.00018 | 0.00035 | ***  |\n| 6 | URXUAB | Other-Hisp  | Non-Hisp-BK | 148 | 364 | -0.2866485 | 0.77438 | 0.77438 | ns   |\n| 7 | URXUAB | Other-Hisp  | Others      | 148 | 266 |  0.9828843 | 0.32566 | 0.40708 | ns   |\n| 8 | URXUAB | Non-Hisp-WT | Non-Hisp-BK | 625 | 364 |  4.7772997 | &lt;0.0001 | &lt;0.0001 | **** |\n| 9 | URXUAB | Non-Hisp-WT | Others      | 625 | 266 |  6.0611359 | &lt;0.0001 | &lt;0.0001 | **** |\n| 10 | URXUAB | Non-Hisp-BK | Others      | 364 | 266 |  1.5959828 | 0.11049 | 0.15785 | ns   |\n\n",
            "text/html": [
              "<table class=\"dataframe\">\n",
              "<caption>A rstatix_test: 10 × 9</caption>\n",
              "<thead>\n",
              "\t<tr><th></th><th scope=col>.y.</th><th scope=col>group1</th><th scope=col>group2</th><th scope=col>n1</th><th scope=col>n2</th><th scope=col>statistic</th><th scope=col>p</th><th scope=col>p.adj</th><th scope=col>p.adj.signif</th></tr>\n",
              "\t<tr><th></th><th scope=col>&lt;chr&gt;</th><th scope=col>&lt;chr&gt;</th><th scope=col>&lt;chr&gt;</th><th scope=col>&lt;int&gt;</th><th scope=col>&lt;int&gt;</th><th scope=col>&lt;dbl&gt;</th><th scope=col>&lt;chr&gt;</th><th scope=col>&lt;chr&gt;</th><th scope=col>&lt;chr&gt;</th></tr>\n",
              "</thead>\n",
              "<tbody>\n",
              "\t<tr><th scope=row>1</th><td>URXUAB</td><td>Mex-Hisp   </td><td>Other-Hisp </td><td>222</td><td>148</td><td> 3.6547207</td><td>0.00026</td><td>0.00043</td><td>*** </td></tr>\n",
              "\t<tr><th scope=row>2</th><td>URXUAB</td><td>Mex-Hisp   </td><td>Non-Hisp-WT</td><td>222</td><td>625</td><td> 0.5747458</td><td>0.56546</td><td>0.62829</td><td>ns  </td></tr>\n",
              "\t<tr><th scope=row>3</th><td>URXUAB</td><td><span style=white-space:pre-wrap>Mex-Hisp   </span></td><td>Non-Hisp-BK</td><td>222</td><td>364</td><td> 4.2261898</td><td>&lt;0.0001</td><td>&lt;0.0001</td><td>****</td></tr>\n",
              "\t<tr><th scope=row>4</th><td>URXUAB</td><td><span style=white-space:pre-wrap>Mex-Hisp   </span></td><td><span style=white-space:pre-wrap>Others     </span></td><td>222</td><td>266</td><td> 5.3750984</td><td>&lt;0.0001</td><td>&lt;0.0001</td><td>****</td></tr>\n",
              "\t<tr><th scope=row>5</th><td>URXUAB</td><td>Other-Hisp </td><td>Non-Hisp-WT</td><td>148</td><td>625</td><td>-3.7513413</td><td>0.00018</td><td>0.00035</td><td>*** </td></tr>\n",
              "\t<tr><th scope=row>6</th><td>URXUAB</td><td>Other-Hisp </td><td>Non-Hisp-BK</td><td>148</td><td>364</td><td>-0.2866485</td><td>0.77438</td><td>0.77438</td><td>ns  </td></tr>\n",
              "\t<tr><th scope=row>7</th><td>URXUAB</td><td>Other-Hisp </td><td>Others     </td><td>148</td><td>266</td><td> 0.9828843</td><td>0.32566</td><td>0.40708</td><td>ns  </td></tr>\n",
              "\t<tr><th scope=row>8</th><td>URXUAB</td><td>Non-Hisp-WT</td><td>Non-Hisp-BK</td><td>625</td><td>364</td><td> 4.7772997</td><td>&lt;0.0001</td><td>&lt;0.0001</td><td>****</td></tr>\n",
              "\t<tr><th scope=row>9</th><td>URXUAB</td><td>Non-Hisp-WT</td><td><span style=white-space:pre-wrap>Others     </span></td><td>625</td><td>266</td><td> 6.0611359</td><td>&lt;0.0001</td><td>&lt;0.0001</td><td>****</td></tr>\n",
              "\t<tr><th scope=row>10</th><td>URXUAB</td><td>Non-Hisp-BK</td><td>Others     </td><td>364</td><td>266</td><td> 1.5959828</td><td>0.11049</td><td>0.15785</td><td>ns  </td></tr>\n",
              "</tbody>\n",
              "</table>\n"
            ]
          },
          "metadata": {}
        }
      ]
    },
    {
      "cell_type": "markdown",
      "metadata": {
        "id": "mUoNHcO_Voi0"
      },
      "source": [
        "**Poverty Income Ratio**"
      ]
    },
    {
      "cell_type": "code",
      "metadata": {
        "id": "syG8MDKV4_d-",
        "colab": {
          "base_uri": "https://localhost:8080/",
          "height": 593
        },
        "outputId": "690d4ae3-6a27-47e1-8c0b-f4c497730b17"
      },
      "source": [
        "HSV_df_backup_postprep -> HSV_df\n",
        "\n",
        "HSV_df %<>% select(URXUAB, PIR) %>% filter(URXUAB != 'NA') %>% filter(PIR != 'NA')\n",
        "\n",
        "# kruskal wallis test\n",
        "kruskal.test(URXUAB~ PIR , data = HSV_df) \n",
        "\n",
        "cat(\"\\n\\n\")\n",
        "\n",
        "cat(\"\\n Numerical Summaries \\n\")\n",
        "# numerical summary\n",
        "HSV_df %$% num_summary(URXUAB, PIR) \n",
        "\n",
        "cat(\"\\n\\n\")\n",
        "\n",
        "cat(\"\\n Multiple Comparison \\n\")\n",
        "# multiple comparison\n",
        "dunn_test(URXUAB~ PIR , data = HSV_df, p.adjust.method = \"fdr\") %>%\n",
        "p_format(digits = 2, leading.zero = TRUE) ; HSV_df_backup_postprep -> HSV_df\n",
        "\n"
      ],
      "execution_count": null,
      "outputs": [
        {
          "output_type": "display_data",
          "data": {
            "text/plain": [
              "\n",
              "\tKruskal-Wallis rank sum test\n",
              "\n",
              "data:  URXUAB by PIR\n",
              "Kruskal-Wallis chi-squared = 9.6992, df = 2, p-value = 0.007832\n"
            ]
          },
          "metadata": {}
        },
        {
          "output_type": "stream",
          "name": "stdout",
          "text": [
            "\n",
            "\n",
            "\n",
            " Numerical Summaries \n"
          ]
        },
        {
          "output_type": "display_data",
          "data": {
            "text/plain": [
              "  variable Count Mean     Min  Q1   Q2    Q3    Max    Sd      \n",
              "1 1.0      538   5.020483 0.82 0.82 0.820 3.310 126.29 12.01406\n",
              "2 2.0      541   8.659945 0.82 0.82 0.820 4.790 749.00 37.90105\n",
              "3 3.0      408   8.895711 0.82 0.82 1.295 5.765 233.40 24.85190"
            ],
            "text/latex": "A tibble: 3 × 9\n\\begin{tabular}{lllllllll}\n variable & Count & Mean & Min & Q1 & Q2 & Q3 & Max & Sd\\\\\n <fct> & <int> & <dbl> & <dbl> & <dbl> & <dbl> & <dbl> & <dbl> & <dbl>\\\\\n\\hline\n\t 1.0 & 538 & 5.020483 & 0.82 & 0.82 & 0.820 & 3.310 & 126.29 & 12.01406\\\\\n\t 2.0 & 541 & 8.659945 & 0.82 & 0.82 & 0.820 & 4.790 & 749.00 & 37.90105\\\\\n\t 3.0 & 408 & 8.895711 & 0.82 & 0.82 & 1.295 & 5.765 & 233.40 & 24.85190\\\\\n\\end{tabular}\n",
            "text/markdown": "\nA tibble: 3 × 9\n\n| variable &lt;fct&gt; | Count &lt;int&gt; | Mean &lt;dbl&gt; | Min &lt;dbl&gt; | Q1 &lt;dbl&gt; | Q2 &lt;dbl&gt; | Q3 &lt;dbl&gt; | Max &lt;dbl&gt; | Sd &lt;dbl&gt; |\n|---|---|---|---|---|---|---|---|---|\n| 1.0 | 538 | 5.020483 | 0.82 | 0.82 | 0.820 | 3.310 | 126.29 | 12.01406 |\n| 2.0 | 541 | 8.659945 | 0.82 | 0.82 | 0.820 | 4.790 | 749.00 | 37.90105 |\n| 3.0 | 408 | 8.895711 | 0.82 | 0.82 | 1.295 | 5.765 | 233.40 | 24.85190 |\n\n",
            "text/html": [
              "<table class=\"dataframe\">\n",
              "<caption>A tibble: 3 × 9</caption>\n",
              "<thead>\n",
              "\t<tr><th scope=col>variable</th><th scope=col>Count</th><th scope=col>Mean</th><th scope=col>Min</th><th scope=col>Q1</th><th scope=col>Q2</th><th scope=col>Q3</th><th scope=col>Max</th><th scope=col>Sd</th></tr>\n",
              "\t<tr><th scope=col>&lt;fct&gt;</th><th scope=col>&lt;int&gt;</th><th scope=col>&lt;dbl&gt;</th><th scope=col>&lt;dbl&gt;</th><th scope=col>&lt;dbl&gt;</th><th scope=col>&lt;dbl&gt;</th><th scope=col>&lt;dbl&gt;</th><th scope=col>&lt;dbl&gt;</th><th scope=col>&lt;dbl&gt;</th></tr>\n",
              "</thead>\n",
              "<tbody>\n",
              "\t<tr><td>1.0</td><td>538</td><td>5.020483</td><td>0.82</td><td>0.82</td><td>0.820</td><td>3.310</td><td>126.29</td><td>12.01406</td></tr>\n",
              "\t<tr><td>2.0</td><td>541</td><td>8.659945</td><td>0.82</td><td>0.82</td><td>0.820</td><td>4.790</td><td>749.00</td><td>37.90105</td></tr>\n",
              "\t<tr><td>3.0</td><td>408</td><td>8.895711</td><td>0.82</td><td>0.82</td><td>1.295</td><td>5.765</td><td>233.40</td><td>24.85190</td></tr>\n",
              "</tbody>\n",
              "</table>\n"
            ]
          },
          "metadata": {}
        },
        {
          "output_type": "stream",
          "name": "stdout",
          "text": [
            "\n",
            "\n",
            "\n",
            " Multiple Comparison \n"
          ]
        },
        {
          "output_type": "display_data",
          "data": {
            "text/plain": [
              "  .y.    group1 group2 n1  n2  statistic p      p.adj p.adj.signif\n",
              "1 URXUAB 1.0    2.0    538 541 2.3719630 0.0177 0.027 *           \n",
              "2 URXUAB 1.0    3.0    538 408 2.8896884 0.0039 0.012 *           \n",
              "3 URXUAB 2.0    3.0    541 408 0.6906068 0.4898 0.49  ns          "
            ],
            "text/latex": "A rstatix\\_test: 3 × 9\n\\begin{tabular}{r|lllllllll}\n  & .y. & group1 & group2 & n1 & n2 & statistic & p & p.adj & p.adj.signif\\\\\n  & <chr> & <chr> & <chr> & <int> & <int> & <dbl> & <chr> & <chr> & <chr>\\\\\n\\hline\n\t1 & URXUAB & 1.0 & 2.0 & 538 & 541 & 2.3719630 & 0.0177 & 0.027 & * \\\\\n\t2 & URXUAB & 1.0 & 3.0 & 538 & 408 & 2.8896884 & 0.0039 & 0.012 & * \\\\\n\t3 & URXUAB & 2.0 & 3.0 & 541 & 408 & 0.6906068 & 0.4898 & 0.49  & ns\\\\\n\\end{tabular}\n",
            "text/markdown": "\nA rstatix_test: 3 × 9\n\n| <!--/--> | .y. &lt;chr&gt; | group1 &lt;chr&gt; | group2 &lt;chr&gt; | n1 &lt;int&gt; | n2 &lt;int&gt; | statistic &lt;dbl&gt; | p &lt;chr&gt; | p.adj &lt;chr&gt; | p.adj.signif &lt;chr&gt; |\n|---|---|---|---|---|---|---|---|---|---|\n| 1 | URXUAB | 1.0 | 2.0 | 538 | 541 | 2.3719630 | 0.0177 | 0.027 | *  |\n| 2 | URXUAB | 1.0 | 3.0 | 538 | 408 | 2.8896884 | 0.0039 | 0.012 | *  |\n| 3 | URXUAB | 2.0 | 3.0 | 541 | 408 | 0.6906068 | 0.4898 | 0.49  | ns |\n\n",
            "text/html": [
              "<table class=\"dataframe\">\n",
              "<caption>A rstatix_test: 3 × 9</caption>\n",
              "<thead>\n",
              "\t<tr><th></th><th scope=col>.y.</th><th scope=col>group1</th><th scope=col>group2</th><th scope=col>n1</th><th scope=col>n2</th><th scope=col>statistic</th><th scope=col>p</th><th scope=col>p.adj</th><th scope=col>p.adj.signif</th></tr>\n",
              "\t<tr><th></th><th scope=col>&lt;chr&gt;</th><th scope=col>&lt;chr&gt;</th><th scope=col>&lt;chr&gt;</th><th scope=col>&lt;int&gt;</th><th scope=col>&lt;int&gt;</th><th scope=col>&lt;dbl&gt;</th><th scope=col>&lt;chr&gt;</th><th scope=col>&lt;chr&gt;</th><th scope=col>&lt;chr&gt;</th></tr>\n",
              "</thead>\n",
              "<tbody>\n",
              "\t<tr><th scope=row>1</th><td>URXUAB</td><td>1.0</td><td>2.0</td><td>538</td><td>541</td><td>2.3719630</td><td>0.0177</td><td>0.027</td><td>* </td></tr>\n",
              "\t<tr><th scope=row>2</th><td>URXUAB</td><td>1.0</td><td>3.0</td><td>538</td><td>408</td><td>2.8896884</td><td>0.0039</td><td>0.012</td><td>* </td></tr>\n",
              "\t<tr><th scope=row>3</th><td>URXUAB</td><td>2.0</td><td>3.0</td><td>541</td><td>408</td><td>0.6906068</td><td>0.4898</td><td>0.49 </td><td>ns</td></tr>\n",
              "</tbody>\n",
              "</table>\n"
            ]
          },
          "metadata": {}
        }
      ]
    },
    {
      "cell_type": "markdown",
      "metadata": {
        "id": "d_WqkI-5Vt7F"
      },
      "source": [
        "**Alcohol**"
      ]
    },
    {
      "cell_type": "code",
      "metadata": {
        "id": "lYQqwD035w29",
        "colab": {
          "base_uri": "https://localhost:8080/",
          "height": 499
        },
        "outputId": "19dab4e2-c7af-46d6-dffe-5eb9eaffd68e"
      },
      "source": [
        "HSV_df_backup_postprep -> HSV_df\n",
        "\n",
        "HSV_df %<>% select(URXUAB, ALQ101) %>% filter(URXUAB != 'NA') %>% filter(ALQ101 != 'NA')\n",
        "\n",
        "# kruskal wallis test\n",
        "kruskal.test(URXUAB~ ALQ101 , data = HSV_df) \n",
        "\n",
        "cat(\"\\n\\n\")\n",
        "\n",
        "cat(\"\\n Numerical Summaries \\n\")\n",
        "# numerical summary\n",
        "HSV_df %$% num_summary(URXUAB, ALQ101) \n",
        "\n",
        "cat(\"\\n\\n\")\n",
        "\n",
        "cat(\"\\n Multiple Comparison \\n\")\n",
        "# multiple comparison\n",
        "dunn_test(URXUAB~ ALQ101 , data = HSV_df, p.adjust.method = \"fdr\") %>%\n",
        "p_format(digits = 2, leading.zero = TRUE) ; HSV_df_backup_postprep -> HSV_df"
      ],
      "execution_count": null,
      "outputs": [
        {
          "output_type": "display_data",
          "data": {
            "text/plain": [
              "\n",
              "\tKruskal-Wallis rank sum test\n",
              "\n",
              "data:  URXUAB by ALQ101\n",
              "Kruskal-Wallis chi-squared = 3.146, df = 1, p-value = 0.07611\n"
            ]
          },
          "metadata": {}
        },
        {
          "output_type": "stream",
          "name": "stdout",
          "text": [
            "\n",
            "\n",
            "\n",
            " Numerical Summaries \n"
          ]
        },
        {
          "output_type": "display_data",
          "data": {
            "text/plain": [
              "  variable Count Mean     Min  Q1   Q2   Q3     Max    Sd      \n",
              "1 Yes      1272  7.569764 0.82 0.82 0.82 4.4325 749.00 29.37366\n",
              "2 No        232  8.596810 0.82 0.82 0.82 3.2475 194.64 26.02749"
            ],
            "text/latex": "A tibble: 2 × 9\n\\begin{tabular}{lllllllll}\n variable & Count & Mean & Min & Q1 & Q2 & Q3 & Max & Sd\\\\\n <fct> & <int> & <dbl> & <dbl> & <dbl> & <dbl> & <dbl> & <dbl> & <dbl>\\\\\n\\hline\n\t Yes & 1272 & 7.569764 & 0.82 & 0.82 & 0.82 & 4.4325 & 749.00 & 29.37366\\\\\n\t No  &  232 & 8.596810 & 0.82 & 0.82 & 0.82 & 3.2475 & 194.64 & 26.02749\\\\\n\\end{tabular}\n",
            "text/markdown": "\nA tibble: 2 × 9\n\n| variable &lt;fct&gt; | Count &lt;int&gt; | Mean &lt;dbl&gt; | Min &lt;dbl&gt; | Q1 &lt;dbl&gt; | Q2 &lt;dbl&gt; | Q3 &lt;dbl&gt; | Max &lt;dbl&gt; | Sd &lt;dbl&gt; |\n|---|---|---|---|---|---|---|---|---|\n| Yes | 1272 | 7.569764 | 0.82 | 0.82 | 0.82 | 4.4325 | 749.00 | 29.37366 |\n| No  |  232 | 8.596810 | 0.82 | 0.82 | 0.82 | 3.2475 | 194.64 | 26.02749 |\n\n",
            "text/html": [
              "<table class=\"dataframe\">\n",
              "<caption>A tibble: 2 × 9</caption>\n",
              "<thead>\n",
              "\t<tr><th scope=col>variable</th><th scope=col>Count</th><th scope=col>Mean</th><th scope=col>Min</th><th scope=col>Q1</th><th scope=col>Q2</th><th scope=col>Q3</th><th scope=col>Max</th><th scope=col>Sd</th></tr>\n",
              "\t<tr><th scope=col>&lt;fct&gt;</th><th scope=col>&lt;int&gt;</th><th scope=col>&lt;dbl&gt;</th><th scope=col>&lt;dbl&gt;</th><th scope=col>&lt;dbl&gt;</th><th scope=col>&lt;dbl&gt;</th><th scope=col>&lt;dbl&gt;</th><th scope=col>&lt;dbl&gt;</th><th scope=col>&lt;dbl&gt;</th></tr>\n",
              "</thead>\n",
              "<tbody>\n",
              "\t<tr><td>Yes</td><td>1272</td><td>7.569764</td><td>0.82</td><td>0.82</td><td>0.82</td><td>4.4325</td><td>749.00</td><td>29.37366</td></tr>\n",
              "\t<tr><td>No </td><td> 232</td><td>8.596810</td><td>0.82</td><td>0.82</td><td>0.82</td><td>3.2475</td><td>194.64</td><td>26.02749</td></tr>\n",
              "</tbody>\n",
              "</table>\n"
            ]
          },
          "metadata": {}
        },
        {
          "output_type": "stream",
          "name": "stdout",
          "text": [
            "\n",
            "\n",
            "\n",
            " Multiple Comparison \n"
          ]
        },
        {
          "output_type": "display_data",
          "data": {
            "text/plain": [
              "  .y.    group1 group2 n1   n2  statistic p     p.adj p.adj.signif\n",
              "1 URXUAB Yes    No     1272 232 -1.773693 0.076 0.076 ns          "
            ],
            "text/latex": "A rstatix\\_test: 1 × 9\n\\begin{tabular}{r|lllllllll}\n  & .y. & group1 & group2 & n1 & n2 & statistic & p & p.adj & p.adj.signif\\\\\n  & <chr> & <chr> & <chr> & <int> & <int> & <dbl> & <chr> & <chr> & <chr>\\\\\n\\hline\n\t1 & URXUAB & Yes & No & 1272 & 232 & -1.773693 & 0.076 & 0.076 & ns\\\\\n\\end{tabular}\n",
            "text/markdown": "\nA rstatix_test: 1 × 9\n\n| <!--/--> | .y. &lt;chr&gt; | group1 &lt;chr&gt; | group2 &lt;chr&gt; | n1 &lt;int&gt; | n2 &lt;int&gt; | statistic &lt;dbl&gt; | p &lt;chr&gt; | p.adj &lt;chr&gt; | p.adj.signif &lt;chr&gt; |\n|---|---|---|---|---|---|---|---|---|---|\n| 1 | URXUAB | Yes | No | 1272 | 232 | -1.773693 | 0.076 | 0.076 | ns |\n\n",
            "text/html": [
              "<table class=\"dataframe\">\n",
              "<caption>A rstatix_test: 1 × 9</caption>\n",
              "<thead>\n",
              "\t<tr><th></th><th scope=col>.y.</th><th scope=col>group1</th><th scope=col>group2</th><th scope=col>n1</th><th scope=col>n2</th><th scope=col>statistic</th><th scope=col>p</th><th scope=col>p.adj</th><th scope=col>p.adj.signif</th></tr>\n",
              "\t<tr><th></th><th scope=col>&lt;chr&gt;</th><th scope=col>&lt;chr&gt;</th><th scope=col>&lt;chr&gt;</th><th scope=col>&lt;int&gt;</th><th scope=col>&lt;int&gt;</th><th scope=col>&lt;dbl&gt;</th><th scope=col>&lt;chr&gt;</th><th scope=col>&lt;chr&gt;</th><th scope=col>&lt;chr&gt;</th></tr>\n",
              "</thead>\n",
              "<tbody>\n",
              "\t<tr><th scope=row>1</th><td>URXUAB</td><td>Yes</td><td>No</td><td>1272</td><td>232</td><td>-1.773693</td><td>0.076</td><td>0.076</td><td>ns</td></tr>\n",
              "</tbody>\n",
              "</table>\n"
            ]
          },
          "metadata": {}
        }
      ]
    },
    {
      "cell_type": "markdown",
      "metadata": {
        "id": "zLQUcgPbVwv-"
      },
      "source": [
        "**Cotinine**"
      ]
    },
    {
      "cell_type": "code",
      "metadata": {
        "id": "aRsHmUI35xk3",
        "colab": {
          "base_uri": "https://localhost:8080/",
          "height": 104
        },
        "outputId": "0e5490cb-94bf-4aaf-c8f5-a1be118a27c4"
      },
      "source": [
        "\n",
        "# Cotinine\n",
        "kruskal.test(URXUAB~ LBDCOTLC , data = HSV_df)"
      ],
      "execution_count": null,
      "outputs": [
        {
          "output_type": "display_data",
          "data": {
            "text/plain": [
              "\n",
              "\tKruskal-Wallis rank sum test\n",
              "\n",
              "data:  URXUAB by LBDCOTLC\n",
              "Kruskal-Wallis chi-squared = 0.75461, df = 1, p-value = 0.385\n"
            ]
          },
          "metadata": {}
        }
      ]
    },
    {
      "cell_type": "markdown",
      "metadata": {
        "id": "13kg0dSLoSQJ"
      },
      "source": [
        "###  **Arsenic 4(URXUAC - Urinary Arsenocholine (ug/L))** \n",
        "\n",
        "At alpha level of 0.05, for Urinary Arsenocholine (ug/L), there is statistical significance for  **race and poverty index ratio**.\n",
        "\n",
        "There is no statistical significance for education, marital status, BMI and cotinine, alcohol."
      ]
    },
    {
      "cell_type": "markdown",
      "metadata": {
        "id": "Aqxqm3aiVz37"
      },
      "source": [
        "**BMI**"
      ]
    },
    {
      "cell_type": "code",
      "metadata": {
        "id": "0xFZyhI1ooSi",
        "colab": {
          "base_uri": "https://localhost:8080/",
          "height": 104
        },
        "outputId": "bab7e3d4-f313-43b7-e081-dffb7ef2935e"
      },
      "source": [
        "# BMI Categorical\n",
        "kruskal.test(URXUAC~ BMI.f , data = HSV_df) "
      ],
      "execution_count": null,
      "outputs": [
        {
          "output_type": "display_data",
          "data": {
            "text/plain": [
              "\n",
              "\tKruskal-Wallis rank sum test\n",
              "\n",
              "data:  URXUAC by BMI.f\n",
              "Kruskal-Wallis chi-squared = 6.4222, df = 3, p-value = 0.09278\n"
            ]
          },
          "metadata": {}
        }
      ]
    },
    {
      "cell_type": "markdown",
      "metadata": {
        "id": "HlMaYk-_V2zG"
      },
      "source": [
        "**Education**"
      ]
    },
    {
      "cell_type": "code",
      "metadata": {
        "id": "8v7D1kRG5_IG",
        "colab": {
          "base_uri": "https://localhost:8080/",
          "height": 104
        },
        "outputId": "f418bf4f-b67b-4633-b4ad-3d534bd92bc5"
      },
      "source": [
        "\n",
        "# Education\n",
        "kruskal.test(URXUAC~ DMDEDUC2 , data = HSV_df) "
      ],
      "execution_count": null,
      "outputs": [
        {
          "output_type": "display_data",
          "data": {
            "text/plain": [
              "\n",
              "\tKruskal-Wallis rank sum test\n",
              "\n",
              "data:  URXUAC by DMDEDUC2\n",
              "Kruskal-Wallis chi-squared = 2.7374, df = 4, p-value = 0.6027\n"
            ]
          },
          "metadata": {}
        }
      ]
    },
    {
      "cell_type": "markdown",
      "metadata": {
        "id": "7RV9Q77xV5-m"
      },
      "source": [
        "**Marital Status**"
      ]
    },
    {
      "cell_type": "code",
      "metadata": {
        "id": "W0JyB6Zh6Aue",
        "colab": {
          "base_uri": "https://localhost:8080/",
          "height": 104
        },
        "outputId": "18b76f0e-c868-40f0-9829-a2a94ad39bb0"
      },
      "source": [
        "\n",
        "# Marital Status\n",
        "kruskal.test(URXUAC~ DMDMARTL , data = HSV_df) "
      ],
      "execution_count": null,
      "outputs": [
        {
          "output_type": "display_data",
          "data": {
            "text/plain": [
              "\n",
              "\tKruskal-Wallis rank sum test\n",
              "\n",
              "data:  URXUAC by DMDMARTL\n",
              "Kruskal-Wallis chi-squared = 2.8889, df = 5, p-value = 0.7171\n"
            ]
          },
          "metadata": {}
        }
      ]
    },
    {
      "cell_type": "markdown",
      "metadata": {
        "id": "c2adW-1TWApT"
      },
      "source": [
        "**Race**"
      ]
    },
    {
      "cell_type": "code",
      "metadata": {
        "id": "ntYXLkFZ6BVj",
        "colab": {
          "base_uri": "https://localhost:8080/",
          "height": 875
        },
        "outputId": "72179701-1782-4818-ee31-7da40318f21c"
      },
      "source": [
        "HSV_df_backup_postprep -> HSV_df\n",
        "\n",
        "HSV_df %<>% select(URXUAC, RIDRETH1) %>% filter(URXUAC != 'NA') %>% filter(RIDRETH1 != 'NA')\n",
        "\n",
        "# kruskal wallis test\n",
        "kruskal.test(URXUAC~ RIDRETH1 , data = HSV_df) \n",
        "\n",
        "cat(\"\\n\\n\")\n",
        "\n",
        "cat(\"\\n Numerical Summaries \\n\")\n",
        "# numerical summary\n",
        "HSV_df %$% num_summary(URXUAC, RIDRETH1) \n",
        "\n",
        "cat(\"\\n\\n\")\n",
        "\n",
        "cat(\"\\n Multiple Comparison \\n\")\n",
        "# multiple comparison\n",
        "dunn_test(URXUAC~ RIDRETH1 , data = HSV_df, p.adjust.method = \"fdr\") %>%\n",
        "p_format(digits = 2, leading.zero = TRUE) ; HSV_df_backup_postprep -> HSV_df"
      ],
      "execution_count": null,
      "outputs": [
        {
          "output_type": "display_data",
          "data": {
            "text/plain": [
              "\n",
              "\tKruskal-Wallis rank sum test\n",
              "\n",
              "data:  URXUAC by RIDRETH1\n",
              "Kruskal-Wallis chi-squared = 33.499, df = 4, p-value = 9.44e-07\n"
            ]
          },
          "metadata": {}
        },
        {
          "output_type": "stream",
          "name": "stdout",
          "text": [
            "\n",
            "\n",
            "\n",
            " Numerical Summaries \n"
          ]
        },
        {
          "output_type": "display_data",
          "data": {
            "text/plain": [
              "  variable    Count Mean      Min  Q1   Q2   Q3   Max   Sd       \n",
              "1 Mex-Hisp    222   0.1395495 0.08 0.08 0.08 0.08  1.67 0.1669686\n",
              "2 Other-Hisp  148   0.1358108 0.08 0.08 0.08 0.08  1.50 0.1736210\n",
              "3 Non-Hisp-WT 625   0.1144320 0.08 0.08 0.08 0.08  2.81 0.1571492\n",
              "4 Non-Hisp-BK 364   0.1613736 0.08 0.08 0.08 0.08  1.36 0.1996754\n",
              "5 Others      266   0.2333083 0.08 0.08 0.08 0.08 14.30 0.9540039"
            ],
            "text/latex": "A tibble: 5 × 9\n\\begin{tabular}{lllllllll}\n variable & Count & Mean & Min & Q1 & Q2 & Q3 & Max & Sd\\\\\n <fct> & <int> & <dbl> & <dbl> & <dbl> & <dbl> & <dbl> & <dbl> & <dbl>\\\\\n\\hline\n\t Mex-Hisp    & 222 & 0.1395495 & 0.08 & 0.08 & 0.08 & 0.08 &  1.67 & 0.1669686\\\\\n\t Other-Hisp  & 148 & 0.1358108 & 0.08 & 0.08 & 0.08 & 0.08 &  1.50 & 0.1736210\\\\\n\t Non-Hisp-WT & 625 & 0.1144320 & 0.08 & 0.08 & 0.08 & 0.08 &  2.81 & 0.1571492\\\\\n\t Non-Hisp-BK & 364 & 0.1613736 & 0.08 & 0.08 & 0.08 & 0.08 &  1.36 & 0.1996754\\\\\n\t Others      & 266 & 0.2333083 & 0.08 & 0.08 & 0.08 & 0.08 & 14.30 & 0.9540039\\\\\n\\end{tabular}\n",
            "text/markdown": "\nA tibble: 5 × 9\n\n| variable &lt;fct&gt; | Count &lt;int&gt; | Mean &lt;dbl&gt; | Min &lt;dbl&gt; | Q1 &lt;dbl&gt; | Q2 &lt;dbl&gt; | Q3 &lt;dbl&gt; | Max &lt;dbl&gt; | Sd &lt;dbl&gt; |\n|---|---|---|---|---|---|---|---|---|\n| Mex-Hisp    | 222 | 0.1395495 | 0.08 | 0.08 | 0.08 | 0.08 |  1.67 | 0.1669686 |\n| Other-Hisp  | 148 | 0.1358108 | 0.08 | 0.08 | 0.08 | 0.08 |  1.50 | 0.1736210 |\n| Non-Hisp-WT | 625 | 0.1144320 | 0.08 | 0.08 | 0.08 | 0.08 |  2.81 | 0.1571492 |\n| Non-Hisp-BK | 364 | 0.1613736 | 0.08 | 0.08 | 0.08 | 0.08 |  1.36 | 0.1996754 |\n| Others      | 266 | 0.2333083 | 0.08 | 0.08 | 0.08 | 0.08 | 14.30 | 0.9540039 |\n\n",
            "text/html": [
              "<table class=\"dataframe\">\n",
              "<caption>A tibble: 5 × 9</caption>\n",
              "<thead>\n",
              "\t<tr><th scope=col>variable</th><th scope=col>Count</th><th scope=col>Mean</th><th scope=col>Min</th><th scope=col>Q1</th><th scope=col>Q2</th><th scope=col>Q3</th><th scope=col>Max</th><th scope=col>Sd</th></tr>\n",
              "\t<tr><th scope=col>&lt;fct&gt;</th><th scope=col>&lt;int&gt;</th><th scope=col>&lt;dbl&gt;</th><th scope=col>&lt;dbl&gt;</th><th scope=col>&lt;dbl&gt;</th><th scope=col>&lt;dbl&gt;</th><th scope=col>&lt;dbl&gt;</th><th scope=col>&lt;dbl&gt;</th><th scope=col>&lt;dbl&gt;</th></tr>\n",
              "</thead>\n",
              "<tbody>\n",
              "\t<tr><td>Mex-Hisp   </td><td>222</td><td>0.1395495</td><td>0.08</td><td>0.08</td><td>0.08</td><td>0.08</td><td> 1.67</td><td>0.1669686</td></tr>\n",
              "\t<tr><td>Other-Hisp </td><td>148</td><td>0.1358108</td><td>0.08</td><td>0.08</td><td>0.08</td><td>0.08</td><td> 1.50</td><td>0.1736210</td></tr>\n",
              "\t<tr><td>Non-Hisp-WT</td><td>625</td><td>0.1144320</td><td>0.08</td><td>0.08</td><td>0.08</td><td>0.08</td><td> 2.81</td><td>0.1571492</td></tr>\n",
              "\t<tr><td>Non-Hisp-BK</td><td>364</td><td>0.1613736</td><td>0.08</td><td>0.08</td><td>0.08</td><td>0.08</td><td> 1.36</td><td>0.1996754</td></tr>\n",
              "\t<tr><td>Others     </td><td>266</td><td>0.2333083</td><td>0.08</td><td>0.08</td><td>0.08</td><td>0.08</td><td>14.30</td><td>0.9540039</td></tr>\n",
              "</tbody>\n",
              "</table>\n"
            ]
          },
          "metadata": {}
        },
        {
          "output_type": "stream",
          "name": "stdout",
          "text": [
            "\n",
            "\n",
            "\n",
            " Multiple Comparison \n"
          ]
        },
        {
          "output_type": "display_data",
          "data": {
            "text/plain": [
              "   .y.    group1      group2      n1  n2  statistic   p       p.adj  \n",
              "1  URXUAC Mex-Hisp    Other-Hisp  222 148 -0.06685311 0.9467  0.9467 \n",
              "2  URXUAC Mex-Hisp    Non-Hisp-WT 222 625 -2.88633375 0.0039  0.01299\n",
              "3  URXUAC Mex-Hisp    Non-Hisp-BK 222 364  1.23289679 0.2176  0.4171 \n",
              "4  URXUAC Mex-Hisp    Others      222 266  0.90826204 0.3637  0.47742\n",
              "5  URXUAC Other-Hisp  Non-Hisp-WT 148 625 -2.38930139 0.0169  0.0422 \n",
              "6  URXUAC Other-Hisp  Non-Hisp-BK 148 364  1.14972002 0.2503  0.4171 \n",
              "7  URXUAC Other-Hisp  Others      148 266  0.87432814 0.3819  0.47742\n",
              "8  URXUAC Non-Hisp-WT Non-Hisp-BK 625 364  5.01265957 <0.0001 <0.0001\n",
              "9  URXUAC Non-Hisp-WT Others      625 266  4.20828239 <0.0001 0.00013\n",
              "10 URXUAC Non-Hisp-BK Others      364 266 -0.27798859 0.781   0.8678 \n",
              "   p.adj.signif\n",
              "1  ns          \n",
              "2  *           \n",
              "3  ns          \n",
              "4  ns          \n",
              "5  *           \n",
              "6  ns          \n",
              "7  ns          \n",
              "8  ****        \n",
              "9  ***         \n",
              "10 ns          "
            ],
            "text/latex": "A rstatix\\_test: 10 × 9\n\\begin{tabular}{r|lllllllll}\n  & .y. & group1 & group2 & n1 & n2 & statistic & p & p.adj & p.adj.signif\\\\\n  & <chr> & <chr> & <chr> & <int> & <int> & <dbl> & <chr> & <chr> & <chr>\\\\\n\\hline\n\t1 & URXUAC & Mex-Hisp    & Other-Hisp  & 222 & 148 & -0.06685311 & 0.9467  & 0.9467  & ns  \\\\\n\t2 & URXUAC & Mex-Hisp    & Non-Hisp-WT & 222 & 625 & -2.88633375 & 0.0039  & 0.01299 & *   \\\\\n\t3 & URXUAC & Mex-Hisp    & Non-Hisp-BK & 222 & 364 &  1.23289679 & 0.2176  & 0.4171  & ns  \\\\\n\t4 & URXUAC & Mex-Hisp    & Others      & 222 & 266 &  0.90826204 & 0.3637  & 0.47742 & ns  \\\\\n\t5 & URXUAC & Other-Hisp  & Non-Hisp-WT & 148 & 625 & -2.38930139 & 0.0169  & 0.0422  & *   \\\\\n\t6 & URXUAC & Other-Hisp  & Non-Hisp-BK & 148 & 364 &  1.14972002 & 0.2503  & 0.4171  & ns  \\\\\n\t7 & URXUAC & Other-Hisp  & Others      & 148 & 266 &  0.87432814 & 0.3819  & 0.47742 & ns  \\\\\n\t8 & URXUAC & Non-Hisp-WT & Non-Hisp-BK & 625 & 364 &  5.01265957 & <0.0001 & <0.0001 & ****\\\\\n\t9 & URXUAC & Non-Hisp-WT & Others      & 625 & 266 &  4.20828239 & <0.0001 & 0.00013 & *** \\\\\n\t10 & URXUAC & Non-Hisp-BK & Others      & 364 & 266 & -0.27798859 & 0.781   & 0.8678  & ns  \\\\\n\\end{tabular}\n",
            "text/markdown": "\nA rstatix_test: 10 × 9\n\n| <!--/--> | .y. &lt;chr&gt; | group1 &lt;chr&gt; | group2 &lt;chr&gt; | n1 &lt;int&gt; | n2 &lt;int&gt; | statistic &lt;dbl&gt; | p &lt;chr&gt; | p.adj &lt;chr&gt; | p.adj.signif &lt;chr&gt; |\n|---|---|---|---|---|---|---|---|---|---|\n| 1 | URXUAC | Mex-Hisp    | Other-Hisp  | 222 | 148 | -0.06685311 | 0.9467  | 0.9467  | ns   |\n| 2 | URXUAC | Mex-Hisp    | Non-Hisp-WT | 222 | 625 | -2.88633375 | 0.0039  | 0.01299 | *    |\n| 3 | URXUAC | Mex-Hisp    | Non-Hisp-BK | 222 | 364 |  1.23289679 | 0.2176  | 0.4171  | ns   |\n| 4 | URXUAC | Mex-Hisp    | Others      | 222 | 266 |  0.90826204 | 0.3637  | 0.47742 | ns   |\n| 5 | URXUAC | Other-Hisp  | Non-Hisp-WT | 148 | 625 | -2.38930139 | 0.0169  | 0.0422  | *    |\n| 6 | URXUAC | Other-Hisp  | Non-Hisp-BK | 148 | 364 |  1.14972002 | 0.2503  | 0.4171  | ns   |\n| 7 | URXUAC | Other-Hisp  | Others      | 148 | 266 |  0.87432814 | 0.3819  | 0.47742 | ns   |\n| 8 | URXUAC | Non-Hisp-WT | Non-Hisp-BK | 625 | 364 |  5.01265957 | &lt;0.0001 | &lt;0.0001 | **** |\n| 9 | URXUAC | Non-Hisp-WT | Others      | 625 | 266 |  4.20828239 | &lt;0.0001 | 0.00013 | ***  |\n| 10 | URXUAC | Non-Hisp-BK | Others      | 364 | 266 | -0.27798859 | 0.781   | 0.8678  | ns   |\n\n",
            "text/html": [
              "<table class=\"dataframe\">\n",
              "<caption>A rstatix_test: 10 × 9</caption>\n",
              "<thead>\n",
              "\t<tr><th></th><th scope=col>.y.</th><th scope=col>group1</th><th scope=col>group2</th><th scope=col>n1</th><th scope=col>n2</th><th scope=col>statistic</th><th scope=col>p</th><th scope=col>p.adj</th><th scope=col>p.adj.signif</th></tr>\n",
              "\t<tr><th></th><th scope=col>&lt;chr&gt;</th><th scope=col>&lt;chr&gt;</th><th scope=col>&lt;chr&gt;</th><th scope=col>&lt;int&gt;</th><th scope=col>&lt;int&gt;</th><th scope=col>&lt;dbl&gt;</th><th scope=col>&lt;chr&gt;</th><th scope=col>&lt;chr&gt;</th><th scope=col>&lt;chr&gt;</th></tr>\n",
              "</thead>\n",
              "<tbody>\n",
              "\t<tr><th scope=row>1</th><td>URXUAC</td><td>Mex-Hisp   </td><td>Other-Hisp </td><td>222</td><td>148</td><td>-0.06685311</td><td>0.9467 </td><td>0.9467 </td><td>ns  </td></tr>\n",
              "\t<tr><th scope=row>2</th><td>URXUAC</td><td>Mex-Hisp   </td><td>Non-Hisp-WT</td><td>222</td><td>625</td><td>-2.88633375</td><td>0.0039 </td><td>0.01299</td><td>*   </td></tr>\n",
              "\t<tr><th scope=row>3</th><td>URXUAC</td><td>Mex-Hisp   </td><td>Non-Hisp-BK</td><td>222</td><td>364</td><td> 1.23289679</td><td>0.2176 </td><td>0.4171 </td><td>ns  </td></tr>\n",
              "\t<tr><th scope=row>4</th><td>URXUAC</td><td>Mex-Hisp   </td><td>Others     </td><td>222</td><td>266</td><td> 0.90826204</td><td>0.3637 </td><td>0.47742</td><td>ns  </td></tr>\n",
              "\t<tr><th scope=row>5</th><td>URXUAC</td><td>Other-Hisp </td><td>Non-Hisp-WT</td><td>148</td><td>625</td><td>-2.38930139</td><td>0.0169 </td><td>0.0422 </td><td>*   </td></tr>\n",
              "\t<tr><th scope=row>6</th><td>URXUAC</td><td>Other-Hisp </td><td>Non-Hisp-BK</td><td>148</td><td>364</td><td> 1.14972002</td><td>0.2503 </td><td>0.4171 </td><td>ns  </td></tr>\n",
              "\t<tr><th scope=row>7</th><td>URXUAC</td><td>Other-Hisp </td><td>Others     </td><td>148</td><td>266</td><td> 0.87432814</td><td>0.3819 </td><td>0.47742</td><td>ns  </td></tr>\n",
              "\t<tr><th scope=row>8</th><td>URXUAC</td><td>Non-Hisp-WT</td><td>Non-Hisp-BK</td><td>625</td><td>364</td><td> 5.01265957</td><td>&lt;0.0001</td><td>&lt;0.0001</td><td>****</td></tr>\n",
              "\t<tr><th scope=row>9</th><td>URXUAC</td><td>Non-Hisp-WT</td><td><span style=white-space:pre-wrap>Others     </span></td><td>625</td><td>266</td><td> 4.20828239</td><td>&lt;0.0001</td><td>0.00013</td><td>*** </td></tr>\n",
              "\t<tr><th scope=row>10</th><td>URXUAC</td><td>Non-Hisp-BK</td><td>Others     </td><td>364</td><td>266</td><td>-0.27798859</td><td>0.781  </td><td>0.8678 </td><td>ns  </td></tr>\n",
              "</tbody>\n",
              "</table>\n"
            ]
          },
          "metadata": {}
        }
      ]
    },
    {
      "cell_type": "markdown",
      "metadata": {
        "id": "1AzzpGXnWGDo"
      },
      "source": [
        "**Poverty Income Ratio**"
      ]
    },
    {
      "cell_type": "code",
      "metadata": {
        "id": "1dSZaSdS6PLO",
        "colab": {
          "base_uri": "https://localhost:8080/",
          "height": 593
        },
        "outputId": "14ace8b1-269d-4cff-a6f4-bf55de4eebf5"
      },
      "source": [
        "HSV_df_backup_postprep -> HSV_df\n",
        "\n",
        "HSV_df %<>% select(URXUAC, PIR) %>% filter(URXUAC != 'NA') %>% filter(PIR != 'NA')\n",
        "\n",
        "# kruskal wallis test\n",
        "kruskal.test(URXUAC~ PIR , data = HSV_df) \n",
        "\n",
        "cat(\"\\n\\n\")\n",
        "\n",
        "cat(\"\\n Numerical Summaries \\n\")\n",
        "# numerical summary\n",
        "HSV_df %$% num_summary(URXUAC, PIR) \n",
        "\n",
        "cat(\"\\n\\n\")\n",
        "\n",
        "cat(\"\\n Multiple Comparison \\n\")\n",
        "# multiple comparison\n",
        "dunn_test(URXUAC~ PIR , data = HSV_df, p.adjust.method = \"fdr\") %>%\n",
        "p_format(digits = 2, leading.zero = TRUE) ; HSV_df_backup_postprep -> HSV_df"
      ],
      "execution_count": null,
      "outputs": [
        {
          "output_type": "display_data",
          "data": {
            "text/plain": [
              "\n",
              "\tKruskal-Wallis rank sum test\n",
              "\n",
              "data:  URXUAC by PIR\n",
              "Kruskal-Wallis chi-squared = 4.9397, df = 2, p-value = 0.0846\n"
            ]
          },
          "metadata": {}
        },
        {
          "output_type": "stream",
          "name": "stdout",
          "text": [
            "\n",
            "\n",
            "\n",
            " Numerical Summaries \n"
          ]
        },
        {
          "output_type": "display_data",
          "data": {
            "text/plain": [
              "  variable Count Mean      Min  Q1   Q2   Q3   Max   Sd       \n",
              "1 1.0      538   0.1366729 0.08 0.08 0.08 0.08  1.80 0.1788779\n",
              "2 2.0      541   0.1624030 0.08 0.08 0.08 0.08 14.30 0.6486734\n",
              "3 3.0      408   0.1585784 0.08 0.08 0.08 0.08  4.99 0.3040358"
            ],
            "text/latex": "A tibble: 3 × 9\n\\begin{tabular}{lllllllll}\n variable & Count & Mean & Min & Q1 & Q2 & Q3 & Max & Sd\\\\\n <fct> & <int> & <dbl> & <dbl> & <dbl> & <dbl> & <dbl> & <dbl> & <dbl>\\\\\n\\hline\n\t 1.0 & 538 & 0.1366729 & 0.08 & 0.08 & 0.08 & 0.08 &  1.80 & 0.1788779\\\\\n\t 2.0 & 541 & 0.1624030 & 0.08 & 0.08 & 0.08 & 0.08 & 14.30 & 0.6486734\\\\\n\t 3.0 & 408 & 0.1585784 & 0.08 & 0.08 & 0.08 & 0.08 &  4.99 & 0.3040358\\\\\n\\end{tabular}\n",
            "text/markdown": "\nA tibble: 3 × 9\n\n| variable &lt;fct&gt; | Count &lt;int&gt; | Mean &lt;dbl&gt; | Min &lt;dbl&gt; | Q1 &lt;dbl&gt; | Q2 &lt;dbl&gt; | Q3 &lt;dbl&gt; | Max &lt;dbl&gt; | Sd &lt;dbl&gt; |\n|---|---|---|---|---|---|---|---|---|\n| 1.0 | 538 | 0.1366729 | 0.08 | 0.08 | 0.08 | 0.08 |  1.80 | 0.1788779 |\n| 2.0 | 541 | 0.1624030 | 0.08 | 0.08 | 0.08 | 0.08 | 14.30 | 0.6486734 |\n| 3.0 | 408 | 0.1585784 | 0.08 | 0.08 | 0.08 | 0.08 |  4.99 | 0.3040358 |\n\n",
            "text/html": [
              "<table class=\"dataframe\">\n",
              "<caption>A tibble: 3 × 9</caption>\n",
              "<thead>\n",
              "\t<tr><th scope=col>variable</th><th scope=col>Count</th><th scope=col>Mean</th><th scope=col>Min</th><th scope=col>Q1</th><th scope=col>Q2</th><th scope=col>Q3</th><th scope=col>Max</th><th scope=col>Sd</th></tr>\n",
              "\t<tr><th scope=col>&lt;fct&gt;</th><th scope=col>&lt;int&gt;</th><th scope=col>&lt;dbl&gt;</th><th scope=col>&lt;dbl&gt;</th><th scope=col>&lt;dbl&gt;</th><th scope=col>&lt;dbl&gt;</th><th scope=col>&lt;dbl&gt;</th><th scope=col>&lt;dbl&gt;</th><th scope=col>&lt;dbl&gt;</th></tr>\n",
              "</thead>\n",
              "<tbody>\n",
              "\t<tr><td>1.0</td><td>538</td><td>0.1366729</td><td>0.08</td><td>0.08</td><td>0.08</td><td>0.08</td><td> 1.80</td><td>0.1788779</td></tr>\n",
              "\t<tr><td>2.0</td><td>541</td><td>0.1624030</td><td>0.08</td><td>0.08</td><td>0.08</td><td>0.08</td><td>14.30</td><td>0.6486734</td></tr>\n",
              "\t<tr><td>3.0</td><td>408</td><td>0.1585784</td><td>0.08</td><td>0.08</td><td>0.08</td><td>0.08</td><td> 4.99</td><td>0.3040358</td></tr>\n",
              "</tbody>\n",
              "</table>\n"
            ]
          },
          "metadata": {}
        },
        {
          "output_type": "stream",
          "name": "stdout",
          "text": [
            "\n",
            "\n",
            "\n",
            " Multiple Comparison \n"
          ]
        },
        {
          "output_type": "display_data",
          "data": {
            "text/plain": [
              "  .y.    group1 group2 n1  n2  statistic  p     p.adj p.adj.signif\n",
              "1 URXUAC 1.0    2.0    538 541 -0.4052945 0.685 0.69  ns          \n",
              "2 URXUAC 1.0    3.0    538 408  1.7461622 0.081 0.12  ns          \n",
              "3 URXUAC 2.0    3.0    541 408  2.1245999 0.034 0.1   ns          "
            ],
            "text/latex": "A rstatix\\_test: 3 × 9\n\\begin{tabular}{r|lllllllll}\n  & .y. & group1 & group2 & n1 & n2 & statistic & p & p.adj & p.adj.signif\\\\\n  & <chr> & <chr> & <chr> & <int> & <int> & <dbl> & <chr> & <chr> & <chr>\\\\\n\\hline\n\t1 & URXUAC & 1.0 & 2.0 & 538 & 541 & -0.4052945 & 0.685 & 0.69 & ns\\\\\n\t2 & URXUAC & 1.0 & 3.0 & 538 & 408 &  1.7461622 & 0.081 & 0.12 & ns\\\\\n\t3 & URXUAC & 2.0 & 3.0 & 541 & 408 &  2.1245999 & 0.034 & 0.1  & ns\\\\\n\\end{tabular}\n",
            "text/markdown": "\nA rstatix_test: 3 × 9\n\n| <!--/--> | .y. &lt;chr&gt; | group1 &lt;chr&gt; | group2 &lt;chr&gt; | n1 &lt;int&gt; | n2 &lt;int&gt; | statistic &lt;dbl&gt; | p &lt;chr&gt; | p.adj &lt;chr&gt; | p.adj.signif &lt;chr&gt; |\n|---|---|---|---|---|---|---|---|---|---|\n| 1 | URXUAC | 1.0 | 2.0 | 538 | 541 | -0.4052945 | 0.685 | 0.69 | ns |\n| 2 | URXUAC | 1.0 | 3.0 | 538 | 408 |  1.7461622 | 0.081 | 0.12 | ns |\n| 3 | URXUAC | 2.0 | 3.0 | 541 | 408 |  2.1245999 | 0.034 | 0.1  | ns |\n\n",
            "text/html": [
              "<table class=\"dataframe\">\n",
              "<caption>A rstatix_test: 3 × 9</caption>\n",
              "<thead>\n",
              "\t<tr><th></th><th scope=col>.y.</th><th scope=col>group1</th><th scope=col>group2</th><th scope=col>n1</th><th scope=col>n2</th><th scope=col>statistic</th><th scope=col>p</th><th scope=col>p.adj</th><th scope=col>p.adj.signif</th></tr>\n",
              "\t<tr><th></th><th scope=col>&lt;chr&gt;</th><th scope=col>&lt;chr&gt;</th><th scope=col>&lt;chr&gt;</th><th scope=col>&lt;int&gt;</th><th scope=col>&lt;int&gt;</th><th scope=col>&lt;dbl&gt;</th><th scope=col>&lt;chr&gt;</th><th scope=col>&lt;chr&gt;</th><th scope=col>&lt;chr&gt;</th></tr>\n",
              "</thead>\n",
              "<tbody>\n",
              "\t<tr><th scope=row>1</th><td>URXUAC</td><td>1.0</td><td>2.0</td><td>538</td><td>541</td><td>-0.4052945</td><td>0.685</td><td>0.69</td><td>ns</td></tr>\n",
              "\t<tr><th scope=row>2</th><td>URXUAC</td><td>1.0</td><td>3.0</td><td>538</td><td>408</td><td> 1.7461622</td><td>0.081</td><td>0.12</td><td>ns</td></tr>\n",
              "\t<tr><th scope=row>3</th><td>URXUAC</td><td>2.0</td><td>3.0</td><td>541</td><td>408</td><td> 2.1245999</td><td>0.034</td><td>0.1 </td><td>ns</td></tr>\n",
              "</tbody>\n",
              "</table>\n"
            ]
          },
          "metadata": {}
        }
      ]
    },
    {
      "cell_type": "markdown",
      "metadata": {
        "id": "WsAovFBNWRs_"
      },
      "source": [
        "**Alcohol**"
      ]
    },
    {
      "cell_type": "code",
      "metadata": {
        "id": "EIBUXqYZ6lIj",
        "colab": {
          "base_uri": "https://localhost:8080/",
          "height": 104
        },
        "outputId": "30a18f14-b9b7-4dd5-94c3-5fb66d6047fd"
      },
      "source": [
        "\n",
        "# Alcohol\n",
        "kruskal.test(URXUAC~ ALQ101 , data = HSV_df)"
      ],
      "execution_count": null,
      "outputs": [
        {
          "output_type": "display_data",
          "data": {
            "text/plain": [
              "\n",
              "\tKruskal-Wallis rank sum test\n",
              "\n",
              "data:  URXUAC by ALQ101\n",
              "Kruskal-Wallis chi-squared = 0.19511, df = 1, p-value = 0.6587\n"
            ]
          },
          "metadata": {}
        }
      ]
    },
    {
      "cell_type": "markdown",
      "metadata": {
        "id": "NMF6_sbGWUP4"
      },
      "source": [
        "**Cotinine**"
      ]
    },
    {
      "cell_type": "code",
      "metadata": {
        "id": "SMrSvv6v6mMD",
        "colab": {
          "base_uri": "https://localhost:8080/",
          "height": 104
        },
        "outputId": "cd8edac4-0437-41f4-fb5b-37cb33dff304"
      },
      "source": [
        "\n",
        "# Cotinine\n",
        "kruskal.test(URXUAC~ LBDCOTLC , data = HSV_df)"
      ],
      "execution_count": null,
      "outputs": [
        {
          "output_type": "display_data",
          "data": {
            "text/plain": [
              "\n",
              "\tKruskal-Wallis rank sum test\n",
              "\n",
              "data:  URXUAC by LBDCOTLC\n",
              "Kruskal-Wallis chi-squared = 0.012716, df = 1, p-value = 0.9102\n"
            ]
          },
          "metadata": {}
        }
      ]
    },
    {
      "cell_type": "markdown",
      "metadata": {
        "id": "whwrSZtcoTxD"
      },
      "source": [
        "###  **Arsenic 5(URXUDMA : Urinary Dimethylarsinic acid (ug/L))** \n",
        "\n",
        "At alpha level of 0.05, for Urinary Dimethylarsinic acid (ug/L), there is statistical significance for  **BMI and race**\n",
        "\n",
        "There is no statistical significance for education, marital status, cotinine, alcohol, and poverty index ratio."
      ]
    },
    {
      "cell_type": "markdown",
      "metadata": {
        "id": "lsTgdTwxWbRK"
      },
      "source": [
        "**BMI**"
      ]
    },
    {
      "cell_type": "code",
      "metadata": {
        "id": "hSDpdlr0opMV",
        "colab": {
          "base_uri": "https://localhost:8080/",
          "height": 718
        },
        "outputId": "aa7434c5-aa75-46c5-f72b-1a654b2d23a4"
      },
      "source": [
        "HSV_df_backup_postprep -> HSV_df\n",
        "\n",
        "HSV_df %<>% select(URXUDMA, BMI.f ) %>% filter(URXUDMA != 'NA') %>% filter(BMI.f  != 'NA')\n",
        "\n",
        "# kruskal wallis test\n",
        "kruskal.test(URXUDMA~ BMI.f  , data = HSV_df) \n",
        "\n",
        "cat(\"\\n\\n\")\n",
        "\n",
        "cat(\"\\n Numerical Summaries \\n\")\n",
        "# numerical summary\n",
        "HSV_df %$% num_summary(URXUDMA, BMI.f ) \n",
        "\n",
        "cat(\"\\n\\n\")\n",
        "\n",
        "cat(\"\\n Multiple Comparison \\n\")\n",
        "# multiple comparison\n",
        "dunn_test(URXUDMA~ BMI.f  , data = HSV_df, p.adjust.method = \"fdr\") %>%\n",
        "p_format(digits = 2, leading.zero = TRUE) ; HSV_df_backup_postprep -> HSV_df"
      ],
      "execution_count": null,
      "outputs": [
        {
          "output_type": "display_data",
          "data": {
            "text/plain": [
              "\n",
              "\tKruskal-Wallis rank sum test\n",
              "\n",
              "data:  URXUDMA by BMI.f\n",
              "Kruskal-Wallis chi-squared = 14.701, df = 3, p-value = 0.002091\n"
            ]
          },
          "metadata": {}
        },
        {
          "output_type": "stream",
          "name": "stdout",
          "text": [
            "\n",
            "\n",
            "\n",
            " Numerical Summaries \n"
          ]
        },
        {
          "output_type": "display_data",
          "data": {
            "text/plain": [
              "  variable      Count Mean     Min  Q1     Q2    Q3     Max    Sd       \n",
              "1 Underweight    24   7.218750 1.35 1.3500 2.435 6.6225  65.80 13.301220\n",
              "2 Normal weight 500   5.112400 1.35 1.3500 3.570 5.9700  40.59  5.349859\n",
              "3 Overweight    570   5.588333 1.35 2.0475 3.585 6.3550  52.46  6.584463\n",
              "4 Obesity       525   5.205010 1.35 2.2900 3.780 6.0900 127.20  7.071519"
            ],
            "text/latex": "A tibble: 4 × 9\n\\begin{tabular}{lllllllll}\n variable & Count & Mean & Min & Q1 & Q2 & Q3 & Max & Sd\\\\\n <fct> & <int> & <dbl> & <dbl> & <dbl> & <dbl> & <dbl> & <dbl> & <dbl>\\\\\n\\hline\n\t Underweight   &  24 & 7.218750 & 1.35 & 1.3500 & 2.435 & 6.6225 &  65.80 & 13.301220\\\\\n\t Normal weight & 500 & 5.112400 & 1.35 & 1.3500 & 3.570 & 5.9700 &  40.59 &  5.349859\\\\\n\t Overweight    & 570 & 5.588333 & 1.35 & 2.0475 & 3.585 & 6.3550 &  52.46 &  6.584463\\\\\n\t Obesity       & 525 & 5.205010 & 1.35 & 2.2900 & 3.780 & 6.0900 & 127.20 &  7.071519\\\\\n\\end{tabular}\n",
            "text/markdown": "\nA tibble: 4 × 9\n\n| variable &lt;fct&gt; | Count &lt;int&gt; | Mean &lt;dbl&gt; | Min &lt;dbl&gt; | Q1 &lt;dbl&gt; | Q2 &lt;dbl&gt; | Q3 &lt;dbl&gt; | Max &lt;dbl&gt; | Sd &lt;dbl&gt; |\n|---|---|---|---|---|---|---|---|---|\n| Underweight   |  24 | 7.218750 | 1.35 | 1.3500 | 2.435 | 6.6225 |  65.80 | 13.301220 |\n| Normal weight | 500 | 5.112400 | 1.35 | 1.3500 | 3.570 | 5.9700 |  40.59 |  5.349859 |\n| Overweight    | 570 | 5.588333 | 1.35 | 2.0475 | 3.585 | 6.3550 |  52.46 |  6.584463 |\n| Obesity       | 525 | 5.205010 | 1.35 | 2.2900 | 3.780 | 6.0900 | 127.20 |  7.071519 |\n\n",
            "text/html": [
              "<table class=\"dataframe\">\n",
              "<caption>A tibble: 4 × 9</caption>\n",
              "<thead>\n",
              "\t<tr><th scope=col>variable</th><th scope=col>Count</th><th scope=col>Mean</th><th scope=col>Min</th><th scope=col>Q1</th><th scope=col>Q2</th><th scope=col>Q3</th><th scope=col>Max</th><th scope=col>Sd</th></tr>\n",
              "\t<tr><th scope=col>&lt;fct&gt;</th><th scope=col>&lt;int&gt;</th><th scope=col>&lt;dbl&gt;</th><th scope=col>&lt;dbl&gt;</th><th scope=col>&lt;dbl&gt;</th><th scope=col>&lt;dbl&gt;</th><th scope=col>&lt;dbl&gt;</th><th scope=col>&lt;dbl&gt;</th><th scope=col>&lt;dbl&gt;</th></tr>\n",
              "</thead>\n",
              "<tbody>\n",
              "\t<tr><td>Underweight  </td><td> 24</td><td>7.218750</td><td>1.35</td><td>1.3500</td><td>2.435</td><td>6.6225</td><td> 65.80</td><td>13.301220</td></tr>\n",
              "\t<tr><td>Normal weight</td><td>500</td><td>5.112400</td><td>1.35</td><td>1.3500</td><td>3.570</td><td>5.9700</td><td> 40.59</td><td> 5.349859</td></tr>\n",
              "\t<tr><td>Overweight   </td><td>570</td><td>5.588333</td><td>1.35</td><td>2.0475</td><td>3.585</td><td>6.3550</td><td> 52.46</td><td> 6.584463</td></tr>\n",
              "\t<tr><td>Obesity      </td><td>525</td><td>5.205010</td><td>1.35</td><td>2.2900</td><td>3.780</td><td>6.0900</td><td>127.20</td><td> 7.071519</td></tr>\n",
              "</tbody>\n",
              "</table>\n"
            ]
          },
          "metadata": {}
        },
        {
          "output_type": "stream",
          "name": "stdout",
          "text": [
            "\n",
            "\n",
            "\n",
            " Multiple Comparison \n"
          ]
        },
        {
          "output_type": "display_data",
          "data": {
            "text/plain": [
              "  .y.     group1        group2        n1  n2  statistic p      p.adj \n",
              "1 URXUDMA Underweight   Normal weight  24 500 1.649552  0.099  0.1188\n",
              "2 URXUDMA Underweight   Overweight     24 570 2.063706  0.039  0.0781\n",
              "3 URXUDMA Underweight   Obesity        24 525 2.599132  0.0093 0.028 \n",
              "4 URXUDMA Normal weight Overweight    500 570 1.392612  0.1637 0.1637\n",
              "5 URXUDMA Normal weight Obesity       500 525 3.165995  0.0015 0.0093\n",
              "6 URXUDMA Overweight    Obesity       570 525 1.859907  0.0629 0.0943\n",
              "  p.adj.signif\n",
              "1 ns          \n",
              "2 ns          \n",
              "3 *           \n",
              "4 ns          \n",
              "5 **          \n",
              "6 ns          "
            ],
            "text/latex": "A rstatix\\_test: 6 × 9\n\\begin{tabular}{r|lllllllll}\n  & .y. & group1 & group2 & n1 & n2 & statistic & p & p.adj & p.adj.signif\\\\\n  & <chr> & <chr> & <chr> & <int> & <int> & <dbl> & <chr> & <chr> & <chr>\\\\\n\\hline\n\t1 & URXUDMA & Underweight   & Normal weight &  24 & 500 & 1.649552 & 0.099  & 0.1188 & ns\\\\\n\t2 & URXUDMA & Underweight   & Overweight    &  24 & 570 & 2.063706 & 0.039  & 0.0781 & ns\\\\\n\t3 & URXUDMA & Underweight   & Obesity       &  24 & 525 & 2.599132 & 0.0093 & 0.028  & * \\\\\n\t4 & URXUDMA & Normal weight & Overweight    & 500 & 570 & 1.392612 & 0.1637 & 0.1637 & ns\\\\\n\t5 & URXUDMA & Normal weight & Obesity       & 500 & 525 & 3.165995 & 0.0015 & 0.0093 & **\\\\\n\t6 & URXUDMA & Overweight    & Obesity       & 570 & 525 & 1.859907 & 0.0629 & 0.0943 & ns\\\\\n\\end{tabular}\n",
            "text/markdown": "\nA rstatix_test: 6 × 9\n\n| <!--/--> | .y. &lt;chr&gt; | group1 &lt;chr&gt; | group2 &lt;chr&gt; | n1 &lt;int&gt; | n2 &lt;int&gt; | statistic &lt;dbl&gt; | p &lt;chr&gt; | p.adj &lt;chr&gt; | p.adj.signif &lt;chr&gt; |\n|---|---|---|---|---|---|---|---|---|---|\n| 1 | URXUDMA | Underweight   | Normal weight |  24 | 500 | 1.649552 | 0.099  | 0.1188 | ns |\n| 2 | URXUDMA | Underweight   | Overweight    |  24 | 570 | 2.063706 | 0.039  | 0.0781 | ns |\n| 3 | URXUDMA | Underweight   | Obesity       |  24 | 525 | 2.599132 | 0.0093 | 0.028  | *  |\n| 4 | URXUDMA | Normal weight | Overweight    | 500 | 570 | 1.392612 | 0.1637 | 0.1637 | ns |\n| 5 | URXUDMA | Normal weight | Obesity       | 500 | 525 | 3.165995 | 0.0015 | 0.0093 | ** |\n| 6 | URXUDMA | Overweight    | Obesity       | 570 | 525 | 1.859907 | 0.0629 | 0.0943 | ns |\n\n",
            "text/html": [
              "<table class=\"dataframe\">\n",
              "<caption>A rstatix_test: 6 × 9</caption>\n",
              "<thead>\n",
              "\t<tr><th></th><th scope=col>.y.</th><th scope=col>group1</th><th scope=col>group2</th><th scope=col>n1</th><th scope=col>n2</th><th scope=col>statistic</th><th scope=col>p</th><th scope=col>p.adj</th><th scope=col>p.adj.signif</th></tr>\n",
              "\t<tr><th></th><th scope=col>&lt;chr&gt;</th><th scope=col>&lt;chr&gt;</th><th scope=col>&lt;chr&gt;</th><th scope=col>&lt;int&gt;</th><th scope=col>&lt;int&gt;</th><th scope=col>&lt;dbl&gt;</th><th scope=col>&lt;chr&gt;</th><th scope=col>&lt;chr&gt;</th><th scope=col>&lt;chr&gt;</th></tr>\n",
              "</thead>\n",
              "<tbody>\n",
              "\t<tr><th scope=row>1</th><td>URXUDMA</td><td>Underweight  </td><td>Normal weight</td><td> 24</td><td>500</td><td>1.649552</td><td>0.099 </td><td>0.1188</td><td>ns</td></tr>\n",
              "\t<tr><th scope=row>2</th><td>URXUDMA</td><td>Underweight  </td><td>Overweight   </td><td> 24</td><td>570</td><td>2.063706</td><td>0.039 </td><td>0.0781</td><td>ns</td></tr>\n",
              "\t<tr><th scope=row>3</th><td>URXUDMA</td><td>Underweight  </td><td>Obesity      </td><td> 24</td><td>525</td><td>2.599132</td><td>0.0093</td><td>0.028 </td><td>* </td></tr>\n",
              "\t<tr><th scope=row>4</th><td>URXUDMA</td><td>Normal weight</td><td>Overweight   </td><td>500</td><td>570</td><td>1.392612</td><td>0.1637</td><td>0.1637</td><td>ns</td></tr>\n",
              "\t<tr><th scope=row>5</th><td>URXUDMA</td><td>Normal weight</td><td>Obesity      </td><td>500</td><td>525</td><td>3.165995</td><td>0.0015</td><td>0.0093</td><td>**</td></tr>\n",
              "\t<tr><th scope=row>6</th><td>URXUDMA</td><td>Overweight   </td><td>Obesity      </td><td>570</td><td>525</td><td>1.859907</td><td>0.0629</td><td>0.0943</td><td>ns</td></tr>\n",
              "</tbody>\n",
              "</table>\n"
            ]
          },
          "metadata": {}
        }
      ]
    },
    {
      "cell_type": "markdown",
      "metadata": {
        "id": "SJ5T-BsCWdbr"
      },
      "source": [
        "**Education**"
      ]
    },
    {
      "cell_type": "code",
      "metadata": {
        "id": "j1GV6vMo6s-o",
        "colab": {
          "base_uri": "https://localhost:8080/",
          "height": 104
        },
        "outputId": "9e476d55-97b4-411e-823f-48d20d64c0c1"
      },
      "source": [
        "\n",
        "# Education\n",
        "kruskal.test(URXUDMA~ DMDEDUC2 , data = HSV_df) "
      ],
      "execution_count": null,
      "outputs": [
        {
          "output_type": "display_data",
          "data": {
            "text/plain": [
              "\n",
              "\tKruskal-Wallis rank sum test\n",
              "\n",
              "data:  URXUDMA by DMDEDUC2\n",
              "Kruskal-Wallis chi-squared = 4.7973, df = 4, p-value = 0.3087\n"
            ]
          },
          "metadata": {}
        }
      ]
    },
    {
      "cell_type": "markdown",
      "metadata": {
        "id": "HCS1Cf0RWgMM"
      },
      "source": [
        "**Marital Status**"
      ]
    },
    {
      "cell_type": "code",
      "metadata": {
        "id": "igz0IbyM6twh",
        "colab": {
          "base_uri": "https://localhost:8080/",
          "height": 104
        },
        "outputId": "83765bda-b704-4e52-d4db-41d1a3ed0ea3"
      },
      "source": [
        "\n",
        "# Marital Status\n",
        "kruskal.test(URXUDMA~ DMDMARTL , data = HSV_df) "
      ],
      "execution_count": null,
      "outputs": [
        {
          "output_type": "display_data",
          "data": {
            "text/plain": [
              "\n",
              "\tKruskal-Wallis rank sum test\n",
              "\n",
              "data:  URXUDMA by DMDMARTL\n",
              "Kruskal-Wallis chi-squared = 4.4963, df = 5, p-value = 0.4804\n"
            ]
          },
          "metadata": {}
        }
      ]
    },
    {
      "cell_type": "markdown",
      "metadata": {
        "id": "zJiCGFjpWiod"
      },
      "source": [
        "**Race**"
      ]
    },
    {
      "cell_type": "code",
      "metadata": {
        "id": "GrzBx4ql6zEW",
        "colab": {
          "base_uri": "https://localhost:8080/",
          "height": 875
        },
        "outputId": "2d5cb480-121d-482b-e925-3fc1860242bc"
      },
      "source": [
        "HSV_df_backup_postprep -> HSV_df\n",
        "\n",
        "HSV_df %<>% select(URXUDMA, RIDRETH1  ) %>% filter(URXUDMA != 'NA') %>% filter(RIDRETH1   != 'NA')\n",
        "\n",
        "# kruskal wallis test\n",
        "kruskal.test(URXUDMA~ RIDRETH1   , data = HSV_df) \n",
        "\n",
        "cat(\"\\n\\n\")\n",
        "\n",
        "cat(\"\\n Numerical Summaries \\n\")\n",
        "# numerical summary\n",
        "HSV_df %$% num_summary(URXUDMA, RIDRETH1  ) \n",
        "\n",
        "cat(\"\\n\\n\")\n",
        "\n",
        "cat(\"\\n Multiple Comparison \\n\")\n",
        "# multiple comparison\n",
        "dunn_test(URXUDMA~ RIDRETH1   , data = HSV_df, p.adjust.method = \"fdr\") %>%\n",
        "p_format(digits = 2, leading.zero = TRUE) ; HSV_df_backup_postprep -> HSV_df"
      ],
      "execution_count": null,
      "outputs": [
        {
          "output_type": "display_data",
          "data": {
            "text/plain": [
              "\n",
              "\tKruskal-Wallis rank sum test\n",
              "\n",
              "data:  URXUDMA by RIDRETH1\n",
              "Kruskal-Wallis chi-squared = 42.843, df = 4, p-value = 1.116e-08\n"
            ]
          },
          "metadata": {}
        },
        {
          "output_type": "stream",
          "name": "stdout",
          "text": [
            "\n",
            "\n",
            "\n",
            " Numerical Summaries \n"
          ]
        },
        {
          "output_type": "display_data",
          "data": {
            "text/plain": [
              "  variable    Count Mean     Min  Q1     Q2    Q3      Max    Sd      \n",
              "1 Mex-Hisp    222   5.485135 1.35 2.1325 4.060  6.4350 127.20 9.384813\n",
              "2 Other-Hisp  148   7.003581 1.35 3.0275 5.225  8.4525  44.10 6.916490\n",
              "3 Non-Hisp-WT 625   3.772864 1.35 1.3500 2.740  4.7300  38.38 3.668398\n",
              "4 Non-Hisp-BK 364   5.158516 1.35 2.2400 3.625  5.8850  47.97 5.394714\n",
              "5 Others      266   8.174812 1.35 3.0600 5.365 10.6525  65.80 8.660860"
            ],
            "text/latex": "A tibble: 5 × 9\n\\begin{tabular}{lllllllll}\n variable & Count & Mean & Min & Q1 & Q2 & Q3 & Max & Sd\\\\\n <fct> & <int> & <dbl> & <dbl> & <dbl> & <dbl> & <dbl> & <dbl> & <dbl>\\\\\n\\hline\n\t Mex-Hisp    & 222 & 5.485135 & 1.35 & 2.1325 & 4.060 &  6.4350 & 127.20 & 9.384813\\\\\n\t Other-Hisp  & 148 & 7.003581 & 1.35 & 3.0275 & 5.225 &  8.4525 &  44.10 & 6.916490\\\\\n\t Non-Hisp-WT & 625 & 3.772864 & 1.35 & 1.3500 & 2.740 &  4.7300 &  38.38 & 3.668398\\\\\n\t Non-Hisp-BK & 364 & 5.158516 & 1.35 & 2.2400 & 3.625 &  5.8850 &  47.97 & 5.394714\\\\\n\t Others      & 266 & 8.174812 & 1.35 & 3.0600 & 5.365 & 10.6525 &  65.80 & 8.660860\\\\\n\\end{tabular}\n",
            "text/markdown": "\nA tibble: 5 × 9\n\n| variable &lt;fct&gt; | Count &lt;int&gt; | Mean &lt;dbl&gt; | Min &lt;dbl&gt; | Q1 &lt;dbl&gt; | Q2 &lt;dbl&gt; | Q3 &lt;dbl&gt; | Max &lt;dbl&gt; | Sd &lt;dbl&gt; |\n|---|---|---|---|---|---|---|---|---|\n| Mex-Hisp    | 222 | 5.485135 | 1.35 | 2.1325 | 4.060 |  6.4350 | 127.20 | 9.384813 |\n| Other-Hisp  | 148 | 7.003581 | 1.35 | 3.0275 | 5.225 |  8.4525 |  44.10 | 6.916490 |\n| Non-Hisp-WT | 625 | 3.772864 | 1.35 | 1.3500 | 2.740 |  4.7300 |  38.38 | 3.668398 |\n| Non-Hisp-BK | 364 | 5.158516 | 1.35 | 2.2400 | 3.625 |  5.8850 |  47.97 | 5.394714 |\n| Others      | 266 | 8.174812 | 1.35 | 3.0600 | 5.365 | 10.6525 |  65.80 | 8.660860 |\n\n",
            "text/html": [
              "<table class=\"dataframe\">\n",
              "<caption>A tibble: 5 × 9</caption>\n",
              "<thead>\n",
              "\t<tr><th scope=col>variable</th><th scope=col>Count</th><th scope=col>Mean</th><th scope=col>Min</th><th scope=col>Q1</th><th scope=col>Q2</th><th scope=col>Q3</th><th scope=col>Max</th><th scope=col>Sd</th></tr>\n",
              "\t<tr><th scope=col>&lt;fct&gt;</th><th scope=col>&lt;int&gt;</th><th scope=col>&lt;dbl&gt;</th><th scope=col>&lt;dbl&gt;</th><th scope=col>&lt;dbl&gt;</th><th scope=col>&lt;dbl&gt;</th><th scope=col>&lt;dbl&gt;</th><th scope=col>&lt;dbl&gt;</th><th scope=col>&lt;dbl&gt;</th></tr>\n",
              "</thead>\n",
              "<tbody>\n",
              "\t<tr><td>Mex-Hisp   </td><td>222</td><td>5.485135</td><td>1.35</td><td>2.1325</td><td>4.060</td><td> 6.4350</td><td>127.20</td><td>9.384813</td></tr>\n",
              "\t<tr><td>Other-Hisp </td><td>148</td><td>7.003581</td><td>1.35</td><td>3.0275</td><td>5.225</td><td> 8.4525</td><td> 44.10</td><td>6.916490</td></tr>\n",
              "\t<tr><td>Non-Hisp-WT</td><td>625</td><td>3.772864</td><td>1.35</td><td>1.3500</td><td>2.740</td><td> 4.7300</td><td> 38.38</td><td>3.668398</td></tr>\n",
              "\t<tr><td>Non-Hisp-BK</td><td>364</td><td>5.158516</td><td>1.35</td><td>2.2400</td><td>3.625</td><td> 5.8850</td><td> 47.97</td><td>5.394714</td></tr>\n",
              "\t<tr><td>Others     </td><td>266</td><td>8.174812</td><td>1.35</td><td>3.0600</td><td>5.365</td><td>10.6525</td><td> 65.80</td><td>8.660860</td></tr>\n",
              "</tbody>\n",
              "</table>\n"
            ]
          },
          "metadata": {}
        },
        {
          "output_type": "stream",
          "name": "stdout",
          "text": [
            "\n",
            "\n",
            "\n",
            " Multiple Comparison \n"
          ]
        },
        {
          "output_type": "display_data",
          "data": {
            "text/plain": [
              "   .y.     group1      group2      n1  n2  statistic   p       p.adj  \n",
              "1  URXUDMA Mex-Hisp    Other-Hisp  222 148  2.53143052 0.01136 0.0162 \n",
              "2  URXUDMA Mex-Hisp    Non-Hisp-WT 222 625 -3.42463730 0.00062 0.0018 \n",
              "3  URXUDMA Mex-Hisp    Non-Hisp-BK 222 364 -0.71814465 0.47267 0.5252 \n",
              "4  URXUDMA Mex-Hisp    Others      222 266 -0.03373483 0.97309 0.9731 \n",
              "5  URXUDMA Other-Hisp  Non-Hisp-WT 148 625 -5.86558897 <0.0001 <0.0001\n",
              "6  URXUDMA Other-Hisp  Non-Hisp-BK 148 364 -3.38284304 0.00072 0.0018 \n",
              "7  URXUDMA Other-Hisp  Others      148 266 -2.64948111 0.00806 0.0134 \n",
              "8  URXUDMA Non-Hisp-WT Non-Hisp-BK 625 364  3.13066368 0.00174 0.0035 \n",
              "9  URXUDMA Non-Hisp-WT Others      625 266  3.61306248 0.0003  0.0015 \n",
              "10 URXUDMA Non-Hisp-BK Others      364 266  0.72013113 0.47144 0.5252 \n",
              "   p.adj.signif\n",
              "1  *           \n",
              "2  **          \n",
              "3  ns          \n",
              "4  ns          \n",
              "5  ****        \n",
              "6  **          \n",
              "7  *           \n",
              "8  **          \n",
              "9  **          \n",
              "10 ns          "
            ],
            "text/latex": "A rstatix\\_test: 10 × 9\n\\begin{tabular}{r|lllllllll}\n  & .y. & group1 & group2 & n1 & n2 & statistic & p & p.adj & p.adj.signif\\\\\n  & <chr> & <chr> & <chr> & <int> & <int> & <dbl> & <chr> & <chr> & <chr>\\\\\n\\hline\n\t1 & URXUDMA & Mex-Hisp    & Other-Hisp  & 222 & 148 &  2.53143052 & 0.01136 & 0.0162  & *   \\\\\n\t2 & URXUDMA & Mex-Hisp    & Non-Hisp-WT & 222 & 625 & -3.42463730 & 0.00062 & 0.0018  & **  \\\\\n\t3 & URXUDMA & Mex-Hisp    & Non-Hisp-BK & 222 & 364 & -0.71814465 & 0.47267 & 0.5252  & ns  \\\\\n\t4 & URXUDMA & Mex-Hisp    & Others      & 222 & 266 & -0.03373483 & 0.97309 & 0.9731  & ns  \\\\\n\t5 & URXUDMA & Other-Hisp  & Non-Hisp-WT & 148 & 625 & -5.86558897 & <0.0001 & <0.0001 & ****\\\\\n\t6 & URXUDMA & Other-Hisp  & Non-Hisp-BK & 148 & 364 & -3.38284304 & 0.00072 & 0.0018  & **  \\\\\n\t7 & URXUDMA & Other-Hisp  & Others      & 148 & 266 & -2.64948111 & 0.00806 & 0.0134  & *   \\\\\n\t8 & URXUDMA & Non-Hisp-WT & Non-Hisp-BK & 625 & 364 &  3.13066368 & 0.00174 & 0.0035  & **  \\\\\n\t9 & URXUDMA & Non-Hisp-WT & Others      & 625 & 266 &  3.61306248 & 0.0003  & 0.0015  & **  \\\\\n\t10 & URXUDMA & Non-Hisp-BK & Others      & 364 & 266 &  0.72013113 & 0.47144 & 0.5252  & ns  \\\\\n\\end{tabular}\n",
            "text/markdown": "\nA rstatix_test: 10 × 9\n\n| <!--/--> | .y. &lt;chr&gt; | group1 &lt;chr&gt; | group2 &lt;chr&gt; | n1 &lt;int&gt; | n2 &lt;int&gt; | statistic &lt;dbl&gt; | p &lt;chr&gt; | p.adj &lt;chr&gt; | p.adj.signif &lt;chr&gt; |\n|---|---|---|---|---|---|---|---|---|---|\n| 1 | URXUDMA | Mex-Hisp    | Other-Hisp  | 222 | 148 |  2.53143052 | 0.01136 | 0.0162  | *    |\n| 2 | URXUDMA | Mex-Hisp    | Non-Hisp-WT | 222 | 625 | -3.42463730 | 0.00062 | 0.0018  | **   |\n| 3 | URXUDMA | Mex-Hisp    | Non-Hisp-BK | 222 | 364 | -0.71814465 | 0.47267 | 0.5252  | ns   |\n| 4 | URXUDMA | Mex-Hisp    | Others      | 222 | 266 | -0.03373483 | 0.97309 | 0.9731  | ns   |\n| 5 | URXUDMA | Other-Hisp  | Non-Hisp-WT | 148 | 625 | -5.86558897 | &lt;0.0001 | &lt;0.0001 | **** |\n| 6 | URXUDMA | Other-Hisp  | Non-Hisp-BK | 148 | 364 | -3.38284304 | 0.00072 | 0.0018  | **   |\n| 7 | URXUDMA | Other-Hisp  | Others      | 148 | 266 | -2.64948111 | 0.00806 | 0.0134  | *    |\n| 8 | URXUDMA | Non-Hisp-WT | Non-Hisp-BK | 625 | 364 |  3.13066368 | 0.00174 | 0.0035  | **   |\n| 9 | URXUDMA | Non-Hisp-WT | Others      | 625 | 266 |  3.61306248 | 0.0003  | 0.0015  | **   |\n| 10 | URXUDMA | Non-Hisp-BK | Others      | 364 | 266 |  0.72013113 | 0.47144 | 0.5252  | ns   |\n\n",
            "text/html": [
              "<table class=\"dataframe\">\n",
              "<caption>A rstatix_test: 10 × 9</caption>\n",
              "<thead>\n",
              "\t<tr><th></th><th scope=col>.y.</th><th scope=col>group1</th><th scope=col>group2</th><th scope=col>n1</th><th scope=col>n2</th><th scope=col>statistic</th><th scope=col>p</th><th scope=col>p.adj</th><th scope=col>p.adj.signif</th></tr>\n",
              "\t<tr><th></th><th scope=col>&lt;chr&gt;</th><th scope=col>&lt;chr&gt;</th><th scope=col>&lt;chr&gt;</th><th scope=col>&lt;int&gt;</th><th scope=col>&lt;int&gt;</th><th scope=col>&lt;dbl&gt;</th><th scope=col>&lt;chr&gt;</th><th scope=col>&lt;chr&gt;</th><th scope=col>&lt;chr&gt;</th></tr>\n",
              "</thead>\n",
              "<tbody>\n",
              "\t<tr><th scope=row>1</th><td>URXUDMA</td><td>Mex-Hisp   </td><td>Other-Hisp </td><td>222</td><td>148</td><td> 2.53143052</td><td>0.01136</td><td>0.0162 </td><td>*   </td></tr>\n",
              "\t<tr><th scope=row>2</th><td>URXUDMA</td><td>Mex-Hisp   </td><td>Non-Hisp-WT</td><td>222</td><td>625</td><td>-3.42463730</td><td>0.00062</td><td>0.0018 </td><td>**  </td></tr>\n",
              "\t<tr><th scope=row>3</th><td>URXUDMA</td><td>Mex-Hisp   </td><td>Non-Hisp-BK</td><td>222</td><td>364</td><td>-0.71814465</td><td>0.47267</td><td>0.5252 </td><td>ns  </td></tr>\n",
              "\t<tr><th scope=row>4</th><td>URXUDMA</td><td>Mex-Hisp   </td><td>Others     </td><td>222</td><td>266</td><td>-0.03373483</td><td>0.97309</td><td>0.9731 </td><td>ns  </td></tr>\n",
              "\t<tr><th scope=row>5</th><td>URXUDMA</td><td>Other-Hisp </td><td>Non-Hisp-WT</td><td>148</td><td>625</td><td>-5.86558897</td><td>&lt;0.0001</td><td>&lt;0.0001</td><td>****</td></tr>\n",
              "\t<tr><th scope=row>6</th><td>URXUDMA</td><td>Other-Hisp </td><td>Non-Hisp-BK</td><td>148</td><td>364</td><td>-3.38284304</td><td>0.00072</td><td>0.0018 </td><td>**  </td></tr>\n",
              "\t<tr><th scope=row>7</th><td>URXUDMA</td><td>Other-Hisp </td><td>Others     </td><td>148</td><td>266</td><td>-2.64948111</td><td>0.00806</td><td>0.0134 </td><td>*   </td></tr>\n",
              "\t<tr><th scope=row>8</th><td>URXUDMA</td><td>Non-Hisp-WT</td><td>Non-Hisp-BK</td><td>625</td><td>364</td><td> 3.13066368</td><td>0.00174</td><td>0.0035 </td><td>**  </td></tr>\n",
              "\t<tr><th scope=row>9</th><td>URXUDMA</td><td>Non-Hisp-WT</td><td>Others     </td><td>625</td><td>266</td><td> 3.61306248</td><td>0.0003 </td><td>0.0015 </td><td>**  </td></tr>\n",
              "\t<tr><th scope=row>10</th><td>URXUDMA</td><td>Non-Hisp-BK</td><td>Others     </td><td>364</td><td>266</td><td> 0.72013113</td><td>0.47144</td><td>0.5252 </td><td>ns  </td></tr>\n",
              "</tbody>\n",
              "</table>\n"
            ]
          },
          "metadata": {}
        }
      ]
    },
    {
      "cell_type": "markdown",
      "metadata": {
        "id": "vezMvXSMWmDD"
      },
      "source": [
        "**Poverty Income Ratio**"
      ]
    },
    {
      "cell_type": "code",
      "metadata": {
        "id": "I9LCuRHp6zvE",
        "colab": {
          "base_uri": "https://localhost:8080/",
          "height": 104
        },
        "outputId": "9c081602-4436-4d0e-a3e1-88be1a7ef4d4"
      },
      "source": [
        "\n",
        "# Poverty Income Ratio\n",
        "kruskal.test(URXUDMA~ PIR , data = HSV_df)"
      ],
      "execution_count": null,
      "outputs": [
        {
          "output_type": "display_data",
          "data": {
            "text/plain": [
              "\n",
              "\tKruskal-Wallis rank sum test\n",
              "\n",
              "data:  URXUDMA by PIR\n",
              "Kruskal-Wallis chi-squared = 3.4478, df = 2, p-value = 0.1784\n"
            ]
          },
          "metadata": {}
        }
      ]
    },
    {
      "cell_type": "markdown",
      "metadata": {
        "id": "1qtOCTN4Wptx"
      },
      "source": [
        "**Alcohol**"
      ]
    },
    {
      "cell_type": "code",
      "metadata": {
        "id": "YrJT5ILn7Fmb",
        "colab": {
          "base_uri": "https://localhost:8080/"
        },
        "outputId": "ffb55fb9-f205-4476-d54a-098da011331d"
      },
      "source": [
        "\n",
        "# Alcohol\n",
        "kruskal.test(URXUDMA~ ALQ101 , data = HSV_df)"
      ],
      "execution_count": null,
      "outputs": [
        {
          "output_type": "display_data",
          "data": {
            "text/plain": [
              "\n",
              "\tKruskal-Wallis rank sum test\n",
              "\n",
              "data:  URXUDMA by ALQ101\n",
              "Kruskal-Wallis chi-squared = 0.0070208, df = 1, p-value = 0.9332\n"
            ]
          },
          "metadata": {}
        }
      ]
    },
    {
      "cell_type": "markdown",
      "metadata": {
        "id": "J46zlvlDWsPe"
      },
      "source": [
        "**Cotinine**"
      ]
    },
    {
      "cell_type": "code",
      "metadata": {
        "id": "fHfobnyJ7GZP",
        "colab": {
          "base_uri": "https://localhost:8080/"
        },
        "outputId": "226255cc-4527-4cc3-92e6-f1088beb77f1"
      },
      "source": [
        "\n",
        "# Cotinine\n",
        "kruskal.test(URXUDMA~ LBDCOTLC , data = HSV_df)"
      ],
      "execution_count": null,
      "outputs": [
        {
          "output_type": "display_data",
          "data": {
            "text/plain": [
              "\n",
              "\tKruskal-Wallis rank sum test\n",
              "\n",
              "data:  URXUDMA by LBDCOTLC\n",
              "Kruskal-Wallis chi-squared = 1.2545, df = 1, p-value = 0.2627\n"
            ]
          },
          "metadata": {}
        }
      ]
    },
    {
      "cell_type": "markdown",
      "metadata": {
        "id": "QnUQrvZsoVOO"
      },
      "source": [
        "###  **Arsenic 6(URXUMMA: Urinary Monomethylacrsonic acid (ug/L))**\n",
        "\n",
        "At alpha level of 0.05, for Urinary Monomethylacrsonic acid (ug/L), there is statistical significance for **BMI, alcohol, cotinine and race.**\n",
        "\n",
        "There is no statistical significance for education, marital status,  and poverty index ratio."
      ]
    },
    {
      "cell_type": "markdown",
      "metadata": {
        "id": "JV5YO3x2Wx7X"
      },
      "source": [
        "**BMI**"
      ]
    },
    {
      "cell_type": "code",
      "metadata": {
        "id": "hc4vdvHYoqhA",
        "colab": {
          "base_uri": "https://localhost:8080/"
        },
        "outputId": "5f2bbbfa-a6d9-4254-abca-0534b2cf37ce"
      },
      "source": [
        "HSV_df_backup_postprep -> HSV_df\n",
        "\n",
        "HSV_df %<>% select(URXUMMA, BMI.f  ) %>% filter(URXUMMA != 'NA') %>% filter(BMI.f   != 'NA')\n",
        "\n",
        "# kruskal wallis test\n",
        "kruskal.test(URXUMMA~ BMI.f   , data = HSV_df) \n",
        "\n",
        "cat(\"\\n\\n\")\n",
        "\n",
        "cat(\"\\n Numerical Summaries \\n\")\n",
        "# numerical summary\n",
        "HSV_df %$% num_summary(URXUMMA, BMI.f  ) \n",
        "\n",
        "cat(\"\\n\\n\")\n",
        "\n",
        "cat(\"\\n Multiple Comparison \\n\")\n",
        "# multiple comparison\n",
        "dunn_test(URXUMMA~ BMI.f   , data = HSV_df, p.adjust.method = \"fdr\") %>%\n",
        "p_format(digits = 2, leading.zero = TRUE) ; HSV_df_backup_postprep -> HSV_df\n",
        "\n"
      ],
      "execution_count": null,
      "outputs": [
        {
          "output_type": "display_data",
          "data": {
            "text/plain": [
              "\n",
              "\tKruskal-Wallis rank sum test\n",
              "\n",
              "data:  URXUMMA by BMI.f\n",
              "Kruskal-Wallis chi-squared = 16.739, df = 3, p-value = 0.0007999\n"
            ]
          },
          "metadata": {}
        },
        {
          "output_type": "stream",
          "name": "stdout",
          "text": [
            "\n",
            "\n",
            "\n",
            " Numerical Summaries \n"
          ]
        },
        {
          "output_type": "display_data",
          "data": {
            "text/plain": [
              "  variable      Count Mean      Min  Q1     Q2    Q3     Max  Sd       \n",
              "1 Underweight    24   0.8200000 0.14 0.3325 0.555 1.0325 4.15 0.8744887\n",
              "2 Normal weight 500   0.7341000 0.14 0.2500 0.580 1.0200 4.98 0.6138549\n",
              "3 Overweight    570   0.7476491 0.14 0.2000 0.590 1.0200 6.11 0.7160221\n",
              "4 Obesity       525   0.5998286 0.14 0.1400 0.490 0.8400 4.23 0.5150441"
            ],
            "text/latex": "A tibble: 4 × 9\n\\begin{tabular}{lllllllll}\n variable & Count & Mean & Min & Q1 & Q2 & Q3 & Max & Sd\\\\\n <fct> & <int> & <dbl> & <dbl> & <dbl> & <dbl> & <dbl> & <dbl> & <dbl>\\\\\n\\hline\n\t Underweight   &  24 & 0.8200000 & 0.14 & 0.3325 & 0.555 & 1.0325 & 4.15 & 0.8744887\\\\\n\t Normal weight & 500 & 0.7341000 & 0.14 & 0.2500 & 0.580 & 1.0200 & 4.98 & 0.6138549\\\\\n\t Overweight    & 570 & 0.7476491 & 0.14 & 0.2000 & 0.590 & 1.0200 & 6.11 & 0.7160221\\\\\n\t Obesity       & 525 & 0.5998286 & 0.14 & 0.1400 & 0.490 & 0.8400 & 4.23 & 0.5150441\\\\\n\\end{tabular}\n",
            "text/markdown": "\nA tibble: 4 × 9\n\n| variable &lt;fct&gt; | Count &lt;int&gt; | Mean &lt;dbl&gt; | Min &lt;dbl&gt; | Q1 &lt;dbl&gt; | Q2 &lt;dbl&gt; | Q3 &lt;dbl&gt; | Max &lt;dbl&gt; | Sd &lt;dbl&gt; |\n|---|---|---|---|---|---|---|---|---|\n| Underweight   |  24 | 0.8200000 | 0.14 | 0.3325 | 0.555 | 1.0325 | 4.15 | 0.8744887 |\n| Normal weight | 500 | 0.7341000 | 0.14 | 0.2500 | 0.580 | 1.0200 | 4.98 | 0.6138549 |\n| Overweight    | 570 | 0.7476491 | 0.14 | 0.2000 | 0.590 | 1.0200 | 6.11 | 0.7160221 |\n| Obesity       | 525 | 0.5998286 | 0.14 | 0.1400 | 0.490 | 0.8400 | 4.23 | 0.5150441 |\n\n",
            "text/html": [
              "<table class=\"dataframe\">\n",
              "<caption>A tibble: 4 × 9</caption>\n",
              "<thead>\n",
              "\t<tr><th scope=col>variable</th><th scope=col>Count</th><th scope=col>Mean</th><th scope=col>Min</th><th scope=col>Q1</th><th scope=col>Q2</th><th scope=col>Q3</th><th scope=col>Max</th><th scope=col>Sd</th></tr>\n",
              "\t<tr><th scope=col>&lt;fct&gt;</th><th scope=col>&lt;int&gt;</th><th scope=col>&lt;dbl&gt;</th><th scope=col>&lt;dbl&gt;</th><th scope=col>&lt;dbl&gt;</th><th scope=col>&lt;dbl&gt;</th><th scope=col>&lt;dbl&gt;</th><th scope=col>&lt;dbl&gt;</th><th scope=col>&lt;dbl&gt;</th></tr>\n",
              "</thead>\n",
              "<tbody>\n",
              "\t<tr><td>Underweight  </td><td> 24</td><td>0.8200000</td><td>0.14</td><td>0.3325</td><td>0.555</td><td>1.0325</td><td>4.15</td><td>0.8744887</td></tr>\n",
              "\t<tr><td>Normal weight</td><td>500</td><td>0.7341000</td><td>0.14</td><td>0.2500</td><td>0.580</td><td>1.0200</td><td>4.98</td><td>0.6138549</td></tr>\n",
              "\t<tr><td>Overweight   </td><td>570</td><td>0.7476491</td><td>0.14</td><td>0.2000</td><td>0.590</td><td>1.0200</td><td>6.11</td><td>0.7160221</td></tr>\n",
              "\t<tr><td>Obesity      </td><td>525</td><td>0.5998286</td><td>0.14</td><td>0.1400</td><td>0.490</td><td>0.8400</td><td>4.23</td><td>0.5150441</td></tr>\n",
              "</tbody>\n",
              "</table>\n"
            ]
          },
          "metadata": {}
        },
        {
          "output_type": "stream",
          "name": "stdout",
          "text": [
            "\n",
            "\n",
            "\n",
            " Multiple Comparison \n"
          ]
        },
        {
          "output_type": "display_data",
          "data": {
            "text/plain": [
              "  .y.     group1        group2        n1  n2  statistic   p       p.adj \n",
              "1 URXUMMA Underweight   Normal weight  24 500 -0.09643223 0.92318 0.9232\n",
              "2 URXUMMA Underweight   Overweight     24 570 -0.15783405 0.87459 0.9232\n",
              "3 URXUMMA Underweight   Obesity        24 525 -1.16496245 0.24403 0.4881\n",
              "4 URXUMMA Normal weight Overweight    500 570 -0.20788892 0.83532 0.9232\n",
              "5 URXUMMA Normal weight Obesity       500 525 -3.56900878 0.00036 0.0015\n",
              "6 URXUMMA Overweight    Obesity       570 525 -3.47626836 0.00051 0.0015\n",
              "  p.adj.signif\n",
              "1 ns          \n",
              "2 ns          \n",
              "3 ns          \n",
              "4 ns          \n",
              "5 **          \n",
              "6 **          "
            ],
            "text/latex": "A rstatix\\_test: 6 × 9\n\\begin{tabular}{r|lllllllll}\n  & .y. & group1 & group2 & n1 & n2 & statistic & p & p.adj & p.adj.signif\\\\\n  & <chr> & <chr> & <chr> & <int> & <int> & <dbl> & <chr> & <chr> & <chr>\\\\\n\\hline\n\t1 & URXUMMA & Underweight   & Normal weight &  24 & 500 & -0.09643223 & 0.92318 & 0.9232 & ns\\\\\n\t2 & URXUMMA & Underweight   & Overweight    &  24 & 570 & -0.15783405 & 0.87459 & 0.9232 & ns\\\\\n\t3 & URXUMMA & Underweight   & Obesity       &  24 & 525 & -1.16496245 & 0.24403 & 0.4881 & ns\\\\\n\t4 & URXUMMA & Normal weight & Overweight    & 500 & 570 & -0.20788892 & 0.83532 & 0.9232 & ns\\\\\n\t5 & URXUMMA & Normal weight & Obesity       & 500 & 525 & -3.56900878 & 0.00036 & 0.0015 & **\\\\\n\t6 & URXUMMA & Overweight    & Obesity       & 570 & 525 & -3.47626836 & 0.00051 & 0.0015 & **\\\\\n\\end{tabular}\n",
            "text/markdown": "\nA rstatix_test: 6 × 9\n\n| <!--/--> | .y. &lt;chr&gt; | group1 &lt;chr&gt; | group2 &lt;chr&gt; | n1 &lt;int&gt; | n2 &lt;int&gt; | statistic &lt;dbl&gt; | p &lt;chr&gt; | p.adj &lt;chr&gt; | p.adj.signif &lt;chr&gt; |\n|---|---|---|---|---|---|---|---|---|---|\n| 1 | URXUMMA | Underweight   | Normal weight |  24 | 500 | -0.09643223 | 0.92318 | 0.9232 | ns |\n| 2 | URXUMMA | Underweight   | Overweight    |  24 | 570 | -0.15783405 | 0.87459 | 0.9232 | ns |\n| 3 | URXUMMA | Underweight   | Obesity       |  24 | 525 | -1.16496245 | 0.24403 | 0.4881 | ns |\n| 4 | URXUMMA | Normal weight | Overweight    | 500 | 570 | -0.20788892 | 0.83532 | 0.9232 | ns |\n| 5 | URXUMMA | Normal weight | Obesity       | 500 | 525 | -3.56900878 | 0.00036 | 0.0015 | ** |\n| 6 | URXUMMA | Overweight    | Obesity       | 570 | 525 | -3.47626836 | 0.00051 | 0.0015 | ** |\n\n",
            "text/html": [
              "<table class=\"dataframe\">\n",
              "<caption>A rstatix_test: 6 × 9</caption>\n",
              "<thead>\n",
              "\t<tr><th></th><th scope=col>.y.</th><th scope=col>group1</th><th scope=col>group2</th><th scope=col>n1</th><th scope=col>n2</th><th scope=col>statistic</th><th scope=col>p</th><th scope=col>p.adj</th><th scope=col>p.adj.signif</th></tr>\n",
              "\t<tr><th></th><th scope=col>&lt;chr&gt;</th><th scope=col>&lt;chr&gt;</th><th scope=col>&lt;chr&gt;</th><th scope=col>&lt;int&gt;</th><th scope=col>&lt;int&gt;</th><th scope=col>&lt;dbl&gt;</th><th scope=col>&lt;chr&gt;</th><th scope=col>&lt;chr&gt;</th><th scope=col>&lt;chr&gt;</th></tr>\n",
              "</thead>\n",
              "<tbody>\n",
              "\t<tr><th scope=row>1</th><td>URXUMMA</td><td>Underweight  </td><td>Normal weight</td><td> 24</td><td>500</td><td>-0.09643223</td><td>0.92318</td><td>0.9232</td><td>ns</td></tr>\n",
              "\t<tr><th scope=row>2</th><td>URXUMMA</td><td>Underweight  </td><td>Overweight   </td><td> 24</td><td>570</td><td>-0.15783405</td><td>0.87459</td><td>0.9232</td><td>ns</td></tr>\n",
              "\t<tr><th scope=row>3</th><td>URXUMMA</td><td>Underweight  </td><td>Obesity      </td><td> 24</td><td>525</td><td>-1.16496245</td><td>0.24403</td><td>0.4881</td><td>ns</td></tr>\n",
              "\t<tr><th scope=row>4</th><td>URXUMMA</td><td>Normal weight</td><td>Overweight   </td><td>500</td><td>570</td><td>-0.20788892</td><td>0.83532</td><td>0.9232</td><td>ns</td></tr>\n",
              "\t<tr><th scope=row>5</th><td>URXUMMA</td><td>Normal weight</td><td>Obesity      </td><td>500</td><td>525</td><td>-3.56900878</td><td>0.00036</td><td>0.0015</td><td>**</td></tr>\n",
              "\t<tr><th scope=row>6</th><td>URXUMMA</td><td>Overweight   </td><td>Obesity      </td><td>570</td><td>525</td><td>-3.47626836</td><td>0.00051</td><td>0.0015</td><td>**</td></tr>\n",
              "</tbody>\n",
              "</table>\n"
            ]
          },
          "metadata": {}
        }
      ]
    },
    {
      "cell_type": "markdown",
      "metadata": {
        "id": "FUvQExntW4QZ"
      },
      "source": [
        "**Education**"
      ]
    },
    {
      "cell_type": "code",
      "metadata": {
        "id": "qqvR3QUx7Hv4",
        "colab": {
          "base_uri": "https://localhost:8080/"
        },
        "outputId": "bb388a18-6c21-4d5a-c41d-436d5df69282"
      },
      "source": [
        "\n",
        "# Education\n",
        "kruskal.test(URXUMMA~ DMDEDUC2 , data = HSV_df) "
      ],
      "execution_count": null,
      "outputs": [
        {
          "output_type": "display_data",
          "data": {
            "text/plain": [
              "\n",
              "\tKruskal-Wallis rank sum test\n",
              "\n",
              "data:  URXUMMA by DMDEDUC2\n",
              "Kruskal-Wallis chi-squared = 13.143, df = 4, p-value = 0.0106\n"
            ]
          },
          "metadata": {}
        }
      ]
    },
    {
      "cell_type": "markdown",
      "metadata": {
        "id": "5mVtzIXPW61J"
      },
      "source": [
        "**Marital Status**"
      ]
    },
    {
      "cell_type": "code",
      "metadata": {
        "id": "yaPeGoDJ7IfO",
        "colab": {
          "base_uri": "https://localhost:8080/"
        },
        "outputId": "23a19c1b-dab9-4b20-cf64-2fe4989c28fc"
      },
      "source": [
        "\n",
        "# Marital Status\n",
        "kruskal.test(URXUMMA~ DMDMARTL , data = HSV_df) "
      ],
      "execution_count": null,
      "outputs": [
        {
          "output_type": "display_data",
          "data": {
            "text/plain": [
              "\n",
              "\tKruskal-Wallis rank sum test\n",
              "\n",
              "data:  URXUMMA by DMDMARTL\n",
              "Kruskal-Wallis chi-squared = 3.0771, df = 5, p-value = 0.6881\n"
            ]
          },
          "metadata": {}
        }
      ]
    },
    {
      "cell_type": "markdown",
      "metadata": {
        "id": "iVNGtDHjW-7s"
      },
      "source": [
        "**Race**"
      ]
    },
    {
      "cell_type": "code",
      "metadata": {
        "id": "-eR3Cc9H7JOd",
        "colab": {
          "base_uri": "https://localhost:8080/"
        },
        "outputId": "ced57db4-b8aa-4df3-8571-158a358ba64b"
      },
      "source": [
        "HSV_df_backup_postprep -> HSV_df\n",
        "\n",
        "HSV_df %<>% select(URXUMMA, RIDRETH1  ) %>% filter(URXUMMA != 'NA') %>% filter(RIDRETH1   != 'NA')\n",
        "\n",
        "# kruskal wallis test\n",
        "kruskal.test(URXUMMA~ RIDRETH1   , data = HSV_df) \n",
        "\n",
        "cat(\"\\n\\n\")\n",
        "\n",
        "cat(\"\\n Numerical Summaries \\n\")\n",
        "# numerical summary\n",
        "HSV_df %$% num_summary(URXUMMA, RIDRETH1  ) \n",
        "\n",
        "cat(\"\\n\\n\")\n",
        "\n",
        "cat(\"\\n Multiple Comparison \\n\")\n",
        "# multiple comparison\n",
        "dunn_test(URXUMMA~ RIDRETH1   , data = HSV_df, p.adjust.method = \"fdr\") %>%\n",
        "p_format(digits = 2, leading.zero = TRUE) ; HSV_df_backup_postprep -> HSV_df\n",
        "\n"
      ],
      "execution_count": null,
      "outputs": [
        {
          "output_type": "display_data",
          "data": {
            "text/plain": [
              "\n",
              "\tKruskal-Wallis rank sum test\n",
              "\n",
              "data:  URXUMMA by RIDRETH1\n",
              "Kruskal-Wallis chi-squared = 51.353, df = 4, p-value = 1.884e-10\n"
            ]
          },
          "metadata": {}
        },
        {
          "output_type": "stream",
          "name": "stdout",
          "text": [
            "\n",
            "\n",
            "\n",
            " Numerical Summaries \n"
          ]
        },
        {
          "output_type": "display_data",
          "data": {
            "text/plain": [
              "  variable    Count Mean      Min  Q1    Q2    Q3     Max  Sd       \n",
              "1 Mex-Hisp    222   0.7263514 0.14 0.155 0.590 0.9300 6.11 0.7295413\n",
              "2 Other-Hisp  148   0.9424324 0.14 0.450 0.805 1.3725 5.38 0.7418781\n",
              "3 Non-Hisp-WT 625   0.5992480 0.14 0.140 0.480 0.8400 5.39 0.5223672\n",
              "4 Non-Hisp-BK 364   0.6263736 0.14 0.140 0.510 0.9100 3.29 0.5138372\n",
              "5 Others      266   0.8564286 0.14 0.310 0.640 1.1775 4.98 0.7682264"
            ],
            "text/latex": "A tibble: 5 × 9\n\\begin{tabular}{lllllllll}\n variable & Count & Mean & Min & Q1 & Q2 & Q3 & Max & Sd\\\\\n <fct> & <int> & <dbl> & <dbl> & <dbl> & <dbl> & <dbl> & <dbl> & <dbl>\\\\\n\\hline\n\t Mex-Hisp    & 222 & 0.7263514 & 0.14 & 0.155 & 0.590 & 0.9300 & 6.11 & 0.7295413\\\\\n\t Other-Hisp  & 148 & 0.9424324 & 0.14 & 0.450 & 0.805 & 1.3725 & 5.38 & 0.7418781\\\\\n\t Non-Hisp-WT & 625 & 0.5992480 & 0.14 & 0.140 & 0.480 & 0.8400 & 5.39 & 0.5223672\\\\\n\t Non-Hisp-BK & 364 & 0.6263736 & 0.14 & 0.140 & 0.510 & 0.9100 & 3.29 & 0.5138372\\\\\n\t Others      & 266 & 0.8564286 & 0.14 & 0.310 & 0.640 & 1.1775 & 4.98 & 0.7682264\\\\\n\\end{tabular}\n",
            "text/markdown": "\nA tibble: 5 × 9\n\n| variable &lt;fct&gt; | Count &lt;int&gt; | Mean &lt;dbl&gt; | Min &lt;dbl&gt; | Q1 &lt;dbl&gt; | Q2 &lt;dbl&gt; | Q3 &lt;dbl&gt; | Max &lt;dbl&gt; | Sd &lt;dbl&gt; |\n|---|---|---|---|---|---|---|---|---|\n| Mex-Hisp    | 222 | 0.7263514 | 0.14 | 0.155 | 0.590 | 0.9300 | 6.11 | 0.7295413 |\n| Other-Hisp  | 148 | 0.9424324 | 0.14 | 0.450 | 0.805 | 1.3725 | 5.38 | 0.7418781 |\n| Non-Hisp-WT | 625 | 0.5992480 | 0.14 | 0.140 | 0.480 | 0.8400 | 5.39 | 0.5223672 |\n| Non-Hisp-BK | 364 | 0.6263736 | 0.14 | 0.140 | 0.510 | 0.9100 | 3.29 | 0.5138372 |\n| Others      | 266 | 0.8564286 | 0.14 | 0.310 | 0.640 | 1.1775 | 4.98 | 0.7682264 |\n\n",
            "text/html": [
              "<table class=\"dataframe\">\n",
              "<caption>A tibble: 5 × 9</caption>\n",
              "<thead>\n",
              "\t<tr><th scope=col>variable</th><th scope=col>Count</th><th scope=col>Mean</th><th scope=col>Min</th><th scope=col>Q1</th><th scope=col>Q2</th><th scope=col>Q3</th><th scope=col>Max</th><th scope=col>Sd</th></tr>\n",
              "\t<tr><th scope=col>&lt;fct&gt;</th><th scope=col>&lt;int&gt;</th><th scope=col>&lt;dbl&gt;</th><th scope=col>&lt;dbl&gt;</th><th scope=col>&lt;dbl&gt;</th><th scope=col>&lt;dbl&gt;</th><th scope=col>&lt;dbl&gt;</th><th scope=col>&lt;dbl&gt;</th><th scope=col>&lt;dbl&gt;</th></tr>\n",
              "</thead>\n",
              "<tbody>\n",
              "\t<tr><td>Mex-Hisp   </td><td>222</td><td>0.7263514</td><td>0.14</td><td>0.155</td><td>0.590</td><td>0.9300</td><td>6.11</td><td>0.7295413</td></tr>\n",
              "\t<tr><td>Other-Hisp </td><td>148</td><td>0.9424324</td><td>0.14</td><td>0.450</td><td>0.805</td><td>1.3725</td><td>5.38</td><td>0.7418781</td></tr>\n",
              "\t<tr><td>Non-Hisp-WT</td><td>625</td><td>0.5992480</td><td>0.14</td><td>0.140</td><td>0.480</td><td>0.8400</td><td>5.39</td><td>0.5223672</td></tr>\n",
              "\t<tr><td>Non-Hisp-BK</td><td>364</td><td>0.6263736</td><td>0.14</td><td>0.140</td><td>0.510</td><td>0.9100</td><td>3.29</td><td>0.5138372</td></tr>\n",
              "\t<tr><td>Others     </td><td>266</td><td>0.8564286</td><td>0.14</td><td>0.310</td><td>0.640</td><td>1.1775</td><td>4.98</td><td>0.7682264</td></tr>\n",
              "</tbody>\n",
              "</table>\n"
            ]
          },
          "metadata": {}
        },
        {
          "output_type": "stream",
          "name": "stdout",
          "text": [
            "\n",
            "\n",
            "\n",
            " Multiple Comparison \n"
          ]
        },
        {
          "output_type": "display_data",
          "data": {
            "text/plain": [
              "   .y.     group1      group2      n1  n2  statistic  p       p.adj  \n",
              "1  URXUMMA Mex-Hisp    Other-Hisp  222 148  3.4638533 0.00053 0.00106\n",
              "2  URXUMMA Mex-Hisp    Non-Hisp-WT 222 625 -2.3400435 0.01928 0.03214\n",
              "3  URXUMMA Mex-Hisp    Non-Hisp-BK 222 364 -1.4609504 0.14403 0.16003\n",
              "4  URXUMMA Mex-Hisp    Others      222 266  1.8045913 0.07114 0.08892\n",
              "5  URXUMMA Other-Hisp  Non-Hisp-WT 148 625 -6.0210017 <0.0001 <0.0001\n",
              "6  URXUMMA Other-Hisp  Non-Hisp-BK 148 364 -5.0466611 <0.0001 <0.0001\n",
              "7  URXUMMA Other-Hisp  Others      148 266 -1.9847500 0.04717 0.06739\n",
              "8  URXUMMA Non-Hisp-WT Non-Hisp-BK 625 364  0.8860445 0.37559 0.37559\n",
              "9  URXUMMA Non-Hisp-WT Others      625 266  4.7382707 <0.0001 <0.0001\n",
              "10 URXUMMA Non-Hisp-BK Others      364 266  3.5760609 0.00035 0.00087\n",
              "   p.adj.signif\n",
              "1  **          \n",
              "2  *           \n",
              "3  ns          \n",
              "4  ns          \n",
              "5  ****        \n",
              "6  ****        \n",
              "7  ns          \n",
              "8  ns          \n",
              "9  ****        \n",
              "10 ***         "
            ],
            "text/latex": "A rstatix\\_test: 10 × 9\n\\begin{tabular}{r|lllllllll}\n  & .y. & group1 & group2 & n1 & n2 & statistic & p & p.adj & p.adj.signif\\\\\n  & <chr> & <chr> & <chr> & <int> & <int> & <dbl> & <chr> & <chr> & <chr>\\\\\n\\hline\n\t1 & URXUMMA & Mex-Hisp    & Other-Hisp  & 222 & 148 &  3.4638533 & 0.00053 & 0.00106 & **  \\\\\n\t2 & URXUMMA & Mex-Hisp    & Non-Hisp-WT & 222 & 625 & -2.3400435 & 0.01928 & 0.03214 & *   \\\\\n\t3 & URXUMMA & Mex-Hisp    & Non-Hisp-BK & 222 & 364 & -1.4609504 & 0.14403 & 0.16003 & ns  \\\\\n\t4 & URXUMMA & Mex-Hisp    & Others      & 222 & 266 &  1.8045913 & 0.07114 & 0.08892 & ns  \\\\\n\t5 & URXUMMA & Other-Hisp  & Non-Hisp-WT & 148 & 625 & -6.0210017 & <0.0001 & <0.0001 & ****\\\\\n\t6 & URXUMMA & Other-Hisp  & Non-Hisp-BK & 148 & 364 & -5.0466611 & <0.0001 & <0.0001 & ****\\\\\n\t7 & URXUMMA & Other-Hisp  & Others      & 148 & 266 & -1.9847500 & 0.04717 & 0.06739 & ns  \\\\\n\t8 & URXUMMA & Non-Hisp-WT & Non-Hisp-BK & 625 & 364 &  0.8860445 & 0.37559 & 0.37559 & ns  \\\\\n\t9 & URXUMMA & Non-Hisp-WT & Others      & 625 & 266 &  4.7382707 & <0.0001 & <0.0001 & ****\\\\\n\t10 & URXUMMA & Non-Hisp-BK & Others      & 364 & 266 &  3.5760609 & 0.00035 & 0.00087 & *** \\\\\n\\end{tabular}\n",
            "text/markdown": "\nA rstatix_test: 10 × 9\n\n| <!--/--> | .y. &lt;chr&gt; | group1 &lt;chr&gt; | group2 &lt;chr&gt; | n1 &lt;int&gt; | n2 &lt;int&gt; | statistic &lt;dbl&gt; | p &lt;chr&gt; | p.adj &lt;chr&gt; | p.adj.signif &lt;chr&gt; |\n|---|---|---|---|---|---|---|---|---|---|\n| 1 | URXUMMA | Mex-Hisp    | Other-Hisp  | 222 | 148 |  3.4638533 | 0.00053 | 0.00106 | **   |\n| 2 | URXUMMA | Mex-Hisp    | Non-Hisp-WT | 222 | 625 | -2.3400435 | 0.01928 | 0.03214 | *    |\n| 3 | URXUMMA | Mex-Hisp    | Non-Hisp-BK | 222 | 364 | -1.4609504 | 0.14403 | 0.16003 | ns   |\n| 4 | URXUMMA | Mex-Hisp    | Others      | 222 | 266 |  1.8045913 | 0.07114 | 0.08892 | ns   |\n| 5 | URXUMMA | Other-Hisp  | Non-Hisp-WT | 148 | 625 | -6.0210017 | &lt;0.0001 | &lt;0.0001 | **** |\n| 6 | URXUMMA | Other-Hisp  | Non-Hisp-BK | 148 | 364 | -5.0466611 | &lt;0.0001 | &lt;0.0001 | **** |\n| 7 | URXUMMA | Other-Hisp  | Others      | 148 | 266 | -1.9847500 | 0.04717 | 0.06739 | ns   |\n| 8 | URXUMMA | Non-Hisp-WT | Non-Hisp-BK | 625 | 364 |  0.8860445 | 0.37559 | 0.37559 | ns   |\n| 9 | URXUMMA | Non-Hisp-WT | Others      | 625 | 266 |  4.7382707 | &lt;0.0001 | &lt;0.0001 | **** |\n| 10 | URXUMMA | Non-Hisp-BK | Others      | 364 | 266 |  3.5760609 | 0.00035 | 0.00087 | ***  |\n\n",
            "text/html": [
              "<table class=\"dataframe\">\n",
              "<caption>A rstatix_test: 10 × 9</caption>\n",
              "<thead>\n",
              "\t<tr><th></th><th scope=col>.y.</th><th scope=col>group1</th><th scope=col>group2</th><th scope=col>n1</th><th scope=col>n2</th><th scope=col>statistic</th><th scope=col>p</th><th scope=col>p.adj</th><th scope=col>p.adj.signif</th></tr>\n",
              "\t<tr><th></th><th scope=col>&lt;chr&gt;</th><th scope=col>&lt;chr&gt;</th><th scope=col>&lt;chr&gt;</th><th scope=col>&lt;int&gt;</th><th scope=col>&lt;int&gt;</th><th scope=col>&lt;dbl&gt;</th><th scope=col>&lt;chr&gt;</th><th scope=col>&lt;chr&gt;</th><th scope=col>&lt;chr&gt;</th></tr>\n",
              "</thead>\n",
              "<tbody>\n",
              "\t<tr><th scope=row>1</th><td>URXUMMA</td><td>Mex-Hisp   </td><td>Other-Hisp </td><td>222</td><td>148</td><td> 3.4638533</td><td>0.00053</td><td>0.00106</td><td>**  </td></tr>\n",
              "\t<tr><th scope=row>2</th><td>URXUMMA</td><td>Mex-Hisp   </td><td>Non-Hisp-WT</td><td>222</td><td>625</td><td>-2.3400435</td><td>0.01928</td><td>0.03214</td><td>*   </td></tr>\n",
              "\t<tr><th scope=row>3</th><td>URXUMMA</td><td>Mex-Hisp   </td><td>Non-Hisp-BK</td><td>222</td><td>364</td><td>-1.4609504</td><td>0.14403</td><td>0.16003</td><td>ns  </td></tr>\n",
              "\t<tr><th scope=row>4</th><td>URXUMMA</td><td>Mex-Hisp   </td><td>Others     </td><td>222</td><td>266</td><td> 1.8045913</td><td>0.07114</td><td>0.08892</td><td>ns  </td></tr>\n",
              "\t<tr><th scope=row>5</th><td>URXUMMA</td><td>Other-Hisp </td><td>Non-Hisp-WT</td><td>148</td><td>625</td><td>-6.0210017</td><td>&lt;0.0001</td><td>&lt;0.0001</td><td>****</td></tr>\n",
              "\t<tr><th scope=row>6</th><td>URXUMMA</td><td>Other-Hisp </td><td>Non-Hisp-BK</td><td>148</td><td>364</td><td>-5.0466611</td><td>&lt;0.0001</td><td>&lt;0.0001</td><td>****</td></tr>\n",
              "\t<tr><th scope=row>7</th><td>URXUMMA</td><td>Other-Hisp </td><td>Others     </td><td>148</td><td>266</td><td>-1.9847500</td><td>0.04717</td><td>0.06739</td><td>ns  </td></tr>\n",
              "\t<tr><th scope=row>8</th><td>URXUMMA</td><td>Non-Hisp-WT</td><td>Non-Hisp-BK</td><td>625</td><td>364</td><td> 0.8860445</td><td>0.37559</td><td>0.37559</td><td>ns  </td></tr>\n",
              "\t<tr><th scope=row>9</th><td>URXUMMA</td><td>Non-Hisp-WT</td><td><span style=white-space:pre-wrap>Others     </span></td><td>625</td><td>266</td><td> 4.7382707</td><td>&lt;0.0001</td><td>&lt;0.0001</td><td>****</td></tr>\n",
              "\t<tr><th scope=row>10</th><td>URXUMMA</td><td>Non-Hisp-BK</td><td>Others     </td><td>364</td><td>266</td><td> 3.5760609</td><td>0.00035</td><td>0.00087</td><td>*** </td></tr>\n",
              "</tbody>\n",
              "</table>\n"
            ]
          },
          "metadata": {}
        }
      ]
    },
    {
      "cell_type": "markdown",
      "metadata": {
        "id": "fIIy8IGkXCGg"
      },
      "source": [
        "**Poverty Income Ratio**"
      ]
    },
    {
      "cell_type": "code",
      "metadata": {
        "id": "r_S9frvJ7J8O",
        "colab": {
          "base_uri": "https://localhost:8080/"
        },
        "outputId": "1def457b-99a5-4f7b-eb9f-22dc1e4fbdbb"
      },
      "source": [
        "\n",
        "# Poverty Income Ratio\n",
        "kruskal.test(URXUMMA~ PIR , data = HSV_df)"
      ],
      "execution_count": null,
      "outputs": [
        {
          "output_type": "display_data",
          "data": {
            "text/plain": [
              "\n",
              "\tKruskal-Wallis rank sum test\n",
              "\n",
              "data:  URXUMMA by PIR\n",
              "Kruskal-Wallis chi-squared = 1.052, df = 2, p-value = 0.591\n"
            ]
          },
          "metadata": {}
        }
      ]
    },
    {
      "cell_type": "markdown",
      "metadata": {
        "id": "PBIdTz59XFMJ"
      },
      "source": [
        "**Alcohol**"
      ]
    },
    {
      "cell_type": "code",
      "metadata": {
        "id": "s5HCr6Wi7Kjm",
        "colab": {
          "base_uri": "https://localhost:8080/"
        },
        "outputId": "e8086a44-a4cd-42c2-b2bd-a97431dbd3d6"
      },
      "source": [
        "HSV_df_backup_postprep -> HSV_df\n",
        "\n",
        "HSV_df %<>% select(URXUMMA, ALQ101  ) %>% filter(URXUMMA != 'NA') %>% filter(ALQ101   != 'NA')\n",
        "\n",
        "# kruskal wallis test\n",
        "kruskal.test(URXUMMA~ ALQ101   , data = HSV_df) \n",
        "\n",
        "cat(\"\\n\\n\")\n",
        "\n",
        "cat(\"\\n Numerical Summaries \\n\")\n",
        "# numerical summary\n",
        "HSV_df %$% num_summary(URXUMMA, ALQ101  ) \n",
        "\n",
        "cat(\"\\n\\n\")\n",
        "\n",
        "cat(\"\\n Multiple Comparison \\n\")\n",
        "# multiple comparison\n",
        "dunn_test(URXUMMA~ ALQ101   , data = HSV_df, p.adjust.method = \"fdr\") %>%\n",
        "p_format(digits = 2, leading.zero = TRUE) ; HSV_df_backup_postprep -> HSV_df\n",
        "\n"
      ],
      "execution_count": null,
      "outputs": [
        {
          "output_type": "display_data",
          "data": {
            "text/plain": [
              "\n",
              "\tKruskal-Wallis rank sum test\n",
              "\n",
              "data:  URXUMMA by ALQ101\n",
              "Kruskal-Wallis chi-squared = 0.00071877, df = 1, p-value = 0.9786\n"
            ]
          },
          "metadata": {}
        },
        {
          "output_type": "stream",
          "name": "stdout",
          "text": [
            "\n",
            "\n",
            "\n",
            " Numerical Summaries \n"
          ]
        },
        {
          "output_type": "display_data",
          "data": {
            "text/plain": [
              "  variable Count Mean     Min  Q1   Q2    Q3   Max  Sd       \n",
              "1 Yes      1272  0.678184 0.14 0.14 0.545 0.93 6.11 0.6126009\n",
              "2 No        232  0.701250 0.14 0.14 0.555 0.92 4.15 0.6428210"
            ],
            "text/latex": "A tibble: 2 × 9\n\\begin{tabular}{lllllllll}\n variable & Count & Mean & Min & Q1 & Q2 & Q3 & Max & Sd\\\\\n <fct> & <int> & <dbl> & <dbl> & <dbl> & <dbl> & <dbl> & <dbl> & <dbl>\\\\\n\\hline\n\t Yes & 1272 & 0.678184 & 0.14 & 0.14 & 0.545 & 0.93 & 6.11 & 0.6126009\\\\\n\t No  &  232 & 0.701250 & 0.14 & 0.14 & 0.555 & 0.92 & 4.15 & 0.6428210\\\\\n\\end{tabular}\n",
            "text/markdown": "\nA tibble: 2 × 9\n\n| variable &lt;fct&gt; | Count &lt;int&gt; | Mean &lt;dbl&gt; | Min &lt;dbl&gt; | Q1 &lt;dbl&gt; | Q2 &lt;dbl&gt; | Q3 &lt;dbl&gt; | Max &lt;dbl&gt; | Sd &lt;dbl&gt; |\n|---|---|---|---|---|---|---|---|---|\n| Yes | 1272 | 0.678184 | 0.14 | 0.14 | 0.545 | 0.93 | 6.11 | 0.6126009 |\n| No  |  232 | 0.701250 | 0.14 | 0.14 | 0.555 | 0.92 | 4.15 | 0.6428210 |\n\n",
            "text/html": [
              "<table class=\"dataframe\">\n",
              "<caption>A tibble: 2 × 9</caption>\n",
              "<thead>\n",
              "\t<tr><th scope=col>variable</th><th scope=col>Count</th><th scope=col>Mean</th><th scope=col>Min</th><th scope=col>Q1</th><th scope=col>Q2</th><th scope=col>Q3</th><th scope=col>Max</th><th scope=col>Sd</th></tr>\n",
              "\t<tr><th scope=col>&lt;fct&gt;</th><th scope=col>&lt;int&gt;</th><th scope=col>&lt;dbl&gt;</th><th scope=col>&lt;dbl&gt;</th><th scope=col>&lt;dbl&gt;</th><th scope=col>&lt;dbl&gt;</th><th scope=col>&lt;dbl&gt;</th><th scope=col>&lt;dbl&gt;</th><th scope=col>&lt;dbl&gt;</th></tr>\n",
              "</thead>\n",
              "<tbody>\n",
              "\t<tr><td>Yes</td><td>1272</td><td>0.678184</td><td>0.14</td><td>0.14</td><td>0.545</td><td>0.93</td><td>6.11</td><td>0.6126009</td></tr>\n",
              "\t<tr><td>No </td><td> 232</td><td>0.701250</td><td>0.14</td><td>0.14</td><td>0.555</td><td>0.92</td><td>4.15</td><td>0.6428210</td></tr>\n",
              "</tbody>\n",
              "</table>\n"
            ]
          },
          "metadata": {}
        },
        {
          "output_type": "stream",
          "name": "stdout",
          "text": [
            "\n",
            "\n",
            "\n",
            " Multiple Comparison \n"
          ]
        },
        {
          "output_type": "display_data",
          "data": {
            "text/plain": [
              "  .y.     group1 group2 n1   n2  statistic  p    p.adj p.adj.signif\n",
              "1 URXUMMA Yes    No     1272 232 0.02680997 0.98 0.98  ns          "
            ],
            "text/latex": "A rstatix\\_test: 1 × 9\n\\begin{tabular}{r|lllllllll}\n  & .y. & group1 & group2 & n1 & n2 & statistic & p & p.adj & p.adj.signif\\\\\n  & <chr> & <chr> & <chr> & <int> & <int> & <dbl> & <chr> & <chr> & <chr>\\\\\n\\hline\n\t1 & URXUMMA & Yes & No & 1272 & 232 & 0.02680997 & 0.98 & 0.98 & ns\\\\\n\\end{tabular}\n",
            "text/markdown": "\nA rstatix_test: 1 × 9\n\n| <!--/--> | .y. &lt;chr&gt; | group1 &lt;chr&gt; | group2 &lt;chr&gt; | n1 &lt;int&gt; | n2 &lt;int&gt; | statistic &lt;dbl&gt; | p &lt;chr&gt; | p.adj &lt;chr&gt; | p.adj.signif &lt;chr&gt; |\n|---|---|---|---|---|---|---|---|---|---|\n| 1 | URXUMMA | Yes | No | 1272 | 232 | 0.02680997 | 0.98 | 0.98 | ns |\n\n",
            "text/html": [
              "<table class=\"dataframe\">\n",
              "<caption>A rstatix_test: 1 × 9</caption>\n",
              "<thead>\n",
              "\t<tr><th></th><th scope=col>.y.</th><th scope=col>group1</th><th scope=col>group2</th><th scope=col>n1</th><th scope=col>n2</th><th scope=col>statistic</th><th scope=col>p</th><th scope=col>p.adj</th><th scope=col>p.adj.signif</th></tr>\n",
              "\t<tr><th></th><th scope=col>&lt;chr&gt;</th><th scope=col>&lt;chr&gt;</th><th scope=col>&lt;chr&gt;</th><th scope=col>&lt;int&gt;</th><th scope=col>&lt;int&gt;</th><th scope=col>&lt;dbl&gt;</th><th scope=col>&lt;chr&gt;</th><th scope=col>&lt;chr&gt;</th><th scope=col>&lt;chr&gt;</th></tr>\n",
              "</thead>\n",
              "<tbody>\n",
              "\t<tr><th scope=row>1</th><td>URXUMMA</td><td>Yes</td><td>No</td><td>1272</td><td>232</td><td>0.02680997</td><td>0.98</td><td>0.98</td><td>ns</td></tr>\n",
              "</tbody>\n",
              "</table>\n"
            ]
          },
          "metadata": {}
        }
      ]
    },
    {
      "cell_type": "markdown",
      "metadata": {
        "id": "PwJb4y-XXJMS"
      },
      "source": [
        "**Cotinine**"
      ]
    },
    {
      "cell_type": "code",
      "metadata": {
        "id": "4g1HTShN7Lg0",
        "colab": {
          "base_uri": "https://localhost:8080/"
        },
        "outputId": "ed65fc9e-b38e-4efd-bebe-477faa7a1e7f"
      },
      "source": [
        "HSV_df_backup_postprep -> HSV_df\n",
        "\n",
        "HSV_df %<>% select(URXUMMA, LBDCOTLC  ) %>% filter(URXUMMA != 'NA') %>% filter(LBDCOTLC   != 'NA')\n",
        "\n",
        "# kruskal wallis test\n",
        "kruskal.test(URXUMMA~ LBDCOTLC   , data = HSV_df) \n",
        "\n",
        "cat(\"\\n\\n\")\n",
        "\n",
        "cat(\"\\n Numerical Summaries \\n\")\n",
        "# numerical summary\n",
        "HSV_df %$% num_summary(URXUMMA, LBDCOTLC  ) \n",
        "\n",
        "cat(\"\\n\\n\")\n",
        "\n",
        "cat(\"\\n Multiple Comparison \\n\")\n",
        "# multiple comparison\n",
        "dunn_test(URXUMMA~ LBDCOTLC   , data = HSV_df, p.adjust.method = \"fdr\") %>%\n",
        "p_format(digits = 2, leading.zero = TRUE) ; HSV_df_backup_postprep -> HSV_df\n",
        "\n"
      ],
      "execution_count": null,
      "outputs": [
        {
          "output_type": "display_data",
          "data": {
            "text/plain": [
              "\n",
              "\tKruskal-Wallis rank sum test\n",
              "\n",
              "data:  URXUMMA by LBDCOTLC\n",
              "Kruskal-Wallis chi-squared = 0.67798, df = 1, p-value = 0.4103\n"
            ]
          },
          "metadata": {}
        },
        {
          "output_type": "stream",
          "name": "stdout",
          "text": [
            "\n",
            "\n",
            "\n",
            " Numerical Summaries \n"
          ]
        },
        {
          "output_type": "display_data",
          "data": {
            "text/plain": [
              "  variable    Count Mean      Min  Q1   Q2   Q3     Max  Sd       \n",
              "1 Above limit 1301  0.6905304 0.14 0.14 0.56 0.9700 5.88 0.5993150\n",
              "2 Below Limit  246  0.6759350 0.14 0.14 0.53 0.8775 5.38 0.6519939"
            ],
            "text/latex": "A tibble: 2 × 9\n\\begin{tabular}{lllllllll}\n variable & Count & Mean & Min & Q1 & Q2 & Q3 & Max & Sd\\\\\n <fct> & <int> & <dbl> & <dbl> & <dbl> & <dbl> & <dbl> & <dbl> & <dbl>\\\\\n\\hline\n\t Above limit & 1301 & 0.6905304 & 0.14 & 0.14 & 0.56 & 0.9700 & 5.88 & 0.5993150\\\\\n\t Below Limit &  246 & 0.6759350 & 0.14 & 0.14 & 0.53 & 0.8775 & 5.38 & 0.6519939\\\\\n\\end{tabular}\n",
            "text/markdown": "\nA tibble: 2 × 9\n\n| variable &lt;fct&gt; | Count &lt;int&gt; | Mean &lt;dbl&gt; | Min &lt;dbl&gt; | Q1 &lt;dbl&gt; | Q2 &lt;dbl&gt; | Q3 &lt;dbl&gt; | Max &lt;dbl&gt; | Sd &lt;dbl&gt; |\n|---|---|---|---|---|---|---|---|---|\n| Above limit | 1301 | 0.6905304 | 0.14 | 0.14 | 0.56 | 0.9700 | 5.88 | 0.5993150 |\n| Below Limit |  246 | 0.6759350 | 0.14 | 0.14 | 0.53 | 0.8775 | 5.38 | 0.6519939 |\n\n",
            "text/html": [
              "<table class=\"dataframe\">\n",
              "<caption>A tibble: 2 × 9</caption>\n",
              "<thead>\n",
              "\t<tr><th scope=col>variable</th><th scope=col>Count</th><th scope=col>Mean</th><th scope=col>Min</th><th scope=col>Q1</th><th scope=col>Q2</th><th scope=col>Q3</th><th scope=col>Max</th><th scope=col>Sd</th></tr>\n",
              "\t<tr><th scope=col>&lt;fct&gt;</th><th scope=col>&lt;int&gt;</th><th scope=col>&lt;dbl&gt;</th><th scope=col>&lt;dbl&gt;</th><th scope=col>&lt;dbl&gt;</th><th scope=col>&lt;dbl&gt;</th><th scope=col>&lt;dbl&gt;</th><th scope=col>&lt;dbl&gt;</th><th scope=col>&lt;dbl&gt;</th></tr>\n",
              "</thead>\n",
              "<tbody>\n",
              "\t<tr><td>Above limit</td><td>1301</td><td>0.6905304</td><td>0.14</td><td>0.14</td><td>0.56</td><td>0.9700</td><td>5.88</td><td>0.5993150</td></tr>\n",
              "\t<tr><td>Below Limit</td><td> 246</td><td>0.6759350</td><td>0.14</td><td>0.14</td><td>0.53</td><td>0.8775</td><td>5.38</td><td>0.6519939</td></tr>\n",
              "</tbody>\n",
              "</table>\n"
            ]
          },
          "metadata": {}
        },
        {
          "output_type": "stream",
          "name": "stdout",
          "text": [
            "\n",
            "\n",
            "\n",
            " Multiple Comparison \n"
          ]
        },
        {
          "output_type": "display_data",
          "data": {
            "text/plain": [
              "  .y.     group1      group2      n1   n2  statistic  p    p.adj p.adj.signif\n",
              "1 URXUMMA Above limit Below Limit 1301 246 -0.8233956 0.41 0.41  ns          "
            ],
            "text/latex": "A rstatix\\_test: 1 × 9\n\\begin{tabular}{r|lllllllll}\n  & .y. & group1 & group2 & n1 & n2 & statistic & p & p.adj & p.adj.signif\\\\\n  & <chr> & <chr> & <chr> & <int> & <int> & <dbl> & <chr> & <chr> & <chr>\\\\\n\\hline\n\t1 & URXUMMA & Above limit & Below Limit & 1301 & 246 & -0.8233956 & 0.41 & 0.41 & ns\\\\\n\\end{tabular}\n",
            "text/markdown": "\nA rstatix_test: 1 × 9\n\n| <!--/--> | .y. &lt;chr&gt; | group1 &lt;chr&gt; | group2 &lt;chr&gt; | n1 &lt;int&gt; | n2 &lt;int&gt; | statistic &lt;dbl&gt; | p &lt;chr&gt; | p.adj &lt;chr&gt; | p.adj.signif &lt;chr&gt; |\n|---|---|---|---|---|---|---|---|---|---|\n| 1 | URXUMMA | Above limit | Below Limit | 1301 | 246 | -0.8233956 | 0.41 | 0.41 | ns |\n\n",
            "text/html": [
              "<table class=\"dataframe\">\n",
              "<caption>A rstatix_test: 1 × 9</caption>\n",
              "<thead>\n",
              "\t<tr><th></th><th scope=col>.y.</th><th scope=col>group1</th><th scope=col>group2</th><th scope=col>n1</th><th scope=col>n2</th><th scope=col>statistic</th><th scope=col>p</th><th scope=col>p.adj</th><th scope=col>p.adj.signif</th></tr>\n",
              "\t<tr><th></th><th scope=col>&lt;chr&gt;</th><th scope=col>&lt;chr&gt;</th><th scope=col>&lt;chr&gt;</th><th scope=col>&lt;int&gt;</th><th scope=col>&lt;int&gt;</th><th scope=col>&lt;dbl&gt;</th><th scope=col>&lt;chr&gt;</th><th scope=col>&lt;chr&gt;</th><th scope=col>&lt;chr&gt;</th></tr>\n",
              "</thead>\n",
              "<tbody>\n",
              "\t<tr><th scope=row>1</th><td>URXUMMA</td><td>Above limit</td><td>Below Limit</td><td>1301</td><td>246</td><td>-0.8233956</td><td>0.41</td><td>0.41</td><td>ns</td></tr>\n",
              "</tbody>\n",
              "</table>\n"
            ]
          },
          "metadata": {}
        }
      ]
    },
    {
      "cell_type": "markdown",
      "metadata": {
        "id": "Ixb9WG-CZUXH"
      },
      "source": [
        "### **TUA ( Total Urinary Arsenic )** \n",
        "\n",
        "At alpha level of 0.05, for Total urinary arsenic, there is statistical significance for **race and alcohol.**\n",
        "\n",
        "There is no statistical significance for education, marital status,   BMI, alcohol, cotinine and  and poverty index ratio."
      ]
    },
    {
      "cell_type": "code",
      "metadata": {
        "id": "QWs96xEXZa0_",
        "colab": {
          "base_uri": "https://localhost:8080/"
        },
        "outputId": "575dabb8-995a-4095-954a-fd3abbba2479"
      },
      "source": [
        "# BMI Categorical\n",
        "kruskal.test(TUA~ BMI.f , data = HSV_df) "
      ],
      "execution_count": null,
      "outputs": [
        {
          "output_type": "display_data",
          "data": {
            "text/plain": [
              "\n",
              "\tKruskal-Wallis rank sum test\n",
              "\n",
              "data:  TUA by BMI.f\n",
              "Kruskal-Wallis chi-squared = 1.5356, df = 3, p-value = 0.6741\n"
            ]
          },
          "metadata": {}
        }
      ]
    },
    {
      "cell_type": "code",
      "metadata": {
        "id": "OOxyogWv7Mmz",
        "colab": {
          "base_uri": "https://localhost:8080/"
        },
        "outputId": "28e9d55a-5dee-479a-f4cc-3e026e0385dc"
      },
      "source": [
        "\n",
        "# Education\n",
        "kruskal.test(TUA~ DMDEDUC2 , data = HSV_df) "
      ],
      "execution_count": null,
      "outputs": [
        {
          "output_type": "display_data",
          "data": {
            "text/plain": [
              "\n",
              "\tKruskal-Wallis rank sum test\n",
              "\n",
              "data:  TUA by DMDEDUC2\n",
              "Kruskal-Wallis chi-squared = 4.5952, df = 4, p-value = 0.3314\n"
            ]
          },
          "metadata": {}
        }
      ]
    },
    {
      "cell_type": "code",
      "metadata": {
        "id": "zlN_Nr-37NQ0",
        "colab": {
          "base_uri": "https://localhost:8080/"
        },
        "outputId": "951bbce7-de26-4432-ecae-f59c816111fd"
      },
      "source": [
        "\n",
        "# Marital Status\n",
        "kruskal.test(TUA~ DMDMARTL , data = HSV_df) "
      ],
      "execution_count": null,
      "outputs": [
        {
          "output_type": "display_data",
          "data": {
            "text/plain": [
              "\n",
              "\tKruskal-Wallis rank sum test\n",
              "\n",
              "data:  TUA by DMDMARTL\n",
              "Kruskal-Wallis chi-squared = 9.4356, df = 5, p-value = 0.0929\n"
            ]
          },
          "metadata": {}
        }
      ]
    },
    {
      "cell_type": "code",
      "metadata": {
        "id": "q2u9rvsr7N1m",
        "colab": {
          "base_uri": "https://localhost:8080/"
        },
        "outputId": "896e4904-4753-4673-ab7f-77c552c548c3"
      },
      "source": [
        "HSV_df_backup_postprep -> HSV_df\n",
        "\n",
        "HSV_df %<>% select(TUA, RIDRETH1  ) %>% filter(TUA != 'NA') %>% filter(RIDRETH1   != 'NA')\n",
        "\n",
        "# kruskal wallis test\n",
        "kruskal.test(TUA~ RIDRETH1   , data = HSV_df) \n",
        "\n",
        "cat(\"\\n\\n\")\n",
        "\n",
        "cat(\"\\n Numerical Summaries \\n\")\n",
        "# numerical summary\n",
        "HSV_df %$% num_summary(TUA, RIDRETH1  ) \n",
        "\n",
        "cat(\"\\n\\n\")\n",
        "\n",
        "cat(\"\\n Multiple Comparison \\n\")\n",
        "# multiple comparison\n",
        "dunn_test(TUA~ RIDRETH1   , data = HSV_df, p.adjust.method = \"fdr\") %>%\n",
        "p_format(digits = 2, leading.zero = TRUE) ; HSV_df_backup_postprep -> HSV_df\n"
      ],
      "execution_count": null,
      "outputs": [
        {
          "output_type": "display_data",
          "data": {
            "text/plain": [
              "\n",
              "\tKruskal-Wallis rank sum test\n",
              "\n",
              "data:  TUA by RIDRETH1\n",
              "Kruskal-Wallis chi-squared = 4.2592, df = 4, p-value = 0.3721\n"
            ]
          },
          "metadata": {}
        },
        {
          "output_type": "stream",
          "name": "stdout",
          "text": [
            "\n",
            "\n",
            "\n",
            " Numerical Summaries \n"
          ]
        },
        {
          "output_type": "display_data",
          "data": {
            "text/plain": [
              "  variable    Count Mean     Min  Q1     Q2    Q3     Max    Sd      \n",
              "1 Mex-Hisp    222   12.93752 1.14 3.9425  6.66 11.750 227.56 26.03156\n",
              "2 Other-Hisp  149   18.76336 1.07 5.3100  8.96 17.680 333.64 35.19772\n",
              "3 Non-Hisp-WT 623   10.60966 0.90 2.8400  5.36  9.975 239.58 22.74937\n",
              "4 Non-Hisp-BK 365   17.93233 1.01 4.2900  7.95 15.120 849.22 50.72728\n",
              "5 Others      267   23.27011 1.27 5.3100 11.50 25.685 238.19 33.38157"
            ],
            "text/latex": "A tibble: 5 × 9\n\\begin{tabular}{lllllllll}\n variable & Count & Mean & Min & Q1 & Q2 & Q3 & Max & Sd\\\\\n <fct> & <int> & <dbl> & <dbl> & <dbl> & <dbl> & <dbl> & <dbl> & <dbl>\\\\\n\\hline\n\t Mex-Hisp    & 222 & 12.93752 & 1.14 & 3.9425 &  6.66 & 11.750 & 227.56 & 26.03156\\\\\n\t Other-Hisp  & 149 & 18.76336 & 1.07 & 5.3100 &  8.96 & 17.680 & 333.64 & 35.19772\\\\\n\t Non-Hisp-WT & 623 & 10.60966 & 0.90 & 2.8400 &  5.36 &  9.975 & 239.58 & 22.74937\\\\\n\t Non-Hisp-BK & 365 & 17.93233 & 1.01 & 4.2900 &  7.95 & 15.120 & 849.22 & 50.72728\\\\\n\t Others      & 267 & 23.27011 & 1.27 & 5.3100 & 11.50 & 25.685 & 238.19 & 33.38157\\\\\n\\end{tabular}\n",
            "text/markdown": "\nA tibble: 5 × 9\n\n| variable &lt;fct&gt; | Count &lt;int&gt; | Mean &lt;dbl&gt; | Min &lt;dbl&gt; | Q1 &lt;dbl&gt; | Q2 &lt;dbl&gt; | Q3 &lt;dbl&gt; | Max &lt;dbl&gt; | Sd &lt;dbl&gt; |\n|---|---|---|---|---|---|---|---|---|\n| Mex-Hisp    | 222 | 12.93752 | 1.14 | 3.9425 |  6.66 | 11.750 | 227.56 | 26.03156 |\n| Other-Hisp  | 149 | 18.76336 | 1.07 | 5.3100 |  8.96 | 17.680 | 333.64 | 35.19772 |\n| Non-Hisp-WT | 623 | 10.60966 | 0.90 | 2.8400 |  5.36 |  9.975 | 239.58 | 22.74937 |\n| Non-Hisp-BK | 365 | 17.93233 | 1.01 | 4.2900 |  7.95 | 15.120 | 849.22 | 50.72728 |\n| Others      | 267 | 23.27011 | 1.27 | 5.3100 | 11.50 | 25.685 | 238.19 | 33.38157 |\n\n",
            "text/html": [
              "<table class=\"dataframe\">\n",
              "<caption>A tibble: 5 × 9</caption>\n",
              "<thead>\n",
              "\t<tr><th scope=col>variable</th><th scope=col>Count</th><th scope=col>Mean</th><th scope=col>Min</th><th scope=col>Q1</th><th scope=col>Q2</th><th scope=col>Q3</th><th scope=col>Max</th><th scope=col>Sd</th></tr>\n",
              "\t<tr><th scope=col>&lt;fct&gt;</th><th scope=col>&lt;int&gt;</th><th scope=col>&lt;dbl&gt;</th><th scope=col>&lt;dbl&gt;</th><th scope=col>&lt;dbl&gt;</th><th scope=col>&lt;dbl&gt;</th><th scope=col>&lt;dbl&gt;</th><th scope=col>&lt;dbl&gt;</th><th scope=col>&lt;dbl&gt;</th></tr>\n",
              "</thead>\n",
              "<tbody>\n",
              "\t<tr><td>Mex-Hisp   </td><td>222</td><td>12.93752</td><td>1.14</td><td>3.9425</td><td> 6.66</td><td>11.750</td><td>227.56</td><td>26.03156</td></tr>\n",
              "\t<tr><td>Other-Hisp </td><td>149</td><td>18.76336</td><td>1.07</td><td>5.3100</td><td> 8.96</td><td>17.680</td><td>333.64</td><td>35.19772</td></tr>\n",
              "\t<tr><td>Non-Hisp-WT</td><td>623</td><td>10.60966</td><td>0.90</td><td>2.8400</td><td> 5.36</td><td> 9.975</td><td>239.58</td><td>22.74937</td></tr>\n",
              "\t<tr><td>Non-Hisp-BK</td><td>365</td><td>17.93233</td><td>1.01</td><td>4.2900</td><td> 7.95</td><td>15.120</td><td>849.22</td><td>50.72728</td></tr>\n",
              "\t<tr><td>Others     </td><td>267</td><td>23.27011</td><td>1.27</td><td>5.3100</td><td>11.50</td><td>25.685</td><td>238.19</td><td>33.38157</td></tr>\n",
              "</tbody>\n",
              "</table>\n"
            ]
          },
          "metadata": {}
        },
        {
          "output_type": "stream",
          "name": "stdout",
          "text": [
            "\n",
            "\n",
            "\n",
            " Multiple Comparison \n"
          ]
        },
        {
          "output_type": "display_data",
          "data": {
            "text/plain": [
              "   .y. group1      group2      n1  n2  statistic  p     p.adj p.adj.signif\n",
              "1  TUA Mex-Hisp    Other-Hisp  222 149  0.3028213 0.762 0.85  ns          \n",
              "2  TUA Mex-Hisp    Non-Hisp-WT 222 623 -1.5169754 0.129 0.65  ns          \n",
              "3  TUA Mex-Hisp    Non-Hisp-BK 222 365 -0.5513440 0.581 0.73  ns          \n",
              "4  TUA Mex-Hisp    Others      222 267 -0.6134995 0.54  0.73  ns          \n",
              "5  TUA Other-Hisp  Non-Hisp-WT 149 623 -1.6518817 0.099 0.65  ns          \n",
              "6  TUA Other-Hisp  Non-Hisp-BK 149 365 -0.8125838 0.416 0.69  ns          \n",
              "7  TUA Other-Hisp  Others      149 267 -0.8585489 0.391 0.69  ns          \n",
              "8  TUA Non-Hisp-WT Non-Hisp-BK 623 365  1.0869449 0.277 0.69  ns          \n",
              "9  TUA Non-Hisp-WT Others      623 267  0.8592296 0.39  0.69  ns          \n",
              "10 TUA Non-Hisp-BK Others      365 267 -0.1092353 0.913 0.91  ns          "
            ],
            "text/latex": "A rstatix\\_test: 10 × 9\n\\begin{tabular}{r|lllllllll}\n  & .y. & group1 & group2 & n1 & n2 & statistic & p & p.adj & p.adj.signif\\\\\n  & <chr> & <chr> & <chr> & <int> & <int> & <dbl> & <chr> & <chr> & <chr>\\\\\n\\hline\n\t1 & TUA & Mex-Hisp    & Other-Hisp  & 222 & 149 &  0.3028213 & 0.762 & 0.85 & ns\\\\\n\t2 & TUA & Mex-Hisp    & Non-Hisp-WT & 222 & 623 & -1.5169754 & 0.129 & 0.65 & ns\\\\\n\t3 & TUA & Mex-Hisp    & Non-Hisp-BK & 222 & 365 & -0.5513440 & 0.581 & 0.73 & ns\\\\\n\t4 & TUA & Mex-Hisp    & Others      & 222 & 267 & -0.6134995 & 0.54  & 0.73 & ns\\\\\n\t5 & TUA & Other-Hisp  & Non-Hisp-WT & 149 & 623 & -1.6518817 & 0.099 & 0.65 & ns\\\\\n\t6 & TUA & Other-Hisp  & Non-Hisp-BK & 149 & 365 & -0.8125838 & 0.416 & 0.69 & ns\\\\\n\t7 & TUA & Other-Hisp  & Others      & 149 & 267 & -0.8585489 & 0.391 & 0.69 & ns\\\\\n\t8 & TUA & Non-Hisp-WT & Non-Hisp-BK & 623 & 365 &  1.0869449 & 0.277 & 0.69 & ns\\\\\n\t9 & TUA & Non-Hisp-WT & Others      & 623 & 267 &  0.8592296 & 0.39  & 0.69 & ns\\\\\n\t10 & TUA & Non-Hisp-BK & Others      & 365 & 267 & -0.1092353 & 0.913 & 0.91 & ns\\\\\n\\end{tabular}\n",
            "text/markdown": "\nA rstatix_test: 10 × 9\n\n| <!--/--> | .y. &lt;chr&gt; | group1 &lt;chr&gt; | group2 &lt;chr&gt; | n1 &lt;int&gt; | n2 &lt;int&gt; | statistic &lt;dbl&gt; | p &lt;chr&gt; | p.adj &lt;chr&gt; | p.adj.signif &lt;chr&gt; |\n|---|---|---|---|---|---|---|---|---|---|\n| 1 | TUA | Mex-Hisp    | Other-Hisp  | 222 | 149 |  0.3028213 | 0.762 | 0.85 | ns |\n| 2 | TUA | Mex-Hisp    | Non-Hisp-WT | 222 | 623 | -1.5169754 | 0.129 | 0.65 | ns |\n| 3 | TUA | Mex-Hisp    | Non-Hisp-BK | 222 | 365 | -0.5513440 | 0.581 | 0.73 | ns |\n| 4 | TUA | Mex-Hisp    | Others      | 222 | 267 | -0.6134995 | 0.54  | 0.73 | ns |\n| 5 | TUA | Other-Hisp  | Non-Hisp-WT | 149 | 623 | -1.6518817 | 0.099 | 0.65 | ns |\n| 6 | TUA | Other-Hisp  | Non-Hisp-BK | 149 | 365 | -0.8125838 | 0.416 | 0.69 | ns |\n| 7 | TUA | Other-Hisp  | Others      | 149 | 267 | -0.8585489 | 0.391 | 0.69 | ns |\n| 8 | TUA | Non-Hisp-WT | Non-Hisp-BK | 623 | 365 |  1.0869449 | 0.277 | 0.69 | ns |\n| 9 | TUA | Non-Hisp-WT | Others      | 623 | 267 |  0.8592296 | 0.39  | 0.69 | ns |\n| 10 | TUA | Non-Hisp-BK | Others      | 365 | 267 | -0.1092353 | 0.913 | 0.91 | ns |\n\n",
            "text/html": [
              "<table class=\"dataframe\">\n",
              "<caption>A rstatix_test: 10 × 9</caption>\n",
              "<thead>\n",
              "\t<tr><th></th><th scope=col>.y.</th><th scope=col>group1</th><th scope=col>group2</th><th scope=col>n1</th><th scope=col>n2</th><th scope=col>statistic</th><th scope=col>p</th><th scope=col>p.adj</th><th scope=col>p.adj.signif</th></tr>\n",
              "\t<tr><th></th><th scope=col>&lt;chr&gt;</th><th scope=col>&lt;chr&gt;</th><th scope=col>&lt;chr&gt;</th><th scope=col>&lt;int&gt;</th><th scope=col>&lt;int&gt;</th><th scope=col>&lt;dbl&gt;</th><th scope=col>&lt;chr&gt;</th><th scope=col>&lt;chr&gt;</th><th scope=col>&lt;chr&gt;</th></tr>\n",
              "</thead>\n",
              "<tbody>\n",
              "\t<tr><th scope=row>1</th><td>TUA</td><td>Mex-Hisp   </td><td>Other-Hisp </td><td>222</td><td>149</td><td> 0.3028213</td><td>0.762</td><td>0.85</td><td>ns</td></tr>\n",
              "\t<tr><th scope=row>2</th><td>TUA</td><td>Mex-Hisp   </td><td>Non-Hisp-WT</td><td>222</td><td>623</td><td>-1.5169754</td><td>0.129</td><td>0.65</td><td>ns</td></tr>\n",
              "\t<tr><th scope=row>3</th><td>TUA</td><td>Mex-Hisp   </td><td>Non-Hisp-BK</td><td>222</td><td>365</td><td>-0.5513440</td><td>0.581</td><td>0.73</td><td>ns</td></tr>\n",
              "\t<tr><th scope=row>4</th><td>TUA</td><td>Mex-Hisp   </td><td>Others     </td><td>222</td><td>267</td><td>-0.6134995</td><td>0.54 </td><td>0.73</td><td>ns</td></tr>\n",
              "\t<tr><th scope=row>5</th><td>TUA</td><td>Other-Hisp </td><td>Non-Hisp-WT</td><td>149</td><td>623</td><td>-1.6518817</td><td>0.099</td><td>0.65</td><td>ns</td></tr>\n",
              "\t<tr><th scope=row>6</th><td>TUA</td><td>Other-Hisp </td><td>Non-Hisp-BK</td><td>149</td><td>365</td><td>-0.8125838</td><td>0.416</td><td>0.69</td><td>ns</td></tr>\n",
              "\t<tr><th scope=row>7</th><td>TUA</td><td>Other-Hisp </td><td>Others     </td><td>149</td><td>267</td><td>-0.8585489</td><td>0.391</td><td>0.69</td><td>ns</td></tr>\n",
              "\t<tr><th scope=row>8</th><td>TUA</td><td>Non-Hisp-WT</td><td>Non-Hisp-BK</td><td>623</td><td>365</td><td> 1.0869449</td><td>0.277</td><td>0.69</td><td>ns</td></tr>\n",
              "\t<tr><th scope=row>9</th><td>TUA</td><td>Non-Hisp-WT</td><td>Others     </td><td>623</td><td>267</td><td> 0.8592296</td><td>0.39 </td><td>0.69</td><td>ns</td></tr>\n",
              "\t<tr><th scope=row>10</th><td>TUA</td><td>Non-Hisp-BK</td><td>Others     </td><td>365</td><td>267</td><td>-0.1092353</td><td>0.913</td><td>0.91</td><td>ns</td></tr>\n",
              "</tbody>\n",
              "</table>\n"
            ]
          },
          "metadata": {}
        }
      ]
    },
    {
      "cell_type": "code",
      "metadata": {
        "id": "wZW4zelM7Oel",
        "colab": {
          "base_uri": "https://localhost:8080/"
        },
        "outputId": "7d17a732-23d4-417c-b7dc-6cac36c6f658"
      },
      "source": [
        "\n",
        "# Poverty Income Ratio\n",
        "kruskal.test(TUA~ PIR , data = HSV_df)"
      ],
      "execution_count": null,
      "outputs": [
        {
          "output_type": "display_data",
          "data": {
            "text/plain": [
              "\n",
              "\tKruskal-Wallis rank sum test\n",
              "\n",
              "data:  TUA by PIR\n",
              "Kruskal-Wallis chi-squared = 1.1419, df = 2, p-value = 0.565\n"
            ]
          },
          "metadata": {}
        }
      ]
    },
    {
      "cell_type": "code",
      "metadata": {
        "id": "_jNcKO3T7PCa",
        "colab": {
          "base_uri": "https://localhost:8080/"
        },
        "outputId": "0a75d29c-7187-408b-c048-1e3cbb8d99de"
      },
      "source": [
        "HSV_df_backup_postprep -> HSV_df\n",
        "\n",
        "HSV_df %<>% select(TUA, ALQ101  ) %>% filter(TUA != 'NA') %>% filter(ALQ101   != 'NA')\n",
        "\n",
        "# kruskal wallis test\n",
        "kruskal.test(TUA~ ALQ101   , data = HSV_df) \n",
        "\n",
        "cat(\"\\n\\n\")\n",
        "\n",
        "cat(\"\\n Numerical Summaries \\n\")\n",
        "# numerical summary\n",
        "HSV_df %$% num_summary(TUA, ALQ101  ) \n",
        "\n",
        "cat(\"\\n\\n\")\n",
        "\n",
        "cat(\"\\n Multiple Comparison \\n\")\n",
        "# multiple comparison\n",
        "dunn_test(TUA~ ALQ101   , data = HSV_df, p.adjust.method = \"fdr\") %>%\n",
        "p_format(digits = 2, leading.zero = TRUE) ; HSV_df_backup_postprep -> HSV_df\n",
        "\n"
      ],
      "execution_count": null,
      "outputs": [
        {
          "output_type": "display_data",
          "data": {
            "text/plain": [
              "\n",
              "\tKruskal-Wallis rank sum test\n",
              "\n",
              "data:  TUA by ALQ101\n",
              "Kruskal-Wallis chi-squared = 2.7496, df = 1, p-value = 0.09728\n"
            ]
          },
          "metadata": {}
        },
        {
          "output_type": "stream",
          "name": "stdout",
          "text": [
            "\n",
            "\n",
            "\n",
            " Numerical Summaries \n"
          ]
        },
        {
          "output_type": "display_data",
          "data": {
            "text/plain": [
              "  variable Count Mean     Min  Q1     Q2    Q3     Max    Sd      \n",
              "1 Yes      1274  14.70575 0.90 3.7100 7.020 13.345 849.22 35.18725\n",
              "2 No        232  16.70371 0.91 3.3975 6.525 13.560 238.19 32.81227"
            ],
            "text/latex": "A tibble: 2 × 9\n\\begin{tabular}{lllllllll}\n variable & Count & Mean & Min & Q1 & Q2 & Q3 & Max & Sd\\\\\n <fct> & <int> & <dbl> & <dbl> & <dbl> & <dbl> & <dbl> & <dbl> & <dbl>\\\\\n\\hline\n\t Yes & 1274 & 14.70575 & 0.90 & 3.7100 & 7.020 & 13.345 & 849.22 & 35.18725\\\\\n\t No  &  232 & 16.70371 & 0.91 & 3.3975 & 6.525 & 13.560 & 238.19 & 32.81227\\\\\n\\end{tabular}\n",
            "text/markdown": "\nA tibble: 2 × 9\n\n| variable &lt;fct&gt; | Count &lt;int&gt; | Mean &lt;dbl&gt; | Min &lt;dbl&gt; | Q1 &lt;dbl&gt; | Q2 &lt;dbl&gt; | Q3 &lt;dbl&gt; | Max &lt;dbl&gt; | Sd &lt;dbl&gt; |\n|---|---|---|---|---|---|---|---|---|\n| Yes | 1274 | 14.70575 | 0.90 | 3.7100 | 7.020 | 13.345 | 849.22 | 35.18725 |\n| No  |  232 | 16.70371 | 0.91 | 3.3975 | 6.525 | 13.560 | 238.19 | 32.81227 |\n\n",
            "text/html": [
              "<table class=\"dataframe\">\n",
              "<caption>A tibble: 2 × 9</caption>\n",
              "<thead>\n",
              "\t<tr><th scope=col>variable</th><th scope=col>Count</th><th scope=col>Mean</th><th scope=col>Min</th><th scope=col>Q1</th><th scope=col>Q2</th><th scope=col>Q3</th><th scope=col>Max</th><th scope=col>Sd</th></tr>\n",
              "\t<tr><th scope=col>&lt;fct&gt;</th><th scope=col>&lt;int&gt;</th><th scope=col>&lt;dbl&gt;</th><th scope=col>&lt;dbl&gt;</th><th scope=col>&lt;dbl&gt;</th><th scope=col>&lt;dbl&gt;</th><th scope=col>&lt;dbl&gt;</th><th scope=col>&lt;dbl&gt;</th><th scope=col>&lt;dbl&gt;</th></tr>\n",
              "</thead>\n",
              "<tbody>\n",
              "\t<tr><td>Yes</td><td>1274</td><td>14.70575</td><td>0.90</td><td>3.7100</td><td>7.020</td><td>13.345</td><td>849.22</td><td>35.18725</td></tr>\n",
              "\t<tr><td>No </td><td> 232</td><td>16.70371</td><td>0.91</td><td>3.3975</td><td>6.525</td><td>13.560</td><td>238.19</td><td>32.81227</td></tr>\n",
              "</tbody>\n",
              "</table>\n"
            ]
          },
          "metadata": {}
        },
        {
          "output_type": "stream",
          "name": "stdout",
          "text": [
            "\n",
            "\n",
            "\n",
            " Multiple Comparison \n"
          ]
        },
        {
          "output_type": "display_data",
          "data": {
            "text/plain": [
              "  .y. group1 group2 n1   n2  statistic p     p.adj p.adj.signif\n",
              "1 TUA Yes    No     1274 232 -1.658191 0.097 0.097 ns          "
            ],
            "text/latex": "A rstatix\\_test: 1 × 9\n\\begin{tabular}{r|lllllllll}\n  & .y. & group1 & group2 & n1 & n2 & statistic & p & p.adj & p.adj.signif\\\\\n  & <chr> & <chr> & <chr> & <int> & <int> & <dbl> & <chr> & <chr> & <chr>\\\\\n\\hline\n\t1 & TUA & Yes & No & 1274 & 232 & -1.658191 & 0.097 & 0.097 & ns\\\\\n\\end{tabular}\n",
            "text/markdown": "\nA rstatix_test: 1 × 9\n\n| <!--/--> | .y. &lt;chr&gt; | group1 &lt;chr&gt; | group2 &lt;chr&gt; | n1 &lt;int&gt; | n2 &lt;int&gt; | statistic &lt;dbl&gt; | p &lt;chr&gt; | p.adj &lt;chr&gt; | p.adj.signif &lt;chr&gt; |\n|---|---|---|---|---|---|---|---|---|---|\n| 1 | TUA | Yes | No | 1274 | 232 | -1.658191 | 0.097 | 0.097 | ns |\n\n",
            "text/html": [
              "<table class=\"dataframe\">\n",
              "<caption>A rstatix_test: 1 × 9</caption>\n",
              "<thead>\n",
              "\t<tr><th></th><th scope=col>.y.</th><th scope=col>group1</th><th scope=col>group2</th><th scope=col>n1</th><th scope=col>n2</th><th scope=col>statistic</th><th scope=col>p</th><th scope=col>p.adj</th><th scope=col>p.adj.signif</th></tr>\n",
              "\t<tr><th></th><th scope=col>&lt;chr&gt;</th><th scope=col>&lt;chr&gt;</th><th scope=col>&lt;chr&gt;</th><th scope=col>&lt;int&gt;</th><th scope=col>&lt;int&gt;</th><th scope=col>&lt;dbl&gt;</th><th scope=col>&lt;chr&gt;</th><th scope=col>&lt;chr&gt;</th><th scope=col>&lt;chr&gt;</th></tr>\n",
              "</thead>\n",
              "<tbody>\n",
              "\t<tr><th scope=row>1</th><td>TUA</td><td>Yes</td><td>No</td><td>1274</td><td>232</td><td>-1.658191</td><td>0.097</td><td>0.097</td><td>ns</td></tr>\n",
              "</tbody>\n",
              "</table>\n"
            ]
          },
          "metadata": {}
        }
      ]
    },
    {
      "cell_type": "code",
      "metadata": {
        "id": "enXJSDBw7P0N",
        "colab": {
          "base_uri": "https://localhost:8080/"
        },
        "outputId": "1f2a9b88-1baf-4802-d47b-3c89cbd1296c"
      },
      "source": [
        "\n",
        "# Cotinine\n",
        "kruskal.test(TUA~ LBDCOTLC , data = HSV_df)\n",
        "\n"
      ],
      "execution_count": null,
      "outputs": [
        {
          "output_type": "display_data",
          "data": {
            "text/plain": [
              "\n",
              "\tKruskal-Wallis rank sum test\n",
              "\n",
              "data:  TUA by LBDCOTLC\n",
              "Kruskal-Wallis chi-squared = 7.666, df = 1, p-value = 0.005627\n"
            ]
          },
          "metadata": {}
        }
      ]
    },
    {
      "cell_type": "markdown",
      "metadata": {
        "id": "gEat4OhyZzvJ"
      },
      "source": [
        "### **TUA1**\n",
        "\n",
        "At alpha level of 0.05, for combination of arsenous acid , arsenicacid , monomethylarsonic acid and dimethylarsenic acid, there is statistical significance for **BMI, race and alcohol.**\n",
        "\n",
        "There is no statistical significance for education, marital status, cotinine and poverty index ratio."
      ]
    },
    {
      "cell_type": "markdown",
      "metadata": {
        "id": "R2Mpqg9DYFyZ"
      },
      "source": [
        "**BMI**"
      ]
    },
    {
      "cell_type": "code",
      "metadata": {
        "id": "RSmU92yPZ4wJ",
        "colab": {
          "base_uri": "https://localhost:8080/"
        },
        "outputId": "db833944-0a95-4d79-f80a-a9deaf1fe809"
      },
      "source": [
        "HSV_df_backup_postprep -> HSV_df\n",
        "\n",
        "HSV_df %<>% select(TUA1, BMI.f  ) %>% filter(TUA1 != 'NA') %>% filter(BMI.f   != 'NA')\n",
        "\n",
        "# kruskal wallis test\n",
        "kruskal.test(TUA1~ BMI.f   , data = HSV_df) \n",
        "\n",
        "cat(\"\\n\\n\")\n",
        "\n",
        "cat(\"\\n Numerical Summaries \\n\")\n",
        "# numerical summary\n",
        "HSV_df %$% num_summary(TUA1, BMI.f  ) \n",
        "\n",
        "cat(\"\\n\\n\")\n",
        "\n",
        "cat(\"\\n Multiple Comparison \\n\")\n",
        "# multiple comparison\n",
        "dunn_test(TUA1~ BMI.f   , data = HSV_df, p.adjust.method = \"fdr\") %>%\n",
        "p_format(digits = 2, leading.zero = TRUE) ; HSV_df_backup_postprep -> HSV_df\n"
      ],
      "execution_count": null,
      "outputs": [
        {
          "output_type": "display_data",
          "data": {
            "text/plain": [
              "\n",
              "\tKruskal-Wallis rank sum test\n",
              "\n",
              "data:  TUA1 by BMI.f\n",
              "Kruskal-Wallis chi-squared = 2.4086, df = 3, p-value = 0.492\n"
            ]
          },
          "metadata": {}
        },
        {
          "output_type": "stream",
          "name": "stdout",
          "text": [
            "\n",
            "\n",
            "\n",
            " Numerical Summaries \n"
          ]
        },
        {
          "output_type": "display_data",
          "data": {
            "text/plain": [
              "  variable      Count Mean     Min  Q1     Q2    Q3     Max    Sd       \n",
              "1 Underweight    24   9.272917 2.13 2.5125 4.015 8.8725  76.48 15.217766\n",
              "2 Normal weight 500   7.052360 2.13 3.0975 5.425 8.4875  41.37  6.001963\n",
              "3 Overweight    570   7.521193 2.13 3.3375 5.300 8.9100  59.11  7.374837\n",
              "4 Obesity       525   6.899638 2.13 3.5900 5.360 8.2900 129.02  7.457998"
            ],
            "text/latex": "A tibble: 4 × 9\n\\begin{tabular}{lllllllll}\n variable & Count & Mean & Min & Q1 & Q2 & Q3 & Max & Sd\\\\\n <fct> & <int> & <dbl> & <dbl> & <dbl> & <dbl> & <dbl> & <dbl> & <dbl>\\\\\n\\hline\n\t Underweight   &  24 & 9.272917 & 2.13 & 2.5125 & 4.015 & 8.8725 &  76.48 & 15.217766\\\\\n\t Normal weight & 500 & 7.052360 & 2.13 & 3.0975 & 5.425 & 8.4875 &  41.37 &  6.001963\\\\\n\t Overweight    & 570 & 7.521193 & 2.13 & 3.3375 & 5.300 & 8.9100 &  59.11 &  7.374837\\\\\n\t Obesity       & 525 & 6.899638 & 2.13 & 3.5900 & 5.360 & 8.2900 & 129.02 &  7.457998\\\\\n\\end{tabular}\n",
            "text/markdown": "\nA tibble: 4 × 9\n\n| variable &lt;fct&gt; | Count &lt;int&gt; | Mean &lt;dbl&gt; | Min &lt;dbl&gt; | Q1 &lt;dbl&gt; | Q2 &lt;dbl&gt; | Q3 &lt;dbl&gt; | Max &lt;dbl&gt; | Sd &lt;dbl&gt; |\n|---|---|---|---|---|---|---|---|---|\n| Underweight   |  24 | 9.272917 | 2.13 | 2.5125 | 4.015 | 8.8725 |  76.48 | 15.217766 |\n| Normal weight | 500 | 7.052360 | 2.13 | 3.0975 | 5.425 | 8.4875 |  41.37 |  6.001963 |\n| Overweight    | 570 | 7.521193 | 2.13 | 3.3375 | 5.300 | 8.9100 |  59.11 |  7.374837 |\n| Obesity       | 525 | 6.899638 | 2.13 | 3.5900 | 5.360 | 8.2900 | 129.02 |  7.457998 |\n\n",
            "text/html": [
              "<table class=\"dataframe\">\n",
              "<caption>A tibble: 4 × 9</caption>\n",
              "<thead>\n",
              "\t<tr><th scope=col>variable</th><th scope=col>Count</th><th scope=col>Mean</th><th scope=col>Min</th><th scope=col>Q1</th><th scope=col>Q2</th><th scope=col>Q3</th><th scope=col>Max</th><th scope=col>Sd</th></tr>\n",
              "\t<tr><th scope=col>&lt;fct&gt;</th><th scope=col>&lt;int&gt;</th><th scope=col>&lt;dbl&gt;</th><th scope=col>&lt;dbl&gt;</th><th scope=col>&lt;dbl&gt;</th><th scope=col>&lt;dbl&gt;</th><th scope=col>&lt;dbl&gt;</th><th scope=col>&lt;dbl&gt;</th><th scope=col>&lt;dbl&gt;</th></tr>\n",
              "</thead>\n",
              "<tbody>\n",
              "\t<tr><td>Underweight  </td><td> 24</td><td>9.272917</td><td>2.13</td><td>2.5125</td><td>4.015</td><td>8.8725</td><td> 76.48</td><td>15.217766</td></tr>\n",
              "\t<tr><td>Normal weight</td><td>500</td><td>7.052360</td><td>2.13</td><td>3.0975</td><td>5.425</td><td>8.4875</td><td> 41.37</td><td> 6.001963</td></tr>\n",
              "\t<tr><td>Overweight   </td><td>570</td><td>7.521193</td><td>2.13</td><td>3.3375</td><td>5.300</td><td>8.9100</td><td> 59.11</td><td> 7.374837</td></tr>\n",
              "\t<tr><td>Obesity      </td><td>525</td><td>6.899638</td><td>2.13</td><td>3.5900</td><td>5.360</td><td>8.2900</td><td>129.02</td><td> 7.457998</td></tr>\n",
              "</tbody>\n",
              "</table>\n"
            ]
          },
          "metadata": {}
        },
        {
          "output_type": "stream",
          "name": "stdout",
          "text": [
            "\n",
            "\n",
            "\n",
            " Multiple Comparison \n"
          ]
        },
        {
          "output_type": "display_data",
          "data": {
            "text/plain": [
              "  .y.  group1        group2        n1  n2  statistic p    p.adj p.adj.signif\n",
              "1 TUA1 Underweight   Normal weight  24 500 0.5765699 0.56 0.64  ns          \n",
              "2 TUA1 Underweight   Overweight     24 570 0.7151689 0.47 0.64  ns          \n",
              "3 TUA1 Underweight   Obesity        24 525 0.9731633 0.33 0.64  ns          \n",
              "4 TUA1 Normal weight Overweight    500 570 0.4658093 0.64 0.64  ns          \n",
              "5 TUA1 Normal weight Obesity       500 525 1.3226928 0.19 0.64  ns          \n",
              "6 TUA1 Overweight    Obesity       570 525 0.8945314 0.37 0.64  ns          "
            ],
            "text/latex": "A rstatix\\_test: 6 × 9\n\\begin{tabular}{r|lllllllll}\n  & .y. & group1 & group2 & n1 & n2 & statistic & p & p.adj & p.adj.signif\\\\\n  & <chr> & <chr> & <chr> & <int> & <int> & <dbl> & <chr> & <chr> & <chr>\\\\\n\\hline\n\t1 & TUA1 & Underweight   & Normal weight &  24 & 500 & 0.5765699 & 0.56 & 0.64 & ns\\\\\n\t2 & TUA1 & Underweight   & Overweight    &  24 & 570 & 0.7151689 & 0.47 & 0.64 & ns\\\\\n\t3 & TUA1 & Underweight   & Obesity       &  24 & 525 & 0.9731633 & 0.33 & 0.64 & ns\\\\\n\t4 & TUA1 & Normal weight & Overweight    & 500 & 570 & 0.4658093 & 0.64 & 0.64 & ns\\\\\n\t5 & TUA1 & Normal weight & Obesity       & 500 & 525 & 1.3226928 & 0.19 & 0.64 & ns\\\\\n\t6 & TUA1 & Overweight    & Obesity       & 570 & 525 & 0.8945314 & 0.37 & 0.64 & ns\\\\\n\\end{tabular}\n",
            "text/markdown": "\nA rstatix_test: 6 × 9\n\n| <!--/--> | .y. &lt;chr&gt; | group1 &lt;chr&gt; | group2 &lt;chr&gt; | n1 &lt;int&gt; | n2 &lt;int&gt; | statistic &lt;dbl&gt; | p &lt;chr&gt; | p.adj &lt;chr&gt; | p.adj.signif &lt;chr&gt; |\n|---|---|---|---|---|---|---|---|---|---|\n| 1 | TUA1 | Underweight   | Normal weight |  24 | 500 | 0.5765699 | 0.56 | 0.64 | ns |\n| 2 | TUA1 | Underweight   | Overweight    |  24 | 570 | 0.7151689 | 0.47 | 0.64 | ns |\n| 3 | TUA1 | Underweight   | Obesity       |  24 | 525 | 0.9731633 | 0.33 | 0.64 | ns |\n| 4 | TUA1 | Normal weight | Overweight    | 500 | 570 | 0.4658093 | 0.64 | 0.64 | ns |\n| 5 | TUA1 | Normal weight | Obesity       | 500 | 525 | 1.3226928 | 0.19 | 0.64 | ns |\n| 6 | TUA1 | Overweight    | Obesity       | 570 | 525 | 0.8945314 | 0.37 | 0.64 | ns |\n\n",
            "text/html": [
              "<table class=\"dataframe\">\n",
              "<caption>A rstatix_test: 6 × 9</caption>\n",
              "<thead>\n",
              "\t<tr><th></th><th scope=col>.y.</th><th scope=col>group1</th><th scope=col>group2</th><th scope=col>n1</th><th scope=col>n2</th><th scope=col>statistic</th><th scope=col>p</th><th scope=col>p.adj</th><th scope=col>p.adj.signif</th></tr>\n",
              "\t<tr><th></th><th scope=col>&lt;chr&gt;</th><th scope=col>&lt;chr&gt;</th><th scope=col>&lt;chr&gt;</th><th scope=col>&lt;int&gt;</th><th scope=col>&lt;int&gt;</th><th scope=col>&lt;dbl&gt;</th><th scope=col>&lt;chr&gt;</th><th scope=col>&lt;chr&gt;</th><th scope=col>&lt;chr&gt;</th></tr>\n",
              "</thead>\n",
              "<tbody>\n",
              "\t<tr><th scope=row>1</th><td>TUA1</td><td>Underweight  </td><td>Normal weight</td><td> 24</td><td>500</td><td>0.5765699</td><td>0.56</td><td>0.64</td><td>ns</td></tr>\n",
              "\t<tr><th scope=row>2</th><td>TUA1</td><td>Underweight  </td><td>Overweight   </td><td> 24</td><td>570</td><td>0.7151689</td><td>0.47</td><td>0.64</td><td>ns</td></tr>\n",
              "\t<tr><th scope=row>3</th><td>TUA1</td><td>Underweight  </td><td>Obesity      </td><td> 24</td><td>525</td><td>0.9731633</td><td>0.33</td><td>0.64</td><td>ns</td></tr>\n",
              "\t<tr><th scope=row>4</th><td>TUA1</td><td>Normal weight</td><td>Overweight   </td><td>500</td><td>570</td><td>0.4658093</td><td>0.64</td><td>0.64</td><td>ns</td></tr>\n",
              "\t<tr><th scope=row>5</th><td>TUA1</td><td>Normal weight</td><td>Obesity      </td><td>500</td><td>525</td><td>1.3226928</td><td>0.19</td><td>0.64</td><td>ns</td></tr>\n",
              "\t<tr><th scope=row>6</th><td>TUA1</td><td>Overweight   </td><td>Obesity      </td><td>570</td><td>525</td><td>0.8945314</td><td>0.37</td><td>0.64</td><td>ns</td></tr>\n",
              "</tbody>\n",
              "</table>\n"
            ]
          },
          "metadata": {}
        }
      ]
    },
    {
      "cell_type": "markdown",
      "metadata": {
        "id": "Bi1Vywo3YC42"
      },
      "source": [
        "**Education**"
      ]
    },
    {
      "cell_type": "code",
      "metadata": {
        "id": "Vnw4gd9I7jr_",
        "colab": {
          "base_uri": "https://localhost:8080/"
        },
        "outputId": "12725b5e-5d55-4f61-862d-a85f3ccd962f"
      },
      "source": [
        "\n",
        "# Education\n",
        "kruskal.test(TUA1~ DMDEDUC2 , data = HSV_df) "
      ],
      "execution_count": null,
      "outputs": [
        {
          "output_type": "display_data",
          "data": {
            "text/plain": [
              "\n",
              "\tKruskal-Wallis rank sum test\n",
              "\n",
              "data:  TUA1 by DMDEDUC2\n",
              "Kruskal-Wallis chi-squared = 8.4782, df = 4, p-value = 0.07555\n"
            ]
          },
          "metadata": {}
        }
      ]
    },
    {
      "cell_type": "markdown",
      "metadata": {
        "id": "xAYm3MjfX9Zm"
      },
      "source": [
        "**Marital Status**"
      ]
    },
    {
      "cell_type": "code",
      "metadata": {
        "id": "prRtXLbO7kbm",
        "colab": {
          "base_uri": "https://localhost:8080/"
        },
        "outputId": "16e216a7-c348-4a23-b086-4df41c09d4e3"
      },
      "source": [
        "\n",
        "# Marital Status\n",
        "kruskal.test(TUA1~ DMDMARTL , data = HSV_df) "
      ],
      "execution_count": null,
      "outputs": [
        {
          "output_type": "display_data",
          "data": {
            "text/plain": [
              "\n",
              "\tKruskal-Wallis rank sum test\n",
              "\n",
              "data:  TUA1 by DMDMARTL\n",
              "Kruskal-Wallis chi-squared = 6.76, df = 5, p-value = 0.2391\n"
            ]
          },
          "metadata": {}
        }
      ]
    },
    {
      "cell_type": "markdown",
      "metadata": {
        "id": "F2P8BldAX2jH"
      },
      "source": [
        "**Race**"
      ]
    },
    {
      "cell_type": "code",
      "metadata": {
        "id": "fLW2Nd0N7oC-",
        "colab": {
          "base_uri": "https://localhost:8080/"
        },
        "outputId": "5358381b-e33b-48f5-ca79-893c29894867"
      },
      "source": [
        "HSV_df_backup_postprep -> HSV_df\n",
        "\n",
        "HSV_df %<>% select(TUA1, RIDRETH1  ) %>% filter(TUA1 != 'NA') %>% filter(RIDRETH1   != 'NA')\n",
        "\n",
        "# kruskal wallis test\n",
        "kruskal.test(TUA1~ RIDRETH1   , data = HSV_df) \n",
        "\n",
        "cat(\"\\n\\n\")\n",
        "\n",
        "cat(\"\\n Numerical Summaries \\n\")\n",
        "# numerical summary\n",
        "HSV_df %$% num_summary(TUA1, RIDRETH1  ) \n",
        "\n",
        "cat(\"\\n\\n\")\n",
        "\n",
        "cat(\"\\n Multiple Comparison \\n\")\n",
        "# multiple comparison\n",
        "dunn_test(TUA1~ RIDRETH1   , data = HSV_df, p.adjust.method = \"fdr\") %>%\n",
        "p_format(digits = 2, leading.zero = TRUE) ; HSV_df_backup_postprep -> HSV_df\n",
        "\n"
      ],
      "execution_count": null,
      "outputs": [
        {
          "output_type": "display_data",
          "data": {
            "text/plain": [
              "\n",
              "\tKruskal-Wallis rank sum test\n",
              "\n",
              "data:  TUA1 by RIDRETH1\n",
              "Kruskal-Wallis chi-squared = 5.0746, df = 4, p-value = 0.2797\n"
            ]
          },
          "metadata": {}
        },
        {
          "output_type": "stream",
          "name": "stdout",
          "text": [
            "\n",
            "\n",
            "\n",
            " Numerical Summaries \n"
          ]
        },
        {
          "output_type": "display_data",
          "data": {
            "text/plain": [
              "  variable    Count Mean      Min  Q1     Q2    Q3      Max    Sd      \n",
              "1 Mex-Hisp    222    7.455766 2.13 3.4900 5.760  8.8775 129.02 9.876304\n",
              "2 Other-Hisp  148    9.238311 2.13 4.5775 7.090 11.3350  53.00 7.751841\n",
              "3 Non-Hisp-WT 625    5.413072 2.13 2.6600 4.250  6.8100  41.25 4.193132\n",
              "4 Non-Hisp-BK 364    6.962527 2.13 3.4375 5.190  8.1550  50.42 5.934617\n",
              "5 Others      266   10.318684 2.13 4.3350 7.055 13.3500  76.48 9.578412"
            ],
            "text/latex": "A tibble: 5 × 9\n\\begin{tabular}{lllllllll}\n variable & Count & Mean & Min & Q1 & Q2 & Q3 & Max & Sd\\\\\n <fct> & <int> & <dbl> & <dbl> & <dbl> & <dbl> & <dbl> & <dbl> & <dbl>\\\\\n\\hline\n\t Mex-Hisp    & 222 &  7.455766 & 2.13 & 3.4900 & 5.760 &  8.8775 & 129.02 & 9.876304\\\\\n\t Other-Hisp  & 148 &  9.238311 & 2.13 & 4.5775 & 7.090 & 11.3350 &  53.00 & 7.751841\\\\\n\t Non-Hisp-WT & 625 &  5.413072 & 2.13 & 2.6600 & 4.250 &  6.8100 &  41.25 & 4.193132\\\\\n\t Non-Hisp-BK & 364 &  6.962527 & 2.13 & 3.4375 & 5.190 &  8.1550 &  50.42 & 5.934617\\\\\n\t Others      & 266 & 10.318684 & 2.13 & 4.3350 & 7.055 & 13.3500 &  76.48 & 9.578412\\\\\n\\end{tabular}\n",
            "text/markdown": "\nA tibble: 5 × 9\n\n| variable &lt;fct&gt; | Count &lt;int&gt; | Mean &lt;dbl&gt; | Min &lt;dbl&gt; | Q1 &lt;dbl&gt; | Q2 &lt;dbl&gt; | Q3 &lt;dbl&gt; | Max &lt;dbl&gt; | Sd &lt;dbl&gt; |\n|---|---|---|---|---|---|---|---|---|\n| Mex-Hisp    | 222 |  7.455766 | 2.13 | 3.4900 | 5.760 |  8.8775 | 129.02 | 9.876304 |\n| Other-Hisp  | 148 |  9.238311 | 2.13 | 4.5775 | 7.090 | 11.3350 |  53.00 | 7.751841 |\n| Non-Hisp-WT | 625 |  5.413072 | 2.13 | 2.6600 | 4.250 |  6.8100 |  41.25 | 4.193132 |\n| Non-Hisp-BK | 364 |  6.962527 | 2.13 | 3.4375 | 5.190 |  8.1550 |  50.42 | 5.934617 |\n| Others      | 266 | 10.318684 | 2.13 | 4.3350 | 7.055 | 13.3500 |  76.48 | 9.578412 |\n\n",
            "text/html": [
              "<table class=\"dataframe\">\n",
              "<caption>A tibble: 5 × 9</caption>\n",
              "<thead>\n",
              "\t<tr><th scope=col>variable</th><th scope=col>Count</th><th scope=col>Mean</th><th scope=col>Min</th><th scope=col>Q1</th><th scope=col>Q2</th><th scope=col>Q3</th><th scope=col>Max</th><th scope=col>Sd</th></tr>\n",
              "\t<tr><th scope=col>&lt;fct&gt;</th><th scope=col>&lt;int&gt;</th><th scope=col>&lt;dbl&gt;</th><th scope=col>&lt;dbl&gt;</th><th scope=col>&lt;dbl&gt;</th><th scope=col>&lt;dbl&gt;</th><th scope=col>&lt;dbl&gt;</th><th scope=col>&lt;dbl&gt;</th><th scope=col>&lt;dbl&gt;</th></tr>\n",
              "</thead>\n",
              "<tbody>\n",
              "\t<tr><td>Mex-Hisp   </td><td>222</td><td> 7.455766</td><td>2.13</td><td>3.4900</td><td>5.760</td><td> 8.8775</td><td>129.02</td><td>9.876304</td></tr>\n",
              "\t<tr><td>Other-Hisp </td><td>148</td><td> 9.238311</td><td>2.13</td><td>4.5775</td><td>7.090</td><td>11.3350</td><td> 53.00</td><td>7.751841</td></tr>\n",
              "\t<tr><td>Non-Hisp-WT</td><td>625</td><td> 5.413072</td><td>2.13</td><td>2.6600</td><td>4.250</td><td> 6.8100</td><td> 41.25</td><td>4.193132</td></tr>\n",
              "\t<tr><td>Non-Hisp-BK</td><td>364</td><td> 6.962527</td><td>2.13</td><td>3.4375</td><td>5.190</td><td> 8.1550</td><td> 50.42</td><td>5.934617</td></tr>\n",
              "\t<tr><td>Others     </td><td>266</td><td>10.318684</td><td>2.13</td><td>4.3350</td><td>7.055</td><td>13.3500</td><td> 76.48</td><td>9.578412</td></tr>\n",
              "</tbody>\n",
              "</table>\n"
            ]
          },
          "metadata": {}
        },
        {
          "output_type": "stream",
          "name": "stdout",
          "text": [
            "\n",
            "\n",
            "\n",
            " Multiple Comparison \n"
          ]
        },
        {
          "output_type": "display_data",
          "data": {
            "text/plain": [
              "   .y.  group1      group2      n1  n2  statistic  p     p.adj p.adj.signif\n",
              "1  TUA1 Mex-Hisp    Other-Hisp  222 148 -0.2359842 0.813 0.81  ns          \n",
              "2  TUA1 Mex-Hisp    Non-Hisp-WT 222 625  0.2422641 0.809 0.81  ns          \n",
              "3  TUA1 Mex-Hisp    Non-Hisp-BK 222 364  0.5120941 0.609 0.81  ns          \n",
              "4  TUA1 Mex-Hisp    Others      222 266 -1.3684664 0.171 0.57  ns          \n",
              "5  TUA1 Other-Hisp  Non-Hisp-WT 148 625  0.4810009 0.631 0.81  ns          \n",
              "6  TUA1 Other-Hisp  Non-Hisp-BK 148 364  0.7041953 0.481 0.81  ns          \n",
              "7  TUA1 Other-Hisp  Others      148 266 -0.9689034 0.333 0.81  ns          \n",
              "8  TUA1 Non-Hisp-WT Non-Hisp-BK 625 364  0.3743170 0.708 0.81  ns          \n",
              "9  TUA1 Non-Hisp-WT Others      625 266 -1.9578518 0.05  0.25  ns          \n",
              "10 TUA1 Non-Hisp-BK Others      364 266 -2.0828465 0.037 0.25  ns          "
            ],
            "text/latex": "A rstatix\\_test: 10 × 9\n\\begin{tabular}{r|lllllllll}\n  & .y. & group1 & group2 & n1 & n2 & statistic & p & p.adj & p.adj.signif\\\\\n  & <chr> & <chr> & <chr> & <int> & <int> & <dbl> & <chr> & <chr> & <chr>\\\\\n\\hline\n\t1 & TUA1 & Mex-Hisp    & Other-Hisp  & 222 & 148 & -0.2359842 & 0.813 & 0.81 & ns\\\\\n\t2 & TUA1 & Mex-Hisp    & Non-Hisp-WT & 222 & 625 &  0.2422641 & 0.809 & 0.81 & ns\\\\\n\t3 & TUA1 & Mex-Hisp    & Non-Hisp-BK & 222 & 364 &  0.5120941 & 0.609 & 0.81 & ns\\\\\n\t4 & TUA1 & Mex-Hisp    & Others      & 222 & 266 & -1.3684664 & 0.171 & 0.57 & ns\\\\\n\t5 & TUA1 & Other-Hisp  & Non-Hisp-WT & 148 & 625 &  0.4810009 & 0.631 & 0.81 & ns\\\\\n\t6 & TUA1 & Other-Hisp  & Non-Hisp-BK & 148 & 364 &  0.7041953 & 0.481 & 0.81 & ns\\\\\n\t7 & TUA1 & Other-Hisp  & Others      & 148 & 266 & -0.9689034 & 0.333 & 0.81 & ns\\\\\n\t8 & TUA1 & Non-Hisp-WT & Non-Hisp-BK & 625 & 364 &  0.3743170 & 0.708 & 0.81 & ns\\\\\n\t9 & TUA1 & Non-Hisp-WT & Others      & 625 & 266 & -1.9578518 & 0.05  & 0.25 & ns\\\\\n\t10 & TUA1 & Non-Hisp-BK & Others      & 364 & 266 & -2.0828465 & 0.037 & 0.25 & ns\\\\\n\\end{tabular}\n",
            "text/markdown": "\nA rstatix_test: 10 × 9\n\n| <!--/--> | .y. &lt;chr&gt; | group1 &lt;chr&gt; | group2 &lt;chr&gt; | n1 &lt;int&gt; | n2 &lt;int&gt; | statistic &lt;dbl&gt; | p &lt;chr&gt; | p.adj &lt;chr&gt; | p.adj.signif &lt;chr&gt; |\n|---|---|---|---|---|---|---|---|---|---|\n| 1 | TUA1 | Mex-Hisp    | Other-Hisp  | 222 | 148 | -0.2359842 | 0.813 | 0.81 | ns |\n| 2 | TUA1 | Mex-Hisp    | Non-Hisp-WT | 222 | 625 |  0.2422641 | 0.809 | 0.81 | ns |\n| 3 | TUA1 | Mex-Hisp    | Non-Hisp-BK | 222 | 364 |  0.5120941 | 0.609 | 0.81 | ns |\n| 4 | TUA1 | Mex-Hisp    | Others      | 222 | 266 | -1.3684664 | 0.171 | 0.57 | ns |\n| 5 | TUA1 | Other-Hisp  | Non-Hisp-WT | 148 | 625 |  0.4810009 | 0.631 | 0.81 | ns |\n| 6 | TUA1 | Other-Hisp  | Non-Hisp-BK | 148 | 364 |  0.7041953 | 0.481 | 0.81 | ns |\n| 7 | TUA1 | Other-Hisp  | Others      | 148 | 266 | -0.9689034 | 0.333 | 0.81 | ns |\n| 8 | TUA1 | Non-Hisp-WT | Non-Hisp-BK | 625 | 364 |  0.3743170 | 0.708 | 0.81 | ns |\n| 9 | TUA1 | Non-Hisp-WT | Others      | 625 | 266 | -1.9578518 | 0.05  | 0.25 | ns |\n| 10 | TUA1 | Non-Hisp-BK | Others      | 364 | 266 | -2.0828465 | 0.037 | 0.25 | ns |\n\n",
            "text/html": [
              "<table class=\"dataframe\">\n",
              "<caption>A rstatix_test: 10 × 9</caption>\n",
              "<thead>\n",
              "\t<tr><th></th><th scope=col>.y.</th><th scope=col>group1</th><th scope=col>group2</th><th scope=col>n1</th><th scope=col>n2</th><th scope=col>statistic</th><th scope=col>p</th><th scope=col>p.adj</th><th scope=col>p.adj.signif</th></tr>\n",
              "\t<tr><th></th><th scope=col>&lt;chr&gt;</th><th scope=col>&lt;chr&gt;</th><th scope=col>&lt;chr&gt;</th><th scope=col>&lt;int&gt;</th><th scope=col>&lt;int&gt;</th><th scope=col>&lt;dbl&gt;</th><th scope=col>&lt;chr&gt;</th><th scope=col>&lt;chr&gt;</th><th scope=col>&lt;chr&gt;</th></tr>\n",
              "</thead>\n",
              "<tbody>\n",
              "\t<tr><th scope=row>1</th><td>TUA1</td><td>Mex-Hisp   </td><td>Other-Hisp </td><td>222</td><td>148</td><td>-0.2359842</td><td>0.813</td><td>0.81</td><td>ns</td></tr>\n",
              "\t<tr><th scope=row>2</th><td>TUA1</td><td>Mex-Hisp   </td><td>Non-Hisp-WT</td><td>222</td><td>625</td><td> 0.2422641</td><td>0.809</td><td>0.81</td><td>ns</td></tr>\n",
              "\t<tr><th scope=row>3</th><td>TUA1</td><td>Mex-Hisp   </td><td>Non-Hisp-BK</td><td>222</td><td>364</td><td> 0.5120941</td><td>0.609</td><td>0.81</td><td>ns</td></tr>\n",
              "\t<tr><th scope=row>4</th><td>TUA1</td><td>Mex-Hisp   </td><td>Others     </td><td>222</td><td>266</td><td>-1.3684664</td><td>0.171</td><td>0.57</td><td>ns</td></tr>\n",
              "\t<tr><th scope=row>5</th><td>TUA1</td><td>Other-Hisp </td><td>Non-Hisp-WT</td><td>148</td><td>625</td><td> 0.4810009</td><td>0.631</td><td>0.81</td><td>ns</td></tr>\n",
              "\t<tr><th scope=row>6</th><td>TUA1</td><td>Other-Hisp </td><td>Non-Hisp-BK</td><td>148</td><td>364</td><td> 0.7041953</td><td>0.481</td><td>0.81</td><td>ns</td></tr>\n",
              "\t<tr><th scope=row>7</th><td>TUA1</td><td>Other-Hisp </td><td>Others     </td><td>148</td><td>266</td><td>-0.9689034</td><td>0.333</td><td>0.81</td><td>ns</td></tr>\n",
              "\t<tr><th scope=row>8</th><td>TUA1</td><td>Non-Hisp-WT</td><td>Non-Hisp-BK</td><td>625</td><td>364</td><td> 0.3743170</td><td>0.708</td><td>0.81</td><td>ns</td></tr>\n",
              "\t<tr><th scope=row>9</th><td>TUA1</td><td>Non-Hisp-WT</td><td>Others     </td><td>625</td><td>266</td><td>-1.9578518</td><td>0.05 </td><td>0.25</td><td>ns</td></tr>\n",
              "\t<tr><th scope=row>10</th><td>TUA1</td><td>Non-Hisp-BK</td><td>Others     </td><td>364</td><td>266</td><td>-2.0828465</td><td>0.037</td><td>0.25</td><td>ns</td></tr>\n",
              "</tbody>\n",
              "</table>\n"
            ]
          },
          "metadata": {}
        }
      ]
    },
    {
      "cell_type": "markdown",
      "metadata": {
        "id": "h9qJvTm8X0mL"
      },
      "source": [
        "**Poverty Income Ratio**"
      ]
    },
    {
      "cell_type": "code",
      "metadata": {
        "id": "AGuRLOfY7oq7",
        "colab": {
          "base_uri": "https://localhost:8080/"
        },
        "outputId": "9e67c5e2-bafa-4343-dc0c-c81981a60f24"
      },
      "source": [
        "\n",
        "# Poverty Income Ratio\n",
        "kruskal.test(TUA1~ PIR , data = HSV_df)"
      ],
      "execution_count": null,
      "outputs": [
        {
          "output_type": "display_data",
          "data": {
            "text/plain": [
              "\n",
              "\tKruskal-Wallis rank sum test\n",
              "\n",
              "data:  TUA1 by PIR\n",
              "Kruskal-Wallis chi-squared = 0.80296, df = 2, p-value = 0.6693\n"
            ]
          },
          "metadata": {}
        }
      ]
    },
    {
      "cell_type": "markdown",
      "metadata": {
        "id": "4SSkaGJwXyTy"
      },
      "source": [
        "**Alcohol**"
      ]
    },
    {
      "cell_type": "code",
      "metadata": {
        "id": "7F7CigzM7pTK",
        "colab": {
          "base_uri": "https://localhost:8080/"
        },
        "outputId": "3b7dc9a8-d7f4-4c67-a940-b44f1ca41c21"
      },
      "source": [
        "HSV_df_backup_postprep -> HSV_df\n",
        "\n",
        "HSV_df %<>% select(TUA1, ALQ101  ) %>% filter(TUA1 != 'NA') %>% filter(ALQ101   != 'NA')\n",
        "\n",
        "# kruskal wallis test\n",
        "kruskal.test(TUA1~ ALQ101   , data = HSV_df) \n",
        "\n",
        "cat(\"\\n\\n\")\n",
        "\n",
        "cat(\"\\n Numerical Summaries \\n\")\n",
        "# numerical summary\n",
        "HSV_df %$% num_summary(TUA1, ALQ101  ) \n",
        "\n",
        "cat(\"\\n\\n\")\n",
        "\n",
        "cat(\"\\n Multiple Comparison \\n\")\n",
        "# multiple comparison\n",
        "dunn_test(TUA1~ ALQ101   , data = HSV_df, p.adjust.method = \"fdr\") %>%\n",
        "p_format(digits = 2, leading.zero = TRUE) ; HSV_df_backup_postprep -> HSV_df\n",
        "\n"
      ],
      "execution_count": null,
      "outputs": [
        {
          "output_type": "display_data",
          "data": {
            "text/plain": [
              "\n",
              "\tKruskal-Wallis rank sum test\n",
              "\n",
              "data:  TUA1 by ALQ101\n",
              "Kruskal-Wallis chi-squared = 2.1657, df = 1, p-value = 0.1411\n"
            ]
          },
          "metadata": {}
        },
        {
          "output_type": "stream",
          "name": "stdout",
          "text": [
            "\n",
            "\n",
            "\n",
            " Numerical Summaries \n"
          ]
        },
        {
          "output_type": "display_data",
          "data": {
            "text/plain": [
              "  variable Count Mean     Min  Q1     Q2    Q3     Max   Sd      \n",
              "1 Yes      1272  6.791164 2.13 3.1975 5.280 8.1350 59.11 5.891378\n",
              "2 No        232  7.661078 2.13 3.3500 5.175 9.0025 76.48 7.973298"
            ],
            "text/latex": "A tibble: 2 × 9\n\\begin{tabular}{lllllllll}\n variable & Count & Mean & Min & Q1 & Q2 & Q3 & Max & Sd\\\\\n <fct> & <int> & <dbl> & <dbl> & <dbl> & <dbl> & <dbl> & <dbl> & <dbl>\\\\\n\\hline\n\t Yes & 1272 & 6.791164 & 2.13 & 3.1975 & 5.280 & 8.1350 & 59.11 & 5.891378\\\\\n\t No  &  232 & 7.661078 & 2.13 & 3.3500 & 5.175 & 9.0025 & 76.48 & 7.973298\\\\\n\\end{tabular}\n",
            "text/markdown": "\nA tibble: 2 × 9\n\n| variable &lt;fct&gt; | Count &lt;int&gt; | Mean &lt;dbl&gt; | Min &lt;dbl&gt; | Q1 &lt;dbl&gt; | Q2 &lt;dbl&gt; | Q3 &lt;dbl&gt; | Max &lt;dbl&gt; | Sd &lt;dbl&gt; |\n|---|---|---|---|---|---|---|---|---|\n| Yes | 1272 | 6.791164 | 2.13 | 3.1975 | 5.280 | 8.1350 | 59.11 | 5.891378 |\n| No  |  232 | 7.661078 | 2.13 | 3.3500 | 5.175 | 9.0025 | 76.48 | 7.973298 |\n\n",
            "text/html": [
              "<table class=\"dataframe\">\n",
              "<caption>A tibble: 2 × 9</caption>\n",
              "<thead>\n",
              "\t<tr><th scope=col>variable</th><th scope=col>Count</th><th scope=col>Mean</th><th scope=col>Min</th><th scope=col>Q1</th><th scope=col>Q2</th><th scope=col>Q3</th><th scope=col>Max</th><th scope=col>Sd</th></tr>\n",
              "\t<tr><th scope=col>&lt;fct&gt;</th><th scope=col>&lt;int&gt;</th><th scope=col>&lt;dbl&gt;</th><th scope=col>&lt;dbl&gt;</th><th scope=col>&lt;dbl&gt;</th><th scope=col>&lt;dbl&gt;</th><th scope=col>&lt;dbl&gt;</th><th scope=col>&lt;dbl&gt;</th><th scope=col>&lt;dbl&gt;</th></tr>\n",
              "</thead>\n",
              "<tbody>\n",
              "\t<tr><td>Yes</td><td>1272</td><td>6.791164</td><td>2.13</td><td>3.1975</td><td>5.280</td><td>8.1350</td><td>59.11</td><td>5.891378</td></tr>\n",
              "\t<tr><td>No </td><td> 232</td><td>7.661078</td><td>2.13</td><td>3.3500</td><td>5.175</td><td>9.0025</td><td>76.48</td><td>7.973298</td></tr>\n",
              "</tbody>\n",
              "</table>\n"
            ]
          },
          "metadata": {}
        },
        {
          "output_type": "stream",
          "name": "stdout",
          "text": [
            "\n",
            "\n",
            "\n",
            " Multiple Comparison \n"
          ]
        },
        {
          "output_type": "display_data",
          "data": {
            "text/plain": [
              "  .y.  group1 group2 n1   n2  statistic p    p.adj p.adj.signif\n",
              "1 TUA1 Yes    No     1272 232 -1.471635 0.14 0.14  ns          "
            ],
            "text/latex": "A rstatix\\_test: 1 × 9\n\\begin{tabular}{r|lllllllll}\n  & .y. & group1 & group2 & n1 & n2 & statistic & p & p.adj & p.adj.signif\\\\\n  & <chr> & <chr> & <chr> & <int> & <int> & <dbl> & <chr> & <chr> & <chr>\\\\\n\\hline\n\t1 & TUA1 & Yes & No & 1272 & 232 & -1.471635 & 0.14 & 0.14 & ns\\\\\n\\end{tabular}\n",
            "text/markdown": "\nA rstatix_test: 1 × 9\n\n| <!--/--> | .y. &lt;chr&gt; | group1 &lt;chr&gt; | group2 &lt;chr&gt; | n1 &lt;int&gt; | n2 &lt;int&gt; | statistic &lt;dbl&gt; | p &lt;chr&gt; | p.adj &lt;chr&gt; | p.adj.signif &lt;chr&gt; |\n|---|---|---|---|---|---|---|---|---|---|\n| 1 | TUA1 | Yes | No | 1272 | 232 | -1.471635 | 0.14 | 0.14 | ns |\n\n",
            "text/html": [
              "<table class=\"dataframe\">\n",
              "<caption>A rstatix_test: 1 × 9</caption>\n",
              "<thead>\n",
              "\t<tr><th></th><th scope=col>.y.</th><th scope=col>group1</th><th scope=col>group2</th><th scope=col>n1</th><th scope=col>n2</th><th scope=col>statistic</th><th scope=col>p</th><th scope=col>p.adj</th><th scope=col>p.adj.signif</th></tr>\n",
              "\t<tr><th></th><th scope=col>&lt;chr&gt;</th><th scope=col>&lt;chr&gt;</th><th scope=col>&lt;chr&gt;</th><th scope=col>&lt;int&gt;</th><th scope=col>&lt;int&gt;</th><th scope=col>&lt;dbl&gt;</th><th scope=col>&lt;chr&gt;</th><th scope=col>&lt;chr&gt;</th><th scope=col>&lt;chr&gt;</th></tr>\n",
              "</thead>\n",
              "<tbody>\n",
              "\t<tr><th scope=row>1</th><td>TUA1</td><td>Yes</td><td>No</td><td>1272</td><td>232</td><td>-1.471635</td><td>0.14</td><td>0.14</td><td>ns</td></tr>\n",
              "</tbody>\n",
              "</table>\n"
            ]
          },
          "metadata": {}
        }
      ]
    },
    {
      "cell_type": "markdown",
      "metadata": {
        "id": "xcdUFnsqXuRV"
      },
      "source": [
        "**Cotinine**"
      ]
    },
    {
      "cell_type": "code",
      "metadata": {
        "id": "W2W2P_bU7qck",
        "colab": {
          "base_uri": "https://localhost:8080/"
        },
        "outputId": "c0017e30-4e6b-4e85-ae5a-40672bee9eb8"
      },
      "source": [
        "\n",
        "# Cotinine\n",
        "kruskal.test(TUA1~ LBDCOTLC , data = HSV_df)\n"
      ],
      "execution_count": null,
      "outputs": [
        {
          "output_type": "display_data",
          "data": {
            "text/plain": [
              "\n",
              "\tKruskal-Wallis rank sum test\n",
              "\n",
              "data:  TUA1 by LBDCOTLC\n",
              "Kruskal-Wallis chi-squared = 0.44089, df = 1, p-value = 0.5067\n"
            ]
          },
          "metadata": {}
        }
      ]
    },
    {
      "cell_type": "markdown",
      "metadata": {
        "id": "wS0w_T3raBHf"
      },
      "source": [
        "### **TUA2**\n",
        "\n",
        "At alpha level of 0.05, for combination of arsenobetaine and arsenocholine, there is statistical significance for **race**.\n",
        "\n",
        "There is no statistical significance for BMI,  education, marital status, cotinine, alcohol and poverty index ratio."
      ]
    },
    {
      "cell_type": "markdown",
      "metadata": {
        "id": "iiABviEdXN5Q"
      },
      "source": [
        "**BMI**"
      ]
    },
    {
      "cell_type": "code",
      "metadata": {
        "id": "Unzora2MaEV2",
        "colab": {
          "base_uri": "https://localhost:8080/"
        },
        "outputId": "b22770ec-cf4e-4a1b-c7c4-2a159eb98cc0"
      },
      "source": [
        "# BMI Categorical\n",
        "kruskal.test(TUA2~ BMI.f , data = HSV_df) "
      ],
      "execution_count": null,
      "outputs": [
        {
          "output_type": "display_data",
          "data": {
            "text/plain": [
              "\n",
              "\tKruskal-Wallis rank sum test\n",
              "\n",
              "data:  TUA2 by BMI.f\n",
              "Kruskal-Wallis chi-squared = 5.8103, df = 3, p-value = 0.1212\n"
            ]
          },
          "metadata": {}
        }
      ]
    },
    {
      "cell_type": "markdown",
      "metadata": {
        "id": "Ij_01qdZXV_j"
      },
      "source": [
        "**Education**"
      ]
    },
    {
      "cell_type": "code",
      "metadata": {
        "id": "gj33WHSH8H7_",
        "colab": {
          "base_uri": "https://localhost:8080/"
        },
        "outputId": "71dd1e38-e4e5-4350-e1f1-39d658e880e5"
      },
      "source": [
        "\n",
        "# Education\n",
        "kruskal.test(TUA2~ DMDEDUC2 , data = HSV_df) "
      ],
      "execution_count": null,
      "outputs": [
        {
          "output_type": "display_data",
          "data": {
            "text/plain": [
              "\n",
              "\tKruskal-Wallis rank sum test\n",
              "\n",
              "data:  TUA2 by DMDEDUC2\n",
              "Kruskal-Wallis chi-squared = 4.2659, df = 4, p-value = 0.3712\n"
            ]
          },
          "metadata": {}
        }
      ]
    },
    {
      "cell_type": "markdown",
      "metadata": {
        "id": "xfjyHG8_XZyG"
      },
      "source": [
        "**Marital Status**"
      ]
    },
    {
      "cell_type": "code",
      "metadata": {
        "id": "6bXAaOXQ8ViO",
        "colab": {
          "base_uri": "https://localhost:8080/"
        },
        "outputId": "03e84e7b-b939-4bc4-c8ee-b7f16463ea50"
      },
      "source": [
        "\n",
        "# Marital Status\n",
        "kruskal.test(TUA2~ DMDMARTL , data = HSV_df) "
      ],
      "execution_count": null,
      "outputs": [
        {
          "output_type": "display_data",
          "data": {
            "text/plain": [
              "\n",
              "\tKruskal-Wallis rank sum test\n",
              "\n",
              "data:  TUA2 by DMDMARTL\n",
              "Kruskal-Wallis chi-squared = 8.1855, df = 5, p-value = 0.1463\n"
            ]
          },
          "metadata": {}
        }
      ]
    },
    {
      "cell_type": "markdown",
      "metadata": {
        "id": "3JHzNTAsXcpP"
      },
      "source": [
        "**Race**"
      ]
    },
    {
      "cell_type": "code",
      "metadata": {
        "id": "5kJGsjWK8chs",
        "colab": {
          "base_uri": "https://localhost:8080/"
        },
        "outputId": "8018abfa-f221-4a0b-cbed-c5d25bb9d2f3"
      },
      "source": [
        "HSV_df_backup_postprep -> HSV_df\n",
        "\n",
        "HSV_df %<>% select(TUA2, RIDRETH1  ) %>% filter(TUA2 != 'NA') %>% filter(RIDRETH1   != 'NA')\n",
        "\n",
        "# kruskal wallis test\n",
        "kruskal.test(TUA2~ RIDRETH1   , data = HSV_df) \n",
        "\n",
        "cat(\"\\n\\n\")\n",
        "\n",
        "cat(\"\\n Numerical Summaries \\n\")\n",
        "# numerical summary\n",
        "HSV_df %$% num_summary(TUA2, RIDRETH1  ) \n",
        "\n",
        "cat(\"\\n\\n\")\n",
        "\n",
        "cat(\"\\n Multiple Comparison \\n\")\n",
        "# multiple comparison\n",
        "dunn_test(TUA2~ RIDRETH1   , data = HSV_df, p.adjust.method = \"fdr\") %>%\n",
        "p_format(digits = 2, leading.zero = TRUE) ; HSV_df_backup_postprep -> HSV_df\n"
      ],
      "execution_count": null,
      "outputs": [
        {
          "output_type": "display_data",
          "data": {
            "text/plain": [
              "\n",
              "\tKruskal-Wallis rank sum test\n",
              "\n",
              "data:  TUA2 by RIDRETH1\n",
              "Kruskal-Wallis chi-squared = 23.259, df = 4, p-value = 0.0001124\n"
            ]
          },
          "metadata": {}
        },
        {
          "output_type": "stream",
          "name": "stdout",
          "text": [
            "\n",
            "\n",
            "\n",
            " Numerical Summaries \n"
          ]
        },
        {
          "output_type": "display_data",
          "data": {
            "text/plain": [
              "  variable    Count Mean      Min  Q1     Q2    Q3      Max    Sd       \n",
              "1 Mex-Hisp    222    7.231171 0.06 2.4050 5.115  8.5175 145.55 11.713358\n",
              "2 Other-Hisp  147    9.064694 0.17 3.8750 6.700 10.4850  89.02 10.329061\n",
              "3 Non-Hisp-WT 621    4.859517 0.00 1.5000 3.440  6.5200  52.50  5.575628\n",
              "4 Non-Hisp-BK 363    7.345289 0.11 2.6700 4.950  7.9050 122.28 11.289963\n",
              "5 Others      266   11.675150 0.09 3.4225 6.715 13.7775 172.50 17.282833"
            ],
            "text/latex": "A tibble: 5 × 9\n\\begin{tabular}{lllllllll}\n variable & Count & Mean & Min & Q1 & Q2 & Q3 & Max & Sd\\\\\n <fct> & <int> & <dbl> & <dbl> & <dbl> & <dbl> & <dbl> & <dbl> & <dbl>\\\\\n\\hline\n\t Mex-Hisp    & 222 &  7.231171 & 0.06 & 2.4050 & 5.115 &  8.5175 & 145.55 & 11.713358\\\\\n\t Other-Hisp  & 147 &  9.064694 & 0.17 & 3.8750 & 6.700 & 10.4850 &  89.02 & 10.329061\\\\\n\t Non-Hisp-WT & 621 &  4.859517 & 0.00 & 1.5000 & 3.440 &  6.5200 &  52.50 &  5.575628\\\\\n\t Non-Hisp-BK & 363 &  7.345289 & 0.11 & 2.6700 & 4.950 &  7.9050 & 122.28 & 11.289963\\\\\n\t Others      & 266 & 11.675150 & 0.09 & 3.4225 & 6.715 & 13.7775 & 172.50 & 17.282833\\\\\n\\end{tabular}\n",
            "text/markdown": "\nA tibble: 5 × 9\n\n| variable &lt;fct&gt; | Count &lt;int&gt; | Mean &lt;dbl&gt; | Min &lt;dbl&gt; | Q1 &lt;dbl&gt; | Q2 &lt;dbl&gt; | Q3 &lt;dbl&gt; | Max &lt;dbl&gt; | Sd &lt;dbl&gt; |\n|---|---|---|---|---|---|---|---|---|\n| Mex-Hisp    | 222 |  7.231171 | 0.06 | 2.4050 | 5.115 |  8.5175 | 145.55 | 11.713358 |\n| Other-Hisp  | 147 |  9.064694 | 0.17 | 3.8750 | 6.700 | 10.4850 |  89.02 | 10.329061 |\n| Non-Hisp-WT | 621 |  4.859517 | 0.00 | 1.5000 | 3.440 |  6.5200 |  52.50 |  5.575628 |\n| Non-Hisp-BK | 363 |  7.345289 | 0.11 | 2.6700 | 4.950 |  7.9050 | 122.28 | 11.289963 |\n| Others      | 266 | 11.675150 | 0.09 | 3.4225 | 6.715 | 13.7775 | 172.50 | 17.282833 |\n\n",
            "text/html": [
              "<table class=\"dataframe\">\n",
              "<caption>A tibble: 5 × 9</caption>\n",
              "<thead>\n",
              "\t<tr><th scope=col>variable</th><th scope=col>Count</th><th scope=col>Mean</th><th scope=col>Min</th><th scope=col>Q1</th><th scope=col>Q2</th><th scope=col>Q3</th><th scope=col>Max</th><th scope=col>Sd</th></tr>\n",
              "\t<tr><th scope=col>&lt;fct&gt;</th><th scope=col>&lt;int&gt;</th><th scope=col>&lt;dbl&gt;</th><th scope=col>&lt;dbl&gt;</th><th scope=col>&lt;dbl&gt;</th><th scope=col>&lt;dbl&gt;</th><th scope=col>&lt;dbl&gt;</th><th scope=col>&lt;dbl&gt;</th><th scope=col>&lt;dbl&gt;</th></tr>\n",
              "</thead>\n",
              "<tbody>\n",
              "\t<tr><td>Mex-Hisp   </td><td>222</td><td> 7.231171</td><td>0.06</td><td>2.4050</td><td>5.115</td><td> 8.5175</td><td>145.55</td><td>11.713358</td></tr>\n",
              "\t<tr><td>Other-Hisp </td><td>147</td><td> 9.064694</td><td>0.17</td><td>3.8750</td><td>6.700</td><td>10.4850</td><td> 89.02</td><td>10.329061</td></tr>\n",
              "\t<tr><td>Non-Hisp-WT</td><td>621</td><td> 4.859517</td><td>0.00</td><td>1.5000</td><td>3.440</td><td> 6.5200</td><td> 52.50</td><td> 5.575628</td></tr>\n",
              "\t<tr><td>Non-Hisp-BK</td><td>363</td><td> 7.345289</td><td>0.11</td><td>2.6700</td><td>4.950</td><td> 7.9050</td><td>122.28</td><td>11.289963</td></tr>\n",
              "\t<tr><td>Others     </td><td>266</td><td>11.675150</td><td>0.09</td><td>3.4225</td><td>6.715</td><td>13.7775</td><td>172.50</td><td>17.282833</td></tr>\n",
              "</tbody>\n",
              "</table>\n"
            ]
          },
          "metadata": {}
        },
        {
          "output_type": "stream",
          "name": "stdout",
          "text": [
            "\n",
            "\n",
            "\n",
            " Multiple Comparison \n"
          ]
        },
        {
          "output_type": "display_data",
          "data": {
            "text/plain": [
              "   .y.  group1      group2      n1  n2  statistic  p       p.adj   p.adj.signif\n",
              "1  TUA2 Mex-Hisp    Other-Hisp  222 147  1.6532621 0.0983  0.14485 ns          \n",
              "2  TUA2 Mex-Hisp    Non-Hisp-WT 222 621 -2.5470761 0.0109  0.03621 *           \n",
              "3  TUA2 Mex-Hisp    Non-Hisp-BK 222 363  0.1837017 0.8542  0.85425 ns          \n",
              "4  TUA2 Mex-Hisp    Others      222 266 -0.3659880 0.7144  0.79375 ns          \n",
              "5  TUA2 Other-Hisp  Non-Hisp-WT 147 621 -4.0881407 <0.0001 0.00043 ***         \n",
              "6  TUA2 Other-Hisp  Non-Hisp-BK 147 363 -1.6381369 0.1014  0.14485 ns          \n",
              "7  TUA2 Other-Hisp  Others      147 266 -2.0343139 0.0419  0.08384 ns          \n",
              "8  TUA2 Non-Hisp-WT Non-Hisp-BK 621 363  3.2515356 0.0011  0.00574 **          \n",
              "9  TUA2 Non-Hisp-WT Others      621 266  2.2640253 0.0236  0.05893 ns          \n",
              "10 TUA2 Non-Hisp-BK Others      363 266 -0.6061426 0.5444  0.68053 ns          "
            ],
            "text/latex": "A rstatix\\_test: 10 × 9\n\\begin{tabular}{r|lllllllll}\n  & .y. & group1 & group2 & n1 & n2 & statistic & p & p.adj & p.adj.signif\\\\\n  & <chr> & <chr> & <chr> & <int> & <int> & <dbl> & <chr> & <chr> & <chr>\\\\\n\\hline\n\t1 & TUA2 & Mex-Hisp    & Other-Hisp  & 222 & 147 &  1.6532621 & 0.0983  & 0.14485 & ns \\\\\n\t2 & TUA2 & Mex-Hisp    & Non-Hisp-WT & 222 & 621 & -2.5470761 & 0.0109  & 0.03621 & *  \\\\\n\t3 & TUA2 & Mex-Hisp    & Non-Hisp-BK & 222 & 363 &  0.1837017 & 0.8542  & 0.85425 & ns \\\\\n\t4 & TUA2 & Mex-Hisp    & Others      & 222 & 266 & -0.3659880 & 0.7144  & 0.79375 & ns \\\\\n\t5 & TUA2 & Other-Hisp  & Non-Hisp-WT & 147 & 621 & -4.0881407 & <0.0001 & 0.00043 & ***\\\\\n\t6 & TUA2 & Other-Hisp  & Non-Hisp-BK & 147 & 363 & -1.6381369 & 0.1014  & 0.14485 & ns \\\\\n\t7 & TUA2 & Other-Hisp  & Others      & 147 & 266 & -2.0343139 & 0.0419  & 0.08384 & ns \\\\\n\t8 & TUA2 & Non-Hisp-WT & Non-Hisp-BK & 621 & 363 &  3.2515356 & 0.0011  & 0.00574 & ** \\\\\n\t9 & TUA2 & Non-Hisp-WT & Others      & 621 & 266 &  2.2640253 & 0.0236  & 0.05893 & ns \\\\\n\t10 & TUA2 & Non-Hisp-BK & Others      & 363 & 266 & -0.6061426 & 0.5444  & 0.68053 & ns \\\\\n\\end{tabular}\n",
            "text/markdown": "\nA rstatix_test: 10 × 9\n\n| <!--/--> | .y. &lt;chr&gt; | group1 &lt;chr&gt; | group2 &lt;chr&gt; | n1 &lt;int&gt; | n2 &lt;int&gt; | statistic &lt;dbl&gt; | p &lt;chr&gt; | p.adj &lt;chr&gt; | p.adj.signif &lt;chr&gt; |\n|---|---|---|---|---|---|---|---|---|---|\n| 1 | TUA2 | Mex-Hisp    | Other-Hisp  | 222 | 147 |  1.6532621 | 0.0983  | 0.14485 | ns  |\n| 2 | TUA2 | Mex-Hisp    | Non-Hisp-WT | 222 | 621 | -2.5470761 | 0.0109  | 0.03621 | *   |\n| 3 | TUA2 | Mex-Hisp    | Non-Hisp-BK | 222 | 363 |  0.1837017 | 0.8542  | 0.85425 | ns  |\n| 4 | TUA2 | Mex-Hisp    | Others      | 222 | 266 | -0.3659880 | 0.7144  | 0.79375 | ns  |\n| 5 | TUA2 | Other-Hisp  | Non-Hisp-WT | 147 | 621 | -4.0881407 | &lt;0.0001 | 0.00043 | *** |\n| 6 | TUA2 | Other-Hisp  | Non-Hisp-BK | 147 | 363 | -1.6381369 | 0.1014  | 0.14485 | ns  |\n| 7 | TUA2 | Other-Hisp  | Others      | 147 | 266 | -2.0343139 | 0.0419  | 0.08384 | ns  |\n| 8 | TUA2 | Non-Hisp-WT | Non-Hisp-BK | 621 | 363 |  3.2515356 | 0.0011  | 0.00574 | **  |\n| 9 | TUA2 | Non-Hisp-WT | Others      | 621 | 266 |  2.2640253 | 0.0236  | 0.05893 | ns  |\n| 10 | TUA2 | Non-Hisp-BK | Others      | 363 | 266 | -0.6061426 | 0.5444  | 0.68053 | ns  |\n\n",
            "text/html": [
              "<table class=\"dataframe\">\n",
              "<caption>A rstatix_test: 10 × 9</caption>\n",
              "<thead>\n",
              "\t<tr><th></th><th scope=col>.y.</th><th scope=col>group1</th><th scope=col>group2</th><th scope=col>n1</th><th scope=col>n2</th><th scope=col>statistic</th><th scope=col>p</th><th scope=col>p.adj</th><th scope=col>p.adj.signif</th></tr>\n",
              "\t<tr><th></th><th scope=col>&lt;chr&gt;</th><th scope=col>&lt;chr&gt;</th><th scope=col>&lt;chr&gt;</th><th scope=col>&lt;int&gt;</th><th scope=col>&lt;int&gt;</th><th scope=col>&lt;dbl&gt;</th><th scope=col>&lt;chr&gt;</th><th scope=col>&lt;chr&gt;</th><th scope=col>&lt;chr&gt;</th></tr>\n",
              "</thead>\n",
              "<tbody>\n",
              "\t<tr><th scope=row>1</th><td>TUA2</td><td>Mex-Hisp   </td><td>Other-Hisp </td><td>222</td><td>147</td><td> 1.6532621</td><td>0.0983 </td><td>0.14485</td><td>ns </td></tr>\n",
              "\t<tr><th scope=row>2</th><td>TUA2</td><td>Mex-Hisp   </td><td>Non-Hisp-WT</td><td>222</td><td>621</td><td>-2.5470761</td><td>0.0109 </td><td>0.03621</td><td>*  </td></tr>\n",
              "\t<tr><th scope=row>3</th><td>TUA2</td><td>Mex-Hisp   </td><td>Non-Hisp-BK</td><td>222</td><td>363</td><td> 0.1837017</td><td>0.8542 </td><td>0.85425</td><td>ns </td></tr>\n",
              "\t<tr><th scope=row>4</th><td>TUA2</td><td>Mex-Hisp   </td><td>Others     </td><td>222</td><td>266</td><td>-0.3659880</td><td>0.7144 </td><td>0.79375</td><td>ns </td></tr>\n",
              "\t<tr><th scope=row>5</th><td>TUA2</td><td>Other-Hisp </td><td>Non-Hisp-WT</td><td>147</td><td>621</td><td>-4.0881407</td><td>&lt;0.0001</td><td>0.00043</td><td>***</td></tr>\n",
              "\t<tr><th scope=row>6</th><td>TUA2</td><td>Other-Hisp </td><td>Non-Hisp-BK</td><td>147</td><td>363</td><td>-1.6381369</td><td>0.1014 </td><td>0.14485</td><td>ns </td></tr>\n",
              "\t<tr><th scope=row>7</th><td>TUA2</td><td>Other-Hisp </td><td>Others     </td><td>147</td><td>266</td><td>-2.0343139</td><td>0.0419 </td><td>0.08384</td><td>ns </td></tr>\n",
              "\t<tr><th scope=row>8</th><td>TUA2</td><td>Non-Hisp-WT</td><td>Non-Hisp-BK</td><td>621</td><td>363</td><td> 3.2515356</td><td>0.0011 </td><td>0.00574</td><td>** </td></tr>\n",
              "\t<tr><th scope=row>9</th><td>TUA2</td><td>Non-Hisp-WT</td><td>Others     </td><td>621</td><td>266</td><td> 2.2640253</td><td>0.0236 </td><td>0.05893</td><td>ns </td></tr>\n",
              "\t<tr><th scope=row>10</th><td>TUA2</td><td>Non-Hisp-BK</td><td>Others     </td><td>363</td><td>266</td><td>-0.6061426</td><td>0.5444 </td><td>0.68053</td><td>ns </td></tr>\n",
              "</tbody>\n",
              "</table>\n"
            ]
          },
          "metadata": {}
        }
      ]
    },
    {
      "cell_type": "markdown",
      "metadata": {
        "id": "YkkGIrFcXgOY"
      },
      "source": [
        "**Poverty Income Ratio**"
      ]
    },
    {
      "cell_type": "code",
      "metadata": {
        "id": "WZk6kTvn8k-q",
        "colab": {
          "base_uri": "https://localhost:8080/"
        },
        "outputId": "385a2f1a-d919-4c5f-eb3f-97f2e3625c85"
      },
      "source": [
        "\n",
        "# Poverty Income Ratio\n",
        "kruskal.test(TUA2~ PIR , data = HSV_df)"
      ],
      "execution_count": null,
      "outputs": [
        {
          "output_type": "display_data",
          "data": {
            "text/plain": [
              "\n",
              "\tKruskal-Wallis rank sum test\n",
              "\n",
              "data:  TUA2 by PIR\n",
              "Kruskal-Wallis chi-squared = 2.5898, df = 2, p-value = 0.2739\n"
            ]
          },
          "metadata": {}
        }
      ]
    },
    {
      "cell_type": "markdown",
      "metadata": {
        "id": "5DWwP28nXjF_"
      },
      "source": [
        "**Alcohol**"
      ]
    },
    {
      "cell_type": "code",
      "metadata": {
        "id": "04ZzBEKQ8lqk",
        "colab": {
          "base_uri": "https://localhost:8080/"
        },
        "outputId": "809593a0-755f-44a1-f8a5-f9c23dee2d6b"
      },
      "source": [
        "\n",
        "# Alcohol\n",
        "kruskal.test(TUA2~ ALQ101 , data = HSV_df)"
      ],
      "execution_count": null,
      "outputs": [
        {
          "output_type": "display_data",
          "data": {
            "text/plain": [
              "\n",
              "\tKruskal-Wallis rank sum test\n",
              "\n",
              "data:  TUA2 by ALQ101\n",
              "Kruskal-Wallis chi-squared = 2.8569, df = 1, p-value = 0.09098\n"
            ]
          },
          "metadata": {}
        }
      ]
    },
    {
      "cell_type": "markdown",
      "metadata": {
        "id": "EBhsAsY1XmQ6"
      },
      "source": [
        "**Cotinine**"
      ]
    },
    {
      "cell_type": "code",
      "metadata": {
        "id": "SR0AsfBR8mUN",
        "colab": {
          "base_uri": "https://localhost:8080/"
        },
        "outputId": "05faa27f-7c30-42f9-8b04-61f46a2e0648"
      },
      "source": [
        "\n",
        "# Cotinine\n",
        "kruskal.test(TUA2~ LBDCOTLC , data = HSV_df)\n",
        "\n",
        "\n",
        "\n",
        "\n"
      ],
      "execution_count": null,
      "outputs": [
        {
          "output_type": "display_data",
          "data": {
            "text/plain": [
              "\n",
              "\tKruskal-Wallis rank sum test\n",
              "\n",
              "data:  TUA2 by LBDCOTLC\n",
              "Kruskal-Wallis chi-squared = 0.011065, df = 1, p-value = 0.9162\n"
            ]
          },
          "metadata": {}
        }
      ]
    }
  ]
}